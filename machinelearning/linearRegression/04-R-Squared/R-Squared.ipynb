{
 "cells": [
  {
   "cell_type": "markdown",
   "metadata": {},
   "source": "##  R Squared (R^2)"
  },
  {
   "cell_type": "code",
   "metadata": {
    "collapsed": true,
    "ExecuteTime": {
     "end_time": "2024-08-24T11:42:47.751606Z",
     "start_time": "2024-08-24T11:42:46.589428Z"
    }
   },
   "source": [
    "import numpy as np\n",
    "import pandas as pd \n",
    "import matplotlib.pyplot as plt\n",
    "from sklearn import datasets"
   ],
   "outputs": [],
   "execution_count": 1
  },
  {
   "cell_type": "code",
   "metadata": {
    "collapsed": true,
    "ExecuteTime": {
     "end_time": "2024-08-24T11:42:49.991356Z",
     "start_time": "2024-08-24T11:42:47.753582Z"
    }
   },
   "source": [
    "# boston = datasets.load_boston()\n",
    "\n",
    "data_url = \"http://lib.stat.cmu.edu/datasets/boston\"\n",
    "raw_df = pd.read_csv(data_url, sep=\"\\s+\", skiprows=22, header=None)\n",
    "data = np.hstack([raw_df.values[::2, :], raw_df.values[1::2, :2]])\n",
    "target = raw_df.values[1::2, 2]\n",
    "\n",
    "x = data[:,5] # 只使用房间数量这个特征\n",
    "y = target\n",
    "\n",
    "x = x[y < 50.0]\n",
    "y = y[y < 50.0]"
   ],
   "outputs": [],
   "execution_count": 2
  },
  {
   "cell_type": "code",
   "metadata": {
    "collapsed": true,
    "ExecuteTime": {
     "end_time": "2024-08-24T11:42:50.001519Z",
     "start_time": "2024-08-24T11:42:49.993341Z"
    }
   },
   "source": [
    "from playML.model_selection import train_test_split\n",
    "\n",
    "x_train, x_test, y_train, y_test = train_test_split(x, y, seed=666)"
   ],
   "outputs": [],
   "execution_count": 3
  },
  {
   "cell_type": "code",
   "metadata": {
    "ExecuteTime": {
     "end_time": "2024-08-24T11:42:50.013866Z",
     "start_time": "2024-08-24T11:42:50.003648Z"
    }
   },
   "source": [
    "from playML.SimpleLinearRegression import SimpleLinearRegression\n",
    "\n",
    "reg = SimpleLinearRegression()\n",
    "reg.fit(x_train, y_train)"
   ],
   "outputs": [
    {
     "data": {
      "text/plain": [
       "SimpleLinearRegression()"
      ]
     },
     "execution_count": 4,
     "metadata": {},
     "output_type": "execute_result"
    }
   ],
   "execution_count": 4
  },
  {
   "cell_type": "code",
   "metadata": {
    "ExecuteTime": {
     "end_time": "2024-08-24T11:42:50.020951Z",
     "start_time": "2024-08-24T11:42:50.016890Z"
    }
   },
   "source": [
    "reg.a_"
   ],
   "outputs": [
    {
     "data": {
      "text/plain": [
       "np.float64(7.8608543562689555)"
      ]
     },
     "execution_count": 5,
     "metadata": {},
     "output_type": "execute_result"
    }
   ],
   "execution_count": 5
  },
  {
   "cell_type": "code",
   "metadata": {
    "ExecuteTime": {
     "end_time": "2024-08-24T11:42:50.025580Z",
     "start_time": "2024-08-24T11:42:50.022132Z"
    }
   },
   "source": [
    "reg.b_"
   ],
   "outputs": [
    {
     "data": {
      "text/plain": [
       "np.float64(-27.459342806705543)"
      ]
     },
     "execution_count": 6,
     "metadata": {},
     "output_type": "execute_result"
    }
   ],
   "execution_count": 6
  },
  {
   "cell_type": "code",
   "metadata": {
    "collapsed": true,
    "ExecuteTime": {
     "end_time": "2024-08-24T11:42:50.029579Z",
     "start_time": "2024-08-24T11:42:50.027055Z"
    }
   },
   "source": [
    "y_predict = reg.predict(x_test)"
   ],
   "outputs": [],
   "execution_count": 7
  },
  {
   "cell_type": "markdown",
   "metadata": {},
   "source": [
    "### R Square"
   ]
  },
  {
   "cell_type": "code",
   "metadata": {
    "ExecuteTime": {
     "end_time": "2024-08-24T11:42:50.034189Z",
     "start_time": "2024-08-24T11:42:50.030774Z"
    }
   },
   "source": [
    "from playML.metrics import mean_squared_error\n",
    "\n",
    "# np.var 方差\n",
    "1 - mean_squared_error(y_test, y_predict)/np.var(y_test)"
   ],
   "outputs": [
    {
     "data": {
      "text/plain": [
       "np.float64(0.6129316803937322)"
      ]
     },
     "execution_count": 8,
     "metadata": {},
     "output_type": "execute_result"
    }
   ],
   "execution_count": 8
  },
  {
   "metadata": {},
   "cell_type": "markdown",
   "source": ""
  },
  {
   "cell_type": "markdown",
   "metadata": {},
   "source": [
    "### 封装我们自己的 R Score\n",
    "\n",
    "代码参见 [这里](playML/metrics.py) "
   ]
  },
  {
   "cell_type": "code",
   "metadata": {
    "ExecuteTime": {
     "end_time": "2024-08-24T11:42:50.038470Z",
     "start_time": "2024-08-24T11:42:50.035119Z"
    }
   },
   "source": [
    "from playML.metrics import r2_score\n",
    "\n",
    "r2_score(y_test, y_predict)"
   ],
   "outputs": [
    {
     "data": {
      "text/plain": [
       "np.float64(0.6129316803937322)"
      ]
     },
     "execution_count": 9,
     "metadata": {},
     "output_type": "execute_result"
    }
   ],
   "execution_count": 9
  },
  {
   "cell_type": "markdown",
   "metadata": {},
   "source": [
    "### scikit-learn中的 r2_score"
   ]
  },
  {
   "cell_type": "code",
   "metadata": {
    "ExecuteTime": {
     "end_time": "2024-08-24T11:42:50.088722Z",
     "start_time": "2024-08-24T11:42:50.039667Z"
    }
   },
   "source": [
    "from sklearn.metrics import r2_score\n",
    "\n",
    "r2_score(y_test, y_predict)"
   ],
   "outputs": [
    {
     "data": {
      "text/plain": [
       "0.6129316803937324"
      ]
     },
     "execution_count": 10,
     "metadata": {},
     "output_type": "execute_result"
    }
   ],
   "execution_count": 10
  },
  {
   "cell_type": "markdown",
   "metadata": {},
   "source": [
    "scikit-learn中的LinearRegression中的score返回r2_score:[http://scikit-learn.org/stable/modules/generated/sklearn.linear_model.LinearRegression.html](http://scikit-learn.org/stable/modules/generated/sklearn.linear_model.LinearRegression.html)"
   ]
  },
  {
   "cell_type": "markdown",
   "metadata": {},
   "source": [
    "### 在我们的SimpleRegression中添加score"
   ]
  },
  {
   "cell_type": "code",
   "metadata": {
    "ExecuteTime": {
     "end_time": "2024-08-24T11:42:50.093618Z",
     "start_time": "2024-08-24T11:42:50.089776Z"
    }
   },
   "source": [
    "reg.score(x_test, y_test)"
   ],
   "outputs": [
    {
     "data": {
      "text/plain": [
       "np.float64(0.6129316803937322)"
      ]
     },
     "execution_count": 11,
     "metadata": {},
     "output_type": "execute_result"
    }
   ],
   "execution_count": 11
  }
 ],
 "metadata": {
  "kernelspec": {
   "display_name": "Python 3",
   "language": "python",
   "name": "python3"
  },
  "language_info": {
   "codemirror_mode": {
    "name": "ipython",
    "version": 3
   },
   "file_extension": ".py",
   "mimetype": "text/x-python",
   "name": "python",
   "nbconvert_exporter": "python",
   "pygments_lexer": "ipython3",
   "version": "3.6.1"
  }
 },
 "nbformat": 4,
 "nbformat_minor": 2
}
