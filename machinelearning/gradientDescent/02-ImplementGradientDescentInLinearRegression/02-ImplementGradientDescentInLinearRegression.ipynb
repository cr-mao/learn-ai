{
 "cells": [
  {
   "cell_type": "markdown",
   "metadata": {},
   "source": [
    "## 在线性回归模型中使用梯度下降法"
   ]
  },
  {
   "cell_type": "code",
   "metadata": {
    "collapsed": true,
    "ExecuteTime": {
     "end_time": "2024-08-25T12:21:51.535409Z",
     "start_time": "2024-08-25T12:21:51.167840Z"
    }
   },
   "source": [
    "import numpy as np\n",
    "import matplotlib.pyplot as plt"
   ],
   "outputs": [],
   "execution_count": 1
  },
  {
   "cell_type": "code",
   "metadata": {
    "collapsed": true,
    "ExecuteTime": {
     "end_time": "2024-08-25T12:21:53.462001Z",
     "start_time": "2024-08-25T12:21:53.432907Z"
    }
   },
   "source": [
    "np.random.seed(666)\n",
    "# x是１００个 数组\n",
    "x = 2 * np.random.random(size=100)\n",
    "# 截距是４，theta是３ ， ｙ 也是１００个值的数组\n",
    "y = x * 3. + 4. + np.random.normal(size=100)"
   ],
   "outputs": [],
   "execution_count": 2
  },
  {
   "cell_type": "code",
   "metadata": {
    "collapsed": true,
    "ExecuteTime": {
     "end_time": "2024-08-25T12:22:31.331770Z",
     "start_time": "2024-08-25T12:22:31.326773Z"
    }
   },
   "source": [
    "X = x.reshape(-1, 1)"
   ],
   "outputs": [],
   "execution_count": 3
  },
  {
   "cell_type": "code",
   "metadata": {
    "ExecuteTime": {
     "end_time": "2024-08-25T12:26:33.155828Z",
     "start_time": "2024-08-25T12:26:33.149562Z"
    }
   },
   "source": "X[:20]",
   "outputs": [
    {
     "data": {
      "text/plain": [
       "array([[1.40087424],\n",
       "       [1.68837329],\n",
       "       [1.35302867],\n",
       "       [1.45571611],\n",
       "       [1.90291591],\n",
       "       [0.02540639],\n",
       "       [0.8271754 ],\n",
       "       [0.09762559],\n",
       "       [0.19985712],\n",
       "       [1.01613261],\n",
       "       [0.40049508],\n",
       "       [1.48830834],\n",
       "       [0.38578401],\n",
       "       [1.4016895 ],\n",
       "       [0.58645621],\n",
       "       [1.54895891],\n",
       "       [0.01021768],\n",
       "       [0.22571531],\n",
       "       [0.22190734],\n",
       "       [0.49533646]])"
      ]
     },
     "execution_count": 13,
     "metadata": {},
     "output_type": "execute_result"
    }
   ],
   "execution_count": 13
  },
  {
   "cell_type": "code",
   "metadata": {
    "ExecuteTime": {
     "end_time": "2024-08-25T12:24:30.836663Z",
     "start_time": "2024-08-25T12:24:30.831399Z"
    }
   },
   "source": "y[:20]",
   "outputs": [
    {
     "data": {
      "text/plain": [
       "array([8.91412688, 8.89446981, 8.85921604, 9.04490343, 8.75831915,\n",
       "       4.01914255, 6.84103696, 4.81582242, 3.68561238, 6.46344854,\n",
       "       4.61756153, 8.45774339, 3.21438541, 7.98486624, 4.18885101,\n",
       "       8.46060979, 4.29706975, 4.06803046, 3.58490782, 7.0558176 ])"
      ]
     },
     "execution_count": 11,
     "metadata": {},
     "output_type": "execute_result"
    }
   ],
   "execution_count": 11
  },
  {
   "cell_type": "code",
   "metadata": {
    "ExecuteTime": {
     "end_time": "2024-08-25T12:24:54.980016Z",
     "start_time": "2024-08-25T12:24:54.884883Z"
    }
   },
   "source": [
    "plt.scatter(x, y)\n",
    "plt.show()"
   ],
   "outputs": [
    {
     "data": {
      "text/plain": [
       "<Figure size 640x480 with 1 Axes>"
      ],
      "image/png": "[encoded data removed]"
     },
     "metadata": {},
     "output_type": "display_data"
    }
   ],
   "execution_count": 12
  },
  {
   "cell_type": "markdown",
   "metadata": {},
   "source": [
    "### 使用梯度下降法训练"
   ]
  },
  {
   "cell_type": "code",
   "metadata": {
    "collapsed": true,
    "ExecuteTime": {
     "end_time": "2024-08-25T12:41:39.021887Z",
     "start_time": "2024-08-25T12:41:39.017169Z"
    }
   },
   "source": [
    "# 求均方差，mes , theta 是一个数组，X_b 是一个矩阵 ，ｎ行ｉ列， n=len(X_b)\n",
    "def J(theta, X_b, y):\n",
    "    try:\n",
    "        return np.sum((y - X_b.dot(theta))**2) / len(X_b)\n",
    "    except:\n",
    "        # 异常则给 浮点数中的最大值\n",
    "        return float('inf')"
   ],
   "outputs": [],
   "execution_count": 14
  },
  {
   "cell_type": "code",
   "metadata": {
    "collapsed": true,
    "ExecuteTime": {
     "end_time": "2024-08-25T12:41:41.230095Z",
     "start_time": "2024-08-25T12:41:41.224505Z"
    }
   },
   "source": [
    "# 求导 （也就是损失值)\n",
    "def dJ(theta, X_b, y):\n",
    "    res = np.empty(len(theta))\n",
    "    # 第０行特殊\n",
    "    res[0] = np.sum(X_b.dot(theta) - y)\n",
    "    for i in range(1, len(theta)):\n",
    "        #  X_b[:,i] 代表， 第几列\n",
    "        res[i] = (X_b.dot(theta) - y).dot(X_b[:,i])\n",
    "    return res * 2 / len(X_b)"
   ],
   "outputs": [],
   "execution_count": 15
  },
  {
   "cell_type": "code",
   "metadata": {
    "collapsed": true,
    "ExecuteTime": {
     "end_time": "2024-08-25T12:41:43.556152Z",
     "start_time": "2024-08-25T12:41:43.550315Z"
    }
   },
   "source": [
    "# 求梯度下降中的 最优theta \n",
    "# initial_theta 初始化theta\n",
    "# n_iters 迭代次数控制\n",
    "# eta 学习率\n",
    "# X_b 矩阵\n",
    "# y 结果值\n",
    "# epsilon 接受的误差值\n",
    "def gradient_descent(X_b, y, initial_theta, eta, n_iters = 1e4, epsilon=1e-8):\n",
    "    \n",
    "    theta = initial_theta\n",
    "    cur_iter = 0\n",
    "\n",
    "    while cur_iter < n_iters:\n",
    "        gradient = dJ(theta, X_b, y)\n",
    "        last_theta = theta\n",
    "        theta = theta - eta * gradient\n",
    "        if(abs(J(theta, X_b, y) - J(last_theta, X_b, y)) < epsilon):\n",
    "            break\n",
    "            \n",
    "        cur_iter += 1\n",
    "\n",
    "    return theta"
   ],
   "outputs": [],
   "execution_count": 16
  },
  {
   "cell_type": "code",
   "metadata": {
    "collapsed": true,
    "ExecuteTime": {
     "end_time": "2024-08-25T12:47:06.578672Z",
     "start_time": "2024-08-25T12:47:06.525801Z"
    }
   },
   "source": [
    "# 追加一列，截距处理 ＊ 固定值１ ，x0=1 \n",
    "X_b = np.hstack([np.ones((len(x), 1)), x.reshape(-1,1)])\n",
    "print(X_b.shape[1]) # 2列， 本身只有一列，现在多了一列 截距\n",
    "#初始化 ｔｈｅｔａ 为２个０ \n",
    "initial_theta = np.zeros(X_b.shape[1])\n",
    "print(initial_theta)\n",
    "# 学习率\n",
    "eta = 0.01\n",
    "theta = gradient_descent(X_b, y, initial_theta, eta)"
   ],
   "outputs": [
    {
     "name": "stdout",
     "output_type": "stream",
     "text": [
      "2\n",
      "[0. 0.]\n"
     ]
    }
   ],
   "execution_count": 18
  },
  {
   "cell_type": "code",
   "metadata": {
    "ExecuteTime": {
     "end_time": "2024-08-25T12:48:43.623696Z",
     "start_time": "2024-08-25T12:48:43.617543Z"
    }
   },
   "source": [
    "theta\n",
    "# 4代表截距， ３代表 theta,这里只有一列"
   ],
   "outputs": [
    {
     "data": {
      "text/plain": [
       "array([4.02145786, 3.00706277])"
      ]
     },
     "execution_count": 19,
     "metadata": {},
     "output_type": "execute_result"
    }
   ],
   "execution_count": 19
  },
  {
   "cell_type": "markdown",
   "metadata": {},
   "source": [
    "### 封装我们的线性回归算法"
   ]
  },
  {
   "cell_type": "code",
   "metadata": {
    "ExecuteTime": {
     "end_time": "2024-08-25T12:49:32.276724Z",
     "start_time": "2024-08-25T12:49:32.220813Z"
    }
   },
   "source": [
    "from playML.LinearRegression import LinearRegression\n",
    "\n",
    "lin_reg = LinearRegression()\n",
    "lin_reg.fit_gd(X, y)"
   ],
   "outputs": [
    {
     "data": {
      "text/plain": [
       "LinearRegression()"
      ]
     },
     "execution_count": 20,
     "metadata": {},
     "output_type": "execute_result"
    }
   ],
   "execution_count": 20
  },
  {
   "cell_type": "code",
   "metadata": {
    "ExecuteTime": {
     "end_time": "2024-08-25T12:49:34.437813Z",
     "start_time": "2024-08-25T12:49:34.431767Z"
    }
   },
   "source": [
    "lin_reg.coef_"
   ],
   "outputs": [
    {
     "data": {
      "text/plain": [
       "array([3.00706277])"
      ]
     },
     "execution_count": 21,
     "metadata": {},
     "output_type": "execute_result"
    }
   ],
   "execution_count": 21
  },
  {
   "cell_type": "code",
   "metadata": {
    "ExecuteTime": {
     "end_time": "2024-08-25T12:49:39.289223Z",
     "start_time": "2024-08-25T12:49:39.284149Z"
    }
   },
   "source": [
    "lin_reg.intercept_"
   ],
   "outputs": [
    {
     "data": {
      "text/plain": [
       "np.float64(4.021457858204859)"
      ]
     },
     "execution_count": 22,
     "metadata": {},
     "output_type": "execute_result"
    }
   ],
   "execution_count": 22
  },
  {
   "metadata": {},
   "cell_type": "code",
   "outputs": [],
   "execution_count": null,
   "source": ""
  }
 ],
 "metadata": {
  "kernelspec": {
   "display_name": "Python 3",
   "language": "python",
   "name": "python3"
  },
  "language_info": {
   "codemirror_mode": {
    "name": "ipython",
    "version": 3
   },
   "file_extension": ".py",
   "mimetype": "text/x-python",
   "name": "python",
   "nbconvert_exporter": "python",
   "pygments_lexer": "ipython3",
   "version": "3.6.4"
  }
 },
 "nbformat": 4,
 "nbformat_minor": 2
}
