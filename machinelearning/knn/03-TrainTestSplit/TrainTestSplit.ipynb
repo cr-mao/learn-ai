{
 "cells": [
  {
   "cell_type": "markdown",
   "metadata": {},
   "source": "## 03 训练数据集和测试数据集拆分"
  },
  {
   "cell_type": "code",
   "metadata": {
    "collapsed": true,
    "ExecuteTime": {
     "end_time": "2024-08-24T07:08:55.056889Z",
     "start_time": "2024-08-24T07:08:54.067662Z"
    }
   },
   "source": [
    "import numpy as np\n",
    "import matplotlib.pyplot as plt\n",
    "from sklearn import datasets "
   ],
   "outputs": [],
   "execution_count": 1
  },
  {
   "cell_type": "code",
   "metadata": {
    "ExecuteTime": {
     "end_time": "2024-08-24T07:08:55.067928Z",
     "start_time": "2024-08-24T07:08:55.059150Z"
    }
   },
   "source": [
    "# 加载 莺尾花数据\n",
    "iris = datasets.load_iris()\n",
    "iris.keys()"
   ],
   "outputs": [
    {
     "data": {
      "text/plain": [
       "dict_keys(['data', 'target', 'frame', 'target_names', 'DESCR', 'feature_names', 'filename', 'data_module'])"
      ]
     },
     "execution_count": 2,
     "metadata": {},
     "output_type": "execute_result"
    }
   ],
   "execution_count": 2
  },
  {
   "cell_type": "code",
   "metadata": {
    "collapsed": true,
    "ExecuteTime": {
     "end_time": "2024-08-24T07:08:55.071766Z",
     "start_time": "2024-08-24T07:08:55.068945Z"
    }
   },
   "source": "X = iris.data",
   "outputs": [],
   "execution_count": 3
  },
  {
   "cell_type": "code",
   "metadata": {
    "collapsed": true,
    "ExecuteTime": {
     "end_time": "2024-08-24T07:08:55.079734Z",
     "start_time": "2024-08-24T07:08:55.073124Z"
    }
   },
   "source": [
    "y = iris.target"
   ],
   "outputs": [],
   "execution_count": 4
  },
  {
   "cell_type": "code",
   "metadata": {
    "ExecuteTime": {
     "end_time": "2024-08-24T07:08:55.087403Z",
     "start_time": "2024-08-24T07:08:55.083230Z"
    }
   },
   "source": [
    "X.shape\n",
    "# 花有４个特征，１５０个样本"
   ],
   "outputs": [
    {
     "data": {
      "text/plain": [
       "(150, 4)"
      ]
     },
     "execution_count": 5,
     "metadata": {},
     "output_type": "execute_result"
    }
   ],
   "execution_count": 5
  },
  {
   "cell_type": "code",
   "metadata": {
    "ExecuteTime": {
     "end_time": "2024-08-24T07:08:55.091713Z",
     "start_time": "2024-08-24T07:08:55.088493Z"
    }
   },
   "source": [
    "y.shape"
   ],
   "outputs": [
    {
     "data": {
      "text/plain": [
       "(150,)"
      ]
     },
     "execution_count": 6,
     "metadata": {},
     "output_type": "execute_result"
    }
   ],
   "execution_count": 6
  },
  {
   "cell_type": "markdown",
   "metadata": {
    "collapsed": true
   },
   "source": [
    "### train_test_split\n",
    "\n",
    "分离出一部分数据做训练，另外一部分数据做测试。"
   ]
  },
  {
   "cell_type": "code",
   "metadata": {
    "ExecuteTime": {
     "end_time": "2024-08-24T07:08:55.097378Z",
     "start_time": "2024-08-24T07:08:55.092751Z"
    }
   },
   "source": [
    "y"
   ],
   "outputs": [
    {
     "data": {
      "text/plain": [
       "array([0, 0, 0, 0, 0, 0, 0, 0, 0, 0, 0, 0, 0, 0, 0, 0, 0, 0, 0, 0, 0, 0,\n",
       "       0, 0, 0, 0, 0, 0, 0, 0, 0, 0, 0, 0, 0, 0, 0, 0, 0, 0, 0, 0, 0, 0,\n",
       "       0, 0, 0, 0, 0, 0, 1, 1, 1, 1, 1, 1, 1, 1, 1, 1, 1, 1, 1, 1, 1, 1,\n",
       "       1, 1, 1, 1, 1, 1, 1, 1, 1, 1, 1, 1, 1, 1, 1, 1, 1, 1, 1, 1, 1, 1,\n",
       "       1, 1, 1, 1, 1, 1, 1, 1, 1, 1, 1, 1, 2, 2, 2, 2, 2, 2, 2, 2, 2, 2,\n",
       "       2, 2, 2, 2, 2, 2, 2, 2, 2, 2, 2, 2, 2, 2, 2, 2, 2, 2, 2, 2, 2, 2,\n",
       "       2, 2, 2, 2, 2, 2, 2, 2, 2, 2, 2, 2, 2, 2, 2, 2, 2, 2])"
      ]
     },
     "execution_count": 7,
     "metadata": {},
     "output_type": "execute_result"
    }
   ],
   "execution_count": 7
  },
  {
   "cell_type": "code",
   "metadata": {
    "ExecuteTime": {
     "end_time": "2024-08-24T07:08:55.101694Z",
     "start_time": "2024-08-24T07:08:55.098402Z"
    }
   },
   "source": [
    "shuffled_indexes = np.random.permutation(len(X))\n",
    "shuffled_indexes"
   ],
   "outputs": [
    {
     "data": {
      "text/plain": [
       "array([ 50,  40,  85,  99, 136, 110,  43,  31,  57,  75, 143, 111,  72,\n",
       "        21,  19,  84,  51,   9,   3,  16, 114,  96,  22, 149,  37,  44,\n",
       "       130, 100,  98, 104, 141, 132, 103,  52, 135,  91,  80, 108,  30,\n",
       "       107,  18, 127, 121,  77,  68,  58, 122,  41,  56,  95,  17,  89,\n",
       "        53, 117, 145,  65,  82,  11,  24,  94, 125,  10,  67,  23,  38,\n",
       "       146,  63,  81,  26,   8,  15, 113,  88,  29, 116,  73,  48, 119,\n",
       "        87,  33, 106,  86,  97, 144,  42, 128, 102,  55, 142,  78,   4,\n",
       "        92,  49,  12, 140,  70,  27,  13,  62, 147,  47,  60, 120, 139,\n",
       "        93,  76,   6,  64, 138, 105,  35, 131,  69, 134,  28, 124,  46,\n",
       "         1, 126, 101,  14, 133,  74, 148,  54, 123, 129,  32,  61,   0,\n",
       "        71,  36,  83,   7,  45, 115,   2, 112, 137,  59,  25,  39,  34,\n",
       "        66,   5,  20,  90, 118,  79, 109])"
      ]
     },
     "execution_count": 8,
     "metadata": {},
     "output_type": "execute_result"
    }
   ],
   "execution_count": 8
  },
  {
   "cell_type": "code",
   "metadata": {
    "collapsed": true,
    "ExecuteTime": {
     "end_time": "2024-08-24T07:08:55.106703Z",
     "start_time": "2024-08-24T07:08:55.104307Z"
    }
   },
   "source": [
    "test_ratio = 0.2\n",
    "test_size = int(len(X) * test_ratio)"
   ],
   "outputs": [],
   "execution_count": 9
  },
  {
   "cell_type": "code",
   "metadata": {
    "collapsed": true,
    "ExecuteTime": {
     "end_time": "2024-08-24T07:08:55.110459Z",
     "start_time": "2024-08-24T07:08:55.107971Z"
    }
   },
   "source": [
    "test_indexes = shuffled_indexes[:test_size]\n",
    "train_indexes = shuffled_indexes[test_size:]"
   ],
   "outputs": [],
   "execution_count": 10
  },
  {
   "cell_type": "code",
   "metadata": {
    "collapsed": true,
    "ExecuteTime": {
     "end_time": "2024-08-24T07:08:55.114722Z",
     "start_time": "2024-08-24T07:08:55.111984Z"
    }
   },
   "source": [
    "X_train = X[train_indexes]\n",
    "y_train = y[train_indexes]\n",
    "\n",
    "X_test = X[test_indexes]\n",
    "y_test = y[test_indexes]"
   ],
   "outputs": [],
   "execution_count": 11
  },
  {
   "cell_type": "code",
   "metadata": {
    "ExecuteTime": {
     "end_time": "2024-08-24T07:08:55.118366Z",
     "start_time": "2024-08-24T07:08:55.115488Z"
    }
   },
   "source": [
    "print(X_train.shape)\n",
    "print(y_train.shape)"
   ],
   "outputs": [
    {
     "name": "stdout",
     "output_type": "stream",
     "text": [
      "(120, 4)\n",
      "(120,)\n"
     ]
    }
   ],
   "execution_count": 12
  },
  {
   "cell_type": "code",
   "metadata": {
    "scrolled": true,
    "ExecuteTime": {
     "end_time": "2024-08-24T07:08:55.122715Z",
     "start_time": "2024-08-24T07:08:55.120520Z"
    }
   },
   "source": [
    "print(X_test.shape)\n",
    "print(y_test.shape)"
   ],
   "outputs": [
    {
     "name": "stdout",
     "output_type": "stream",
     "text": [
      "(30, 4)\n",
      "(30,)\n"
     ]
    }
   ],
   "execution_count": 13
  },
  {
   "cell_type": "markdown",
   "metadata": {},
   "source": [
    "#### 封装"
   ]
  },
  {
   "cell_type": "code",
   "metadata": {
    "collapsed": true,
    "ExecuteTime": {
     "end_time": "2024-08-24T07:08:55.130861Z",
     "start_time": "2024-08-24T07:08:55.125679Z"
    }
   },
   "source": [
    "from playML.model_selection import train_test_split\n",
    "\n",
    "X_train, X_test, y_train, y_test = train_test_split(X, y)"
   ],
   "outputs": [],
   "execution_count": 14
  },
  {
   "cell_type": "code",
   "metadata": {
    "ExecuteTime": {
     "end_time": "2024-08-24T07:08:55.135052Z",
     "start_time": "2024-08-24T07:08:55.131696Z"
    }
   },
   "source": [
    "print(X_train.shape)\n",
    "print(y_train.shape)"
   ],
   "outputs": [
    {
     "name": "stdout",
     "output_type": "stream",
     "text": [
      "(120, 4)\n",
      "(120,)\n"
     ]
    }
   ],
   "execution_count": 15
  },
  {
   "cell_type": "code",
   "metadata": {
    "ExecuteTime": {
     "end_time": "2024-08-24T07:08:55.139750Z",
     "start_time": "2024-08-24T07:08:55.137109Z"
    }
   },
   "source": [
    "print(X_test.shape)\n",
    "print(y_test.shape)"
   ],
   "outputs": [
    {
     "name": "stdout",
     "output_type": "stream",
     "text": [
      "(30, 4)\n",
      "(30,)\n"
     ]
    }
   ],
   "execution_count": 16
  },
  {
   "cell_type": "markdown",
   "metadata": {},
   "source": [
    "#### 测试我们的算法"
   ]
  },
  {
   "cell_type": "code",
   "metadata": {
    "collapsed": true,
    "ExecuteTime": {
     "end_time": "2024-08-24T07:10:11.505027Z",
     "start_time": "2024-08-24T07:10:11.484243Z"
    }
   },
   "source": [
    "from playML import kNN\n",
    "my_knn_clf = kNN.KNNClassifier(k=3)\n",
    "my_knn_clf.fit(X_train, y_train)\n",
    "y_predict = my_knn_clf.predict(X_test)"
   ],
   "outputs": [],
   "execution_count": 23
  },
  {
   "cell_type": "code",
   "metadata": {
    "ExecuteTime": {
     "end_time": "2024-08-24T07:09:34.741933Z",
     "start_time": "2024-08-24T07:09:34.737065Z"
    }
   },
   "source": [
    "y_predict"
   ],
   "outputs": [
    {
     "data": {
      "text/plain": [
       "array([1, 2, 2, 0, 0, 2, 2, 1, 2, 0, 2, 2, 2, 1, 1, 1, 0, 0, 1, 2, 2, 2,\n",
       "       2, 2, 2, 0, 2, 0, 2, 1])"
      ]
     },
     "execution_count": 19,
     "metadata": {},
     "output_type": "execute_result"
    }
   ],
   "execution_count": 19
  },
  {
   "cell_type": "code",
   "metadata": {
    "ExecuteTime": {
     "end_time": "2024-08-24T07:09:42.973378Z",
     "start_time": "2024-08-24T07:09:42.969082Z"
    }
   },
   "source": [
    "y_test"
   ],
   "outputs": [
    {
     "data": {
      "text/plain": [
       "array([1, 2, 2, 0, 0, 2, 2, 1, 1, 0, 2, 2, 2, 2, 1, 1, 0, 0, 1, 2, 2, 2,\n",
       "       2, 2, 2, 0, 2, 0, 2, 1])"
      ]
     },
     "execution_count": 20,
     "metadata": {},
     "output_type": "execute_result"
    }
   ],
   "execution_count": 20
  },
  {
   "cell_type": "code",
   "metadata": {
    "ExecuteTime": {
     "end_time": "2024-08-24T07:09:45.378262Z",
     "start_time": "2024-08-24T07:09:45.372668Z"
    }
   },
   "source": [
    "sum(y_predict == y_test)"
   ],
   "outputs": [
    {
     "data": {
      "text/plain": [
       "np.int64(28)"
      ]
     },
     "execution_count": 21,
     "metadata": {},
     "output_type": "execute_result"
    }
   ],
   "execution_count": 21
  },
  {
   "cell_type": "code",
   "metadata": {
    "ExecuteTime": {
     "end_time": "2024-08-24T07:09:47.246945Z",
     "start_time": "2024-08-24T07:09:47.240922Z"
    }
   },
   "source": [
    "sum(y_predict == y_test) / len(y_test)"
   ],
   "outputs": [
    {
     "data": {
      "text/plain": [
       "np.float64(0.9333333333333333)"
      ]
     },
     "execution_count": 22,
     "metadata": {},
     "output_type": "execute_result"
    }
   ],
   "execution_count": 22
  },
  {
   "cell_type": "markdown",
   "metadata": {},
   "source": [
    "#### sklearn中的train_test_split"
   ]
  },
  {
   "cell_type": "code",
   "metadata": {
    "ExecuteTime": {
     "end_time": "2024-08-24T07:11:27.400207Z",
     "start_time": "2024-08-24T07:11:27.325931Z"
    }
   },
   "source": [
    "from sklearn.model_selection import train_test_split\n",
    "\n",
    "train_test_split"
   ],
   "outputs": [
    {
     "data": {
      "text/plain": [
       "<function sklearn.model_selection._split.train_test_split(*arrays, test_size=None, train_size=None, random_state=None, shuffle=True, stratify=None)>"
      ]
     },
     "execution_count": 24,
     "metadata": {},
     "output_type": "execute_result"
    }
   ],
   "execution_count": 24
  },
  {
   "cell_type": "code",
   "metadata": {
    "collapsed": true,
    "ExecuteTime": {
     "end_time": "2024-08-24T07:11:29.972342Z",
     "start_time": "2024-08-24T07:11:29.967818Z"
    }
   },
   "source": [
    "X_train, X_test, y_train, y_test = train_test_split(X, y, test_size=0.2, random_state=666)"
   ],
   "outputs": [],
   "execution_count": 25
  },
  {
   "cell_type": "code",
   "metadata": {
    "ExecuteTime": {
     "end_time": "2024-08-24T07:11:32.952806Z",
     "start_time": "2024-08-24T07:11:32.947947Z"
    }
   },
   "source": [
    "print(X_train.shape)\n",
    "print(y_train.shape)"
   ],
   "outputs": [
    {
     "name": "stdout",
     "output_type": "stream",
     "text": [
      "(120, 4)\n",
      "(120,)\n"
     ]
    }
   ],
   "execution_count": 26
  },
  {
   "cell_type": "code",
   "metadata": {
    "ExecuteTime": {
     "end_time": "2024-08-24T07:11:35.392865Z",
     "start_time": "2024-08-24T07:11:35.388839Z"
    }
   },
   "source": [
    "print(X_test.shape)\n",
    "print(y_test.shape)"
   ],
   "outputs": [
    {
     "name": "stdout",
     "output_type": "stream",
     "text": [
      "(30, 4)\n",
      "(30,)\n"
     ]
    }
   ],
   "execution_count": 27
  },
  {
   "metadata": {},
   "cell_type": "code",
   "outputs": [],
   "execution_count": null,
   "source": ""
  }
 ],
 "metadata": {
  "kernelspec": {
   "display_name": "Python 3",
   "language": "python",
   "name": "python3"
  },
  "language_info": {
   "codemirror_mode": {
    "name": "ipython",
    "version": 3
   },
   "file_extension": ".py",
   "mimetype": "text/x-python",
   "name": "python",
   "nbconvert_exporter": "python",
   "pygments_lexer": "ipython3",
   "version": "3.6.1"
  }
 },
 "nbformat": 4,
 "nbformat_minor": 2
}
