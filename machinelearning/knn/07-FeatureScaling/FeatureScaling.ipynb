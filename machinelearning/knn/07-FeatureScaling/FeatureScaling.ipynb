{
 "cells": [
  {
   "cell_type": "markdown",
   "metadata": {},
   "source": [
    "## 07 数据归一化处理"
   ]
  },
  {
   "cell_type": "code",
   "metadata": {
    "collapsed": true,
    "ExecuteTime": {
     "end_time": "2024-08-24T08:39:25.566054Z",
     "start_time": "2024-08-24T08:39:25.246766Z"
    }
   },
   "source": [
    "import numpy as np\n",
    "import matplotlib.pyplot as plt"
   ],
   "outputs": [],
   "execution_count": 1
  },
  {
   "cell_type": "markdown",
   "metadata": {},
   "source": [
    "### 最值归一化 Normalization"
   ]
  },
  {
   "cell_type": "code",
   "metadata": {
    "collapsed": true,
    "ExecuteTime": {
     "end_time": "2024-08-24T08:39:30.454126Z",
     "start_time": "2024-08-24T08:39:30.431443Z"
    }
   },
   "source": [
    "x = np.random.randint(0, 100, 100) "
   ],
   "outputs": [],
   "execution_count": 2
  },
  {
   "cell_type": "code",
   "metadata": {
    "ExecuteTime": {
     "end_time": "2024-08-24T08:39:32.774244Z",
     "start_time": "2024-08-24T08:39:32.765828Z"
    }
   },
   "source": [
    "x"
   ],
   "outputs": [
    {
     "data": {
      "text/plain": [
       "array([92, 79, 59, 84, 56,  4, 71, 13,  7,  7, 75, 76, 59, 18, 84, 46,  7,\n",
       "       87, 77, 35, 86, 94, 19, 76, 15, 74,  5, 20, 72, 88, 84, 66, 49, 82,\n",
       "       25, 55,  1, 53, 61, 22, 92, 94, 78, 84, 58, 74, 87, 75, 99, 84, 70,\n",
       "       88, 52, 92, 16, 61,  4, 80, 44, 61, 12, 16, 84, 50, 31, 91, 94, 28,\n",
       "       84, 31, 86, 28, 25, 86, 61, 55, 25, 72, 56, 22,  3, 59, 85, 14, 24,\n",
       "       45, 91, 82, 63, 76, 80, 67, 53, 52, 28, 50, 37,  8, 52, 43])"
      ]
     },
     "execution_count": 3,
     "metadata": {},
     "output_type": "execute_result"
    }
   ],
   "execution_count": 3
  },
  {
   "metadata": {},
   "cell_type": "markdown",
   "source": "归一化 公式"
  },
  {
   "cell_type": "code",
   "metadata": {
    "ExecuteTime": {
     "end_time": "2024-08-24T08:39:37.761764Z",
     "start_time": "2024-08-24T08:39:37.755076Z"
    }
   },
   "source": [
    "(x - np.min(x)) / (np.max(x) - np.min(x))"
   ],
   "outputs": [
    {
     "data": {
      "text/plain": [
       "array([0.92857143, 0.79591837, 0.59183673, 0.84693878, 0.56122449,\n",
       "       0.03061224, 0.71428571, 0.12244898, 0.06122449, 0.06122449,\n",
       "       0.75510204, 0.76530612, 0.59183673, 0.17346939, 0.84693878,\n",
       "       0.45918367, 0.06122449, 0.87755102, 0.7755102 , 0.34693878,\n",
       "       0.86734694, 0.94897959, 0.18367347, 0.76530612, 0.14285714,\n",
       "       0.74489796, 0.04081633, 0.19387755, 0.7244898 , 0.8877551 ,\n",
       "       0.84693878, 0.66326531, 0.48979592, 0.82653061, 0.24489796,\n",
       "       0.55102041, 0.        , 0.53061224, 0.6122449 , 0.21428571,\n",
       "       0.92857143, 0.94897959, 0.78571429, 0.84693878, 0.58163265,\n",
       "       0.74489796, 0.87755102, 0.75510204, 1.        , 0.84693878,\n",
       "       0.70408163, 0.8877551 , 0.52040816, 0.92857143, 0.15306122,\n",
       "       0.6122449 , 0.03061224, 0.80612245, 0.43877551, 0.6122449 ,\n",
       "       0.1122449 , 0.15306122, 0.84693878, 0.5       , 0.30612245,\n",
       "       0.91836735, 0.94897959, 0.2755102 , 0.84693878, 0.30612245,\n",
       "       0.86734694, 0.2755102 , 0.24489796, 0.86734694, 0.6122449 ,\n",
       "       0.55102041, 0.24489796, 0.7244898 , 0.56122449, 0.21428571,\n",
       "       0.02040816, 0.59183673, 0.85714286, 0.13265306, 0.23469388,\n",
       "       0.44897959, 0.91836735, 0.82653061, 0.63265306, 0.76530612,\n",
       "       0.80612245, 0.67346939, 0.53061224, 0.52040816, 0.2755102 ,\n",
       "       0.5       , 0.36734694, 0.07142857, 0.52040816, 0.42857143])"
      ]
     },
     "execution_count": 4,
     "metadata": {},
     "output_type": "execute_result"
    }
   ],
   "execution_count": 4
  },
  {
   "cell_type": "code",
   "metadata": {
    "collapsed": true,
    "ExecuteTime": {
     "end_time": "2024-08-24T08:39:45.320017Z",
     "start_time": "2024-08-24T08:39:45.316320Z"
    }
   },
   "source": [
    "X = np.random.randint(0, 100, (50, 2))"
   ],
   "outputs": [],
   "execution_count": 6
  },
  {
   "cell_type": "code",
   "metadata": {
    "collapsed": true,
    "ExecuteTime": {
     "end_time": "2024-08-24T08:39:52.531365Z",
     "start_time": "2024-08-24T08:39:52.527958Z"
    }
   },
   "source": [
    "X = np.array(X, dtype=float)"
   ],
   "outputs": [],
   "execution_count": 7
  },
  {
   "cell_type": "code",
   "metadata": {
    "ExecuteTime": {
     "end_time": "2024-08-24T08:39:55.544770Z",
     "start_time": "2024-08-24T08:39:55.539561Z"
    }
   },
   "source": [
    "X[:10,:]"
   ],
   "outputs": [
    {
     "data": {
      "text/plain": [
       "array([[13., 32.],\n",
       "       [90., 72.],\n",
       "       [58., 93.],\n",
       "       [94., 93.],\n",
       "       [62., 17.],\n",
       "       [27., 71.],\n",
       "       [56., 62.],\n",
       "       [57., 67.],\n",
       "       [47., 83.],\n",
       "       [32., 48.]])"
      ]
     },
     "execution_count": 8,
     "metadata": {},
     "output_type": "execute_result"
    }
   ],
   "execution_count": 8
  },
  {
   "cell_type": "code",
   "metadata": {
    "collapsed": true,
    "ExecuteTime": {
     "end_time": "2024-08-24T08:40:32.678355Z",
     "start_time": "2024-08-24T08:40:32.672229Z"
    }
   },
   "source": [
    "X[:,0] = (X[:,0] - np.min(X[:,0])) / (np.max(X[:,0]) - np.min(X[:,0]))\n",
    "X[:,1] = (X[:,1] - np.min(X[:,1])) / (np.max(X[:,1]) - np.min(X[:,1]))"
   ],
   "outputs": [],
   "execution_count": 9
  },
  {
   "cell_type": "code",
   "metadata": {
    "ExecuteTime": {
     "end_time": "2024-08-24T08:40:35.023140Z",
     "start_time": "2024-08-24T08:40:35.018668Z"
    }
   },
   "source": [
    "X[:10,:]"
   ],
   "outputs": [
    {
     "data": {
      "text/plain": [
       "array([[0.13265306, 0.23529412],\n",
       "       [0.91836735, 0.70588235],\n",
       "       [0.59183673, 0.95294118],\n",
       "       [0.95918367, 0.95294118],\n",
       "       [0.63265306, 0.05882353],\n",
       "       [0.2755102 , 0.69411765],\n",
       "       [0.57142857, 0.58823529],\n",
       "       [0.58163265, 0.64705882],\n",
       "       [0.47959184, 0.83529412],\n",
       "       [0.32653061, 0.42352941]])"
      ]
     },
     "execution_count": 10,
     "metadata": {},
     "output_type": "execute_result"
    }
   ],
   "execution_count": 10
  },
  {
   "cell_type": "code",
   "metadata": {
    "ExecuteTime": {
     "end_time": "2024-08-24T08:41:03.111721Z",
     "start_time": "2024-08-24T08:41:03.028596Z"
    }
   },
   "source": [
    "plt.scatter(X[:,0], X[:,1])\n",
    "plt.show()"
   ],
   "outputs": [
    {
     "data": {
      "text/plain": [
       "<Figure size 640x480 with 1 Axes>"
      ],
      "image/png": "[encoded data removed]"
     },
     "metadata": {},
     "output_type": "display_data"
    }
   ],
   "execution_count": 11
  },
  {
   "cell_type": "code",
   "metadata": {
    "ExecuteTime": {
     "end_time": "2024-08-24T08:41:08.781641Z",
     "start_time": "2024-08-24T08:41:08.776611Z"
    }
   },
   "source": [
    "np.mean(X[:,0])"
   ],
   "outputs": [
    {
     "data": {
      "text/plain": [
       "np.float64(0.4948979591836735)"
      ]
     },
     "execution_count": 12,
     "metadata": {},
     "output_type": "execute_result"
    }
   ],
   "execution_count": 12
  },
  {
   "cell_type": "code",
   "metadata": {
    "ExecuteTime": {
     "end_time": "2024-08-24T08:41:10.766947Z",
     "start_time": "2024-08-24T08:41:10.763414Z"
    }
   },
   "source": [
    "np.std(X[:,0])"
   ],
   "outputs": [
    {
     "data": {
      "text/plain": [
       "np.float64(0.27495976760715785)"
      ]
     },
     "execution_count": 13,
     "metadata": {},
     "output_type": "execute_result"
    }
   ],
   "execution_count": 13
  },
  {
   "cell_type": "code",
   "metadata": {
    "ExecuteTime": {
     "end_time": "2024-08-24T08:41:13.333978Z",
     "start_time": "2024-08-24T08:41:13.327767Z"
    }
   },
   "source": [
    "np.mean(X[:,1])"
   ],
   "outputs": [
    {
     "data": {
      "text/plain": [
       "np.float64(0.5007058823529412)"
      ]
     },
     "execution_count": 14,
     "metadata": {},
     "output_type": "execute_result"
    }
   ],
   "execution_count": 14
  },
  {
   "cell_type": "code",
   "metadata": {
    "ExecuteTime": {
     "end_time": "2024-08-24T08:41:15.621163Z",
     "start_time": "2024-08-24T08:41:15.616635Z"
    }
   },
   "source": [
    "np.std(X[:,1])"
   ],
   "outputs": [
    {
     "data": {
      "text/plain": [
       "np.float64(0.295190138712457)"
      ]
     },
     "execution_count": 15,
     "metadata": {},
     "output_type": "execute_result"
    }
   ],
   "execution_count": 15
  },
  {
   "cell_type": "markdown",
   "metadata": {},
   "source": [
    "### 均值方差归一化 Standardization"
   ]
  },
  {
   "cell_type": "code",
   "metadata": {
    "collapsed": true,
    "ExecuteTime": {
     "end_time": "2024-08-24T08:42:10.813445Z",
     "start_time": "2024-08-24T08:42:10.810390Z"
    }
   },
   "source": [
    "X2 = np.random.randint(0, 100, (50, 2))"
   ],
   "outputs": [],
   "execution_count": 16
  },
  {
   "cell_type": "code",
   "metadata": {
    "collapsed": true,
    "ExecuteTime": {
     "end_time": "2024-08-24T08:42:12.526934Z",
     "start_time": "2024-08-24T08:42:12.516740Z"
    }
   },
   "source": [
    "X2 = np.array(X2, dtype=float)"
   ],
   "outputs": [],
   "execution_count": 17
  },
  {
   "cell_type": "code",
   "metadata": {
    "ExecuteTime": {
     "end_time": "2024-08-24T08:42:14.252858Z",
     "start_time": "2024-08-24T08:42:14.245754Z"
    }
   },
   "source": [
    "X2[:10,:]"
   ],
   "outputs": [
    {
     "data": {
      "text/plain": [
       "array([[52., 32.],\n",
       "       [54., 19.],\n",
       "       [43., 52.],\n",
       "       [49., 87.],\n",
       "       [20., 62.],\n",
       "       [85., 70.],\n",
       "       [49., 92.],\n",
       "       [56., 76.],\n",
       "       [ 8.,  2.],\n",
       "       [14., 14.]])"
      ]
     },
     "execution_count": 18,
     "metadata": {},
     "output_type": "execute_result"
    }
   ],
   "execution_count": 18
  },
  {
   "cell_type": "code",
   "metadata": {
    "collapsed": true,
    "ExecuteTime": {
     "end_time": "2024-08-24T08:43:12.255507Z",
     "start_time": "2024-08-24T08:43:12.252153Z"
    }
   },
   "source": [
    "X2[:,0] = (X2[:,0] - np.mean(X2[:,0])) / np.std(X2[:,0])\n",
    "X2[:,1] = (X2[:,1] - np.mean(X2[:,1])) / np.std(X2[:,1])"
   ],
   "outputs": [],
   "execution_count": 19
  },
  {
   "cell_type": "code",
   "metadata": {
    "ExecuteTime": {
     "end_time": "2024-08-24T08:43:14.991682Z",
     "start_time": "2024-08-24T08:43:14.910165Z"
    }
   },
   "source": [
    "plt.scatter(X2[:,0], X2[:,1])\n",
    "plt.show()"
   ],
   "outputs": [
    {
     "data": {
      "text/plain": [
       "<Figure size 640x480 with 1 Axes>"
      ],
      "image/png": "[encoded data removed]"
     },
     "metadata": {},
     "output_type": "display_data"
    }
   ],
   "execution_count": 20
  },
  {
   "cell_type": "code",
   "metadata": {
    "ExecuteTime": {
     "end_time": "2024-08-24T08:43:18.264822Z",
     "start_time": "2024-08-24T08:43:18.257974Z"
    }
   },
   "source": [
    "np.mean(X2[:,0])"
   ],
   "outputs": [
    {
     "data": {
      "text/plain": [
       "np.float64(-1.0880185641326534e-16)"
      ]
     },
     "execution_count": 21,
     "metadata": {},
     "output_type": "execute_result"
    }
   ],
   "execution_count": 21
  },
  {
   "cell_type": "code",
   "metadata": {
    "ExecuteTime": {
     "end_time": "2024-08-24T08:43:20.170553Z",
     "start_time": "2024-08-24T08:43:20.165737Z"
    }
   },
   "source": [
    "np.std(X2[:,0])"
   ],
   "outputs": [
    {
     "data": {
      "text/plain": [
       "np.float64(0.9999999999999999)"
      ]
     },
     "execution_count": 22,
     "metadata": {},
     "output_type": "execute_result"
    }
   ],
   "execution_count": 22
  },
  {
   "cell_type": "code",
   "metadata": {
    "ExecuteTime": {
     "end_time": "2024-08-24T08:43:22.455281Z",
     "start_time": "2024-08-24T08:43:22.449333Z"
    }
   },
   "source": [
    "np.mean(X2[:,1])"
   ],
   "outputs": [
    {
     "data": {
      "text/plain": [
       "np.float64(-6.439293542825907e-17)"
      ]
     },
     "execution_count": 23,
     "metadata": {},
     "output_type": "execute_result"
    }
   ],
   "execution_count": 23
  },
  {
   "cell_type": "code",
   "metadata": {
    "ExecuteTime": {
     "end_time": "2024-08-24T08:43:25.632784Z",
     "start_time": "2024-08-24T08:43:25.626811Z"
    }
   },
   "source": [
    "np.std(X2[:,1])"
   ],
   "outputs": [
    {
     "data": {
      "text/plain": [
       "np.float64(0.9999999999999999)"
      ]
     },
     "execution_count": 24,
     "metadata": {},
     "output_type": "execute_result"
    }
   ],
   "execution_count": 24
  },
  {
   "metadata": {},
   "cell_type": "code",
   "outputs": [],
   "execution_count": null,
   "source": ""
  }
 ],
 "metadata": {
  "kernelspec": {
   "display_name": "Python 3",
   "language": "python",
   "name": "python3"
  },
  "language_info": {
   "codemirror_mode": {
    "name": "ipython",
    "version": 3
   },
   "file_extension": ".py",
   "mimetype": "text/x-python",
   "name": "python",
   "nbconvert_exporter": "python",
   "pygments_lexer": "ipython3",
   "version": "3.6.1"
  }
 },
 "nbformat": 4,
 "nbformat_minor": 2
}
