{
 "cells": [
  {
   "metadata": {},
   "cell_type": "markdown",
   "source": [
    "## 通过NearestNeighbors 找出最相似的用户\n",
    "\n",
    "然后拿这个用户的习惯商品，推荐给另外的用户。 "
   ],
   "id": "8a22a4f983cabcc0"
  },
  {
   "metadata": {
    "ExecuteTime": {
     "end_time": "2024-08-31T06:36:05.524468Z",
     "start_time": "2024-08-31T06:36:05.512628Z"
    }
   },
   "cell_type": "code",
   "source": [
    "from sklearn import neighbors\n",
    "import numpy as np\n",
    "import matplotlib.pyplot as plt\n",
    "from sklearn.metrics.pairwise import cosine_similarity,cosine_distances\n",
    "\n",
    "# 假设用户给６个相同商品打个分数，０－１００分\n",
    "user1=np.array([50,30,25,76,89,100])\n",
    "user2=np.array([79,67,67,90,70,60])\n",
    "user3=np.array([10,45,20,78,50,50])\n",
    "user4=np.array([66,78,50,80,30,40])\n",
    "user5=np.array([35,11,80,40,35,45])\n",
    "user6=np.array([21,82,30,68,25,55])\n",
    "user7=np.array([89,67,25,59,80,75])\n",
    "\n",
    "\n",
    "def ad_cos(arr1,arr2):  #修正的余弦相似性\n",
    "    arr1=arr1-arr1.mean()\n",
    "    arr2=arr2-arr2.mean()\n",
    "    #return 1-cosine_similarity(arr1.reshape(1,arr1.size),arr2.reshape(1,arr2.size))\n",
    "    return cosine_distances(arr1.reshape(1,arr1.size),arr2.reshape(1,arr2.size))\n",
    "\n",
    "# 指定算法\n",
    "neighbors=neighbors.NearestNeighbors(metric=ad_cos)\n",
    "samples=np.concatenate((user1,user2,user3,user4,user5,user6,user7)).reshape(-1,6)\n",
    "newUser=np.array([45,60,60,55,20,55]).reshape(-1,6)   #这是一个新用户\n",
    "\n",
    "# 故意给一样的。\n",
    "newUser2=np.array([89,67,25,59,80,75]).reshape(-1,6)   #这是一个新用户\n",
    "\n",
    "neighbors.fit(samples)\n",
    "# print(samples)\n",
    "\n",
    "# 找２个最相似的\n",
    "result=neighbors.kneighbors(newUser,2)\n",
    "print(result)\n",
    "\n",
    "# 找1个最相似的\n",
    "result1=neighbors.kneighbors(newUser2,1)\n",
    "# 第６个用户\n",
    "print(result1[1][0][0])\n"
   ],
   "id": "d3d6e2800d155b60",
   "outputs": [
    {
     "name": "stdout",
     "output_type": "stream",
     "text": [
      "(array([[0.40510145, 0.42247772]]), array([[3, 5]]))\n",
      "6\n"
     ]
    }
   ],
   "execution_count": 7
  },
  {
   "metadata": {
    "ExecuteTime": {
     "end_time": "2024-09-04T08:33:48.901702Z",
     "start_time": "2024-09-04T08:33:48.896657Z"
    }
   },
   "cell_type": "code",
   "source": "\n",
   "id": "4c77487692826011",
   "outputs": [
    {
     "name": "stdout",
     "output_type": "stream",
     "text": [
      "[[1 2]\n",
      " [3 4]]\n",
      "[[1 3]\n",
      " [2 4]]\n"
     ]
    }
   ],
   "execution_count": 3
  },
  {
   "metadata": {},
   "cell_type": "code",
   "outputs": [],
   "execution_count": null,
   "source": "",
   "id": "94086e254cc7b327"
  }
 ],
 "metadata": {
  "kernelspec": {
   "display_name": "Python 3",
   "language": "python",
   "name": "python3"
  },
  "language_info": {
   "codemirror_mode": {
    "name": "ipython",
    "version": 2
   },
   "file_extension": ".py",
   "mimetype": "text/x-python",
   "name": "python",
   "nbconvert_exporter": "python",
   "pygments_lexer": "ipython2",
   "version": "2.7.6"
  }
 },
 "nbformat": 4,
 "nbformat_minor": 5
}
