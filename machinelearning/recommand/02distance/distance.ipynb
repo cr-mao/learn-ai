{
 "cells": [
  {
   "metadata": {},
   "cell_type": "markdown",
   "source": "## 用户消费能力 （距离)",
   "id": "70fffb8333b695b6"
  },
  {
   "metadata": {
    "ExecuteTime": {
     "end_time": "2024-08-31T03:17:59.527744Z",
     "start_time": "2024-08-31T03:17:59.523281Z"
    }
   },
   "cell_type": "code",
   "source": [
    "from sklearn.metrics.pairwise import euclidean_distances\n",
    "import numpy as np\n",
    "user1=np.array([10,15,20])\n",
    "user2=np.array([120,200,130])\n",
    "print(euclidean_distances(user1.reshape(1,3),user2.reshape(1,3)))"
   ],
   "id": "e8738738a477be6",
   "outputs": [
    {
     "name": "stdout",
     "output_type": "stream",
     "text": [
      "[[241.71263931]]\n"
     ]
    }
   ],
   "execution_count": 2
  },
  {
   "metadata": {},
   "cell_type": "markdown",
   "source": "### 欧式距离标准化",
   "id": "75091114bdb8100d"
  },
  {
   "metadata": {
    "ExecuteTime": {
     "end_time": "2024-08-31T03:29:39.533126Z",
     "start_time": "2024-08-31T03:29:39.527080Z"
    }
   },
   "cell_type": "code",
   "source": [
    "from scipy.spatial.distance import cdist \n",
    "user1=np.array([[500,2000,1020,10000,880,500]])\n",
    "user2=np.array([[300,1000,600,3000,600,300]])\n",
    "print(cdist(user1,user2))\n"
   ],
   "id": "eb70ac4376e820bf",
   "outputs": [
    {
     "name": "stdout",
     "output_type": "stream",
     "text": [
      "[[7094.70224886]]\n"
     ]
    }
   ],
   "execution_count": 3
  },
  {
   "metadata": {},
   "cell_type": "markdown",
   "source": "标准化欧式距离",
   "id": "b69848a3453a2743"
  },
  {
   "metadata": {
    "ExecuteTime": {
     "end_time": "2024-08-31T03:29:59.520192Z",
     "start_time": "2024-08-31T03:29:59.516823Z"
    }
   },
   "cell_type": "code",
   "source": "print(cdist(user1,user2,\"seuclidean\")) #",
   "id": "1150e55af0f957b4",
   "outputs": [
    {
     "name": "stdout",
     "output_type": "stream",
     "text": [
      "[[3.46410162]]\n"
     ]
    }
   ],
   "execution_count": 4
  },
  {
   "metadata": {},
   "cell_type": "code",
   "outputs": [],
   "execution_count": null,
   "source": "",
   "id": "c84970a8fb68fb08"
  }
 ],
 "metadata": {
  "kernelspec": {
   "display_name": "Python 3",
   "language": "python",
   "name": "python3"
  },
  "language_info": {
   "codemirror_mode": {
    "name": "ipython",
    "version": 2
   },
   "file_extension": ".py",
   "mimetype": "text/x-python",
   "name": "python",
   "nbconvert_exporter": "python",
   "pygments_lexer": "ipython2",
   "version": "2.7.6"
  }
 },
 "nbformat": 4,
 "nbformat_minor": 5
}
