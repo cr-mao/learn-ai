{
 "cells": [
  {
   "metadata": {},
   "cell_type": "markdown",
   "source": "## 用户口味相似性 ",
   "id": "6933fd37d33f15f4"
  },
  {
   "cell_type": "code",
   "id": "initial_id",
   "metadata": {
    "collapsed": true,
    "ExecuteTime": {
     "end_time": "2024-08-31T01:46:50.958792Z",
     "start_time": "2024-08-31T01:46:50.956045Z"
    }
   },
   "source": [
    "from sklearn.metrics.pairwise import  cosine_similarity\n",
    "import numpy as np"
   ],
   "outputs": [],
   "execution_count": 6
  },
  {
   "metadata": {},
   "cell_type": "markdown",
   "source": " 假设 用户给７个商品 分别打分，最高５分",
   "id": "740e8a17bd1a20b1"
  },
  {
   "metadata": {
    "ExecuteTime": {
     "end_time": "2024-08-31T01:46:52.657074Z",
     "start_time": "2024-08-31T01:46:52.651052Z"
    }
   },
   "cell_type": "code",
   "source": [
    "user1=np.array([3,2,3,2,1,2,4])\n",
    "user2=np.array([2,2,3,1,3,1,1])\n",
    "print(cosine_similarity(user1.reshape(-1,7),user2.reshape(-1,7)))"
   ],
   "id": "4fe2f5925aaf82",
   "outputs": [
    {
     "name": "stdout",
     "output_type": "stream",
     "text": [
      "[[0.81259347]]\n"
     ]
    }
   ],
   "execution_count": 7
  },
  {
   "metadata": {},
   "cell_type": "markdown",
   "source": [
    "假设2个用户对３个商品进行打分，５分制 \n",
    "\n",
    "用户１明显是中差评， 用户２有好评的习惯，用户１是再好的商品也给中评。\n",
    "\n",
    "当然user1可能还并不喜欢这３个商品"
   ],
   "id": "638ed39d29396564"
  },
  {
   "metadata": {
    "ExecuteTime": {
     "end_time": "2024-08-31T01:48:52.473707Z",
     "start_time": "2024-08-31T01:48:52.469170Z"
    }
   },
   "cell_type": "code",
   "source": [
    "user1=np.array([2,1,2])\n",
    "user2=np.array([5,4,4])\n",
    "print(cosine_similarity(user1.reshape(1,3),user2.reshape(1,3)))"
   ],
   "id": "4f96c12bcf497feb",
   "outputs": [
    {
     "name": "stdout",
     "output_type": "stream",
     "text": [
      "[[0.97132373]]\n"
     ]
    }
   ],
   "execution_count": 8
  },
  {
   "metadata": {},
   "cell_type": "markdown",
   "source": "#### 修正余弦相似性",
   "id": "b3958681d17cc225"
  },
  {
   "metadata": {
    "ExecuteTime": {
     "end_time": "2024-08-31T01:53:57.872976Z",
     "start_time": "2024-08-31T01:53:57.868911Z"
    }
   },
   "cell_type": "code",
   "source": [
    "user1=np.array([2,1,2])\n",
    "user1=user1-user1.mean()\n",
    "user2=np.array([5,4,4])\n",
    "user2=user2-user2.mean()\n",
    "print(cosine_similarity(user1.reshape(1,3),user2.reshape(1,3)))\n"
   ],
   "id": "1bdeeaea742acfbb",
   "outputs": [
    {
     "name": "stdout",
     "output_type": "stream",
     "text": [
      "[[0.5]]\n"
     ]
    }
   ],
   "execution_count": 9
  },
  {
   "metadata": {},
   "cell_type": "code",
   "outputs": [],
   "execution_count": null,
   "source": "",
   "id": "61d370c538393cc9"
  }
 ],
 "metadata": {
  "kernelspec": {
   "display_name": "Python 3",
   "language": "python",
   "name": "python3"
  },
  "language_info": {
   "codemirror_mode": {
    "name": "ipython",
    "version": 2
   },
   "file_extension": ".py",
   "mimetype": "text/x-python",
   "name": "python",
   "nbconvert_exporter": "python",
   "pygments_lexer": "ipython2",
   "version": "2.7.6"
  }
 },
 "nbformat": 4,
 "nbformat_minor": 5
}
