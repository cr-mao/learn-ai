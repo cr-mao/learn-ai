{
 "cells": [
  {
   "metadata": {},
   "cell_type": "markdown",
   "source": [
    "## 列表和元组，到底用哪一个？\n",
    "\n",
    "列表是动态的，长度大小不固定，可以随意地增加、删减或者改变元素（mutable）。\n",
    "\n",
    "而元组是静态的，长度大小固定，无法增加删减或者改变（immutable）。"
   ],
   "id": "74d8f859fbb9f339"
  },
  {
   "metadata": {
    "ExecuteTime": {
     "end_time": "2024-09-09T08:09:40.629700Z",
     "start_time": "2024-09-09T08:09:40.624694Z"
    }
   },
   "cell_type": "code",
   "source": [
    "l = [1, 2, 'hello', 'world']\n",
    "tup = ('jason', 22) # \n",
    "print(l)\n",
    "tup"
   ],
   "id": "48a3fe2de9d12a4d",
   "outputs": [
    {
     "name": "stdout",
     "output_type": "stream",
     "text": [
      "[1, 2, 'hello', 'world']\n"
     ]
    },
    {
     "data": {
      "text/plain": [
       "('jason', 22)"
      ]
     },
     "execution_count": 2,
     "metadata": {},
     "output_type": "execute_result"
    }
   ],
   "execution_count": 2
  },
  {
   "metadata": {
    "ExecuteTime": {
     "end_time": "2024-09-09T08:10:32.048987Z",
     "start_time": "2024-09-09T08:10:32.009270Z"
    }
   },
   "cell_type": "code",
   "source": [
    "l = [1, 2, 3, 4]\n",
    "l[3] = 40 # 和很多语言类似，python 中索引同样从 0 开始，l[3] 表示访问列表的第四个元素\n",
    "print(l)\n",
    "tup = (1, 2, 3, 4)\n",
    "tup[3] = 40"
   ],
   "id": "314298a84939de93",
   "outputs": [
    {
     "name": "stdout",
     "output_type": "stream",
     "text": [
      "[1, 2, 3, 40]\n"
     ]
    },
    {
     "ename": "TypeError",
     "evalue": "'tuple' object does not support item assignment",
     "output_type": "error",
     "traceback": [
      "\u001B[0;31m---------------------------------------------------------------------------\u001B[0m",
      "\u001B[0;31mTypeError\u001B[0m                                 Traceback (most recent call last)",
      "Cell \u001B[0;32mIn[5], line 5\u001B[0m\n\u001B[1;32m      3\u001B[0m \u001B[38;5;28mprint\u001B[39m(l)\n\u001B[1;32m      4\u001B[0m tup \u001B[38;5;241m=\u001B[39m (\u001B[38;5;241m1\u001B[39m, \u001B[38;5;241m2\u001B[39m, \u001B[38;5;241m3\u001B[39m, \u001B[38;5;241m4\u001B[39m)\n\u001B[0;32m----> 5\u001B[0m \u001B[43mtup\u001B[49m\u001B[43m[\u001B[49m\u001B[38;5;241;43m3\u001B[39;49m\u001B[43m]\u001B[49m \u001B[38;5;241m=\u001B[39m \u001B[38;5;241m40\u001B[39m\n",
      "\u001B[0;31mTypeError\u001B[0m: 'tuple' object does not support item assignment"
     ]
    }
   ],
   "execution_count": 5
  },
  {
   "metadata": {},
   "cell_type": "markdown",
   "source": "### 添加元素\n",
   "id": "4d0dff9fa3a352c9"
  },
  {
   "metadata": {
    "ExecuteTime": {
     "end_time": "2024-09-09T08:11:13.947855Z",
     "start_time": "2024-09-09T08:11:13.943099Z"
    }
   },
   "cell_type": "code",
   "source": [
    "tup = (1, 2, 3, 4)\n",
    "new_tup = tup + (5, ) # 创建新的元组 new_tup，并依次填充原元组的值\n",
    "print(new_tup)\n",
    "l = [1, 2, 3, 4]\n",
    "l.append(5) # 添加元素 5 到原列表的末尾\n",
    "print(l) "
   ],
   "id": "8a6426882316b075",
   "outputs": [
    {
     "name": "stdout",
     "output_type": "stream",
     "text": [
      "(1, 2, 3, 4, 5)\n",
      "[1, 2, 3, 4, 5]\n"
     ]
    }
   ],
   "execution_count": 6
  },
  {
   "metadata": {},
   "cell_type": "markdown",
   "source": "### Python 中的列表和元组都支持负数索引",
   "id": "863411f757bcc5b"
  },
  {
   "metadata": {
    "ExecuteTime": {
     "end_time": "2024-09-09T08:11:48.288810Z",
     "start_time": "2024-09-09T08:11:48.285450Z"
    }
   },
   "cell_type": "code",
   "source": [
    "l = [1, 2, 3, 4]\n",
    "print(l[-1])\n",
    "tup = (1, 2, 3, 4)\n",
    "print(tup[-1])\n"
   ],
   "id": "b4bcdf2d762105a4",
   "outputs": [
    {
     "name": "stdout",
     "output_type": "stream",
     "text": [
      "4\n",
      "4\n"
     ]
    }
   ],
   "execution_count": 7
  },
  {
   "metadata": {},
   "cell_type": "markdown",
   "source": "### 列表和元组都支持切片操作：",
   "id": "ed831d2b6f37ba4a"
  },
  {
   "metadata": {
    "ExecuteTime": {
     "end_time": "2024-09-09T08:12:35.720721Z",
     "start_time": "2024-09-09T08:12:35.716750Z"
    }
   },
   "cell_type": "code",
   "source": [
    "l = [1, 2, 3, 4]\n",
    "print(l[1:3] ) # 返回列表中索引从 1 到 2 的子列表\n",
    " \n",
    "tup = (1, 2, 3, 4)\n",
    "tup[1:3] \n"
   ],
   "id": "abfdea676d97203a",
   "outputs": [
    {
     "name": "stdout",
     "output_type": "stream",
     "text": [
      "[2, 3]\n"
     ]
    },
    {
     "data": {
      "text/plain": [
       "(2, 3)"
      ]
     },
     "execution_count": 8,
     "metadata": {},
     "output_type": "execute_result"
    }
   ],
   "execution_count": 8
  },
  {
   "metadata": {},
   "cell_type": "markdown",
   "source": "### 列表和元组都可以随意嵌套：",
   "id": "13d7c6824b1ce6f3"
  },
  {
   "metadata": {
    "ExecuteTime": {
     "end_time": "2024-09-09T08:12:58.819769Z",
     "start_time": "2024-09-09T08:12:58.817164Z"
    }
   },
   "cell_type": "code",
   "source": [
    "l = [[1, 2, 3], [4, 5]] # 列表的每一个元素也是一个列表\n",
    " \n",
    "tup = ((1, 2, 3), (4, 5, 6)) # 元组的每一个元素也是一元组"
   ],
   "id": "585d616a368f9061",
   "outputs": [],
   "execution_count": 9
  },
  {
   "metadata": {},
   "cell_type": "markdown",
   "source": "### 两者也可以通过 list() 和 tuple() 函数相互转换：",
   "id": "8b56b16c7dad2aea"
  },
  {
   "metadata": {
    "ExecuteTime": {
     "end_time": "2024-09-09T08:13:30.298819Z",
     "start_time": "2024-09-09T08:13:30.294701Z"
    }
   },
   "cell_type": "code",
   "source": [
    "print(list((1, 2, 3)))\n",
    "print(tuple([1, 2, 3]))"
   ],
   "id": "9ba2fd0a2438060d",
   "outputs": [
    {
     "name": "stdout",
     "output_type": "stream",
     "text": [
      "[1, 2, 3]\n",
      "(1, 2, 3)\n"
     ]
    }
   ],
   "execution_count": 10
  },
  {
   "metadata": {},
   "cell_type": "markdown",
   "source": "### 列表和元组常用的内置函数：",
   "id": "e579372c0890eeb1"
  },
  {
   "metadata": {
    "ExecuteTime": {
     "end_time": "2024-09-09T08:16:39.114636Z",
     "start_time": "2024-09-09T08:16:39.110495Z"
    }
   },
   "cell_type": "code",
   "source": [
    "l = [3, 2, 3, 7, 8, 1]\n",
    "print(l.count(3))  # 3有几个  = 2\n",
    "print(l.index(7)) #3\n",
    "l.reverse()\n",
    "print(l)\n",
    "l.sort()\n",
    "print(l)\n",
    " \n",
    "tup = (3, 2, 3, 7, 8, 1)\n",
    "print(tup.count(3))\n",
    "print(tup.index(7))\n",
    "print(list(reversed(tup)))\n",
    "print(sorted(tup))"
   ],
   "id": "1169e1b799dcec9a",
   "outputs": [
    {
     "name": "stdout",
     "output_type": "stream",
     "text": [
      "2\n",
      "3\n",
      "[1, 8, 7, 3, 2, 3]\n",
      "[1, 2, 3, 3, 7, 8]\n",
      "2\n",
      "3\n",
      "[1, 8, 7, 3, 2, 3]\n",
      "[1, 2, 3, 3, 7, 8]\n"
     ]
    }
   ],
   "execution_count": 15
  },
  {
   "metadata": {},
   "cell_type": "markdown",
   "source": "### 列表和元组存储方式的差异",
   "id": "7c912b3c00dc9bd7"
  },
  {
   "metadata": {
    "ExecuteTime": {
     "end_time": "2024-09-09T08:17:24.809242Z",
     "start_time": "2024-09-09T08:17:24.806227Z"
    }
   },
   "cell_type": "code",
   "source": [
    "l = [1, 2, 3]\n",
    "print(l.__sizeof__())\n",
    "\n",
    "tup = (1, 2, 3)\n",
    "print(tup.__sizeof__())\n",
    "\n",
    " "
   ],
   "id": "85443a5f854a9e74",
   "outputs": [
    {
     "name": "stdout",
     "output_type": "stream",
     "text": [
      "72\n",
      "48\n"
     ]
    }
   ],
   "execution_count": 16
  },
  {
   "metadata": {
    "ExecuteTime": {
     "end_time": "2024-09-09T09:00:22.182325Z",
     "start_time": "2024-09-09T09:00:10.366271Z"
    }
   },
   "cell_type": "code",
   "source": "%timeit x=(1,2,3,4,5,6)",
   "id": "f844a71e2e3fe0e1",
   "outputs": [
    {
     "name": "stdout",
     "output_type": "stream",
     "text": [
      "14.6 ns ± 0.29 ns per loop (mean ± std. dev. of 7 runs, 100,000,000 loops each)\n"
     ]
    }
   ],
   "execution_count": 17
  },
  {
   "metadata": {
    "ExecuteTime": {
     "end_time": "2024-09-09T09:00:56.332092Z",
     "start_time": "2024-09-09T09:00:52.584240Z"
    }
   },
   "cell_type": "code",
   "source": "%timeit x=[1,2,3,4,5,6]",
   "id": "9cb3f18deb5691ee",
   "outputs": [
    {
     "name": "stdout",
     "output_type": "stream",
     "text": [
      "46.1 ns ± 0.0507 ns per loop (mean ± std. dev. of 7 runs, 10,000,000 loops each)\n"
     ]
    }
   ],
   "execution_count": 18
  },
  {
   "metadata": {},
   "cell_type": "markdown",
   "source": [
    "## 字典、集合，你真的了解吗？\n",
    "\n",
    "Python3.7+ 是有序的 "
   ],
   "id": "8628c5f873fdeee3"
  },
  {
   "metadata": {},
   "cell_type": "markdown",
   "source": "### 字典和集合的创建",
   "id": "5ca474d15262ecc3"
  },
  {
   "metadata": {
    "ExecuteTime": {
     "end_time": "2024-09-09T09:11:46.453102Z",
     "start_time": "2024-09-09T09:11:46.448528Z"
    }
   },
   "cell_type": "code",
   "source": [
    "d1 = {'name': 'jason', 'age': 20, 'gender': 'male'}\n",
    "d2 = dict({'name': 'jason', 'age': 20, 'gender': 'male'})\n",
    "d3 = dict([('name', 'jason'), ('age', 20), ('gender', 'male')])\n",
    "d4 = dict(name='jason', age=20, gender='male') \n",
    "d1 == d2 == d3 ==d4\n"
   ],
   "id": "27983e17e551449c",
   "outputs": [
    {
     "data": {
      "text/plain": [
       "True"
      ]
     },
     "execution_count": 19,
     "metadata": {},
     "output_type": "execute_result"
    }
   ],
   "execution_count": 19
  },
  {
   "metadata": {
    "ExecuteTime": {
     "end_time": "2024-09-09T09:12:06.203463Z",
     "start_time": "2024-09-09T09:12:06.198742Z"
    }
   },
   "cell_type": "code",
   "source": [
    "s1 = {1, 2, 3}\n",
    "s2 = set([1, 2, 3])\n",
    "s1 == s2"
   ],
   "id": "c69565428f9ea1df",
   "outputs": [
    {
     "data": {
      "text/plain": [
       "True"
      ]
     },
     "execution_count": 20,
     "metadata": {},
     "output_type": "execute_result"
    }
   ],
   "execution_count": 20
  },
  {
   "metadata": {
    "ExecuteTime": {
     "end_time": "2024-09-09T09:12:56.525988Z",
     "start_time": "2024-09-09T09:12:56.522715Z"
    }
   },
   "cell_type": "code",
   "source": [
    "d = {'name': 'jason', 'age': 20}\n",
    "\n",
    "print(d.get('location', 'null'))"
   ],
   "id": "c3542193ebd2d96",
   "outputs": [
    {
     "name": "stdout",
     "output_type": "stream",
     "text": [
      "null\n"
     ]
    }
   ],
   "execution_count": 24
  },
  {
   "metadata": {},
   "cell_type": "markdown",
   "source": "### 判断一个元素在不在字典或集合内",
   "id": "65aacf059d3280de"
  },
  {
   "metadata": {
    "ExecuteTime": {
     "end_time": "2024-09-09T09:14:49.296703Z",
     "start_time": "2024-09-09T09:14:49.293638Z"
    }
   },
   "cell_type": "code",
   "source": [
    "s = {1, 2, 3}\n",
    "print(1 in s)\n",
    "print(10 in s)\n",
    " \n",
    "d = {'name': 'jason', 'age': 20}\n",
    "print('name' in d)\n",
    "print('location' in d)\n"
   ],
   "id": "8d1303ac79a6f795",
   "outputs": [
    {
     "name": "stdout",
     "output_type": "stream",
     "text": [
      "True\n",
      "False\n",
      "True\n",
      "False\n"
     ]
    }
   ],
   "execution_count": 25
  },
  {
   "metadata": {},
   "cell_type": "markdown",
   "source": [
    "### 字典和集合也同样支持增加、删除、更新等操作。\n",
    "\n",
    "集合的 pop() 操作是删除集合中最后一个元素，可是集合本身是无序的，你无法知道会删除哪个元素，因此这个操作得谨慎使用。"
   ],
   "id": "21bbf9ac93e479ea"
  },
  {
   "metadata": {
    "ExecuteTime": {
     "end_time": "2024-09-09T09:15:58.604049Z",
     "start_time": "2024-09-09T09:15:58.599821Z"
    }
   },
   "cell_type": "code",
   "source": [
    "d = {'name': 'jason', 'age': 20}\n",
    "d['gender'] = 'male' # 增加元素对'gender': 'male'\n",
    "d['dob'] = '1999-02-01' # 增加元素对'dob': '1999-02-01'\n",
    "print(d)\n",
    "d['dob'] = '1998-01-01' # 更新键'dob'对应的值 \n",
    "d.pop('dob') # 删除键为'dob'的元素对\n",
    "print(d)\n",
    "\n",
    " \n",
    "s = {1, 2, 3}\n",
    "s.add(4) # 增加元素 4 到集合\n",
    "print(s)\n",
    "s.remove(4) # 从集合中删除元素 4\n",
    "print(s)"
   ],
   "id": "38076c5d6dd0e711",
   "outputs": [
    {
     "name": "stdout",
     "output_type": "stream",
     "text": [
      "{'name': 'jason', 'age': 20, 'gender': 'male', 'dob': '1999-02-01'}\n",
      "{'name': 'jason', 'age': 20, 'gender': 'male'}\n",
      "{1, 2, 3, 4}\n",
      "{1, 2, 3}\n"
     ]
    }
   ],
   "execution_count": 26
  },
  {
   "metadata": {
    "ExecuteTime": {
     "end_time": "2024-09-09T09:18:05.316583Z",
     "start_time": "2024-09-09T09:18:05.313952Z"
    }
   },
   "cell_type": "code",
   "source": [
    "d = {'b': 1, 'a': 2, 'c': 10}\n",
    "print(d.items())"
   ],
   "id": "dea0096fed61e5aa",
   "outputs": [
    {
     "name": "stdout",
     "output_type": "stream",
     "text": [
      "dict_items([('b', 1), ('a', 2), ('c', 10)])\n"
     ]
    }
   ],
   "execution_count": 27
  },
  {
   "metadata": {},
   "cell_type": "markdown",
   "source": "### 字典，我们通常会根据键或值，进行升序或降序排序：",
   "id": "29d680df2a1d2963"
  },
  {
   "metadata": {
    "ExecuteTime": {
     "end_time": "2024-09-09T09:19:15.576605Z",
     "start_time": "2024-09-09T09:19:15.572479Z"
    }
   },
   "cell_type": "code",
   "source": [
    "d_sorted_by_key = sorted(d.items(), key=lambda x: x[0]) # 根据字典键的升序排序\n",
    "d_sorted_by_value = sorted(d.items(), key=lambda x: x[1]) # 根据字典值的升序排序\n",
    "print(d_sorted_by_key)\n",
    "print(d_sorted_by_value)"
   ],
   "id": "2beb476bf69024c8",
   "outputs": [
    {
     "name": "stdout",
     "output_type": "stream",
     "text": [
      "[('a', 2), ('b', 1), ('c', 10)]\n",
      "[('b', 1), ('a', 2), ('c', 10)]\n"
     ]
    }
   ],
   "execution_count": 28
  },
  {
   "metadata": {},
   "cell_type": "markdown",
   "source": [
    "### 集合排序\n",
    "\n"
   ],
   "id": "296a57eb869f9950"
  },
  {
   "metadata": {
    "ExecuteTime": {
     "end_time": "2024-09-09T09:20:12.670909Z",
     "start_time": "2024-09-09T09:20:12.668082Z"
    }
   },
   "cell_type": "code",
   "source": [
    "s = {3, 4, 2, 1}\n",
    "sorted(s) # 对集合的元素进行升序排序\n",
    "print(s)"
   ],
   "id": "589a409df75efd33",
   "outputs": [
    {
     "name": "stdout",
     "output_type": "stream",
     "text": [
      "{1, 2, 3, 4}\n"
     ]
    }
   ],
   "execution_count": 29
  },
  {
   "metadata": {},
   "cell_type": "markdown",
   "source": "## 深入浅出字符串",
   "id": "54c7c5c0aff69b47"
  },
  {
   "metadata": {
    "ExecuteTime": {
     "end_time": "2024-09-09T09:30:44.089101Z",
     "start_time": "2024-09-09T09:30:44.081204Z"
    }
   },
   "cell_type": "code",
   "source": [
    "s1 = 'hello'\n",
    "s2 = \"hello\"\n",
    "s3 = \"\"\"hello\"\"\"\n",
    "s1 == s2 == s3\n"
   ],
   "id": "557c364a99ec3f7",
   "outputs": [
    {
     "data": {
      "text/plain": [
       "True"
      ]
     },
     "execution_count": 30,
     "metadata": {},
     "output_type": "execute_result"
    }
   ],
   "execution_count": 30
  },
  {
   "metadata": {
    "ExecuteTime": {
     "end_time": "2024-09-09T09:33:50.351095Z",
     "start_time": "2024-09-09T09:33:50.347351Z"
    }
   },
   "cell_type": "code",
   "source": [
    "name = 'jason'\n",
    "print(name[0])\n",
    "name[1:3]\n"
   ],
   "id": "d81c1349aa27f7ed",
   "outputs": [
    {
     "name": "stdout",
     "output_type": "stream",
     "text": [
      "j\n"
     ]
    },
    {
     "data": {
      "text/plain": [
       "'as'"
      ]
     },
     "execution_count": 31,
     "metadata": {},
     "output_type": "execute_result"
    }
   ],
   "execution_count": 31
  },
  {
   "metadata": {
    "ExecuteTime": {
     "end_time": "2024-09-09T09:34:01.420241Z",
     "start_time": "2024-09-09T09:34:01.417538Z"
    }
   },
   "cell_type": "code",
   "source": [
    "for char in name:\n",
    "    print(char)  "
   ],
   "id": "62e1fbf6b2f65624",
   "outputs": [
    {
     "name": "stdout",
     "output_type": "stream",
     "text": [
      "j\n",
      "a\n",
      "s\n",
      "o\n",
      "n\n"
     ]
    }
   ],
   "execution_count": 32
  },
  {
   "metadata": {
    "ExecuteTime": {
     "end_time": "2024-09-09T09:35:09.613755Z",
     "start_time": "2024-09-09T09:35:09.610083Z"
    }
   },
   "cell_type": "code",
   "source": [
    "s = ''\n",
    "for n in range(0, 100):\n",
    "    s += str(n)\n",
    "\n",
    "print(s)"
   ],
   "id": "9afbe3fb938eff4b",
   "outputs": [
    {
     "name": "stdout",
     "output_type": "stream",
     "text": [
      "0123456789101112131415161718192021222324252627282930313233343536373839404142434445464748495051525354555657585960616263646566676869707172737475767778798081828384858687888990919293949596979899\n"
     ]
    }
   ],
   "execution_count": 36
  },
  {
   "metadata": {
    "ExecuteTime": {
     "end_time": "2024-09-09T09:36:41.282774Z",
     "start_time": "2024-09-09T09:36:41.280175Z"
    }
   },
   "cell_type": "code",
   "source": [
    "path = 'hive://ads/training_table'\n",
    "namespace = path.split('//')[1].split('/')[0] # 返回'ads'\n",
    "table = path.split('//')[1].split('/')[1] # 返回 'training_table'"
   ],
   "id": "28972903d561eb73",
   "outputs": [],
   "execution_count": 37
  },
  {
   "metadata": {
    "ExecuteTime": {
     "end_time": "2024-09-09T09:37:06.605216Z",
     "start_time": "2024-09-09T09:37:06.595671Z"
    }
   },
   "cell_type": "code",
   "source": [
    "s = ' my name is jason '\n",
    "s.strip()"
   ],
   "id": "22c866443350a7f4",
   "outputs": [
    {
     "data": {
      "text/plain": [
       "'my name is jason'"
      ]
     },
     "execution_count": 39,
     "metadata": {},
     "output_type": "execute_result"
    }
   ],
   "execution_count": 39
  },
  {
   "metadata": {},
   "cell_type": "markdown",
   "source": "### string.format() 是最新的字符串格式函数与规范",
   "id": "d3fb7147d740795b"
  },
  {
   "metadata": {
    "ExecuteTime": {
     "end_time": "2024-09-09T09:37:39.547916Z",
     "start_time": "2024-09-09T09:37:39.545358Z"
    }
   },
   "cell_type": "code",
   "source": [
    "id=1\n",
    "print('no data available for person with id: {}, name: {}'.format(id, name))\n"
   ],
   "id": "af84d5504a7af364",
   "outputs": [
    {
     "name": "stdout",
     "output_type": "stream",
     "text": [
      "no data available for person with id: 1, name: jason\n"
     ]
    }
   ],
   "execution_count": 41
  },
  {
   "metadata": {
    "ExecuteTime": {
     "end_time": "2024-09-09T09:38:50.648090Z",
     "start_time": "2024-09-09T09:38:50.645201Z"
    }
   },
   "cell_type": "code",
   "source": "print('no data available for person with id: %s, name: %s' % (id, name))",
   "id": "6f46adac397fc552",
   "outputs": [
    {
     "name": "stdout",
     "output_type": "stream",
     "text": [
      "no data available for person with id: 1, name: jason\n"
     ]
    }
   ],
   "execution_count": 44
  },
  {
   "metadata": {},
   "cell_type": "markdown",
   "source": "### 由浅及深讲讲 Python 的输入和输出",
   "id": "7d6ed5a02e9e6e07"
  },
  {
   "metadata": {
    "ExecuteTime": {
     "end_time": "2024-09-10T03:38:20.092459Z",
     "start_time": "2024-09-10T03:38:11.741527Z"
    }
   },
   "cell_type": "code",
   "source": [
    "name = input('your name:')\n",
    "gender = input('you are a boy?(y/n)')\n",
    "\n",
    "welcome_str = 'Welcome to the matrix {prefix} {name}.'\n",
    "welcome_dic = {\n",
    "    'prefix': 'Mr.' if gender == 'y' else 'Mrs',\n",
    "    'name': name\n",
    "}\n",
    " \n",
    "print('authorizing...')\n",
    "print(welcome_str.format(**welcome_dic))"
   ],
   "id": "1616b3dc0bd98959",
   "outputs": [
    {
     "name": "stdout",
     "output_type": "stream",
     "text": [
      "authorizing...\n",
      "Welcome to the matrix Mr. mao.\n"
     ]
    }
   ],
   "execution_count": 45
  },
  {
   "metadata": {},
   "cell_type": "markdown",
   "source": "## 文件输入输出\n",
   "id": "49b24a18aebdcd69"
  },
  {
   "metadata": {},
   "cell_type": "markdown",
   "source": [
    "### JSON 序列化与实战\n",
    "\n",
    "json.dumps() 这个函数，接受 Python 的基本数据类型，然后将其序列化为 string；\n",
    "\n",
    "而 json.loads() 这个函数，接受一个合法字符串，然后将其反序列化为 Python 的基本数据类型。\n"
   ],
   "id": "c94297c5e62be2c5"
  },
  {
   "metadata": {
    "ExecuteTime": {
     "end_time": "2024-09-10T03:43:41.836748Z",
     "start_time": "2024-09-10T03:43:41.832772Z"
    }
   },
   "cell_type": "code",
   "source": [
    "import json \n",
    "params = {\n",
    "    'symbol': '123456',\n",
    "    'type': 'limit',\n",
    "    'price': 123.4,\n",
    "    'amount': 23\n",
    "}\n",
    " \n",
    "params_str = json.dumps(params)\n",
    " \n",
    "print('after json serialization')\n",
    "print('type of params_str = {}, params_str = {}'.format(type(params_str), params))\n",
    " \n",
    "original_params = json.loads(params_str)\n",
    " \n",
    "print('after json deserialization')\n",
    "print('type of original_params = {}, original_params = {}'.format(type(original_params), original_params))"
   ],
   "id": "f4fd946deedb6fe",
   "outputs": [
    {
     "name": "stdout",
     "output_type": "stream",
     "text": [
      "after json serialization\n",
      "type of params_str = <class 'str'>, params_str = {'symbol': '123456', 'type': 'limit', 'price': 123.4, 'amount': 23}\n",
      "after json deserialization\n",
      "type of original_params = <class 'dict'>, original_params = {'symbol': '123456', 'type': 'limit', 'price': 123.4, 'amount': 23}\n"
     ]
    }
   ],
   "execution_count": 47
  },
  {
   "metadata": {},
   "cell_type": "markdown",
   "source": [
    "## 条件与循环\n",
    "\n",
    "在 for 循环中，如果需要同时访问索引和元素，你可以使用 enumerate() 函数来简化代码。\n",
    "\n"
   ],
   "id": "6c03649ddf4bd654"
  },
  {
   "metadata": {
    "ExecuteTime": {
     "end_time": "2024-09-10T03:58:08.837402Z",
     "start_time": "2024-09-10T03:58:08.833533Z"
    }
   },
   "cell_type": "code",
   "source": [
    "d = {'name': 'jason', 'dob': '2000-01-01', 'gender': 'male'}\n",
    "for k in d: # 遍历字典的键\n",
    "    print(k)\n",
    "\n",
    "print(d.values())\n",
    "\n",
    "for v in d.values(): # 遍历字典的值\n",
    "    print(type(v))\n",
    "    print(v)"
   ],
   "id": "7d811c0840f983b0",
   "outputs": [
    {
     "name": "stdout",
     "output_type": "stream",
     "text": [
      "name\n",
      "dob\n",
      "gender\n",
      "dict_values(['jason', '2000-01-01', 'male'])\n",
      "<class 'str'>\n",
      "jason\n",
      "<class 'str'>\n",
      "2000-01-01\n",
      "<class 'str'>\n",
      "male\n"
     ]
    }
   ],
   "execution_count": 52
  },
  {
   "metadata": {},
   "cell_type": "markdown",
   "source": "###  range() 这个函数，拿到索引，再去遍历访问集合中的元素",
   "id": "7bb8f5b46e1cbfe9"
  },
  {
   "metadata": {
    "ExecuteTime": {
     "end_time": "2024-09-10T03:57:45.098098Z",
     "start_time": "2024-09-10T03:57:45.094984Z"
    }
   },
   "cell_type": "code",
   "source": [
    "l = [1, 2, 3, 4, 5, 6, 7]\n",
    "for index in range(0, len(l)):\n",
    "    if index < 5:\n",
    "        print(l[index])    "
   ],
   "id": "9470c5428d59aa0a",
   "outputs": [
    {
     "name": "stdout",
     "output_type": "stream",
     "text": [
      "1\n",
      "2\n",
      "3\n",
      "4\n",
      "5\n"
     ]
    }
   ],
   "execution_count": 51
  },
  {
   "metadata": {
    "ExecuteTime": {
     "end_time": "2024-09-10T04:00:52.529185Z",
     "start_time": "2024-09-10T04:00:52.526403Z"
    }
   },
   "cell_type": "code",
   "source": [
    "l = [1, 2, 3, 4]\n",
    "index = 0\n",
    "while index < len(l):\n",
    "    print(l[index])\n",
    "    index += 1"
   ],
   "id": "d4655dd53b64b99e",
   "outputs": [
    {
     "name": "stdout",
     "output_type": "stream",
     "text": [
      "1\n",
      "2\n",
      "3\n",
      "4\n"
     ]
    }
   ],
   "execution_count": 53
  },
  {
   "metadata": {},
   "cell_type": "markdown",
   "source": [
    "for item in iterable:\n",
    "    if condition:\n",
    "        expression1\n",
    "    else:\n",
    "        expression2\n",
    "\n",
    "\n",
    "expression for item in iterable if condition\n"
   ],
   "id": "9c88abf15b5739dd"
  },
  {
   "metadata": {},
   "cell_type": "markdown",
   "source": [
    "绘制 y = 2*|x| + 5 \n",
    "\n",
    "y = [value * 2 + 5 if value > 0 else -value * 2 + 5 for value in x]\n"
   ],
   "id": "ce651227cf145293"
  },
  {
   "metadata": {},
   "cell_type": "markdown",
   "source": [
    "这样的复用并不仅仅局限于一个循环。比如，给定两个列表 x、y，要求返回 x、y 中所有元素对组成的元祖，相等情况除外。那么，你也可以很容易表示出来：\n",
    "\n",
    "```text\n",
    "[(xx, yy) for xx in x for yy in y if xx != yy]\n",
    "\n",
    "l = []\n",
    "for xx in x:\n",
    "    for yy in y:\n",
    "        if xx != yy:\n",
    "            l.append((xx, yy))\n",
    "```\n",
    "\n"
   ],
   "id": "91eec77d582fb586"
  },
  {
   "metadata": {
    "ExecuteTime": {
     "end_time": "2024-09-10T05:33:49.063925Z",
     "start_time": "2024-09-10T05:33:49.056559Z"
    }
   },
   "cell_type": "code",
   "source": [
    "attributes = ['name', 'dob', 'gender']\n",
    "values = [['jason', '2000-01-01', 'male'], \n",
    "['mike', '1999-01-01', 'male'],\n",
    "['nancy', '2001-02-01', 'female']\n",
    "]\n",
    "\n",
    "[dict(zip(attributes, value)) for value in values]\n"
   ],
   "id": "a040737e37e76b08",
   "outputs": [
    {
     "data": {
      "text/plain": [
       "[{'name': 'jason', 'dob': '2000-01-01', 'gender': 'male'},\n",
       " {'name': 'mike', 'dob': '1999-01-01', 'gender': 'male'},\n",
       " {'name': 'nancy', 'dob': '2001-02-01', 'gender': 'female'}]"
      ]
     },
     "execution_count": 54,
     "metadata": {},
     "output_type": "execute_result"
    }
   ],
   "execution_count": 54
  },
  {
   "metadata": {},
   "cell_type": "markdown",
   "source": "## 异常处理：如何提高程序的稳定性？",
   "id": "f5b17683a72d49f1"
  },
  {
   "metadata": {},
   "cell_type": "code",
   "outputs": [],
   "execution_count": null,
   "source": [
    "try:\n",
    "    s = input('please enter two numbers separated by comma: ')\n",
    "    num1 = int(s.split(',')[0].strip())\n",
    "    num2 = int(s.split(',')[1].strip())\n",
    "    ...\n",
    "except (ValueError, IndexError) as err:\n",
    "    print('Error: {}'.format(err))"
   ],
   "id": "9deaeb3d7ed03dec"
  },
  {
   "metadata": {},
   "cell_type": "code",
   "outputs": [],
   "execution_count": null,
   "source": [
    "try:\n",
    "    s = input('please enter two numbers separated by comma: ')\n",
    "    num1 = int(s.split(',')[0].strip())\n",
    "    num2 = int(s.split(',')[1].strip())\n",
    "    ...\n",
    "except ValueError as err:\n",
    "    print('Value Error: {}'.format(err))\n",
    "except IndexError as err:\n",
    "    print('Index Error: {}'.format(err))\n",
    "# Exception 是保底的\n",
    "except Exception as err:\n",
    "    print('Other error: {}'.format(err))"
   ],
   "id": "2928d10b048fd20f"
  },
  {
   "metadata": {},
   "cell_type": "markdown",
   "source": [
    "异常处理中，还有一个很常见的用法是 finally，经常和 try、except 放在一起来用。无论发生什么情况，finally block 中的语句都会被执行，哪怕前面的 try 和 excep block 中使用了 return 语句。\n",
    "\n",
    "一个常见的应用场景，便是文件的读取："
   ],
   "id": "e202f5b0c8e7b4fa"
  },
  {
   "metadata": {},
   "cell_type": "code",
   "outputs": [],
   "execution_count": null,
   "source": [
    "import sys\n",
    "try:\n",
    "    f = open('file.txt', 'r')\n",
    "   # .... # some data processing\n",
    "except OSError as err:\n",
    "    print('OS error: {}'.format(err))\n",
    "except:\n",
    "    print('Unexpected error:', sys.exc_info()[0])\n",
    "finally:\n",
    "    f.close()"
   ],
   "id": "5d23752da120f6e8"
  },
  {
   "metadata": {},
   "cell_type": "markdown",
   "source": "### 用户自定义异常\n",
   "id": "bc4f6e00487fd1b5"
  },
  {
   "metadata": {
    "ExecuteTime": {
     "end_time": "2024-09-10T06:20:13.420091Z",
     "start_time": "2024-09-10T06:20:13.412648Z"
    }
   },
   "cell_type": "code",
   "source": [
    "class MyInputError(Exception):\n",
    "    \"\"\"Exception raised when there're errors in input\"\"\"\n",
    "    def __init__(self, value): # 自定义异常类型的初始化\n",
    "        self.value = value\n",
    "    def __str__(self): # 自定义异常类型的 string 表达形式\n",
    "        return (\"{} is invalid input\".format(repr(self.value)))\n",
    "    \n",
    "try:\n",
    "    raise MyInputError(1) # 抛出 MyInputError 这个异常\n",
    "except MyInputError as err:\n",
    "    print('error: {}'.format(err))"
   ],
   "id": "341e4c2da7b4d647",
   "outputs": [
    {
     "name": "stdout",
     "output_type": "stream",
     "text": [
      "error: 1 is invalid input\n"
     ]
    }
   ],
   "execution_count": 55
  },
  {
   "metadata": {},
   "cell_type": "markdown",
   "source": [
    "## 不可或缺的自定义函数\n",
    "\n",
    "```text\n",
    "def name(param1, param2, ..., paramN):\n",
    "    statements\n",
    "    return/yield value # optional\n",
    "```\n"
   ],
   "id": "f637a90a4ec0a978"
  },
  {
   "metadata": {},
   "cell_type": "markdown",
   "source": [
    "但是，如果我们在函数内部调用其他函数，函数间哪个声明在前、哪个在后就无所谓，因为 def 是可执行语句，函数在调用之前都不存在，我们只需保证调用时，所需的函数都已经声明定义：\n",
    "\n",
    "函数的声明顺序很重要"
   ],
   "id": "db11ab43ef73e4c"
  },
  {
   "metadata": {
    "ExecuteTime": {
     "end_time": "2024-09-10T06:35:38.449329Z",
     "start_time": "2024-09-10T06:35:38.428937Z"
    }
   },
   "cell_type": "code",
   "source": [
    "my_func('hello world')\n",
    "def my_func(message):\n",
    "    print('Got a message: {}'.format(message))\n",
    "    \n",
    "# 输出\n",
    "# NameError: name 'my_func' is not defined"
   ],
   "id": "d6fcbca8ae048557",
   "outputs": [
    {
     "ename": "NameError",
     "evalue": "name 'my_func' is not defined",
     "output_type": "error",
     "traceback": [
      "\u001B[0;31m---------------------------------------------------------------------------\u001B[0m",
      "\u001B[0;31mNameError\u001B[0m                                 Traceback (most recent call last)",
      "Cell \u001B[0;32mIn[56], line 1\u001B[0m\n\u001B[0;32m----> 1\u001B[0m \u001B[43mmy_func\u001B[49m(\u001B[38;5;124m'\u001B[39m\u001B[38;5;124mhello world\u001B[39m\u001B[38;5;124m'\u001B[39m)\n\u001B[1;32m      2\u001B[0m \u001B[38;5;28;01mdef\u001B[39;00m \u001B[38;5;21mmy_func\u001B[39m(message):\n\u001B[1;32m      3\u001B[0m     \u001B[38;5;28mprint\u001B[39m(\u001B[38;5;124m'\u001B[39m\u001B[38;5;124mGot a message: \u001B[39m\u001B[38;5;132;01m{}\u001B[39;00m\u001B[38;5;124m'\u001B[39m\u001B[38;5;241m.\u001B[39mformat(message))\n",
      "\u001B[0;31mNameError\u001B[0m: name 'my_func' is not defined"
     ]
    }
   ],
   "execution_count": 56
  },
  {
   "metadata": {},
   "cell_type": "markdown",
   "source": "Python 支持函数的嵌套。所谓的函数嵌套，就是指函数里面又有函数",
   "id": "5a6e3b22869e86c7"
  },
  {
   "metadata": {
    "ExecuteTime": {
     "end_time": "2024-09-10T06:35:53.304568Z",
     "start_time": "2024-09-10T06:35:53.300642Z"
    }
   },
   "cell_type": "code",
   "source": [
    "def f1():\n",
    "    print('hello')\n",
    "    def f2():\n",
    "        print('world')\n",
    "    f2()\n",
    "f1()\n",
    " "
   ],
   "id": "a0c33a328cd7e5c3",
   "outputs": [
    {
     "name": "stdout",
     "output_type": "stream",
     "text": [
      "hello\n",
      "world\n"
     ]
    }
   ],
   "execution_count": 57
  },
  {
   "metadata": {},
   "cell_type": "markdown",
   "source": [
    "函数的嵌套，主要有下面两个方面的作用\n",
    "\n",
    "第一，函数的嵌套能够保证内部函数的隐私。内部函数只能被外部函数所调用和访问，不会暴露在全局作用域，因此，如果你的函数内部有一些隐私数据（比如数据库的用户、密码等），不想暴露在外，那你就可以使用函数的的嵌套，将其封装在内部函数中，只通过外部函数来访问。\n",
    "\n",
    "\n",
    "第二，合理的使用函数嵌套，能够提高程序的运行效率"
   ],
   "id": "3d81c0c4e5ac3914"
  },
  {
   "metadata": {
    "ExecuteTime": {
     "end_time": "2024-09-10T06:41:14.361917Z",
     "start_time": "2024-09-10T06:41:14.357925Z"
    }
   },
   "cell_type": "code",
   "source": [
    "def factorial(input):\n",
    "    # validation check\n",
    "    if not isinstance(input, int):\n",
    "        raise Exception('input must be an integer.')\n",
    "    if input < 0:\n",
    "        raise Exception('input must be greater or equal to 0' )\n",
    "    \n",
    "    #  递归的时候  上面验证不用再次执行了\n",
    "    def inner_factorial(input):\n",
    "        if input <= 1:\n",
    "            return 1\n",
    "        return input * inner_factorial(input-1)\n",
    "    return inner_factorial(input)\n",
    " \n",
    " \n",
    "print(factorial(5))"
   ],
   "id": "ddc495c47020f9ac",
   "outputs": [
    {
     "name": "stdout",
     "output_type": "stream",
     "text": [
      "120\n"
     ]
    }
   ],
   "execution_count": 59
  },
  {
   "metadata": {},
   "cell_type": "markdown",
   "source": "### 函数变量作用域\n",
   "id": "669267894d4c16e5"
  },
  {
   "metadata": {
    "ExecuteTime": {
     "end_time": "2024-09-10T06:45:02.823727Z",
     "start_time": "2024-09-10T06:45:02.820192Z"
    }
   },
   "cell_type": "code",
   "source": [
    "MIN_VALUE = 1\n",
    "MAX_VALUE = 10\n",
    "def validation_check(value):\n",
    "# Python 的解释器会默认函数内部的变量为局部变量，但是又发现局部变量 MIN_VALUE 并没有声明，因此就无法执行相关操作。所以，如果我们一定要在函数内部改变全局变量的值，就必须加上 global 这个声明\n",
    "    global MIN_VALUE\n",
    "\n",
    "    MIN_VALUE += 1\n",
    "validation_check(5)\n",
    "print(MIN_VALUE)"
   ],
   "id": "a1a197d748b3fcde",
   "outputs": [
    {
     "name": "stdout",
     "output_type": "stream",
     "text": [
      "2\n"
     ]
    }
   ],
   "execution_count": 61
  },
  {
   "metadata": {},
   "cell_type": "markdown",
   "source": "如果遇到函数内部局部变量和全局变量同名的情况，那么在函数内部，局部变量会覆盖全局变量",
   "id": "81d0e5cdb126b8c3"
  },
  {
   "metadata": {
    "ExecuteTime": {
     "end_time": "2024-09-10T06:45:24.999081Z",
     "start_time": "2024-09-10T06:45:24.996220Z"
    }
   },
   "cell_type": "code",
   "source": [
    "MIN_VALUE = 1\n",
    "MAX_VALUE = 10\n",
    "def validation_check(value):\n",
    "    MIN_VALUE = 3\n",
    "print(MIN_VALUE)"
   ],
   "id": "53c95bf6caee85f8",
   "outputs": [
    {
     "name": "stdout",
     "output_type": "stream",
     "text": [
      "1\n"
     ]
    }
   ],
   "execution_count": 62
  },
  {
   "metadata": {},
   "cell_type": "markdown",
   "source": "对于嵌套函数来说，内部函数可以访问外部函数定义的变量，但是无法修改，若要修改，必须加上 nonlocal 这个关键字",
   "id": "92028404a9f4b639"
  },
  {
   "metadata": {
    "ExecuteTime": {
     "end_time": "2024-09-10T06:47:01.845174Z",
     "start_time": "2024-09-10T06:47:01.842282Z"
    }
   },
   "cell_type": "code",
   "source": [
    "def outer():\n",
    "    x = \"local\"\n",
    "    def inner():\n",
    "        nonlocal x # nonlocal 关键字表示这里的 x 就是外部函数 outer 定义的变量 x\n",
    "        x = 'nonlocal'\n",
    "        print(\"inner:\", x)\n",
    "    inner()\n",
    "    print(\"outer:\", x)\n",
    "outer()"
   ],
   "id": "14445dddba300228",
   "outputs": [
    {
     "name": "stdout",
     "output_type": "stream",
     "text": [
      "inner: nonlocal\n",
      "outer: nonlocal\n"
     ]
    }
   ],
   "execution_count": 64
  },
  {
   "metadata": {},
   "cell_type": "markdown",
   "source": [
    "### 闭包\n",
    "\n",
    "外部函数返回的是一个函数，而不是一个具体的值"
   ],
   "id": "320ff6a6de8a862e"
  },
  {
   "metadata": {
    "ExecuteTime": {
     "end_time": "2024-09-10T06:57:54.984472Z",
     "start_time": "2024-09-10T06:57:54.980934Z"
    }
   },
   "cell_type": "code",
   "source": [
    "def nth_power(exponent):\n",
    "    def exponent_of(base):\n",
    "        return base ** exponent\n",
    "    return exponent_of # 返回值是 exponent_of 函数\n",
    " \n",
    "square = nth_power(2) # 计算一个数的平方\n",
    "cube = nth_power(3) # 计算一个数的立方 \n",
    "print(square(2))  # 计算 2 的平方\n",
    "print(cube(2)) # 计算 2 的立方"
   ],
   "id": "6ca415b6feb36cdb",
   "outputs": [
    {
     "name": "stdout",
     "output_type": "stream",
     "text": [
      "4\n",
      "8\n"
     ]
    }
   ],
   "execution_count": 66
  },
  {
   "metadata": {},
   "cell_type": "markdown",
   "source": "## 简约不简单的匿名函数",
   "id": "166e7e97d15117a"
  },
  {
   "metadata": {},
   "cell_type": "markdown",
   "source": "### 匿名函数基础\n",
   "id": "b01c844c552c0a5a"
  },
  {
   "metadata": {},
   "cell_type": "markdown",
   "source": "lambda argument1, argument2,... argumentN : expression\n",
   "id": "d1d83d84962045be"
  },
  {
   "metadata": {
    "ExecuteTime": {
     "end_time": "2024-09-10T07:00:51.618645Z",
     "start_time": "2024-09-10T07:00:51.615103Z"
    }
   },
   "cell_type": "code",
   "source": [
    "square = lambda x: x**2\n",
    "square(3)"
   ],
   "id": "f3770bea6b3829c8",
   "outputs": [
    {
     "data": {
      "text/plain": [
       "9"
      ]
     },
     "execution_count": 67,
     "metadata": {},
     "output_type": "execute_result"
    }
   ],
   "execution_count": 67
  },
  {
   "metadata": {},
   "cell_type": "markdown",
   "source": [
    "第一，lambda 是一个表达式（expression），并不是一个语句（statement）\n",
    "\n",
    "lambda 可以用在一些常规函数 def 不能用的地方，比如，lambda 可以用在列表内部，而常规函数却不能"
   ],
   "id": "fda9139ebaed07ed"
  },
  {
   "metadata": {
    "ExecuteTime": {
     "end_time": "2024-09-10T07:02:25.053149Z",
     "start_time": "2024-09-10T07:02:25.049778Z"
    }
   },
   "cell_type": "code",
   "source": "[(lambda x: x*x)(x) for x in range(10)]\n",
   "id": "e4c4a7a07206b8ea",
   "outputs": [
    {
     "data": {
      "text/plain": [
       "[0, 1, 4, 9, 16, 25, 36, 49, 64, 81]"
      ]
     },
     "execution_count": 68,
     "metadata": {},
     "output_type": "execute_result"
    }
   ],
   "execution_count": 68
  },
  {
   "metadata": {
    "ExecuteTime": {
     "end_time": "2024-09-10T07:05:24.729524Z",
     "start_time": "2024-09-10T07:05:24.726372Z"
    }
   },
   "cell_type": "code",
   "source": [
    "squared = map(lambda x: x**2, [1, 2, 3, 4, 5])\n",
    "print(list(squared))\n"
   ],
   "id": "3c13b3738815f4a2",
   "outputs": [
    {
     "name": "stdout",
     "output_type": "stream",
     "text": [
      "[1, 4, 9, 16, 25]\n"
     ]
    }
   ],
   "execution_count": 71
  },
  {
   "metadata": {},
   "cell_type": "markdown",
   "source": [
    "### 函数式编程\n",
    "\n",
    "所谓函数式编程，是指代码中每一块都是不可变的（immutable），都由纯函数（pure function）的形式组成。这里的纯函数，是指函数本身相互独立、互不影响，对于相同的输入，总会有相同的输出，没有任何副作用。"
   ],
   "id": "ad940fe242d8c4ec"
  },
  {
   "metadata": {},
   "cell_type": "markdown",
   "source": "map()、filter() 和 reduce()，通常结合匿名函数 lambda 一起使用",
   "id": "4d86b19a7b6e74cb"
  },
  {
   "metadata": {
    "ExecuteTime": {
     "end_time": "2024-09-10T07:11:10.143724Z",
     "start_time": "2024-09-10T07:11:10.139699Z"
    }
   },
   "cell_type": "code",
   "source": [
    "l = [1, 2, 3, 4, 5]\n",
    "new_list = map(lambda x: x * 2, l) # [2， 4， 6， 8， 10]\n",
    "print(list(new_list))"
   ],
   "id": "e0f653e9b1b1c77f",
   "outputs": [
    {
     "name": "stdout",
     "output_type": "stream",
     "text": [
      "[2, 4, 6, 8, 10]\n"
     ]
    }
   ],
   "execution_count": 73
  },
  {
   "metadata": {
    "ExecuteTime": {
     "end_time": "2024-09-10T07:12:37.314292Z",
     "start_time": "2024-09-10T07:12:37.311122Z"
    }
   },
   "cell_type": "code",
   "source": [
    "l = [1, 2, 3, 4, 5]\n",
    "new_list = filter(lambda x: x % 2 == 0, l) # [2, 4]\n",
    "print(list(new_list))"
   ],
   "id": "d8694df504b43588",
   "outputs": [
    {
     "name": "stdout",
     "output_type": "stream",
     "text": [
      "[2, 4]\n"
     ]
    }
   ],
   "execution_count": 75
  },
  {
   "metadata": {},
   "cell_type": "markdown",
   "source": [
    "reduce(function, iterable) 函数，它通常用来对一个集合做一些累积操作\n",
    "\n",
    "规定它有两个参数，表示对 iterable 中的每个元素以及上一次调用后的结果，运用 function 进行计算，所以最后返回的是一个单独的数值"
   ],
   "id": "95b223d72a007fb5"
  },
  {
   "metadata": {
    "ExecuteTime": {
     "end_time": "2024-09-10T07:14:40.153116Z",
     "start_time": "2024-09-10T07:14:40.149711Z"
    }
   },
   "cell_type": "code",
   "source": [
    "l = [1, 2, 3, 4, 5]\n",
    "from functools import reduce\n",
    "product = reduce(lambda x, y: x * y, l) # 1*2*3*4*5 = 120\n",
    "print(product)"
   ],
   "id": "a98c0ee5a37bf1c4",
   "outputs": [
    {
     "name": "stdout",
     "output_type": "stream",
     "text": [
      "120\n"
     ]
    }
   ],
   "execution_count": 78
  },
  {
   "metadata": {},
   "cell_type": "markdown",
   "source": "## 面向对象",
   "id": "1ec693b69effd953"
  },
  {
   "metadata": {},
   "cell_type": "code",
   "outputs": [],
   "execution_count": null,
   "source": "",
   "id": "51448b137440b1fd"
  },
  {
   "metadata": {
    "ExecuteTime": {
     "end_time": "2024-09-10T07:29:10.438604Z",
     "start_time": "2024-09-10T07:29:10.431787Z"
    }
   },
   "cell_type": "code",
   "source": [
    "class Document():\n",
    "    \n",
    "    WELCOME_STR = 'Welcome! The context for this book is {}.'\n",
    "    \n",
    "    def __init__(self, title, author, context):\n",
    "        print('init function called')\n",
    "        self.title = title\n",
    "        self.author = author\n",
    "        self.__context = context\n",
    "    \n",
    "    # 类函数\n",
    "    @classmethod\n",
    "    def create_empty_book(cls, title, author):\n",
    "        return cls(title=title, author=author, context='nothing')\n",
    "    \n",
    "    # 成员函数\n",
    "    def get_context_length(self):\n",
    "        return len(self.__context)\n",
    "    \n",
    "    # 静态函数\n",
    "    @staticmethod\n",
    "    def get_welcome(context):\n",
    "        return Document.WELCOME_STR.format(context)\n",
    " \n",
    " \n",
    "empty_book = Document.create_empty_book('What Every Man Thinks About Apart from Sex', 'Professor Sheridan Simove')\n",
    " \n",
    " \n",
    "print(empty_book.get_context_length())\n",
    "print(empty_book.get_welcome('indeed nothing'))\n",
    " "
   ],
   "id": "e79b0be0f303a47",
   "outputs": [
    {
     "name": "stdout",
     "output_type": "stream",
     "text": [
      "init function called\n",
      "7\n",
      "Welcome! The context for this book is indeed nothing.\n"
     ]
    }
   ],
   "execution_count": 79
  },
  {
   "metadata": {
    "ExecuteTime": {
     "end_time": "2024-09-10T07:36:43.683102Z",
     "start_time": "2024-09-10T07:36:43.677381Z"
    }
   },
   "cell_type": "code",
   "source": [
    "class Entity():\n",
    "    def __init__(self, object_type):\n",
    "        print('parent class init called')\n",
    "        self.object_type = object_type\n",
    "    \n",
    "    def get_context_length(self):\n",
    "        raise Exception('get_context_length not implemented')\n",
    "    \n",
    "    def print_title(self):\n",
    "        print(self.title)\n",
    " \n",
    "class Document(Entity):\n",
    "    def __init__(self, title, author, context):\n",
    "        print('Document class init called')\n",
    "        Entity.__init__(self, 'document')\n",
    "        self.title = title\n",
    "        self.author = author\n",
    "        self.__context = context\n",
    "    \n",
    "    def get_context_length(self):\n",
    "        return len(self.__context)\n",
    "    \n",
    "class Video(Entity):\n",
    "    def __init__(self, title, author, video_length):\n",
    "        print('Video class init called')\n",
    "        Entity.__init__(self, 'video')\n",
    "        self.title = title\n",
    "        self.author = author\n",
    "        self.__video_length = video_length\n",
    "    \n",
    "    def get_context_length(self):\n",
    "        return self.__video_length\n",
    " \n",
    "harry_potter_book = Document('Harry Potter(Book)', 'J. K. Rowling', '... Forever Do not believe any thing is capable of thinking independently ...')\n",
    "harry_potter_movie = Video('Harry Potter(Movie)', 'J. K. Rowling', 120)\n",
    " \n",
    "print(harry_potter_book.object_type)\n",
    "print(harry_potter_movie.object_type)\n",
    " \n",
    "harry_potter_book.print_title()\n",
    "harry_potter_movie.print_title()\n",
    " \n",
    "print(harry_potter_book.get_context_length())\n",
    "print(harry_potter_movie.get_context_length())"
   ],
   "id": "7c20feebda9f7b74",
   "outputs": [
    {
     "name": "stdout",
     "output_type": "stream",
     "text": [
      "Document class init called\n",
      "parent class init called\n",
      "Video class init called\n",
      "parent class init called\n",
      "document\n",
      "video\n",
      "Harry Potter(Book)\n",
      "Harry Potter(Movie)\n",
      "77\n",
      "120\n"
     ]
    }
   ],
   "execution_count": 80
  },
  {
   "metadata": {},
   "cell_type": "markdown",
   "source": [
    "### 抽象类\n",
    "\n",
    "\n",
    "抽象类是一种特殊的类，它生下来就是作为父类存在的，一旦对象化就会报错。同样，抽象函数定义在抽象类之中，子类必须重写该函数才能使用。相应的抽象函数，则是使用装饰器 @abstractmethod 来表示。"
   ],
   "id": "bc6e368d0696a26"
  },
  {
   "metadata": {
    "ExecuteTime": {
     "end_time": "2024-09-10T07:45:33.365778Z",
     "start_time": "2024-09-10T07:45:33.360109Z"
    }
   },
   "cell_type": "code",
   "source": [
    "from abc import ABCMeta, abstractmethod\n",
    " \n",
    "class Entity(metaclass=ABCMeta):\n",
    "    @abstractmethod\n",
    "    def get_title(self):\n",
    "        pass\n",
    " \n",
    "    @abstractmethod\n",
    "    def set_title(self, title):\n",
    "        pass\n",
    " \n",
    "# 继承抽象类，必须实现抽象方法\n",
    "class Document(Entity):\n",
    "    def get_title(self):\n",
    "        return self.title\n",
    "    \n",
    "    def set_title(self, title):\n",
    "        self.title = title\n",
    " \n",
    "document = Document()\n",
    "document.set_title('Harry Potter')\n",
    "print(document.get_title())\n",
    " \n",
    "# entity = Entity()\n",
    " "
   ],
   "id": "b41958a5bb95f5e4",
   "outputs": [
    {
     "name": "stdout",
     "output_type": "stream",
     "text": [
      "Harry Potter\n"
     ]
    }
   ],
   "execution_count": 82
  },
  {
   "metadata": {},
   "cell_type": "markdown",
   "source": [
    "## 模块化\n",
    "\n",
    "```text\n",
    "在 Python 3 规范中，__init__.py 并不是必须的\n",
    "\n",
    "export PYTHONPATH=\"/home/ubuntu/workspace/your_projects\"\n",
    "\n",
    "\n",
    "import 在导入文件的时候，会自动把所有暴露在外面的代码全都执行一遍\n",
    "\n",
    "__name__ 作为 Python 的魔术内置参数，本质上是模块对象的一个属性。我们使用 import 语句时，__name__ 就会被赋值为该模块的名字，自然就不等于 __main__了。\n",
    "\n",
    "\n",
    "记着巧用if __name__ == '__main__'来避开 import 时执行。\n",
    "\n",
    "\n",
    "在大型工程中模块化非常重要，模块的索引要通过绝对路径来做，而绝对路径从程序的根目录开始；\n",
    "\n",
    "\n",
    "\n",
    "from module_name import *，可以直接使用类、函数、变量等\n",
    "\n",
    "import module_name，需module_name.func()\n",
    "\n",
    "\n",
    "模块查找顺序：\n",
    "先内置模块，然后当前目录模块（sys.path 当前目录在第一个） ，然后sys.path 依次查找\n",
    "```\n"
   ],
   "id": "69dc09b20e6f3ab4"
  },
  {
   "metadata": {},
   "cell_type": "code",
   "outputs": [],
   "execution_count": null,
   "source": "",
   "id": "d325a9029530184a"
  }
 ],
 "metadata": {
  "kernelspec": {
   "display_name": "Python 3",
   "language": "python",
   "name": "python3"
  },
  "language_info": {
   "codemirror_mode": {
    "name": "ipython",
    "version": 2
   },
   "file_extension": ".py",
   "mimetype": "text/x-python",
   "name": "python",
   "nbconvert_exporter": "python",
   "pygments_lexer": "ipython2",
   "version": "2.7.6"
  }
 },
 "nbformat": 4,
 "nbformat_minor": 5
}
