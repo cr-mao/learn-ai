{
 "cells": [
  {
   "metadata": {},
   "cell_type": "markdown",
   "source": "## Python对象的比较、拷贝",
   "id": "4577271f8cc064f7"
  },
  {
   "metadata": {},
   "cell_type": "markdown",
   "source": [
    "```text\n",
    "比较操作符'=='表示比较对象间的值是否相等，而'is'表示比较对象的标识是否相等，即它们是否指向同一个内存地址。\n",
    "比较操作符'is'效率优于'=='，因为'is'操作符无法被重载，执行'is'操作只是简单的获取对象的 ID，并进行比较；而'=='操作符则会递归地遍历对象的所有值，并逐一比较。\n",
    "浅拷贝中的元素，是原对象中子对象的引用，因此，如果原对象中的元素是可变的，改变其也会影响拷贝后的对象，存在一定的副作用。\n",
    "深度拷贝则会递归地拷贝原对象中的每一个子对象，因此拷贝后的对象和原对象互不相关。另外，深度拷贝中会维护一个字典，记录已经拷贝的对象及其 ID，来提高效率并防止无限递归的发生。\n",
    "```"
   ],
   "id": "aaf362065d29b1d6"
  },
  {
   "metadata": {},
   "cell_type": "markdown",
   "source": "## 值传递，引用传递or其他，Python里参数是如何传递的",
   "id": "4d55a8bbc36ebdc0"
  },
  {
   "metadata": {},
   "cell_type": "markdown",
   "source": [
    "- 变量的赋值，只是表示让变量指向了某个对象，并不表示拷贝对象给变量；而一个对象，可以被多个变量所指向。\n",
    "- 可变对象（列表，字典，集合等等）的改变，会影响所有指向该对象的变量。\n",
    "- 对于不可变对象（字符串，整型，元祖等等），所有指向该对象的变量的值总是一样的，也不会改变。但是通过某些操作（+= 等等）更新不可变对象的值时，会返回一个新的对象。\n",
    "- 变量可以被删除，但是对象无法被删除。"
   ],
   "id": "5767de5d42946ab9"
  },
  {
   "metadata": {},
   "cell_type": "markdown",
   "source": [
    "### Python 函数的参数传递\n",
    "\n",
    "准确地说，Python 的参数传递是赋值传递 （pass by assignment），或者叫作对象的引用传递（pass by object reference）。Python 里所有的数据类型都是对象，所以参数传递时，只是让新变量与原变量指向相同的对象而已，并不存在值传递或是引用传递一说。\n"
   ],
   "id": "cac1a94b6eab68ab"
  },
  {
   "metadata": {
    "ExecuteTime": {
     "end_time": "2024-09-12T07:51:41.934793Z",
     "start_time": "2024-09-12T07:51:41.925849Z"
    }
   },
   "cell_type": "code",
   "source": [
    "def my_func3(l2):\n",
    "\tl2.append(4)\n",
    " \n",
    "l1 = [1, 2, 3]\n",
    "my_func3(l1)\n",
    "l1\n"
   ],
   "id": "b6c4b7dbaab05b5c",
   "outputs": [
    {
     "data": {
      "text/plain": [
       "[1, 2, 3, 4]"
      ]
     },
     "execution_count": 1,
     "metadata": {},
     "output_type": "execute_result"
    }
   ],
   "execution_count": 1
  },
  {
   "metadata": {},
   "cell_type": "markdown",
   "source": "## 装饰器",
   "id": "f001e42b2957e8e8"
  },
  {
   "metadata": {
    "ExecuteTime": {
     "end_time": "2024-09-12T07:51:41.939512Z",
     "start_time": "2024-09-12T07:51:41.936128Z"
    }
   },
   "cell_type": "code",
   "source": [
    "def my_decorator(func):\n",
    "    def wrapper():\n",
    "        print('wrapper of decorator')\n",
    "        func()\n",
    "    return wrapper\n",
    " \n",
    "def greet():\n",
    "    print('hello world')\n",
    " \n",
    "greet = my_decorator(greet)\n",
    "greet()"
   ],
   "id": "aebb764675bf7002",
   "outputs": [
    {
     "name": "stdout",
     "output_type": "stream",
     "text": [
      "wrapper of decorator\n",
      "hello world\n"
     ]
    }
   ],
   "execution_count": 2
  },
  {
   "metadata": {},
   "cell_type": "markdown",
   "source": "### 简单的装饰器\n",
   "id": "daf1e73d96f24ef7"
  },
  {
   "metadata": {
    "ExecuteTime": {
     "end_time": "2024-09-12T07:55:02.034986Z",
     "start_time": "2024-09-12T07:55:02.031186Z"
    }
   },
   "cell_type": "code",
   "source": [
    "def my_decorator(func):\n",
    "    def wrapper():\n",
    "        print('wrapper of decorator')\n",
    "        func()\n",
    "    return wrapper\n",
    " \n",
    "@my_decorator\n",
    "def greet():\n",
    "    print('hello world')\n",
    "greet()"
   ],
   "id": "97d4186d5b81c377",
   "outputs": [
    {
     "name": "stdout",
     "output_type": "stream",
     "text": [
      "wrapper of decorator\n",
      "hello world\n"
     ]
    }
   ],
   "execution_count": 3
  },
  {
   "metadata": {},
   "cell_type": "markdown",
   "source": "这里的@，我们称之为语法糖，@my_decorator就相当于前面的greet=my_decorator(greet)语句",
   "id": "228e5cdd308d593d"
  },
  {
   "metadata": {},
   "cell_type": "markdown",
   "source": "### 带有参数的装饰器\n",
   "id": "e0b67848daad9a5d"
  },
  {
   "metadata": {
    "ExecuteTime": {
     "end_time": "2024-09-12T08:00:20.529869Z",
     "start_time": "2024-09-12T08:00:20.526276Z"
    }
   },
   "cell_type": "code",
   "source": [
    "# def my_decorator(func):\n",
    "#     def wrapper(message):\n",
    "#         print('wrapper of decorator')\n",
    "#         func(message)\n",
    "#     return wrapper\n",
    "\n",
    "def my_decorator(func):\n",
    "    def wrapper(*args, **kwargs):\n",
    "        print('wrapper of decorator')\n",
    "        func(*args, **kwargs)\n",
    "    return wrapper \n",
    "\n",
    "\n",
    "@my_decorator\n",
    "def greet(message):\n",
    "    print(message)\n",
    " \n",
    " \n",
    "greet('hello world')\n",
    " "
   ],
   "id": "8660cd5d5759eb38",
   "outputs": [
    {
     "name": "stdout",
     "output_type": "stream",
     "text": [
      "wrapper of decorator\n",
      "hello world\n"
     ]
    }
   ],
   "execution_count": 5
  },
  {
   "metadata": {},
   "cell_type": "markdown",
   "source": [
    "### 带有自定义参数的装饰器\n",
    "\n",
    "装饰器可以接受原函数任意类型和数量的参数，除此之外，它还可以接受自己定义的参数\n",
    "\n",
    "下面的num就是自定义参数 "
   ],
   "id": "74b6c0aad37c83b8"
  },
  {
   "metadata": {
    "ExecuteTime": {
     "end_time": "2024-09-12T08:00:47.514795Z",
     "start_time": "2024-09-12T08:00:47.509981Z"
    }
   },
   "cell_type": "code",
   "source": [
    "def repeat(num):\n",
    "    def my_decorator(func):\n",
    "        def wrapper(*args, **kwargs):\n",
    "            for i in range(num):\n",
    "                print('wrapper of decorator')\n",
    "                func(*args, **kwargs)\n",
    "        return wrapper\n",
    "    return my_decorator\n",
    " \n",
    " \n",
    "@repeat(4)\n",
    "def greet(message):\n",
    "    print(message)\n",
    " \n",
    "greet('hello world')"
   ],
   "id": "750cc07c2810df05",
   "outputs": [
    {
     "name": "stdout",
     "output_type": "stream",
     "text": [
      "wrapper of decorator\n",
      "hello world\n",
      "wrapper of decorator\n",
      "hello world\n",
      "wrapper of decorator\n",
      "hello world\n",
      "wrapper of decorator\n",
      "hello world\n"
     ]
    }
   ],
   "execution_count": 6
  },
  {
   "metadata": {},
   "cell_type": "markdown",
   "source": [
    "### 原函数还是原函数吗？\n",
    "\n",
    "greet() 函数被装饰以后，它的元信息变了。元信息告诉我们“它不再是以前的那个 greet() 函数，而是被 wrapper() 函数取代了”。"
   ],
   "id": "c5f4d6adfe474eda"
  },
  {
   "metadata": {
    "ExecuteTime": {
     "end_time": "2024-09-12T08:01:44.987079Z",
     "start_time": "2024-09-12T08:01:44.980600Z"
    }
   },
   "cell_type": "code",
   "source": "greet.__name__",
   "id": "fc6f31c169d0b828",
   "outputs": [
    {
     "data": {
      "text/plain": [
       "'wrapper'"
      ]
     },
     "execution_count": 7,
     "metadata": {},
     "output_type": "execute_result"
    }
   ],
   "execution_count": 7
  },
  {
   "metadata": {
    "ExecuteTime": {
     "end_time": "2024-09-12T08:01:52.857331Z",
     "start_time": "2024-09-12T08:01:52.851469Z"
    }
   },
   "cell_type": "code",
   "source": "help(greet)\n",
   "id": "d06ded0bfed0cc82",
   "outputs": [
    {
     "name": "stdout",
     "output_type": "stream",
     "text": [
      "Help on function wrapper in module __main__:\n",
      "\n",
      "wrapper(*args, **kwargs)\n",
      "\n"
     ]
    }
   ],
   "execution_count": 8
  },
  {
   "metadata": {
    "ExecuteTime": {
     "end_time": "2024-09-12T08:03:25.632200Z",
     "start_time": "2024-09-12T08:03:25.627455Z"
    }
   },
   "cell_type": "code",
   "source": [
    "import functools\n",
    " \n",
    "def my_decorator(func):\n",
    "    # 我们通常使用内置的装饰器@functools.wrap，它会帮助保留原函数的元信息（也就是将原函数的元信息，拷贝到对应的装饰器函数里）。\n",
    "    @functools.wraps(func)\n",
    "    def wrapper(*args, **kwargs):\n",
    "        print('wrapper of decorator')\n",
    "        func(*args, **kwargs)\n",
    "    return wrapper\n",
    "    \n",
    "@my_decorator\n",
    "def greet(message):\n",
    "    print(message)\n",
    " \n",
    "greet.__name__"
   ],
   "id": "d44754a4483573d2",
   "outputs": [
    {
     "data": {
      "text/plain": [
       "'greet'"
      ]
     },
     "execution_count": 9,
     "metadata": {},
     "output_type": "execute_result"
    }
   ],
   "execution_count": 9
  },
  {
   "metadata": {},
   "cell_type": "markdown",
   "source": "### 装饰器的嵌套\n",
   "id": "754ca4abfe70f07c"
  },
  {
   "metadata": {},
   "cell_type": "markdown",
   "source": [
    "```python\n",
    "@decorator1\n",
    "@decorator2\n",
    "@decorator3\n",
    "def func():\n",
    "    ...\n",
    "\n",
    "# 等价这个\n",
    "decorator1(decorator2(decorator3(func)))\n",
    "\n",
    "```"
   ],
   "id": "3eddf028dc0b3ec5"
  },
  {
   "metadata": {
    "ExecuteTime": {
     "end_time": "2024-09-12T09:31:39.271316Z",
     "start_time": "2024-09-12T09:31:39.262215Z"
    }
   },
   "cell_type": "code",
   "source": [
    "import functools\n",
    " \n",
    "def my_decorator1(func):\n",
    "    @functools.wraps(func)\n",
    "    def wrapper(*args, **kwargs):\n",
    "        print('execute decorator1')\n",
    "        func(*args, **kwargs)\n",
    "    return wrapper\n",
    " \n",
    " \n",
    "def my_decorator2(func):\n",
    "    @functools.wraps(func)\n",
    "    def wrapper(*args, **kwargs):\n",
    "        print('execute decorator2')\n",
    "        func(*args, **kwargs)\n",
    "    return wrapper\n",
    " \n",
    " \n",
    "@my_decorator1\n",
    "@my_decorator2\n",
    "def greet(message):\n",
    "    print(message)\n",
    " \n",
    " \n",
    "greet('hello world')\n",
    " "
   ],
   "id": "cf1e054f59ce3c5f",
   "outputs": [
    {
     "name": "stdout",
     "output_type": "stream",
     "text": [
      "execute decorator1\n",
      "execute decorator2\n",
      "hello world\n"
     ]
    }
   ],
   "execution_count": 10
  },
  {
   "metadata": {},
   "cell_type": "markdown",
   "source": "### auth中间件 伪代码",
   "id": "4f5d2a0c968cba3a"
  },
  {
   "metadata": {},
   "cell_type": "markdown",
   "source": [
    "```text\n",
    "import functools\n",
    " \n",
    "def authenticate(func):\n",
    "    @functools.wraps(func)\n",
    "    def wrapper(*args, **kwargs):\n",
    "        request = args[0]\n",
    "        if check_user_logged_in(request): # 如果用户处于登录状态\n",
    "            return func(*args, **kwargs) # 执行函数 post_comment() \n",
    "        else:\n",
    "            raise Exception('Authentication failed')\n",
    "    return wrapper\n",
    "    \n",
    "@authenticate\n",
    "def post_comment(request, ...)\n",
    "    ...\n",
    " \n",
    "```"
   ],
   "id": "c1808d287c269f01"
  },
  {
   "metadata": {},
   "cell_type": "code",
   "outputs": [],
   "execution_count": null,
   "source": "",
   "id": "66eda2eafba3f43e"
  }
 ],
 "metadata": {
  "kernelspec": {
   "display_name": "Python 3",
   "language": "python",
   "name": "python3"
  },
  "language_info": {
   "codemirror_mode": {
    "name": "ipython",
    "version": 2
   },
   "file_extension": ".py",
   "mimetype": "text/x-python",
   "name": "python",
   "nbconvert_exporter": "python",
   "pygments_lexer": "ipython2",
   "version": "2.7.6"
  }
 },
 "nbformat": 4,
 "nbformat_minor": 5
}
