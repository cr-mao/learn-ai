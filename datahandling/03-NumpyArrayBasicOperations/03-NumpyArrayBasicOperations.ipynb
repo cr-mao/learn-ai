{
 "cells": [
  {
   "cell_type": "markdown",
   "metadata": {},
   "source": "##  ``numpy.array`` 基本操作"
  },
  {
   "cell_type": "code",
   "metadata": {
    "collapsed": true,
    "ExecuteTime": {
     "end_time": "2024-08-23T01:50:11.639389Z",
     "start_time": "2024-08-23T01:50:11.557904Z"
    }
   },
   "source": [
    "import numpy as np\n",
    "np.random.seed(0)\n",
    "\n",
    "x = np.arange(10)"
   ],
   "outputs": [],
   "execution_count": 1
  },
  {
   "cell_type": "code",
   "metadata": {
    "ExecuteTime": {
     "end_time": "2024-08-23T01:50:11.744243Z",
     "start_time": "2024-08-23T01:50:11.738059Z"
    }
   },
   "source": [
    "x"
   ],
   "outputs": [
    {
     "data": {
      "text/plain": [
       "array([0, 1, 2, 3, 4, 5, 6, 7, 8, 9])"
      ]
     },
     "execution_count": 2,
     "metadata": {},
     "output_type": "execute_result"
    }
   ],
   "execution_count": 2
  },
  {
   "cell_type": "code",
   "metadata": {
    "collapsed": true,
    "ExecuteTime": {
     "end_time": "2024-08-23T01:50:11.751229Z",
     "start_time": "2024-08-23T01:50:11.749093Z"
    }
   },
   "source": [
    "X = np.arange(15).reshape((3, 5))"
   ],
   "outputs": [],
   "execution_count": 3
  },
  {
   "cell_type": "code",
   "metadata": {
    "ExecuteTime": {
     "end_time": "2024-08-23T01:50:11.768364Z",
     "start_time": "2024-08-23T01:50:11.762109Z"
    }
   },
   "source": [
    "X"
   ],
   "outputs": [
    {
     "data": {
      "text/plain": [
       "array([[ 0,  1,  2,  3,  4],\n",
       "       [ 5,  6,  7,  8,  9],\n",
       "       [10, 11, 12, 13, 14]])"
      ]
     },
     "execution_count": 4,
     "metadata": {},
     "output_type": "execute_result"
    }
   ],
   "execution_count": 4
  },
  {
   "cell_type": "markdown",
   "metadata": {},
   "source": [
    "### ``numpy.array`` 的基本属性"
   ]
  },
  {
   "cell_type": "code",
   "metadata": {
    "ExecuteTime": {
     "end_time": "2024-08-23T01:50:11.808982Z",
     "start_time": "2024-08-23T01:50:11.805376Z"
    }
   },
   "source": [
    "x.ndim"
   ],
   "outputs": [
    {
     "data": {
      "text/plain": [
       "1"
      ]
     },
     "execution_count": 5,
     "metadata": {},
     "output_type": "execute_result"
    }
   ],
   "execution_count": 5
  },
  {
   "cell_type": "code",
   "metadata": {
    "ExecuteTime": {
     "end_time": "2024-08-23T01:50:11.827360Z",
     "start_time": "2024-08-23T01:50:11.823475Z"
    }
   },
   "source": [
    "X.ndim"
   ],
   "outputs": [
    {
     "data": {
      "text/plain": [
       "2"
      ]
     },
     "execution_count": 6,
     "metadata": {},
     "output_type": "execute_result"
    }
   ],
   "execution_count": 6
  },
  {
   "cell_type": "code",
   "metadata": {
    "ExecuteTime": {
     "end_time": "2024-08-23T01:50:11.842747Z",
     "start_time": "2024-08-23T01:50:11.839358Z"
    }
   },
   "source": [
    "x.shape"
   ],
   "outputs": [
    {
     "data": {
      "text/plain": [
       "(10,)"
      ]
     },
     "execution_count": 7,
     "metadata": {},
     "output_type": "execute_result"
    }
   ],
   "execution_count": 7
  },
  {
   "cell_type": "code",
   "metadata": {
    "ExecuteTime": {
     "end_time": "2024-08-23T01:50:11.890107Z",
     "start_time": "2024-08-23T01:50:11.884752Z"
    }
   },
   "source": [
    "X.shape"
   ],
   "outputs": [
    {
     "data": {
      "text/plain": [
       "(3, 5)"
      ]
     },
     "execution_count": 8,
     "metadata": {},
     "output_type": "execute_result"
    }
   ],
   "execution_count": 8
  },
  {
   "cell_type": "code",
   "metadata": {
    "ExecuteTime": {
     "end_time": "2024-08-23T01:50:11.942577Z",
     "start_time": "2024-08-23T01:50:11.939135Z"
    }
   },
   "source": [
    "x.size"
   ],
   "outputs": [
    {
     "data": {
      "text/plain": [
       "10"
      ]
     },
     "execution_count": 9,
     "metadata": {},
     "output_type": "execute_result"
    }
   ],
   "execution_count": 9
  },
  {
   "cell_type": "code",
   "metadata": {
    "ExecuteTime": {
     "end_time": "2024-08-23T01:50:11.964724Z",
     "start_time": "2024-08-23T01:50:11.961067Z"
    }
   },
   "source": [
    "X.size"
   ],
   "outputs": [
    {
     "data": {
      "text/plain": [
       "15"
      ]
     },
     "execution_count": 10,
     "metadata": {},
     "output_type": "execute_result"
    }
   ],
   "execution_count": 10
  },
  {
   "cell_type": "markdown",
   "metadata": {},
   "source": [
    "### ``numpy.array`` 的数据访问\n",
    "\n",
    "方法为：arr1[ start:end ：step]\n",
    "\n",
    "- start 表示开始位置，默认为 0；\n",
    "- end 表示结束位置，默认为最后一个元素的位置 +1；\n",
    "- step 表示步长，即两个元素直接相隔的距离，默认为 1。"
   ]
  },
  {
   "cell_type": "code",
   "metadata": {
    "ExecuteTime": {
     "end_time": "2024-08-23T01:50:11.999998Z",
     "start_time": "2024-08-23T01:50:11.997207Z"
    }
   },
   "source": [
    "x"
   ],
   "outputs": [
    {
     "data": {
      "text/plain": [
       "array([0, 1, 2, 3, 4, 5, 6, 7, 8, 9])"
      ]
     },
     "execution_count": 11,
     "metadata": {},
     "output_type": "execute_result"
    }
   ],
   "execution_count": 11
  },
  {
   "cell_type": "code",
   "metadata": {
    "ExecuteTime": {
     "end_time": "2024-08-23T01:50:12.013654Z",
     "start_time": "2024-08-23T01:50:12.010470Z"
    }
   },
   "source": [
    "x[0]"
   ],
   "outputs": [
    {
     "data": {
      "text/plain": [
       "np.int64(0)"
      ]
     },
     "execution_count": 12,
     "metadata": {},
     "output_type": "execute_result"
    }
   ],
   "execution_count": 12
  },
  {
   "cell_type": "code",
   "metadata": {
    "ExecuteTime": {
     "end_time": "2024-08-23T01:50:12.032137Z",
     "start_time": "2024-08-23T01:50:12.028684Z"
    }
   },
   "source": [
    "x[-1]"
   ],
   "outputs": [
    {
     "data": {
      "text/plain": [
       "np.int64(9)"
      ]
     },
     "execution_count": 13,
     "metadata": {},
     "output_type": "execute_result"
    }
   ],
   "execution_count": 13
  },
  {
   "cell_type": "code",
   "metadata": {
    "ExecuteTime": {
     "end_time": "2024-08-23T01:50:12.069160Z",
     "start_time": "2024-08-23T01:50:12.065881Z"
    }
   },
   "source": [
    "X"
   ],
   "outputs": [
    {
     "data": {
      "text/plain": [
       "array([[ 0,  1,  2,  3,  4],\n",
       "       [ 5,  6,  7,  8,  9],\n",
       "       [10, 11, 12, 13, 14]])"
      ]
     },
     "execution_count": 14,
     "metadata": {},
     "output_type": "execute_result"
    }
   ],
   "execution_count": 14
  },
  {
   "cell_type": "code",
   "metadata": {
    "ExecuteTime": {
     "end_time": "2024-08-23T01:50:12.082478Z",
     "start_time": "2024-08-23T01:50:12.079226Z"
    }
   },
   "source": [
    "X[0][0] # 不建议！"
   ],
   "outputs": [
    {
     "data": {
      "text/plain": [
       "np.int64(0)"
      ]
     },
     "execution_count": 15,
     "metadata": {},
     "output_type": "execute_result"
    }
   ],
   "execution_count": 15
  },
  {
   "metadata": {},
   "cell_type": "markdown",
   "source": [
    "#### 二维数组访问\n",
    "- 方法为：arr2[row，col]，row 表示第几行，col 表示第几列。"
   ]
  },
  {
   "cell_type": "code",
   "metadata": {
    "ExecuteTime": {
     "end_time": "2024-08-23T01:50:12.095944Z",
     "start_time": "2024-08-23T01:50:12.092876Z"
    }
   },
   "source": [
    "X[0, 0]"
   ],
   "outputs": [
    {
     "data": {
      "text/plain": [
       "np.int64(0)"
      ]
     },
     "execution_count": 16,
     "metadata": {},
     "output_type": "execute_result"
    }
   ],
   "execution_count": 16
  },
  {
   "cell_type": "code",
   "metadata": {
    "ExecuteTime": {
     "end_time": "2024-08-23T01:50:12.124828Z",
     "start_time": "2024-08-23T01:50:12.121765Z"
    }
   },
   "source": [
    "X[0, -1]"
   ],
   "outputs": [
    {
     "data": {
      "text/plain": [
       "np.int64(4)"
      ]
     },
     "execution_count": 17,
     "metadata": {},
     "output_type": "execute_result"
    }
   ],
   "execution_count": 17
  },
  {
   "cell_type": "code",
   "metadata": {
    "ExecuteTime": {
     "end_time": "2024-08-23T01:50:12.151140Z",
     "start_time": "2024-08-23T01:50:12.145402Z"
    }
   },
   "source": [
    "x"
   ],
   "outputs": [
    {
     "data": {
      "text/plain": [
       "array([0, 1, 2, 3, 4, 5, 6, 7, 8, 9])"
      ]
     },
     "execution_count": 18,
     "metadata": {},
     "output_type": "execute_result"
    }
   ],
   "execution_count": 18
  },
  {
   "cell_type": "code",
   "metadata": {
    "ExecuteTime": {
     "end_time": "2024-08-23T01:50:12.173196Z",
     "start_time": "2024-08-23T01:50:12.166716Z"
    }
   },
   "source": [
    "x[0:5]"
   ],
   "outputs": [
    {
     "data": {
      "text/plain": [
       "array([0, 1, 2, 3, 4])"
      ]
     },
     "execution_count": 19,
     "metadata": {},
     "output_type": "execute_result"
    }
   ],
   "execution_count": 19
  },
  {
   "cell_type": "code",
   "metadata": {
    "ExecuteTime": {
     "end_time": "2024-08-23T01:50:12.196322Z",
     "start_time": "2024-08-23T01:50:12.193115Z"
    }
   },
   "source": [
    "x[:5]"
   ],
   "outputs": [
    {
     "data": {
      "text/plain": [
       "array([0, 1, 2, 3, 4])"
      ]
     },
     "execution_count": 20,
     "metadata": {},
     "output_type": "execute_result"
    }
   ],
   "execution_count": 20
  },
  {
   "cell_type": "code",
   "metadata": {
    "ExecuteTime": {
     "end_time": "2024-08-23T01:50:12.217647Z",
     "start_time": "2024-08-23T01:50:12.214609Z"
    }
   },
   "source": [
    "x[5:]"
   ],
   "outputs": [
    {
     "data": {
      "text/plain": [
       "array([5, 6, 7, 8, 9])"
      ]
     },
     "execution_count": 21,
     "metadata": {},
     "output_type": "execute_result"
    }
   ],
   "execution_count": 21
  },
  {
   "cell_type": "code",
   "metadata": {
    "ExecuteTime": {
     "end_time": "2024-08-23T01:50:12.247463Z",
     "start_time": "2024-08-23T01:50:12.242506Z"
    }
   },
   "source": [
    "x[4:7]"
   ],
   "outputs": [
    {
     "data": {
      "text/plain": [
       "array([4, 5, 6])"
      ]
     },
     "execution_count": 22,
     "metadata": {},
     "output_type": "execute_result"
    }
   ],
   "execution_count": 22
  },
  {
   "cell_type": "code",
   "metadata": {
    "ExecuteTime": {
     "end_time": "2024-08-23T01:50:12.275476Z",
     "start_time": "2024-08-23T01:50:12.272490Z"
    }
   },
   "source": [
    "x[::2]"
   ],
   "outputs": [
    {
     "data": {
      "text/plain": [
       "array([0, 2, 4, 6, 8])"
      ]
     },
     "execution_count": 23,
     "metadata": {},
     "output_type": "execute_result"
    }
   ],
   "execution_count": 23
  },
  {
   "cell_type": "code",
   "metadata": {
    "ExecuteTime": {
     "end_time": "2024-08-23T01:50:12.309803Z",
     "start_time": "2024-08-23T01:50:12.306344Z"
    }
   },
   "source": [
    "x[1::2]"
   ],
   "outputs": [
    {
     "data": {
      "text/plain": [
       "array([1, 3, 5, 7, 9])"
      ]
     },
     "execution_count": 24,
     "metadata": {},
     "output_type": "execute_result"
    }
   ],
   "execution_count": 24
  },
  {
   "cell_type": "code",
   "metadata": {
    "ExecuteTime": {
     "end_time": "2024-08-23T01:50:12.325357Z",
     "start_time": "2024-08-23T01:50:12.322284Z"
    }
   },
   "source": [
    "x[::-1]"
   ],
   "outputs": [
    {
     "data": {
      "text/plain": [
       "array([9, 8, 7, 6, 5, 4, 3, 2, 1, 0])"
      ]
     },
     "execution_count": 25,
     "metadata": {},
     "output_type": "execute_result"
    }
   ],
   "execution_count": 25
  },
  {
   "cell_type": "code",
   "metadata": {
    "ExecuteTime": {
     "end_time": "2024-08-23T01:50:12.343640Z",
     "start_time": "2024-08-23T01:50:12.340361Z"
    }
   },
   "source": [
    "X"
   ],
   "outputs": [
    {
     "data": {
      "text/plain": [
       "array([[ 0,  1,  2,  3,  4],\n",
       "       [ 5,  6,  7,  8,  9],\n",
       "       [10, 11, 12, 13, 14]])"
      ]
     },
     "execution_count": 26,
     "metadata": {},
     "output_type": "execute_result"
    }
   ],
   "execution_count": 26
  },
  {
   "metadata": {},
   "cell_type": "markdown",
   "source": [
    "#### 二维数组访问 \n",
    "\n",
    "方法为：arr2[[row1,row2,...][col1,col2,...]]\n",
    "\n",
    "访问的是数组（row1，col1）、（row2、col2）、……位置上的元素，这点初次使用者需要多多注意。\n",
    "\n",
    "\n",
    "访问连续的元素\n",
    "\n",
    "方法为：arr2[row_start:row_end：step,col_start:col_end：step]，row_start 表示行的开始位置、row_end 表示行的结束位置、step 表示步长、col_start 表示列的开始位置、col_end 表示列的结束位置。同样开始位置默认为 0，结束位置默认为最后一个元素所在位置 +1，步长默认为 1 且可省略。"
   ]
  },
  {
   "cell_type": "code",
   "metadata": {
    "ExecuteTime": {
     "end_time": "2024-08-23T01:50:12.374219Z",
     "start_time": "2024-08-23T01:50:12.370760Z"
    }
   },
   "source": [
    "X[:2, :3]"
   ],
   "outputs": [
    {
     "data": {
      "text/plain": [
       "array([[0, 1, 2],\n",
       "       [5, 6, 7]])"
      ]
     },
     "execution_count": 27,
     "metadata": {},
     "output_type": "execute_result"
    }
   ],
   "execution_count": 27
  },
  {
   "cell_type": "code",
   "metadata": {
    "ExecuteTime": {
     "end_time": "2024-08-23T01:50:12.391251Z",
     "start_time": "2024-08-23T01:50:12.387750Z"
    }
   },
   "source": [
    "X[:2][:3] # 结果不一样，在numpy中使用\",\"做多维索引"
   ],
   "outputs": [
    {
     "data": {
      "text/plain": [
       "array([[0, 1, 2, 3, 4],\n",
       "       [5, 6, 7, 8, 9]])"
      ]
     },
     "execution_count": 28,
     "metadata": {},
     "output_type": "execute_result"
    }
   ],
   "execution_count": 28
  },
  {
   "cell_type": "code",
   "metadata": {
    "ExecuteTime": {
     "end_time": "2024-08-23T01:50:12.419311Z",
     "start_time": "2024-08-23T01:50:12.415936Z"
    }
   },
   "source": [
    "X[:2, ::2]"
   ],
   "outputs": [
    {
     "data": {
      "text/plain": [
       "array([[0, 2, 4],\n",
       "       [5, 7, 9]])"
      ]
     },
     "execution_count": 29,
     "metadata": {},
     "output_type": "execute_result"
    }
   ],
   "execution_count": 29
  },
  {
   "cell_type": "code",
   "metadata": {
    "ExecuteTime": {
     "end_time": "2024-08-23T01:50:12.447383Z",
     "start_time": "2024-08-23T01:50:12.444100Z"
    }
   },
   "source": [
    "X[::-1, ::-1]"
   ],
   "outputs": [
    {
     "data": {
      "text/plain": [
       "array([[14, 13, 12, 11, 10],\n",
       "       [ 9,  8,  7,  6,  5],\n",
       "       [ 4,  3,  2,  1,  0]])"
      ]
     },
     "execution_count": 30,
     "metadata": {},
     "output_type": "execute_result"
    }
   ],
   "execution_count": 30
  },
  {
   "cell_type": "code",
   "metadata": {
    "ExecuteTime": {
     "end_time": "2024-08-23T01:50:12.473510Z",
     "start_time": "2024-08-23T01:50:12.470116Z"
    }
   },
   "source": [
    "X[0, :]"
   ],
   "outputs": [
    {
     "data": {
      "text/plain": [
       "array([0, 1, 2, 3, 4])"
      ]
     },
     "execution_count": 31,
     "metadata": {},
     "output_type": "execute_result"
    }
   ],
   "execution_count": 31
  },
  {
   "cell_type": "code",
   "metadata": {
    "ExecuteTime": {
     "end_time": "2024-08-23T01:50:12.484708Z",
     "start_time": "2024-08-23T01:50:12.481370Z"
    }
   },
   "source": [
    "X[:, 0]"
   ],
   "outputs": [
    {
     "data": {
      "text/plain": [
       "array([ 0,  5, 10])"
      ]
     },
     "execution_count": 32,
     "metadata": {},
     "output_type": "execute_result"
    }
   ],
   "execution_count": 32
  },
  {
   "cell_type": "markdown",
   "metadata": {},
   "source": [
    "### Subarray of ``numpy.array``"
   ]
  },
  {
   "cell_type": "code",
   "metadata": {
    "ExecuteTime": {
     "end_time": "2024-08-23T01:50:12.502170Z",
     "start_time": "2024-08-23T01:50:12.497622Z"
    }
   },
   "source": [
    "subX = X[:2, :3]\n",
    "subX"
   ],
   "outputs": [
    {
     "data": {
      "text/plain": [
       "array([[0, 1, 2],\n",
       "       [5, 6, 7]])"
      ]
     },
     "execution_count": 33,
     "metadata": {},
     "output_type": "execute_result"
    }
   ],
   "execution_count": 33
  },
  {
   "cell_type": "code",
   "metadata": {
    "ExecuteTime": {
     "end_time": "2024-08-23T01:50:12.548336Z",
     "start_time": "2024-08-23T01:50:12.544765Z"
    }
   },
   "source": [
    "subX[0, 0] = 100\n",
    "subX"
   ],
   "outputs": [
    {
     "data": {
      "text/plain": [
       "array([[100,   1,   2],\n",
       "       [  5,   6,   7]])"
      ]
     },
     "execution_count": 34,
     "metadata": {},
     "output_type": "execute_result"
    }
   ],
   "execution_count": 34
  },
  {
   "cell_type": "code",
   "metadata": {
    "ExecuteTime": {
     "end_time": "2024-08-23T01:50:12.555918Z",
     "start_time": "2024-08-23T01:50:12.552838Z"
    }
   },
   "source": [
    "X"
   ],
   "outputs": [
    {
     "data": {
      "text/plain": [
       "array([[100,   1,   2,   3,   4],\n",
       "       [  5,   6,   7,   8,   9],\n",
       "       [ 10,  11,  12,  13,  14]])"
      ]
     },
     "execution_count": 35,
     "metadata": {},
     "output_type": "execute_result"
    }
   ],
   "execution_count": 35
  },
  {
   "cell_type": "code",
   "metadata": {
    "ExecuteTime": {
     "end_time": "2024-08-23T01:50:12.576622Z",
     "start_time": "2024-08-23T01:50:12.573068Z"
    }
   },
   "source": [
    "X[0, 0] = 0\n",
    "X"
   ],
   "outputs": [
    {
     "data": {
      "text/plain": [
       "array([[ 0,  1,  2,  3,  4],\n",
       "       [ 5,  6,  7,  8,  9],\n",
       "       [10, 11, 12, 13, 14]])"
      ]
     },
     "execution_count": 36,
     "metadata": {},
     "output_type": "execute_result"
    }
   ],
   "execution_count": 36
  },
  {
   "cell_type": "code",
   "metadata": {
    "ExecuteTime": {
     "end_time": "2024-08-23T01:50:12.602848Z",
     "start_time": "2024-08-23T01:50:12.599250Z"
    }
   },
   "source": [
    "subX"
   ],
   "outputs": [
    {
     "data": {
      "text/plain": [
       "array([[0, 1, 2],\n",
       "       [5, 6, 7]])"
      ]
     },
     "execution_count": 37,
     "metadata": {},
     "output_type": "execute_result"
    }
   ],
   "execution_count": 37
  },
  {
   "cell_type": "code",
   "metadata": {
    "collapsed": true,
    "ExecuteTime": {
     "end_time": "2024-08-23T01:50:12.620557Z",
     "start_time": "2024-08-23T01:50:12.617924Z"
    }
   },
   "source": [
    "subX = X[:2, :3].copy()"
   ],
   "outputs": [],
   "execution_count": 38
  },
  {
   "cell_type": "code",
   "metadata": {
    "ExecuteTime": {
     "end_time": "2024-08-23T01:50:12.637843Z",
     "start_time": "2024-08-23T01:50:12.634355Z"
    }
   },
   "source": [
    "subX[0, 0] = 100\n",
    "subX"
   ],
   "outputs": [
    {
     "data": {
      "text/plain": [
       "array([[100,   1,   2],\n",
       "       [  5,   6,   7]])"
      ]
     },
     "execution_count": 39,
     "metadata": {},
     "output_type": "execute_result"
    }
   ],
   "execution_count": 39
  },
  {
   "cell_type": "code",
   "metadata": {
    "ExecuteTime": {
     "end_time": "2024-08-23T01:50:12.663552Z",
     "start_time": "2024-08-23T01:50:12.659652Z"
    }
   },
   "source": [
    "X"
   ],
   "outputs": [
    {
     "data": {
      "text/plain": [
       "array([[ 0,  1,  2,  3,  4],\n",
       "       [ 5,  6,  7,  8,  9],\n",
       "       [10, 11, 12, 13, 14]])"
      ]
     },
     "execution_count": 40,
     "metadata": {},
     "output_type": "execute_result"
    }
   ],
   "execution_count": 40
  },
  {
   "cell_type": "markdown",
   "metadata": {},
   "source": [
    "### Reshape"
   ]
  },
  {
   "cell_type": "code",
   "metadata": {
    "ExecuteTime": {
     "end_time": "2024-08-23T01:50:12.682998Z",
     "start_time": "2024-08-23T01:50:12.679765Z"
    }
   },
   "source": [
    "x.shape"
   ],
   "outputs": [
    {
     "data": {
      "text/plain": [
       "(10,)"
      ]
     },
     "execution_count": 41,
     "metadata": {},
     "output_type": "execute_result"
    }
   ],
   "execution_count": 41
  },
  {
   "cell_type": "code",
   "metadata": {
    "ExecuteTime": {
     "end_time": "2024-08-23T01:50:12.706722Z",
     "start_time": "2024-08-23T01:50:12.703853Z"
    }
   },
   "source": [
    "x.ndim"
   ],
   "outputs": [
    {
     "data": {
      "text/plain": [
       "1"
      ]
     },
     "execution_count": 42,
     "metadata": {},
     "output_type": "execute_result"
    }
   ],
   "execution_count": 42
  },
  {
   "cell_type": "code",
   "metadata": {
    "ExecuteTime": {
     "end_time": "2024-08-23T01:50:12.728861Z",
     "start_time": "2024-08-23T01:50:12.725143Z"
    }
   },
   "source": [
    "x.reshape(2, 5)"
   ],
   "outputs": [
    {
     "data": {
      "text/plain": [
       "array([[0, 1, 2, 3, 4],\n",
       "       [5, 6, 7, 8, 9]])"
      ]
     },
     "execution_count": 43,
     "metadata": {},
     "output_type": "execute_result"
    }
   ],
   "execution_count": 43
  },
  {
   "cell_type": "code",
   "metadata": {
    "ExecuteTime": {
     "end_time": "2024-08-23T01:50:12.751807Z",
     "start_time": "2024-08-23T01:50:12.748505Z"
    }
   },
   "source": [
    "x"
   ],
   "outputs": [
    {
     "data": {
      "text/plain": [
       "array([0, 1, 2, 3, 4, 5, 6, 7, 8, 9])"
      ]
     },
     "execution_count": 44,
     "metadata": {},
     "output_type": "execute_result"
    }
   ],
   "execution_count": 44
  },
  {
   "cell_type": "code",
   "metadata": {
    "ExecuteTime": {
     "end_time": "2024-08-23T01:50:12.774464Z",
     "start_time": "2024-08-23T01:50:12.770934Z"
    }
   },
   "source": [
    "A = x.reshape(2, 5)\n",
    "A"
   ],
   "outputs": [
    {
     "data": {
      "text/plain": [
       "array([[0, 1, 2, 3, 4],\n",
       "       [5, 6, 7, 8, 9]])"
      ]
     },
     "execution_count": 45,
     "metadata": {},
     "output_type": "execute_result"
    }
   ],
   "execution_count": 45
  },
  {
   "cell_type": "code",
   "metadata": {
    "ExecuteTime": {
     "end_time": "2024-08-23T01:50:12.799259Z",
     "start_time": "2024-08-23T01:50:12.795701Z"
    }
   },
   "source": [
    "x"
   ],
   "outputs": [
    {
     "data": {
      "text/plain": [
       "array([0, 1, 2, 3, 4, 5, 6, 7, 8, 9])"
      ]
     },
     "execution_count": 46,
     "metadata": {},
     "output_type": "execute_result"
    }
   ],
   "execution_count": 46
  },
  {
   "cell_type": "code",
   "metadata": {
    "ExecuteTime": {
     "end_time": "2024-08-23T01:50:12.820153Z",
     "start_time": "2024-08-23T01:50:12.816695Z"
    }
   },
   "source": [
    "B = x.reshape(1, 10)\n",
    "B"
   ],
   "outputs": [
    {
     "data": {
      "text/plain": [
       "array([[0, 1, 2, 3, 4, 5, 6, 7, 8, 9]])"
      ]
     },
     "execution_count": 47,
     "metadata": {},
     "output_type": "execute_result"
    }
   ],
   "execution_count": 47
  },
  {
   "cell_type": "code",
   "metadata": {
    "ExecuteTime": {
     "end_time": "2024-08-23T01:50:12.864975Z",
     "start_time": "2024-08-23T01:50:12.859153Z"
    }
   },
   "source": [
    "B.ndim"
   ],
   "outputs": [
    {
     "data": {
      "text/plain": [
       "2"
      ]
     },
     "execution_count": 48,
     "metadata": {},
     "output_type": "execute_result"
    }
   ],
   "execution_count": 48
  },
  {
   "cell_type": "code",
   "metadata": {
    "ExecuteTime": {
     "end_time": "2024-08-23T01:50:12.876498Z",
     "start_time": "2024-08-23T01:50:12.873237Z"
    }
   },
   "source": [
    "B.shape"
   ],
   "outputs": [
    {
     "data": {
      "text/plain": [
       "(1, 10)"
      ]
     },
     "execution_count": 49,
     "metadata": {},
     "output_type": "execute_result"
    }
   ],
   "execution_count": 49
  },
  {
   "cell_type": "code",
   "metadata": {
    "ExecuteTime": {
     "end_time": "2024-08-23T01:50:12.892273Z",
     "start_time": "2024-08-23T01:50:12.888048Z"
    }
   },
   "source": [
    "x.reshape(-1, 10)"
   ],
   "outputs": [
    {
     "data": {
      "text/plain": [
       "array([[0, 1, 2, 3, 4, 5, 6, 7, 8, 9]])"
      ]
     },
     "execution_count": 50,
     "metadata": {},
     "output_type": "execute_result"
    }
   ],
   "execution_count": 50
  },
  {
   "cell_type": "code",
   "metadata": {
    "ExecuteTime": {
     "end_time": "2024-08-23T01:50:12.929352Z",
     "start_time": "2024-08-23T01:50:12.926024Z"
    }
   },
   "source": [
    "x.reshape(10, -1)"
   ],
   "outputs": [
    {
     "data": {
      "text/plain": [
       "array([[0],\n",
       "       [1],\n",
       "       [2],\n",
       "       [3],\n",
       "       [4],\n",
       "       [5],\n",
       "       [6],\n",
       "       [7],\n",
       "       [8],\n",
       "       [9]])"
      ]
     },
     "execution_count": 51,
     "metadata": {},
     "output_type": "execute_result"
    }
   ],
   "execution_count": 51
  },
  {
   "cell_type": "code",
   "metadata": {
    "ExecuteTime": {
     "end_time": "2024-08-23T01:50:12.950217Z",
     "start_time": "2024-08-23T01:50:12.946055Z"
    }
   },
   "source": [
    "x.reshape(2, -1)"
   ],
   "outputs": [
    {
     "data": {
      "text/plain": [
       "array([[0, 1, 2, 3, 4],\n",
       "       [5, 6, 7, 8, 9]])"
      ]
     },
     "execution_count": 52,
     "metadata": {},
     "output_type": "execute_result"
    }
   ],
   "execution_count": 52
  },
  {
   "cell_type": "code",
   "metadata": {
    "ExecuteTime": {
     "end_time": "2024-08-23T01:50:13.153603Z",
     "start_time": "2024-08-23T01:50:12.976623Z"
    }
   },
   "source": [
    "x.reshape(3, -1)"
   ],
   "outputs": [
    {
     "ename": "ValueError",
     "evalue": "cannot reshape array of size 10 into shape (3,newaxis)",
     "output_type": "error",
     "traceback": [
      "\u001B[0;31m---------------------------------------------------------------------------\u001B[0m",
      "\u001B[0;31mValueError\u001B[0m                                Traceback (most recent call last)",
      "Cell \u001B[0;32mIn[53], line 1\u001B[0m\n\u001B[0;32m----> 1\u001B[0m \u001B[43mx\u001B[49m\u001B[38;5;241;43m.\u001B[39;49m\u001B[43mreshape\u001B[49m\u001B[43m(\u001B[49m\u001B[38;5;241;43m3\u001B[39;49m\u001B[43m,\u001B[49m\u001B[43m \u001B[49m\u001B[38;5;241;43m-\u001B[39;49m\u001B[38;5;241;43m1\u001B[39;49m\u001B[43m)\u001B[49m\n",
      "\u001B[0;31mValueError\u001B[0m: cannot reshape array of size 10 into shape (3,newaxis)"
     ]
    }
   ],
   "execution_count": 53
  },
  {
   "metadata": {},
   "cell_type": "markdown",
   "source": [
    "### 三维数组的索引与切片\n",
    "\n",
    "方法为：arr3[dim1，dim2 , dim3]，dim1、dim2、dim3 分别代表三维数组的三个维度的索引。\n",
    "\n",
    "- 方法为：arr2[[row1,row2,...],[col1,col2,...],[high1,high2]]，访问的是数组（row1，col1,high1）、（row2、col2,high2）...位置上的元素。\n",
    "\n"
   ]
  },
  {
   "metadata": {
    "ExecuteTime": {
     "end_time": "2024-08-23T01:50:30.113506Z",
     "start_time": "2024-08-23T01:50:30.108520Z"
    }
   },
   "cell_type": "code",
   "source": [
    "space=np.array([\n",
    "    [[5,4,8],[5,9,2],[4,5,3]],\n",
    "    [[4,9,6],[2,2,5],[4,3,4]],\n",
    "    [[4,2,1],[7,6,3],[4,6,5]]])\n",
    "space[0,0,0]"
   ],
   "outputs": [
    {
     "data": {
      "text/plain": [
       "np.int64(5)"
      ]
     },
     "execution_count": 54,
     "metadata": {},
     "output_type": "execute_result"
    }
   ],
   "execution_count": 54
  },
  {
   "metadata": {},
   "cell_type": "markdown",
   "source": "查询空间坐标为（0，0，0）、（0，1，0），（1，2，2）的子空间的蚊子密度为例，示例如下："
  },
  {
   "metadata": {
    "ExecuteTime": {
     "end_time": "2024-08-23T01:50:30.183062Z",
     "start_time": "2024-08-23T01:50:30.177482Z"
    }
   },
   "cell_type": "code",
   "source": [
    "Space=np.array([\n",
    "    [[5,4,8],[5,9,2],[4,5,3]],\n",
    "    [[4,9,6],[2,2,5],[4,3,4]],\n",
    "    [[4,2,1],[7,6,3],[4,6,5]]])\n",
    "Space[[0,0,1]]"
   ],
   "outputs": [
    {
     "data": {
      "text/plain": [
       "array([[[5, 4, 8],\n",
       "        [5, 9, 2],\n",
       "        [4, 5, 3]],\n",
       "\n",
       "       [[5, 4, 8],\n",
       "        [5, 9, 2],\n",
       "        [4, 5, 3]],\n",
       "\n",
       "       [[4, 9, 6],\n",
       "        [2, 2, 5],\n",
       "        [4, 3, 4]]])"
      ]
     },
     "execution_count": 55,
     "metadata": {},
     "output_type": "execute_result"
    }
   ],
   "execution_count": 55
  },
  {
   "metadata": {
    "ExecuteTime": {
     "end_time": "2024-08-23T01:50:30.190201Z",
     "start_time": "2024-08-23T01:50:30.186341Z"
    }
   },
   "cell_type": "code",
   "source": "Space[[0,0,1],[0,1,2],[0,0,2]]",
   "outputs": [
    {
     "data": {
      "text/plain": [
       "array([5, 5, 4])"
      ]
     },
     "execution_count": 56,
     "metadata": {},
     "output_type": "execute_result"
    }
   ],
   "execution_count": 56
  },
  {
   "metadata": {},
   "cell_type": "markdown",
   "source": "### 索引的高级操作"
  },
  {
   "metadata": {},
   "cell_type": "markdown",
   "source": [
    "布尔索引就是传入一个与数组形状相同的元素值为布尔类型的列表或数组，然后就能索引到列表中 True 的位置相同的元素。\n",
    "\n",
    "- 方法为：arr[bool_list]，其中 bool_list 为布尔类型的列表。"
   ]
  },
  {
   "metadata": {
    "ExecuteTime": {
     "end_time": "2024-08-23T01:50:30.223483Z",
     "start_time": "2024-08-23T01:50:30.218758Z"
    }
   },
   "cell_type": "code",
   "source": [
    "row=['美的','格力','海尔','西门子']\n",
    "data=np.array([[3800,1,15],[4000,8,20],[5000,2,30],[4000,20,50]])\n",
    "bool_list=[False,False,True,False]\n",
    "print(data[bool_list])"
   ],
   "outputs": [
    {
     "name": "stdout",
     "output_type": "stream",
     "text": [
      "[[5000    2   30]]\n"
     ]
    }
   ],
   "execution_count": 57
  },
  {
   "metadata": {},
   "cell_type": "markdown",
   "source": "####  条件索引"
  },
  {
   "metadata": {},
   "cell_type": "markdown",
   "source": [
    "方法为：arr[条件语句]或 numpy.where(条件语句) \n",
    "- 其中第一个方法直接返回符合条件的元素的值，而第二个方法则返回符合条件的元素的位置。"
   ]
  },
  {
   "metadata": {
    "ExecuteTime": {
     "end_time": "2024-08-23T01:50:30.261519Z",
     "start_time": "2024-08-23T01:50:30.257738Z"
    }
   },
   "cell_type": "code",
   "source": [
    "Score2=np.array([69,80,90,40,60,20,90,94,90,99])#学生的成绩\n",
    "con=Score2>60#筛查出分数大于60的分数\n",
    "print('条件的布尔列表',con)\n",
    "print('大于60的学生成绩',Score2[con])#查看大于60分的学生成绩\n",
    "print('大于60的学生数组下标',np.where(Score2>60))"
   ],
   "outputs": [
    {
     "name": "stdout",
     "output_type": "stream",
     "text": [
      "条件的布尔列表 [ True  True  True False False False  True  True  True  True]\n",
      "大于60的学生成绩 [69 80 90 90 94 90 99]\n",
      "大于60的学生数组下标 (array([0, 1, 2, 6, 7, 8, 9]),)\n"
     ]
    }
   ],
   "execution_count": 58
  },
  {
   "metadata": {},
   "cell_type": "markdown",
   "source": [
    "### all \n",
    "\n",
    "all 方法是一个逻辑运算函数，用于检查数组中是否所有元素都满足给定的条件。它返回一个布尔值，如果数组中的所有元素都为 True，则返回 True，否则返回 False。\n",
    "\n",
    "- 方法：all(arr，axis)，arr 为要进行逻辑运算的数组，axis 指定沿哪个轴进行逻辑运算。"
   ]
  },
  {
   "metadata": {
    "ExecuteTime": {
     "end_time": "2024-08-23T01:50:30.283426Z",
     "start_time": "2024-08-23T01:50:30.279977Z"
    }
   },
   "cell_type": "code",
   "source": [
    "import numpy as np\n",
    "Score=np.array([[98,89],[64,90],[60,56],[92,78],[32,45],[48,30]])  \n",
    "Score60=Score>60  \n",
    "# 横向 \n",
    "Score_bool=np.all(Score60,axis=1)  \n",
    "print(Score_bool)  \n",
    "print(Score[Score_bool])"
   ],
   "outputs": [
    {
     "name": "stdout",
     "output_type": "stream",
     "text": [
      "[ True  True False  True False False]\n",
      "[[98 89]\n",
      " [64 90]\n",
      " [92 78]]\n"
     ]
    }
   ],
   "execution_count": 59
  },
  {
   "metadata": {
    "ExecuteTime": {
     "end_time": "2024-08-23T01:50:30.323158Z",
     "start_time": "2024-08-23T01:50:30.319471Z"
    }
   },
   "cell_type": "code",
   "source": [
    "Score=np.array([[98,89],[64,90],[60,56],[92,78],[32,45],[48,30]])  \n",
    "Score60=Score>60  \n",
    "# 每列是否都大于６０ \n",
    "Score_bool=np.all(Score60,axis=0)  \n",
    "print(Score_bool)"
   ],
   "outputs": [
    {
     "name": "stdout",
     "output_type": "stream",
     "text": [
      "[False False]\n"
     ]
    }
   ],
   "execution_count": 60
  },
  {
   "metadata": {},
   "cell_type": "markdown",
   "source": [
    "### Any 方法\n",
    "any 方法用于检查数组中是否至少有一个元素满足给定的条件。它返回一个布尔值，如果数组中存在至少一个元素为 True，则返回 True，否则返回 False。\n",
    "\n",
    "- 方法：any(arr，axis)，arr 为要进行逻辑运算的数组，axis 指定沿哪个轴进行逻辑运算。\n",
    "\n"
   ]
  },
  {
   "metadata": {},
   "cell_type": "markdown",
   "source": [
    "### where 方法\n",
    "where() 方法是一个条件选择函数，它根据给定的条件返回数组中满足条件的元素的索引。\n",
    "\n",
    "- 方法：where(condition,x,y)，condition 为用于筛选的条件；x 用于替换条件数组中满足条件的元素，如果未提供该参数，则满足条件的元素将被保留在结果数组中；y 用于替换条件数组中不满足条件的元素，如果未提供该参数，则不符合条件的元素将被保留在结果数组中。"
   ]
  },
  {
   "metadata": {
    "ExecuteTime": {
     "end_time": "2024-08-23T01:50:30.344277Z",
     "start_time": "2024-08-23T01:50:30.341Z"
    }
   },
   "cell_type": "code",
   "source": [
    "Score_math=np.array([98,64,60,92,32,48])  \n",
    "print(np.where(Score_math>60))"
   ],
   "outputs": [
    {
     "name": "stdout",
     "output_type": "stream",
     "text": [
      "(array([0, 1, 3]),)\n"
     ]
    }
   ],
   "execution_count": 61
  },
  {
   "metadata": {
    "ExecuteTime": {
     "end_time": "2024-08-23T01:50:30.390630Z",
     "start_time": "2024-08-23T01:50:30.387789Z"
    }
   },
   "cell_type": "code",
   "source": "print(np.where(Score>60,1,0))",
   "outputs": [
    {
     "name": "stdout",
     "output_type": "stream",
     "text": [
      "[[1 1]\n",
      " [1 1]\n",
      " [0 0]\n",
      " [1 1]\n",
      " [0 0]\n",
      " [0 0]]\n"
     ]
    }
   ],
   "execution_count": 62
  }
 ],
 "metadata": {
  "kernelspec": {
   "display_name": "Python 3",
   "language": "python",
   "name": "python3"
  },
  "language_info": {
   "codemirror_mode": {
    "name": "ipython",
    "version": 3
   },
   "file_extension": ".py",
   "mimetype": "text/x-python",
   "name": "python",
   "nbconvert_exporter": "python",
   "pygments_lexer": "ipython3",
   "version": "3.6.1"
  }
 },
 "nbformat": 4,
 "nbformat_minor": 2
}
