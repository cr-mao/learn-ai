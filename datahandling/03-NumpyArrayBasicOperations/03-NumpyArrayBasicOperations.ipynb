{
 "cells": [
  {
   "cell_type": "markdown",
   "metadata": {},
   "source": "## 03 ``numpy.array`` 基本操作"
  },
  {
   "cell_type": "code",
   "metadata": {
    "collapsed": true,
    "ExecuteTime": {
     "end_time": "2024-08-22T14:04:06.675317Z",
     "start_time": "2024-08-22T14:04:06.593841Z"
    }
   },
   "source": [
    "import numpy as np\n",
    "np.random.seed(0)\n",
    "\n",
    "x = np.arange(10)"
   ],
   "outputs": [],
   "execution_count": 1
  },
  {
   "cell_type": "code",
   "metadata": {
    "ExecuteTime": {
     "end_time": "2024-08-22T14:04:06.682964Z",
     "start_time": "2024-08-22T14:04:06.677449Z"
    }
   },
   "source": [
    "x"
   ],
   "outputs": [
    {
     "data": {
      "text/plain": [
       "array([0, 1, 2, 3, 4, 5, 6, 7, 8, 9])"
      ]
     },
     "execution_count": 2,
     "metadata": {},
     "output_type": "execute_result"
    }
   ],
   "execution_count": 2
  },
  {
   "cell_type": "code",
   "metadata": {
    "collapsed": true,
    "ExecuteTime": {
     "end_time": "2024-08-22T14:04:06.686489Z",
     "start_time": "2024-08-22T14:04:06.684023Z"
    }
   },
   "source": [
    "X = np.arange(15).reshape((3, 5))"
   ],
   "outputs": [],
   "execution_count": 3
  },
  {
   "cell_type": "code",
   "metadata": {
    "ExecuteTime": {
     "end_time": "2024-08-22T14:04:06.690847Z",
     "start_time": "2024-08-22T14:04:06.687646Z"
    }
   },
   "source": [
    "X"
   ],
   "outputs": [
    {
     "data": {
      "text/plain": [
       "array([[ 0,  1,  2,  3,  4],\n",
       "       [ 5,  6,  7,  8,  9],\n",
       "       [10, 11, 12, 13, 14]])"
      ]
     },
     "execution_count": 4,
     "metadata": {},
     "output_type": "execute_result"
    }
   ],
   "execution_count": 4
  },
  {
   "cell_type": "markdown",
   "metadata": {},
   "source": [
    "### ``numpy.array`` 的基本属性"
   ]
  },
  {
   "cell_type": "code",
   "metadata": {
    "ExecuteTime": {
     "end_time": "2024-08-22T14:04:06.696181Z",
     "start_time": "2024-08-22T14:04:06.693143Z"
    }
   },
   "source": [
    "x.ndim"
   ],
   "outputs": [
    {
     "data": {
      "text/plain": [
       "1"
      ]
     },
     "execution_count": 5,
     "metadata": {},
     "output_type": "execute_result"
    }
   ],
   "execution_count": 5
  },
  {
   "cell_type": "code",
   "metadata": {
    "ExecuteTime": {
     "end_time": "2024-08-22T14:04:06.699976Z",
     "start_time": "2024-08-22T14:04:06.697082Z"
    }
   },
   "source": [
    "X.ndim"
   ],
   "outputs": [
    {
     "data": {
      "text/plain": [
       "2"
      ]
     },
     "execution_count": 6,
     "metadata": {},
     "output_type": "execute_result"
    }
   ],
   "execution_count": 6
  },
  {
   "cell_type": "code",
   "metadata": {
    "ExecuteTime": {
     "end_time": "2024-08-22T14:04:06.704125Z",
     "start_time": "2024-08-22T14:04:06.701194Z"
    }
   },
   "source": [
    "x.shape"
   ],
   "outputs": [
    {
     "data": {
      "text/plain": [
       "(10,)"
      ]
     },
     "execution_count": 7,
     "metadata": {},
     "output_type": "execute_result"
    }
   ],
   "execution_count": 7
  },
  {
   "cell_type": "code",
   "metadata": {
    "ExecuteTime": {
     "end_time": "2024-08-22T14:04:06.707450Z",
     "start_time": "2024-08-22T14:04:06.704993Z"
    }
   },
   "source": [
    "X.shape"
   ],
   "outputs": [
    {
     "data": {
      "text/plain": [
       "(3, 5)"
      ]
     },
     "execution_count": 8,
     "metadata": {},
     "output_type": "execute_result"
    }
   ],
   "execution_count": 8
  },
  {
   "cell_type": "code",
   "metadata": {
    "ExecuteTime": {
     "end_time": "2024-08-22T14:04:06.711675Z",
     "start_time": "2024-08-22T14:04:06.708617Z"
    }
   },
   "source": [
    "x.size"
   ],
   "outputs": [
    {
     "data": {
      "text/plain": [
       "10"
      ]
     },
     "execution_count": 9,
     "metadata": {},
     "output_type": "execute_result"
    }
   ],
   "execution_count": 9
  },
  {
   "cell_type": "code",
   "metadata": {
    "ExecuteTime": {
     "end_time": "2024-08-22T14:04:06.715626Z",
     "start_time": "2024-08-22T14:04:06.712671Z"
    }
   },
   "source": [
    "X.size"
   ],
   "outputs": [
    {
     "data": {
      "text/plain": [
       "15"
      ]
     },
     "execution_count": 10,
     "metadata": {},
     "output_type": "execute_result"
    }
   ],
   "execution_count": 10
  },
  {
   "cell_type": "markdown",
   "metadata": {},
   "source": [
    "### ``numpy.array`` 的数据访问\n",
    "\n",
    "方法为：arr1[ start:end ：step]\n",
    "\n",
    "- start 表示开始位置，默认为 0；\n",
    "- end 表示结束位置，默认为最后一个元素的位置 +1；\n",
    "- step 表示步长，即两个元素直接相隔的距离，默认为 1。"
   ]
  },
  {
   "cell_type": "code",
   "metadata": {
    "ExecuteTime": {
     "end_time": "2024-08-22T14:04:06.719985Z",
     "start_time": "2024-08-22T14:04:06.716605Z"
    }
   },
   "source": [
    "x"
   ],
   "outputs": [
    {
     "data": {
      "text/plain": [
       "array([0, 1, 2, 3, 4, 5, 6, 7, 8, 9])"
      ]
     },
     "execution_count": 11,
     "metadata": {},
     "output_type": "execute_result"
    }
   ],
   "execution_count": 11
  },
  {
   "cell_type": "code",
   "metadata": {
    "ExecuteTime": {
     "end_time": "2024-08-22T14:04:06.724017Z",
     "start_time": "2024-08-22T14:04:06.721132Z"
    }
   },
   "source": [
    "x[0]"
   ],
   "outputs": [
    {
     "data": {
      "text/plain": [
       "np.int64(0)"
      ]
     },
     "execution_count": 12,
     "metadata": {},
     "output_type": "execute_result"
    }
   ],
   "execution_count": 12
  },
  {
   "cell_type": "code",
   "metadata": {
    "ExecuteTime": {
     "end_time": "2024-08-22T14:04:06.728188Z",
     "start_time": "2024-08-22T14:04:06.725330Z"
    }
   },
   "source": [
    "x[-1]"
   ],
   "outputs": [
    {
     "data": {
      "text/plain": [
       "np.int64(9)"
      ]
     },
     "execution_count": 13,
     "metadata": {},
     "output_type": "execute_result"
    }
   ],
   "execution_count": 13
  },
  {
   "cell_type": "code",
   "metadata": {
    "ExecuteTime": {
     "end_time": "2024-08-22T14:04:06.733861Z",
     "start_time": "2024-08-22T14:04:06.731273Z"
    }
   },
   "source": [
    "X"
   ],
   "outputs": [
    {
     "data": {
      "text/plain": [
       "array([[ 0,  1,  2,  3,  4],\n",
       "       [ 5,  6,  7,  8,  9],\n",
       "       [10, 11, 12, 13, 14]])"
      ]
     },
     "execution_count": 14,
     "metadata": {},
     "output_type": "execute_result"
    }
   ],
   "execution_count": 14
  },
  {
   "cell_type": "code",
   "metadata": {
    "ExecuteTime": {
     "end_time": "2024-08-22T14:04:06.737788Z",
     "start_time": "2024-08-22T14:04:06.735030Z"
    }
   },
   "source": [
    "X[0][0] # 不建议！"
   ],
   "outputs": [
    {
     "data": {
      "text/plain": [
       "np.int64(0)"
      ]
     },
     "execution_count": 15,
     "metadata": {},
     "output_type": "execute_result"
    }
   ],
   "execution_count": 15
  },
  {
   "metadata": {},
   "cell_type": "markdown",
   "source": [
    "#### 二维数组访问\n",
    "- 方法为：arr2[row，col]，row 表示第几行，col 表示第几列。"
   ]
  },
  {
   "cell_type": "code",
   "metadata": {
    "ExecuteTime": {
     "end_time": "2024-08-22T14:04:06.741998Z",
     "start_time": "2024-08-22T14:04:06.739028Z"
    }
   },
   "source": [
    "X[0, 0]"
   ],
   "outputs": [
    {
     "data": {
      "text/plain": [
       "np.int64(0)"
      ]
     },
     "execution_count": 16,
     "metadata": {},
     "output_type": "execute_result"
    }
   ],
   "execution_count": 16
  },
  {
   "cell_type": "code",
   "metadata": {
    "ExecuteTime": {
     "end_time": "2024-08-22T14:04:06.745659Z",
     "start_time": "2024-08-22T14:04:06.742877Z"
    }
   },
   "source": [
    "X[0, -1]"
   ],
   "outputs": [
    {
     "data": {
      "text/plain": [
       "np.int64(4)"
      ]
     },
     "execution_count": 17,
     "metadata": {},
     "output_type": "execute_result"
    }
   ],
   "execution_count": 17
  },
  {
   "cell_type": "code",
   "metadata": {
    "ExecuteTime": {
     "end_time": "2024-08-22T14:04:06.767444Z",
     "start_time": "2024-08-22T14:04:06.764395Z"
    }
   },
   "source": [
    "x"
   ],
   "outputs": [
    {
     "data": {
      "text/plain": [
       "array([0, 1, 2, 3, 4, 5, 6, 7, 8, 9])"
      ]
     },
     "execution_count": 18,
     "metadata": {},
     "output_type": "execute_result"
    }
   ],
   "execution_count": 18
  },
  {
   "cell_type": "code",
   "metadata": {
    "ExecuteTime": {
     "end_time": "2024-08-22T14:04:06.841870Z",
     "start_time": "2024-08-22T14:04:06.838170Z"
    }
   },
   "source": [
    "x[0:5]"
   ],
   "outputs": [
    {
     "data": {
      "text/plain": [
       "array([0, 1, 2, 3, 4])"
      ]
     },
     "execution_count": 19,
     "metadata": {},
     "output_type": "execute_result"
    }
   ],
   "execution_count": 19
  },
  {
   "cell_type": "code",
   "metadata": {
    "ExecuteTime": {
     "end_time": "2024-08-22T14:04:06.891627Z",
     "start_time": "2024-08-22T14:04:06.888485Z"
    }
   },
   "source": [
    "x[:5]"
   ],
   "outputs": [
    {
     "data": {
      "text/plain": [
       "array([0, 1, 2, 3, 4])"
      ]
     },
     "execution_count": 20,
     "metadata": {},
     "output_type": "execute_result"
    }
   ],
   "execution_count": 20
  },
  {
   "cell_type": "code",
   "metadata": {
    "ExecuteTime": {
     "end_time": "2024-08-22T14:04:06.913304Z",
     "start_time": "2024-08-22T14:04:06.910143Z"
    }
   },
   "source": [
    "x[5:]"
   ],
   "outputs": [
    {
     "data": {
      "text/plain": [
       "array([5, 6, 7, 8, 9])"
      ]
     },
     "execution_count": 21,
     "metadata": {},
     "output_type": "execute_result"
    }
   ],
   "execution_count": 21
  },
  {
   "cell_type": "code",
   "metadata": {
    "ExecuteTime": {
     "end_time": "2024-08-22T14:04:06.922905Z",
     "start_time": "2024-08-22T14:04:06.920033Z"
    }
   },
   "source": [
    "x[4:7]"
   ],
   "outputs": [
    {
     "data": {
      "text/plain": [
       "array([4, 5, 6])"
      ]
     },
     "execution_count": 22,
     "metadata": {},
     "output_type": "execute_result"
    }
   ],
   "execution_count": 22
  },
  {
   "cell_type": "code",
   "metadata": {
    "ExecuteTime": {
     "end_time": "2024-08-22T14:04:06.943139Z",
     "start_time": "2024-08-22T14:04:06.939825Z"
    }
   },
   "source": [
    "x[::2]"
   ],
   "outputs": [
    {
     "data": {
      "text/plain": [
       "array([0, 2, 4, 6, 8])"
      ]
     },
     "execution_count": 23,
     "metadata": {},
     "output_type": "execute_result"
    }
   ],
   "execution_count": 23
  },
  {
   "cell_type": "code",
   "metadata": {
    "ExecuteTime": {
     "end_time": "2024-08-22T14:04:06.962672Z",
     "start_time": "2024-08-22T14:04:06.959424Z"
    }
   },
   "source": [
    "x[1::2]"
   ],
   "outputs": [
    {
     "data": {
      "text/plain": [
       "array([1, 3, 5, 7, 9])"
      ]
     },
     "execution_count": 24,
     "metadata": {},
     "output_type": "execute_result"
    }
   ],
   "execution_count": 24
  },
  {
   "cell_type": "code",
   "metadata": {
    "ExecuteTime": {
     "end_time": "2024-08-22T14:04:06.972138Z",
     "start_time": "2024-08-22T14:04:06.969127Z"
    }
   },
   "source": [
    "x[::-1]"
   ],
   "outputs": [
    {
     "data": {
      "text/plain": [
       "array([9, 8, 7, 6, 5, 4, 3, 2, 1, 0])"
      ]
     },
     "execution_count": 25,
     "metadata": {},
     "output_type": "execute_result"
    }
   ],
   "execution_count": 25
  },
  {
   "cell_type": "code",
   "metadata": {
    "ExecuteTime": {
     "end_time": "2024-08-22T14:04:06.989051Z",
     "start_time": "2024-08-22T14:04:06.985832Z"
    }
   },
   "source": [
    "X"
   ],
   "outputs": [
    {
     "data": {
      "text/plain": [
       "array([[ 0,  1,  2,  3,  4],\n",
       "       [ 5,  6,  7,  8,  9],\n",
       "       [10, 11, 12, 13, 14]])"
      ]
     },
     "execution_count": 26,
     "metadata": {},
     "output_type": "execute_result"
    }
   ],
   "execution_count": 26
  },
  {
   "metadata": {},
   "cell_type": "markdown",
   "source": [
    "#### 二维数组访问 \n",
    "\n",
    "方法为：arr2[[row1,row2,...][col1,col2,...]]\n",
    "\n",
    "访问的是数组（row1，col1）、（row2、col2）、……位置上的元素，这点初次使用者需要多多注意。\n",
    "\n",
    "\n",
    "访问连续的元素\n",
    "\n",
    "方法为：arr2[row_start:row_end：step,col_start:col_end：step]，row_start 表示行的开始位置、row_end 表示行的结束位置、step 表示步长、col_start 表示列的开始位置、col_end 表示列的结束位置。同样开始位置默认为 0，结束位置默认为最后一个元素所在位置 +1，步长默认为 1 且可省略。"
   ]
  },
  {
   "cell_type": "code",
   "metadata": {
    "ExecuteTime": {
     "end_time": "2024-08-22T14:04:07.007615Z",
     "start_time": "2024-08-22T14:04:07.004575Z"
    }
   },
   "source": [
    "X[:2, :3]"
   ],
   "outputs": [
    {
     "data": {
      "text/plain": [
       "array([[0, 1, 2],\n",
       "       [5, 6, 7]])"
      ]
     },
     "execution_count": 27,
     "metadata": {},
     "output_type": "execute_result"
    }
   ],
   "execution_count": 27
  },
  {
   "cell_type": "code",
   "metadata": {
    "ExecuteTime": {
     "end_time": "2024-08-22T14:04:07.027604Z",
     "start_time": "2024-08-22T14:04:07.024654Z"
    }
   },
   "source": [
    "X[:2][:3] # 结果不一样，在numpy中使用\",\"做多维索引"
   ],
   "outputs": [
    {
     "data": {
      "text/plain": [
       "array([[0, 1, 2, 3, 4],\n",
       "       [5, 6, 7, 8, 9]])"
      ]
     },
     "execution_count": 28,
     "metadata": {},
     "output_type": "execute_result"
    }
   ],
   "execution_count": 28
  },
  {
   "cell_type": "code",
   "metadata": {
    "ExecuteTime": {
     "end_time": "2024-08-22T14:04:07.044831Z",
     "start_time": "2024-08-22T14:04:07.041268Z"
    }
   },
   "source": [
    "X[:2, ::2]"
   ],
   "outputs": [
    {
     "data": {
      "text/plain": [
       "array([[0, 2, 4],\n",
       "       [5, 7, 9]])"
      ]
     },
     "execution_count": 29,
     "metadata": {},
     "output_type": "execute_result"
    }
   ],
   "execution_count": 29
  },
  {
   "cell_type": "code",
   "metadata": {
    "ExecuteTime": {
     "end_time": "2024-08-22T14:04:07.071796Z",
     "start_time": "2024-08-22T14:04:07.068171Z"
    }
   },
   "source": [
    "X[::-1, ::-1]"
   ],
   "outputs": [
    {
     "data": {
      "text/plain": [
       "array([[14, 13, 12, 11, 10],\n",
       "       [ 9,  8,  7,  6,  5],\n",
       "       [ 4,  3,  2,  1,  0]])"
      ]
     },
     "execution_count": 30,
     "metadata": {},
     "output_type": "execute_result"
    }
   ],
   "execution_count": 30
  },
  {
   "cell_type": "code",
   "metadata": {
    "ExecuteTime": {
     "end_time": "2024-08-22T14:04:07.099492Z",
     "start_time": "2024-08-22T14:04:07.095831Z"
    }
   },
   "source": [
    "X[0, :]"
   ],
   "outputs": [
    {
     "data": {
      "text/plain": [
       "array([0, 1, 2, 3, 4])"
      ]
     },
     "execution_count": 31,
     "metadata": {},
     "output_type": "execute_result"
    }
   ],
   "execution_count": 31
  },
  {
   "cell_type": "code",
   "metadata": {
    "ExecuteTime": {
     "end_time": "2024-08-22T14:04:07.120757Z",
     "start_time": "2024-08-22T14:04:07.117304Z"
    }
   },
   "source": [
    "X[:, 0]"
   ],
   "outputs": [
    {
     "data": {
      "text/plain": [
       "array([ 0,  5, 10])"
      ]
     },
     "execution_count": 32,
     "metadata": {},
     "output_type": "execute_result"
    }
   ],
   "execution_count": 32
  },
  {
   "cell_type": "markdown",
   "metadata": {},
   "source": [
    "### Subarray of ``numpy.array``"
   ]
  },
  {
   "cell_type": "code",
   "metadata": {
    "ExecuteTime": {
     "end_time": "2024-08-22T14:04:07.131254Z",
     "start_time": "2024-08-22T14:04:07.128002Z"
    }
   },
   "source": [
    "subX = X[:2, :3]\n",
    "subX"
   ],
   "outputs": [
    {
     "data": {
      "text/plain": [
       "array([[0, 1, 2],\n",
       "       [5, 6, 7]])"
      ]
     },
     "execution_count": 33,
     "metadata": {},
     "output_type": "execute_result"
    }
   ],
   "execution_count": 33
  },
  {
   "cell_type": "code",
   "metadata": {
    "ExecuteTime": {
     "end_time": "2024-08-22T14:04:07.144988Z",
     "start_time": "2024-08-22T14:04:07.141782Z"
    }
   },
   "source": [
    "subX[0, 0] = 100\n",
    "subX"
   ],
   "outputs": [
    {
     "data": {
      "text/plain": [
       "array([[100,   1,   2],\n",
       "       [  5,   6,   7]])"
      ]
     },
     "execution_count": 34,
     "metadata": {},
     "output_type": "execute_result"
    }
   ],
   "execution_count": 34
  },
  {
   "cell_type": "code",
   "metadata": {
    "ExecuteTime": {
     "end_time": "2024-08-22T14:04:07.169018Z",
     "start_time": "2024-08-22T14:04:07.165671Z"
    }
   },
   "source": [
    "X"
   ],
   "outputs": [
    {
     "data": {
      "text/plain": [
       "array([[100,   1,   2,   3,   4],\n",
       "       [  5,   6,   7,   8,   9],\n",
       "       [ 10,  11,  12,  13,  14]])"
      ]
     },
     "execution_count": 35,
     "metadata": {},
     "output_type": "execute_result"
    }
   ],
   "execution_count": 35
  },
  {
   "cell_type": "code",
   "metadata": {
    "ExecuteTime": {
     "end_time": "2024-08-22T14:04:07.179664Z",
     "start_time": "2024-08-22T14:04:07.176407Z"
    }
   },
   "source": [
    "X[0, 0] = 0\n",
    "X"
   ],
   "outputs": [
    {
     "data": {
      "text/plain": [
       "array([[ 0,  1,  2,  3,  4],\n",
       "       [ 5,  6,  7,  8,  9],\n",
       "       [10, 11, 12, 13, 14]])"
      ]
     },
     "execution_count": 36,
     "metadata": {},
     "output_type": "execute_result"
    }
   ],
   "execution_count": 36
  },
  {
   "cell_type": "code",
   "metadata": {
    "ExecuteTime": {
     "end_time": "2024-08-22T14:04:07.193967Z",
     "start_time": "2024-08-22T14:04:07.190470Z"
    }
   },
   "source": [
    "subX"
   ],
   "outputs": [
    {
     "data": {
      "text/plain": [
       "array([[0, 1, 2],\n",
       "       [5, 6, 7]])"
      ]
     },
     "execution_count": 37,
     "metadata": {},
     "output_type": "execute_result"
    }
   ],
   "execution_count": 37
  },
  {
   "cell_type": "code",
   "metadata": {
    "collapsed": true,
    "ExecuteTime": {
     "end_time": "2024-08-22T14:04:07.213049Z",
     "start_time": "2024-08-22T14:04:07.210282Z"
    }
   },
   "source": [
    "subX = X[:2, :3].copy()"
   ],
   "outputs": [],
   "execution_count": 38
  },
  {
   "cell_type": "code",
   "metadata": {
    "ExecuteTime": {
     "end_time": "2024-08-22T14:04:07.224436Z",
     "start_time": "2024-08-22T14:04:07.221441Z"
    }
   },
   "source": [
    "subX[0, 0] = 100\n",
    "subX"
   ],
   "outputs": [
    {
     "data": {
      "text/plain": [
       "array([[100,   1,   2],\n",
       "       [  5,   6,   7]])"
      ]
     },
     "execution_count": 39,
     "metadata": {},
     "output_type": "execute_result"
    }
   ],
   "execution_count": 39
  },
  {
   "cell_type": "code",
   "metadata": {
    "ExecuteTime": {
     "end_time": "2024-08-22T14:04:07.237746Z",
     "start_time": "2024-08-22T14:04:07.234548Z"
    }
   },
   "source": [
    "X"
   ],
   "outputs": [
    {
     "data": {
      "text/plain": [
       "array([[ 0,  1,  2,  3,  4],\n",
       "       [ 5,  6,  7,  8,  9],\n",
       "       [10, 11, 12, 13, 14]])"
      ]
     },
     "execution_count": 40,
     "metadata": {},
     "output_type": "execute_result"
    }
   ],
   "execution_count": 40
  },
  {
   "cell_type": "markdown",
   "metadata": {},
   "source": [
    "### Reshape"
   ]
  },
  {
   "cell_type": "code",
   "metadata": {
    "ExecuteTime": {
     "end_time": "2024-08-22T14:04:07.257671Z",
     "start_time": "2024-08-22T14:04:07.254776Z"
    }
   },
   "source": [
    "x.shape"
   ],
   "outputs": [
    {
     "data": {
      "text/plain": [
       "(10,)"
      ]
     },
     "execution_count": 41,
     "metadata": {},
     "output_type": "execute_result"
    }
   ],
   "execution_count": 41
  },
  {
   "cell_type": "code",
   "metadata": {
    "ExecuteTime": {
     "end_time": "2024-08-22T14:04:07.266406Z",
     "start_time": "2024-08-22T14:04:07.263753Z"
    }
   },
   "source": [
    "x.ndim"
   ],
   "outputs": [
    {
     "data": {
      "text/plain": [
       "1"
      ]
     },
     "execution_count": 42,
     "metadata": {},
     "output_type": "execute_result"
    }
   ],
   "execution_count": 42
  },
  {
   "cell_type": "code",
   "metadata": {
    "ExecuteTime": {
     "end_time": "2024-08-22T14:04:07.284520Z",
     "start_time": "2024-08-22T14:04:07.281400Z"
    }
   },
   "source": [
    "x.reshape(2, 5)"
   ],
   "outputs": [
    {
     "data": {
      "text/plain": [
       "array([[0, 1, 2, 3, 4],\n",
       "       [5, 6, 7, 8, 9]])"
      ]
     },
     "execution_count": 43,
     "metadata": {},
     "output_type": "execute_result"
    }
   ],
   "execution_count": 43
  },
  {
   "cell_type": "code",
   "metadata": {
    "ExecuteTime": {
     "end_time": "2024-08-22T14:04:07.301726Z",
     "start_time": "2024-08-22T14:04:07.298564Z"
    }
   },
   "source": [
    "x"
   ],
   "outputs": [
    {
     "data": {
      "text/plain": [
       "array([0, 1, 2, 3, 4, 5, 6, 7, 8, 9])"
      ]
     },
     "execution_count": 44,
     "metadata": {},
     "output_type": "execute_result"
    }
   ],
   "execution_count": 44
  },
  {
   "cell_type": "code",
   "metadata": {
    "ExecuteTime": {
     "end_time": "2024-08-22T14:04:07.312260Z",
     "start_time": "2024-08-22T14:04:07.309042Z"
    }
   },
   "source": [
    "A = x.reshape(2, 5)\n",
    "A"
   ],
   "outputs": [
    {
     "data": {
      "text/plain": [
       "array([[0, 1, 2, 3, 4],\n",
       "       [5, 6, 7, 8, 9]])"
      ]
     },
     "execution_count": 45,
     "metadata": {},
     "output_type": "execute_result"
    }
   ],
   "execution_count": 45
  },
  {
   "cell_type": "code",
   "metadata": {
    "ExecuteTime": {
     "end_time": "2024-08-22T14:04:07.329291Z",
     "start_time": "2024-08-22T14:04:07.325774Z"
    }
   },
   "source": [
    "x"
   ],
   "outputs": [
    {
     "data": {
      "text/plain": [
       "array([0, 1, 2, 3, 4, 5, 6, 7, 8, 9])"
      ]
     },
     "execution_count": 46,
     "metadata": {},
     "output_type": "execute_result"
    }
   ],
   "execution_count": 46
  },
  {
   "cell_type": "code",
   "metadata": {
    "ExecuteTime": {
     "end_time": "2024-08-22T14:04:07.343886Z",
     "start_time": "2024-08-22T14:04:07.340845Z"
    }
   },
   "source": [
    "B = x.reshape(1, 10)\n",
    "B"
   ],
   "outputs": [
    {
     "data": {
      "text/plain": [
       "array([[0, 1, 2, 3, 4, 5, 6, 7, 8, 9]])"
      ]
     },
     "execution_count": 47,
     "metadata": {},
     "output_type": "execute_result"
    }
   ],
   "execution_count": 47
  },
  {
   "cell_type": "code",
   "metadata": {
    "ExecuteTime": {
     "end_time": "2024-08-22T14:04:07.355942Z",
     "start_time": "2024-08-22T14:04:07.352846Z"
    }
   },
   "source": [
    "B.ndim"
   ],
   "outputs": [
    {
     "data": {
      "text/plain": [
       "2"
      ]
     },
     "execution_count": 48,
     "metadata": {},
     "output_type": "execute_result"
    }
   ],
   "execution_count": 48
  },
  {
   "cell_type": "code",
   "metadata": {
    "ExecuteTime": {
     "end_time": "2024-08-22T14:04:07.372812Z",
     "start_time": "2024-08-22T14:04:07.369984Z"
    }
   },
   "source": [
    "B.shape"
   ],
   "outputs": [
    {
     "data": {
      "text/plain": [
       "(1, 10)"
      ]
     },
     "execution_count": 49,
     "metadata": {},
     "output_type": "execute_result"
    }
   ],
   "execution_count": 49
  },
  {
   "cell_type": "code",
   "metadata": {
    "ExecuteTime": {
     "end_time": "2024-08-22T14:04:07.391328Z",
     "start_time": "2024-08-22T14:04:07.388206Z"
    }
   },
   "source": [
    "x.reshape(-1, 10)"
   ],
   "outputs": [
    {
     "data": {
      "text/plain": [
       "array([[0, 1, 2, 3, 4, 5, 6, 7, 8, 9]])"
      ]
     },
     "execution_count": 50,
     "metadata": {},
     "output_type": "execute_result"
    }
   ],
   "execution_count": 50
  },
  {
   "cell_type": "code",
   "metadata": {
    "ExecuteTime": {
     "end_time": "2024-08-22T14:04:07.402618Z",
     "start_time": "2024-08-22T14:04:07.399124Z"
    }
   },
   "source": [
    "x.reshape(10, -1)"
   ],
   "outputs": [
    {
     "data": {
      "text/plain": [
       "array([[0],\n",
       "       [1],\n",
       "       [2],\n",
       "       [3],\n",
       "       [4],\n",
       "       [5],\n",
       "       [6],\n",
       "       [7],\n",
       "       [8],\n",
       "       [9]])"
      ]
     },
     "execution_count": 51,
     "metadata": {},
     "output_type": "execute_result"
    }
   ],
   "execution_count": 51
  },
  {
   "cell_type": "code",
   "metadata": {
    "ExecuteTime": {
     "end_time": "2024-08-22T14:04:07.414305Z",
     "start_time": "2024-08-22T14:04:07.411244Z"
    }
   },
   "source": [
    "x.reshape(2, -1)"
   ],
   "outputs": [
    {
     "data": {
      "text/plain": [
       "array([[0, 1, 2, 3, 4],\n",
       "       [5, 6, 7, 8, 9]])"
      ]
     },
     "execution_count": 52,
     "metadata": {},
     "output_type": "execute_result"
    }
   ],
   "execution_count": 52
  },
  {
   "cell_type": "code",
   "metadata": {
    "ExecuteTime": {
     "end_time": "2024-08-22T14:04:07.606546Z",
     "start_time": "2024-08-22T14:04:07.438427Z"
    }
   },
   "source": [
    "x.reshape(3, -1)"
   ],
   "outputs": [
    {
     "ename": "ValueError",
     "evalue": "cannot reshape array of size 10 into shape (3,newaxis)",
     "output_type": "error",
     "traceback": [
      "\u001B[0;31m---------------------------------------------------------------------------\u001B[0m",
      "\u001B[0;31mValueError\u001B[0m                                Traceback (most recent call last)",
      "Cell \u001B[0;32mIn[53], line 1\u001B[0m\n\u001B[0;32m----> 1\u001B[0m \u001B[43mx\u001B[49m\u001B[38;5;241;43m.\u001B[39;49m\u001B[43mreshape\u001B[49m\u001B[43m(\u001B[49m\u001B[38;5;241;43m3\u001B[39;49m\u001B[43m,\u001B[49m\u001B[43m \u001B[49m\u001B[38;5;241;43m-\u001B[39;49m\u001B[38;5;241;43m1\u001B[39;49m\u001B[43m)\u001B[49m\n",
      "\u001B[0;31mValueError\u001B[0m: cannot reshape array of size 10 into shape (3,newaxis)"
     ]
    }
   ],
   "execution_count": 53
  },
  {
   "metadata": {},
   "cell_type": "markdown",
   "source": [
    "### 三维数组的索引与切片\n",
    "\n",
    "方法为：arr3[dim1，dim2 , dim3]，dim1、dim2、dim3 分别代表三维数组的三个维度的索引。\n",
    "\n",
    "- 方法为：arr2[[row1,row2,...],[col1,col2,...],[high1,high2]]，访问的是数组（row1，col1,high1）、（row2、col2,high2）...位置上的元素。\n",
    "\n"
   ]
  },
  {
   "metadata": {
    "ExecuteTime": {
     "end_time": "2024-08-22T14:06:07.684571Z",
     "start_time": "2024-08-22T14:06:07.680080Z"
    }
   },
   "cell_type": "code",
   "source": [
    "space=np.array([\n",
    "    [[5,4,8],[5,9,2],[4,5,3]],\n",
    "    [[4,9,6],[2,2,5],[4,3,4]],\n",
    "    [[4,2,1],[7,6,3],[4,6,5]]])\n",
    "space[0,0,0]"
   ],
   "outputs": [
    {
     "data": {
      "text/plain": [
       "np.int64(5)"
      ]
     },
     "execution_count": 59,
     "metadata": {},
     "output_type": "execute_result"
    }
   ],
   "execution_count": 59
  },
  {
   "metadata": {},
   "cell_type": "markdown",
   "source": "查询空间坐标为（0，0，0）、（0，1，0），（1，2，2）的子空间的蚊子密度为例，示例如下："
  },
  {
   "metadata": {
    "ExecuteTime": {
     "end_time": "2024-08-22T14:07:34.184823Z",
     "start_time": "2024-08-22T14:07:34.180416Z"
    }
   },
   "cell_type": "code",
   "source": [
    "Space=np.array([\n",
    "    [[5,4,8],[5,9,2],[4,5,3]],\n",
    "    [[4,9,6],[2,2,5],[4,3,4]],\n",
    "    [[4,2,1],[7,6,3],[4,6,5]]])\n",
    "Space[[0,0,1]]"
   ],
   "outputs": [
    {
     "data": {
      "text/plain": [
       "array([[[5, 4, 8],\n",
       "        [5, 9, 2],\n",
       "        [4, 5, 3]],\n",
       "\n",
       "       [[5, 4, 8],\n",
       "        [5, 9, 2],\n",
       "        [4, 5, 3]],\n",
       "\n",
       "       [[4, 9, 6],\n",
       "        [2, 2, 5],\n",
       "        [4, 3, 4]]])"
      ]
     },
     "execution_count": 61,
     "metadata": {},
     "output_type": "execute_result"
    }
   ],
   "execution_count": 61
  },
  {
   "metadata": {
    "ExecuteTime": {
     "end_time": "2024-08-22T14:08:28.672565Z",
     "start_time": "2024-08-22T14:08:28.668911Z"
    }
   },
   "cell_type": "code",
   "source": "Space[[0,0,1],[0,1,2],[0,0,2]]",
   "outputs": [
    {
     "data": {
      "text/plain": [
       "array([5, 5, 4])"
      ]
     },
     "execution_count": 62,
     "metadata": {},
     "output_type": "execute_result"
    }
   ],
   "execution_count": 62
  },
  {
   "metadata": {},
   "cell_type": "markdown",
   "source": "### 索引的高级操作"
  },
  {
   "metadata": {},
   "cell_type": "markdown",
   "source": [
    "布尔索引就是传入一个与数组形状相同的元素值为布尔类型的列表或数组，然后就能索引到列表中 True 的位置相同的元素。\n",
    "\n",
    "- 方法为：arr[bool_list]，其中 bool_list 为布尔类型的列表。"
   ]
  },
  {
   "metadata": {
    "ExecuteTime": {
     "end_time": "2024-08-22T14:11:28.146623Z",
     "start_time": "2024-08-22T14:11:28.143324Z"
    }
   },
   "cell_type": "code",
   "source": [
    "row=['美的','格力','海尔','西门子']\n",
    "data=np.array([[3800,1,15],[4000,8,20],[5000,2,30],[4000,20,50]])\n",
    "bool_list=[False,False,True,False]\n",
    "print(data[bool_list])"
   ],
   "outputs": [
    {
     "name": "stdout",
     "output_type": "stream",
     "text": [
      "[[5000    2   30]]\n"
     ]
    }
   ],
   "execution_count": 63
  },
  {
   "metadata": {},
   "cell_type": "markdown",
   "source": "####  条件索引"
  },
  {
   "metadata": {},
   "cell_type": "markdown",
   "source": [
    "方法为：arr[条件语句]或 numpy.where(条件语句) \n",
    "- 其中第一个方法直接返回符合条件的元素的值，而第二个方法则返回符合条件的元素的位置。"
   ]
  },
  {
   "metadata": {
    "ExecuteTime": {
     "end_time": "2024-08-22T14:14:13.544466Z",
     "start_time": "2024-08-22T14:14:13.539794Z"
    }
   },
   "cell_type": "code",
   "source": [
    "Score2=np.array([69,80,90,40,60,20,90,94,90,99])#学生的成绩\n",
    "con=Score2>60#筛查出分数大于60的分数\n",
    "print('条件的布尔列表',con)\n",
    "print('大于60的学生成绩',Score2[con])#查看大于60分的学生成绩\n",
    "print('大于60的学生数组下标',np.where(Score2>60))"
   ],
   "outputs": [
    {
     "name": "stdout",
     "output_type": "stream",
     "text": [
      "条件的布尔列表 [ True  True  True False False False  True  True  True  True]\n",
      "大于60的学生成绩 [69 80 90 90 94 90 99]\n",
      "大于60的学生数组下标 (array([0, 1, 2, 6, 7, 8, 9]),)\n"
     ]
    }
   ],
   "execution_count": 64
  },
  {
   "metadata": {},
   "cell_type": "code",
   "outputs": [],
   "execution_count": null,
   "source": ""
  }
 ],
 "metadata": {
  "kernelspec": {
   "display_name": "Python 3",
   "language": "python",
   "name": "python3"
  },
  "language_info": {
   "codemirror_mode": {
    "name": "ipython",
    "version": 3
   },
   "file_extension": ".py",
   "mimetype": "text/x-python",
   "name": "python",
   "nbconvert_exporter": "python",
   "pygments_lexer": "ipython3",
   "version": "3.6.1"
  }
 },
 "nbformat": 4,
 "nbformat_minor": 2
}
