{
 "cells": [
  {
   "cell_type": "code",
   "id": "initial_id",
   "metadata": {
    "collapsed": true,
    "ExecuteTime": {
     "end_time": "2024-09-02T08:17:57.350760Z",
     "start_time": "2024-09-02T08:17:57.007196Z"
    }
   },
   "source": [
    "import pandas as pd\n",
    "data=pd.DataFrame([[2020/1/1,28],\n",
    "                    ['2020/1/2',30],\n",
    "                    ['2020/1/3',32],\n",
    "                    ['2020/1/4',31],\n",
    "                    ['2020/1/5',33],\n",
    "                    ['2020/1/6',35],\n",
    "                    ['2020/1/10',34],\n",
    "                    ['2020/1/11',36],\n",
    "                    ['2020/1/12',35]],columns=['date','weather'])\n",
    "data=data.set_index('date')\n",
    "data.index=pd.to_datetime(data.index)\n",
    "print(data)\n",
    "# 在 python 中，必须要是字符串格式我们才可以正确地转换为时间序列，"
   ],
   "outputs": [
    {
     "name": "stdout",
     "output_type": "stream",
     "text": [
      "                               weather\n",
      "date                                  \n",
      "1970-01-01 00:00:00.000002020       28\n",
      "2020-01-02 00:00:00.000000000       30\n",
      "2020-01-03 00:00:00.000000000       32\n",
      "2020-01-04 00:00:00.000000000       31\n",
      "2020-01-05 00:00:00.000000000       33\n",
      "2020-01-06 00:00:00.000000000       35\n",
      "2020-01-10 00:00:00.000000000       34\n",
      "2020-01-11 00:00:00.000000000       36\n",
      "2020-01-12 00:00:00.000000000       35\n"
     ]
    }
   ],
   "execution_count": 1
  },
  {
   "metadata": {
    "ExecuteTime": {
     "end_time": "2024-09-02T08:19:11.907770Z",
     "start_time": "2024-09-02T08:19:11.890848Z"
    }
   },
   "cell_type": "code",
   "source": "print(data.loc['2020-01-11'])",
   "id": "aa43c6b3608265e0",
   "outputs": [
    {
     "name": "stdout",
     "output_type": "stream",
     "text": [
      "            weather\n",
      "date               \n",
      "2020-01-11       36\n"
     ]
    }
   ],
   "execution_count": 2
  },
  {
   "metadata": {},
   "cell_type": "markdown",
   "source": [
    "## resample\n",
    "\n",
    "\n",
    "其中，resample 函数的相关操作大概分为三种，即降采样进行聚合、升采样填充空缺以及原地采样填补时间空白。下面我们就结合不同场景，展示 resample 函数的三种操作。\n",
    "\n",
    "首先，我们看看这个函数的参数：\n",
    "\n",
    "DataFrame.resample(rule, how=None, axis=0, fill_method=None, closed=None, label=None, convention='start',kind=None, loffset=None, limit=None, base=0)\n",
    "\n",
    "\n",
    "\n",
    "```text\n",
    "参数\t说明\n",
    "rule\t表示目标转换的偏移量字符串或对象\n",
    "freq\t表示重采样频率，例如‘M’、‘5min’，Second(15)\n",
    "how=‘mean’\t用于产生聚合值的函数名或数组函数，例如‘mean’、‘ohlc’、np.max等，默认是‘mean’，其他常用的值由：‘first’、‘last’、‘median’、‘max’、‘min’\n",
    "axis=0\t哪个轴用于向上采样或向下采样。对于序列，这将默认为 0，即沿着行。必须是 DatetimeIndex、TimedeltaIndex 或 PeriodIndex。默认是纵轴，横轴设置 axis=1\n",
    "fill_method = None\t升采样时如何插值，比如‘ffill’、‘bfill’等\n",
    "closed = ‘right’\t在降采样时，各时间段的哪一段是闭合的，‘right’或‘left’，默认‘right’\n",
    "label= ‘right’\t在降采样时，如何设置聚合值的标签\n",
    "convention = None\t当重采样时期时，将低频率转换到高频率所采用的约定（start 或 end）。默认 ‘end’\n",
    "kind = None\t聚合到时期（‘period’）或时间戳（‘timestamp’），默认聚合到时间序列的索引类型\n",
    "loffset = None\t调整重新取样的时间标签\n",
    "base\t对于平均细分 1 天的频率，为累计间隔的“起源”。例如，对于“5min”频率，基数可以从 0 到 4。默认值为 0。\n",
    "on\t对于数据流，要使用列而不是索引进行重采样。列必须与日期时间类似。\n",
    "level\t对于多索引，用于重采样的级别（名称或数字）。级别必须与日期时间相似\n",
    "origin\t要调整分组的时间戳。起始时区必须与索引的时区匹配。\n",
    "offset\t加到原点的偏移时间增量\n",
    "\n",
    "\n",
    "对于这么多参数，其实我们大部分都用不上，我们主要用的就是 freq，这代表着我们重采样的频率。我们通常使用一些字母代替（这里我就直接使用官方的表格）：\n",
    "\n",
    "B\tbusiness day\n",
    "C\tcustom business day (experimental)\n",
    "D\tcalendar day\n",
    "W\tweekly\n",
    "M\tmonth end\n",
    "BM\tbusiness month end\n",
    "CBM\tcustom business month end\n",
    "MS\tmonth start\n",
    "BMS\tbusiness month start\n",
    "CBMS\tcustom business month start\n",
    "Q\tquarter end\n",
    "BQ\tbusiness quarter end\n",
    "QZ\tquarter start\n",
    "BS\tbusiness quarter start\n",
    "A,Y\tyear end frequency\n",
    "BA,BY\tbusiness year end\n",
    "AS,YS\tyear start\n",
    "BAS,BYS\tbusiness year start\n",
    "BH\tbusiness hour\n",
    "H\thourly\n",
    "T,min\tminutely\n",
    "S\tsecondly\n",
    "L\tmilliseconds\n",
    "M,ms\tmicroseconds\n",
    "N\tnanoseconds\n",
    "\n",
    "```"
   ],
   "id": "f037197f386150c2"
  },
  {
   "metadata": {},
   "cell_type": "code",
   "outputs": [],
   "execution_count": null,
   "source": "",
   "id": "c9219ef749320f19"
  },
  {
   "metadata": {},
   "cell_type": "code",
   "outputs": [],
   "execution_count": null,
   "source": "",
   "id": "c46db177e7358d29"
  }
 ],
 "metadata": {
  "kernelspec": {
   "display_name": "Python 3",
   "language": "python",
   "name": "python3"
  },
  "language_info": {
   "codemirror_mode": {
    "name": "ipython",
    "version": 2
   },
   "file_extension": ".py",
   "mimetype": "text/x-python",
   "name": "python",
   "nbconvert_exporter": "python",
   "pygments_lexer": "ipython2",
   "version": "2.7.6"
  }
 },
 "nbformat": 4,
 "nbformat_minor": 5
}
