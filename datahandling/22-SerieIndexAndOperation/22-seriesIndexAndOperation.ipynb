{
 "cells": [
  {
   "metadata": {},
   "cell_type": "markdown",
   "source": [
    "## Series 的索引\n",
    "\n",
    "位置下标索引、标签索引、布尔索引"
   ],
   "id": "805d5a4c0c7dde4c"
  },
  {
   "metadata": {},
   "cell_type": "markdown",
   "source": "### 位置下标索引\n",
   "id": "e07b5474bda28cb2"
  },
  {
   "metadata": {
    "ExecuteTime": {
     "end_time": "2024-08-26T08:27:33.345887Z",
     "start_time": "2024-08-26T08:27:32.974413Z"
    }
   },
   "cell_type": "code",
   "source": [
    "import pandas as pd\n",
    "data= [1,2,3,4,5,6,7,8,9,10,11,12,13,14,15]\n",
    "Score=pd.Series(data)\n",
    "print(Score[0])  \n",
    "print(Score[[1,2]])"
   ],
   "id": "86605764edcab963",
   "outputs": [
    {
     "name": "stdout",
     "output_type": "stream",
     "text": [
      "1\n",
      "1    2\n",
      "2    3\n",
      "dtype: int64\n"
     ]
    }
   ],
   "execution_count": 1
  },
  {
   "metadata": {},
   "cell_type": "markdown",
   "source": [
    "### 标签索引\n",
    "\n",
    "使用形式：Series[’index‘]或Series[[‘index1’,’index2’]]。\n",
    "\n",
    "\n"
   ],
   "id": "f09e49d48346ee9b"
  },
  {
   "metadata": {
    "ExecuteTime": {
     "end_time": "2024-08-26T08:27:33.354662Z",
     "start_time": "2024-08-26T08:27:33.347985Z"
    }
   },
   "cell_type": "code",
   "source": [
    "import pandas as pd\n",
    "data={'张飞':93,'关羽':92,'赵云':79,'貂蝉':59}\n",
    "Score=pd.Series(data)\n",
    "print(Score['赵云'])  \n",
    "print(Score[['关羽','貂蝉']]) # Serie是一维，只有一层索引"
   ],
   "id": "8a58b63fbeceb44b",
   "outputs": [
    {
     "name": "stdout",
     "output_type": "stream",
     "text": [
      "79\n",
      "关羽    92\n",
      "貂蝉    59\n",
      "dtype: int64\n"
     ]
    }
   ],
   "execution_count": 2
  },
  {
   "metadata": {},
   "cell_type": "markdown",
   "source": [
    "### 布尔索引\n",
    "\n",
    "形式：Series[布尔列表]\n"
   ],
   "id": "bcb562a37256f978"
  },
  {
   "metadata": {
    "ExecuteTime": {
     "end_time": "2024-08-26T08:27:33.360183Z",
     "start_time": "2024-08-26T08:27:33.355803Z"
    }
   },
   "cell_type": "code",
   "source": [
    "bool=Score>=60  \n",
    "print(bool)  \n",
    "print(\"--------\")\n",
    "print(Score[bool])"
   ],
   "id": "be0bda792a807ccb",
   "outputs": [
    {
     "name": "stdout",
     "output_type": "stream",
     "text": [
      "张飞     True\n",
      "关羽     True\n",
      "赵云     True\n",
      "貂蝉    False\n",
      "dtype: bool\n",
      "--------\n",
      "张飞    93\n",
      "关羽    92\n",
      "赵云    79\n",
      "dtype: int64\n"
     ]
    }
   ],
   "execution_count": 3
  },
  {
   "metadata": {},
   "cell_type": "markdown",
   "source": [
    "## Series 的切片\n",
    "\n",
    "位置下标切片 、标签切片\n",
    "\n",
    "\n"
   ],
   "id": "267102f15354a2a4"
  },
  {
   "metadata": {},
   "cell_type": "markdown",
   "source": [
    "### 位置下标切片\n",
    "\n",
    "位置下表切片即利用 Series 的元素位置下标进行切片，该方式与我们前面学习的 Numpy 数组的索引的逻辑是相同的。\n",
    "\n",
    "形式：Series[start:end]，start 即切片的起始位置，end 结束位置。当 start 没有设置时，默认为从第一个元素开始；当 end 没有设置时，默认为最后一个元素位置的下一个位置。\n"
   ],
   "id": "8c2d2b210232ca13"
  },
  {
   "metadata": {
    "ExecuteTime": {
     "end_time": "2024-08-26T08:27:33.364977Z",
     "start_time": "2024-08-26T08:27:33.361430Z"
    }
   },
   "cell_type": "code",
   "source": "print(Score[1:4])",
   "id": "ef4dec9b023019c6",
   "outputs": [
    {
     "name": "stdout",
     "output_type": "stream",
     "text": [
      "关羽    92\n",
      "赵云    79\n",
      "貂蝉    59\n",
      "dtype: int64\n"
     ]
    }
   ],
   "execution_count": 4
  },
  {
   "metadata": {},
   "cell_type": "markdown",
   "source": [
    "### 标签切片\n",
    "\n",
    "标签切片即利用元素的 index 进行切片，该方法更加直观。\n",
    "\n",
    "形式：Series[index_start：index_end]，index_start 为起始标签，index_end 为结束标签。\n",
    "\n",
    "值得注意的一点，利用标签切片时，结束标签的数据也能获取到，我们可以简记为左闭右闭原则。该方法的优点就是直观，我们可以根据 index 的含义访问多个连续所需元素。在不知道元素位置的情况下，也能够进行访问所需元素"
   ],
   "id": "c26cd1f1ddbb981f"
  },
  {
   "metadata": {
    "ExecuteTime": {
     "end_time": "2024-08-26T08:27:33.371690Z",
     "start_time": "2024-08-26T08:27:33.367299Z"
    }
   },
   "cell_type": "code",
   "source": "print(Score['关羽':'貂蝉'])\n",
   "id": "d7fbeb591bbbede6",
   "outputs": [
    {
     "name": "stdout",
     "output_type": "stream",
     "text": [
      "关羽    92\n",
      "赵云    79\n",
      "貂蝉    59\n",
      "dtype: int64\n"
     ]
    }
   ],
   "execution_count": 5
  },
  {
   "metadata": {},
   "cell_type": "markdown",
   "source": "### loc 和 iloc 索引和切片\n",
   "id": "def280fed286446d"
  },
  {
   "metadata": {},
   "cell_type": "markdown",
   "source": [
    "Loc 是 series 中的一个方法，它跟标签索引和标签切片效果相同，都是通过寻找 index 来查找相对应的数据。\n",
    "\n",
    "使用方法：series.loc[index]\n",
    "\n"
   ],
   "id": "d2b4a5287e734b5a"
  },
  {
   "metadata": {
    "ExecuteTime": {
     "end_time": "2024-08-26T08:27:33.375961Z",
     "start_time": "2024-08-26T08:27:33.372926Z"
    }
   },
   "cell_type": "code",
   "source": "print(Score.loc[['赵云','貂蝉']])",
   "id": "76445aceb353b061",
   "outputs": [
    {
     "name": "stdout",
     "output_type": "stream",
     "text": [
      "赵云    79\n",
      "貂蝉    59\n",
      "dtype: int64\n"
     ]
    }
   ],
   "execution_count": 6
  },
  {
   "metadata": {
    "ExecuteTime": {
     "end_time": "2024-08-26T08:27:33.381947Z",
     "start_time": "2024-08-26T08:27:33.377152Z"
    }
   },
   "cell_type": "code",
   "source": [
    "score1 = pd.Series(data=[1,2,3,4,5,6,7,8,9,10,11,12,13,14,15])\n",
    "# 位置索引\n",
    "print(score1.iloc[0])\n",
    "print(score1.iloc[1])"
   ],
   "id": "a3f4e81927292a0b",
   "outputs": [
    {
     "name": "stdout",
     "output_type": "stream",
     "text": [
      "1\n",
      "2\n"
     ]
    }
   ],
   "execution_count": 7
  },
  {
   "metadata": {},
   "cell_type": "markdown",
   "source": "## Series 的基本操作\n",
   "id": "598ac1e2da965780"
  },
  {
   "metadata": {},
   "cell_type": "markdown",
   "source": "### head() 和 tail()\n",
   "id": "45ab3ddbeb9439e1"
  },
  {
   "metadata": {
    "ExecuteTime": {
     "end_time": "2024-08-26T08:27:33.389147Z",
     "start_time": "2024-08-26T08:27:33.383915Z"
    }
   },
   "cell_type": "code",
   "source": [
    "# 最高分２个\n",
    "print(Score.head(2))  \n",
    "# 最低分２个\n",
    "print(Score.tail(2))"
   ],
   "id": "1534a11d29569ef6",
   "outputs": [
    {
     "name": "stdout",
     "output_type": "stream",
     "text": [
      "张飞    93\n",
      "关羽    92\n",
      "dtype: int64\n",
      "赵云    79\n",
      "貂蝉    59\n",
      "dtype: int64\n"
     ]
    }
   ],
   "execution_count": 8
  },
  {
   "metadata": {},
   "cell_type": "markdown",
   "source": "### 添加数据",
   "id": "4b8b3cbc39261dbd"
  },
  {
   "metadata": {
    "ExecuteTime": {
     "end_time": "2024-08-26T08:27:33.394044Z",
     "start_time": "2024-08-26T08:27:33.390391Z"
    }
   },
   "cell_type": "code",
   "source": [
    "Score['刘备']=100  \n",
    "print(Score)"
   ],
   "id": "c2c55cf54dffe8a5",
   "outputs": [
    {
     "name": "stdout",
     "output_type": "stream",
     "text": [
      "张飞     93\n",
      "关羽     92\n",
      "赵云     79\n",
      "貂蝉     59\n",
      "刘备    100\n",
      "dtype: int64\n"
     ]
    }
   ],
   "execution_count": 9
  },
  {
   "metadata": {},
   "cell_type": "markdown",
   "source": "### series 遍历\n",
   "id": "33d113871bab6595"
  },
  {
   "metadata": {
    "ExecuteTime": {
     "end_time": "2024-08-26T08:28:15.886074Z",
     "start_time": "2024-08-26T08:28:15.878005Z"
    }
   },
   "cell_type": "code",
   "source": [
    "data=pd.Series({'曹操':90,'诸葛亮':88})  \n",
    "for index, value in data.items():\n",
    "    Score[index]=value\n",
    "print(Score)"
   ],
   "id": "bd8ace16eac7b673",
   "outputs": [
    {
     "name": "stdout",
     "output_type": "stream",
     "text": [
      "张飞      93\n",
      "关羽      92\n",
      "赵云      79\n",
      "貂蝉      59\n",
      "刘备     100\n",
      "曹操      90\n",
      "诸葛亮     88\n",
      "dtype: int64\n"
     ]
    }
   ],
   "execution_count": 11
  },
  {
   "metadata": {},
   "cell_type": "markdown",
   "source": "### 删除数据",
   "id": "ef1232373a1df4b4"
  },
  {
   "metadata": {
    "ExecuteTime": {
     "end_time": "2024-08-26T08:29:09.059885Z",
     "start_time": "2024-08-26T08:29:09.054912Z"
    }
   },
   "cell_type": "code",
   "source": [
    "Score=Score.drop(['关羽','张飞'])  \n",
    "print(Score)"
   ],
   "id": "9cbaa4dda867d744",
   "outputs": [
    {
     "name": "stdout",
     "output_type": "stream",
     "text": [
      "赵云      79\n",
      "貂蝉      59\n",
      "刘备     100\n",
      "曹操      90\n",
      "诸葛亮     88\n",
      "dtype: int64\n"
     ]
    }
   ],
   "execution_count": 12
  },
  {
   "metadata": {},
   "cell_type": "markdown",
   "source": "### 修改数据\n",
   "id": "303b713386ab433a"
  },
  {
   "metadata": {
    "ExecuteTime": {
     "end_time": "2024-08-26T08:29:30.770662Z",
     "start_time": "2024-08-26T08:29:30.761561Z"
    }
   },
   "cell_type": "code",
   "source": [
    "Score['曹操']=80  \n",
    "print(Score)"
   ],
   "id": "6041c591ea3ede12",
   "outputs": [
    {
     "name": "stdout",
     "output_type": "stream",
     "text": [
      "赵云      79\n",
      "貂蝉      59\n",
      "刘备     100\n",
      "曹操      80\n",
      "诸葛亮     88\n",
      "dtype: int64\n"
     ]
    }
   ],
   "execution_count": 13
  },
  {
   "metadata": {},
   "cell_type": "markdown",
   "source": "### 修改索引名",
   "id": "18b40e355891f503"
  },
  {
   "metadata": {
    "ExecuteTime": {
     "end_time": "2024-08-26T08:33:07.313257Z",
     "start_time": "2024-08-26T08:33:07.296636Z"
    }
   },
   "cell_type": "code",
   "source": [
    "Score.rename(index={'貂蝉':'张辽'},inplace=True)  \n",
    "print(Score)"
   ],
   "id": "fbabbffa35dc2e6b",
   "outputs": [
    {
     "name": "stdout",
     "output_type": "stream",
     "text": [
      "赵云      79\n",
      "张辽      59\n",
      "刘备     100\n",
      "曹操      80\n",
      "诸葛亮     88\n",
      "dtype: int64\n"
     ]
    }
   ],
   "execution_count": 14
  },
  {
   "metadata": {},
   "cell_type": "markdown",
   "source": "## Series 的聚合函数\n",
   "id": "d2bdfbe18b95e9ef"
  },
  {
   "metadata": {},
   "cell_type": "markdown",
   "source": "### max()/min()\n",
   "id": "b88ede84ee8a7517"
  },
  {
   "metadata": {
    "ExecuteTime": {
     "end_time": "2024-08-26T08:33:41.037779Z",
     "start_time": "2024-08-26T08:33:41.033144Z"
    }
   },
   "cell_type": "code",
   "source": "print(Score.max()-Score.min())\n",
   "id": "e8fcdc8fa387ea03",
   "outputs": [
    {
     "name": "stdout",
     "output_type": "stream",
     "text": [
      "41\n"
     ]
    }
   ],
   "execution_count": 15
  },
  {
   "metadata": {},
   "cell_type": "markdown",
   "source": [
    "### mean()\n",
    "\n",
    "mean() 函数的作用便是求取一组数据的均值。\n",
    "\n"
   ],
   "id": "dccfd9f07696ef0e"
  },
  {
   "metadata": {
    "ExecuteTime": {
     "end_time": "2024-08-26T08:34:06.253425Z",
     "start_time": "2024-08-26T08:34:06.249304Z"
    }
   },
   "cell_type": "code",
   "source": "print(Score.mean())\n",
   "id": "634709f32f6b2295",
   "outputs": [
    {
     "name": "stdout",
     "output_type": "stream",
     "text": [
      "81.2\n"
     ]
    }
   ],
   "execution_count": 16
  },
  {
   "metadata": {},
   "cell_type": "markdown",
   "source": [
    "### median()\n",
    " 中位数\n",
    " \n",
    " median 的作用是求取一组数据的中位数，中位数是一组数据中排在中间位置的数值，即将数据按照大小排序后，中间位置上的数值就是中位数。如果数据中有偶数个数值，则中位数是中间两个数的平均值。中位数代表了一组数据的中间情况，当我们想了解一组数据的中间情况时便可以通过该函数求取中位数。"
   ],
   "id": "425569414b3729dd"
  },
  {
   "metadata": {
    "ExecuteTime": {
     "end_time": "2024-08-26T08:34:46.416570Z",
     "start_time": "2024-08-26T08:34:46.393914Z"
    }
   },
   "cell_type": "code",
   "source": "print(Score.median())\n",
   "id": "e8bbd0784267d69e",
   "outputs": [
    {
     "name": "stdout",
     "output_type": "stream",
     "text": [
      "80.0\n"
     ]
    }
   ],
   "execution_count": 17
  },
  {
   "metadata": {},
   "cell_type": "markdown",
   "source": [
    "### var()  方差\n",
    "\n",
    "var() 函数用于求一组数据的方差，方差用来描述一组数据的分散程度，即各数据与平均数的差的平方的平均值。它通常用来比较两个或多个样本的分散程度，如果方差越大，说明数据分散程度越大，反之则说明数据分散程度越小。"
   ],
   "id": "2d21f68f16e90c55"
  },
  {
   "metadata": {
    "ExecuteTime": {
     "end_time": "2024-08-26T08:35:33.884572Z",
     "start_time": "2024-08-26T08:35:33.881106Z"
    }
   },
   "cell_type": "code",
   "source": "print(Score.var())\n",
   "id": "218345c1a265a929",
   "outputs": [
    {
     "name": "stdout",
     "output_type": "stream",
     "text": [
      "224.70000000000005\n"
     ]
    }
   ],
   "execution_count": 18
  },
  {
   "metadata": {},
   "cell_type": "code",
   "outputs": [],
   "execution_count": null,
   "source": "",
   "id": "81a15e118fb3bd76"
  }
 ],
 "metadata": {
  "kernelspec": {
   "display_name": "Python 3",
   "language": "python",
   "name": "python3"
  },
  "language_info": {
   "codemirror_mode": {
    "name": "ipython",
    "version": 2
   },
   "file_extension": ".py",
   "mimetype": "text/x-python",
   "name": "python",
   "nbconvert_exporter": "python",
   "pygments_lexer": "ipython2",
   "version": "2.7.6"
  }
 },
 "nbformat": 4,
 "nbformat_minor": 5
}
