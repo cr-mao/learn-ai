{
 "cells": [
  {
   "metadata": {},
   "cell_type": "markdown",
   "source": [
    "## DataFrame 计算\n",
    "DataFrame 与标量的算术运算\n",
    "\n",
    "DataFrame 对象之间的运算\n",
    "\n",
    "DataFrame 与 Series 的运算\n"
   ],
   "id": "c0e84f8059d476f8"
  },
  {
   "metadata": {},
   "cell_type": "markdown",
   "source": [
    "### DataFrame 与标量的算术运算\n",
    "\n",
    "DataFrame 与数字或者通过函数进行运算时，是返回一个新的 DataFrame，而不是修改原 DataFrame。\n"
   ],
   "id": "5c36be3dd4c3ff85"
  },
  {
   "cell_type": "code",
   "id": "initial_id",
   "metadata": {
    "collapsed": true,
    "ExecuteTime": {
     "end_time": "2024-09-02T07:20:46.194067Z",
     "start_time": "2024-09-02T07:20:45.870494Z"
    }
   },
   "source": [
    "import pandas as pd\n",
    "Score=pd.read_csv(\"../data/score.csv\")"
   ],
   "outputs": [],
   "execution_count": 1
  },
  {
   "metadata": {
    "ExecuteTime": {
     "end_time": "2024-09-02T07:20:46.201686Z",
     "start_time": "2024-09-02T07:20:46.195572Z"
    }
   },
   "cell_type": "code",
   "source": [
    "Score.set_index(['姓名'],inplace=True)\n",
    "Score=Score+10\n",
    "print(Score)"
   ],
   "id": "e65fac6acf19c844",
   "outputs": [
    {
     "name": "stdout",
     "output_type": "stream",
     "text": [
      "     语文     数学  英语   物理  生物  化学\n",
      "姓名                             \n",
      "张飞  103   77.0  90   76  80  88\n",
      "关羽  102   88.0  91   90  72  69\n",
      "赵云   89  108.0  58   49  80  78\n",
      "貂蝉   69   56.0  77  100  86  89\n"
     ]
    }
   ],
   "execution_count": 2
  },
  {
   "metadata": {
    "ExecuteTime": {
     "end_time": "2024-09-02T07:20:46.208918Z",
     "start_time": "2024-09-02T07:20:46.203243Z"
    }
   },
   "cell_type": "code",
   "source": [
    "print(Score.radd(10))  \n",
    "print(Score.add(10))  \n",
    "print(Score)"
   ],
   "id": "4510d43c03ea31ab",
   "outputs": [
    {
     "name": "stdout",
     "output_type": "stream",
     "text": [
      "     语文     数学   英语   物理  生物  化学\n",
      "姓名                              \n",
      "张飞  113   87.0  100   86  90  98\n",
      "关羽  112   98.0  101  100  82  79\n",
      "赵云   99  118.0   68   59  90  88\n",
      "貂蝉   79   66.0   87  110  96  99\n",
      "     语文     数学   英语   物理  生物  化学\n",
      "姓名                              \n",
      "张飞  113   87.0  100   86  90  98\n",
      "关羽  112   98.0  101  100  82  79\n",
      "赵云   99  118.0   68   59  90  88\n",
      "貂蝉   79   66.0   87  110  96  99\n",
      "     语文     数学  英语   物理  生物  化学\n",
      "姓名                             \n",
      "张飞  103   77.0  90   76  80  88\n",
      "关羽  102   88.0  91   90  72  69\n",
      "赵云   89  108.0  58   49  80  78\n",
      "貂蝉   69   56.0  77  100  86  89\n"
     ]
    }
   ],
   "execution_count": 3
  },
  {
   "metadata": {
    "ExecuteTime": {
     "end_time": "2024-09-02T07:20:46.214419Z",
     "start_time": "2024-09-02T07:20:46.210082Z"
    }
   },
   "cell_type": "code",
   "source": [
    "Score=Score+10  \n",
    "Score['数学']=Score['数学']-10  \n",
    "print(Score)"
   ],
   "id": "e31a01f54bf38688",
   "outputs": [
    {
     "name": "stdout",
     "output_type": "stream",
     "text": [
      "     语文     数学   英语   物理  生物  化学\n",
      "姓名                              \n",
      "张飞  113   77.0  100   86  90  98\n",
      "关羽  112   88.0  101  100  82  79\n",
      "赵云   99  108.0   68   59  90  88\n",
      "貂蝉   79   56.0   87  110  96  99\n"
     ]
    }
   ],
   "execution_count": 4
  },
  {
   "metadata": {
    "ExecuteTime": {
     "end_time": "2024-09-02T07:20:46.221934Z",
     "start_time": "2024-09-02T07:20:46.216391Z"
    }
   },
   "cell_type": "code",
   "source": [
    "Score['数学']=Score['数学'].sub(10)  \n",
    "print(Score)  \n",
    "Score['数学']=Score['数学'].rsub(10)   # 10- 数学\n",
    "print(Score)"
   ],
   "id": "852bdc508738c0c3",
   "outputs": [
    {
     "name": "stdout",
     "output_type": "stream",
     "text": [
      "     语文    数学   英语   物理  生物  化学\n",
      "姓名                             \n",
      "张飞  113  67.0  100   86  90  98\n",
      "关羽  112  78.0  101  100  82  79\n",
      "赵云   99  98.0   68   59  90  88\n",
      "貂蝉   79  46.0   87  110  96  99\n",
      "     语文    数学   英语   物理  生物  化学\n",
      "姓名                             \n",
      "张飞  113 -57.0  100   86  90  98\n",
      "关羽  112 -68.0  101  100  82  79\n",
      "赵云   99 -88.0   68   59  90  88\n",
      "貂蝉   79 -36.0   87  110  96  99\n"
     ]
    }
   ],
   "execution_count": 5
  },
  {
   "metadata": {
    "ExecuteTime": {
     "end_time": "2024-09-02T07:20:46.227143Z",
     "start_time": "2024-09-02T07:20:46.222974Z"
    }
   },
   "cell_type": "code",
   "source": [
    "Score['英语']=Score['英语']*1.25 \n",
    "print(Score) #修改后 覆盖"
   ],
   "id": "cc2f3c7bd559a41d",
   "outputs": [
    {
     "name": "stdout",
     "output_type": "stream",
     "text": [
      "     语文    数学      英语   物理  生物  化学\n",
      "姓名                                \n",
      "张飞  113 -57.0  125.00   86  90  98\n",
      "关羽  112 -68.0  126.25  100  82  79\n",
      "赵云   99 -88.0   85.00   59  90  88\n",
      "貂蝉   79 -36.0  108.75  110  96  99\n"
     ]
    }
   ],
   "execution_count": 6
  },
  {
   "metadata": {
    "ExecuteTime": {
     "end_time": "2024-09-02T07:20:46.240031Z",
     "start_time": "2024-09-02T07:20:46.233050Z"
    }
   },
   "cell_type": "code",
   "source": [
    "Score=Score+10  \n",
    "Score['数学']=Score['数学'].sub(10)  \n",
    "Score['英语']=Score['英语'].mul(1.25)  \n",
    "Score['物理']=Score['物理']/2  \n",
    "Score['化学']=Score['化学'].div(2)  \n",
    "Score['生物']=Score['生物'].div(2)  \n",
    "print(Score)"
   ],
   "id": "9c803f35992c1137",
   "outputs": [
    {
     "name": "stdout",
     "output_type": "stream",
     "text": [
      "     语文    数学        英语    物理    生物    化学\n",
      "姓名                                       \n",
      "张飞  123 -57.0  168.7500  48.0  50.0  54.0\n",
      "关羽  122 -68.0  170.3125  55.0  46.0  44.5\n",
      "赵云  109 -88.0  118.7500  34.5  50.0  49.0\n",
      "貂蝉   89 -36.0  148.4375  60.0  53.0  54.5\n"
     ]
    }
   ],
   "execution_count": 7
  },
  {
   "metadata": {
    "ExecuteTime": {
     "end_time": "2024-09-02T07:20:46.251598Z",
     "start_time": "2024-09-02T07:20:46.241789Z"
    }
   },
   "cell_type": "code",
   "source": [
    "Score=Score+10\n",
    "Score['数学']=Score['数学'].sub(10)\n",
    "Score['英语']=Score['英语'].mul(1.25)\n",
    "Score['物理']=Score['物理'].floordiv(2)\n",
    "Score['化学']=Score['化学'].floordiv(2)\n",
    "Score['生物']=Score['生物'].floordiv(2)\n",
    "print(Score)"
   ],
   "id": "11b8ff620dd669d6",
   "outputs": [
    {
     "name": "stdout",
     "output_type": "stream",
     "text": [
      "     语文    数学          英语    物理    生物    化学\n",
      "姓名                                         \n",
      "张飞  133 -57.0  223.437500  29.0  30.0  32.0\n",
      "关羽  132 -68.0  225.390625  32.0  28.0  27.0\n",
      "赵云  119 -88.0  160.937500  22.0  30.0  29.0\n",
      "貂蝉   99 -36.0  198.046875  35.0  31.0  32.0\n"
     ]
    }
   ],
   "execution_count": 8
  },
  {
   "metadata": {},
   "cell_type": "markdown",
   "source": [
    " round() 方法进行四舍五入保留小数，我们只需输入保留几位小数即可。\n",
    "\n"
   ],
   "id": "fcb6001bd4f207a"
  },
  {
   "metadata": {
    "ExecuteTime": {
     "end_time": "2024-09-02T07:20:46.271727Z",
     "start_time": "2024-09-02T07:20:46.262654Z"
    }
   },
   "cell_type": "code",
   "source": [
    "Score=Score+10  \n",
    "Score['数学']=Score['数学'].sub(10)  \n",
    "Score['英语']=Score['英语'].mul(1.25)  \n",
    "Score['物理']=Score['物理'].floordiv(2)  \n",
    "Score['化学']=Score['化学'].floordiv(2)  \n",
    "Score['生物']=Score['生物'].floordiv(2)  \n",
    "print(Score.round(0)) "
   ],
   "id": "2c04a57c5485c3a9",
   "outputs": [
    {
     "name": "stdout",
     "output_type": "stream",
     "text": [
      "     语文    数学     英语    物理    生物    化学\n",
      "姓名                                    \n",
      "张飞  143 -57.0  292.0  19.0  20.0  21.0\n",
      "关羽  142 -68.0  294.0  21.0  19.0  18.0\n",
      "赵云  129 -88.0  214.0  16.0  20.0  19.0\n",
      "貂蝉  109 -36.0  260.0  22.0  20.0  21.0\n"
     ]
    }
   ],
   "execution_count": 9
  },
  {
   "metadata": {},
   "cell_type": "markdown",
   "source": "### DataFrame 对象之间的运算",
   "id": "20d74bb32249703d"
  },
  {
   "metadata": {
    "ExecuteTime": {
     "end_time": "2024-09-02T07:20:46.278492Z",
     "start_time": "2024-09-02T07:20:46.273135Z"
    }
   },
   "cell_type": "code",
   "source": [
    "df1=pd.DataFrame({'A':[1,2,1],'B':[4,5,1]}) \n",
    "df2=pd.DataFrame({'B':[1,1],'C':[1,2]})"
   ],
   "id": "160df4fdfd31e290",
   "outputs": [],
   "execution_count": 10
  },
  {
   "metadata": {
    "ExecuteTime": {
     "end_time": "2024-09-02T07:20:46.293338Z",
     "start_time": "2024-09-02T07:20:46.281293Z"
    }
   },
   "cell_type": "code",
   "source": "print(df1+df2) # 两个 DataFrame 运算前，首先两个对象要将形状变为一致，将缺失的列补全，数值用 nan 填充。其次就是对应位置的元素进行相加。特别需要注意的一点就是，在运算过程中，nan 加任何数仍为 nan，所以就出现了我们上面所看到的答案。",
   "id": "4eda2c9e4a327ba4",
   "outputs": [
    {
     "name": "stdout",
     "output_type": "stream",
     "text": [
      "    A    B   C\n",
      "0 NaN  5.0 NaN\n",
      "1 NaN  6.0 NaN\n",
      "2 NaN  NaN NaN\n"
     ]
    }
   ],
   "execution_count": 11
  },
  {
   "metadata": {
    "ExecuteTime": {
     "end_time": "2024-09-02T07:20:46.299883Z",
     "start_time": "2024-09-02T07:20:46.294438Z"
    }
   },
   "cell_type": "code",
   "source": "print(df1.add(df2))",
   "id": "6d12bec6131385d6",
   "outputs": [
    {
     "name": "stdout",
     "output_type": "stream",
     "text": [
      "    A    B   C\n",
      "0 NaN  5.0 NaN\n",
      "1 NaN  6.0 NaN\n",
      "2 NaN  NaN NaN\n"
     ]
    }
   ],
   "execution_count": 12
  },
  {
   "metadata": {},
   "cell_type": "markdown",
   "source": [
    "### DataFrame 与 Series 的运算\n",
    "\n",
    "DataFrame 与 Series 的运算中 Series 是算作 DataFrame 的一行的。"
   ],
   "id": "3daa64a12da4e0ac"
  },
  {
   "metadata": {
    "ExecuteTime": {
     "end_time": "2024-09-02T07:20:46.322563Z",
     "start_time": "2024-09-02T07:20:46.300862Z"
    }
   },
   "cell_type": "code",
   "source": [
    "import pandas as pd\n",
    "Score=pd.read_csv(\"../data/score.csv\")\n",
    "Score.set_index(['姓名'],inplace=True)\n",
    "print(Score)\n",
    "print(Score.iloc[0])\n",
    "# print(Score-Score.iloc[0])\n",
    "print(Score.describe())\n",
    "print(Score.info())\n",
    "print(Score-Score.iloc[0])\n"
   ],
   "id": "4dbf9a0f7a54f200",
   "outputs": [
    {
     "name": "stdout",
     "output_type": "stream",
     "text": [
      "    语文    数学  英语  物理  生物  化学\n",
      "姓名                          \n",
      "张飞  93  67.0  80  66  70  78\n",
      "关羽  92  78.0  81  80  62  59\n",
      "赵云  79  98.0  48  39  70  68\n",
      "貂蝉  59  46.0  67  90  76  79\n",
      "语文    93.0\n",
      "数学    67.0\n",
      "英语    80.0\n",
      "物理    66.0\n",
      "生物    70.0\n",
      "化学    78.0\n",
      "Name: 张飞, dtype: float64\n",
      "              语文         数学         英语        物理         生物         化学\n",
      "count   4.000000   4.000000   4.000000   4.00000   4.000000   4.000000\n",
      "mean   80.750000  72.250000  69.000000  68.75000  69.500000  71.000000\n",
      "std    15.840349  21.700614  15.383974  22.14159   5.744563   9.416298\n",
      "min    59.000000  46.000000  48.000000  39.00000  62.000000  59.000000\n",
      "25%    74.000000  61.750000  62.250000  59.25000  68.000000  65.750000\n",
      "50%    85.500000  72.500000  73.500000  73.00000  70.000000  73.000000\n",
      "75%    92.250000  83.000000  80.250000  82.50000  71.500000  78.250000\n",
      "max    93.000000  98.000000  81.000000  90.00000  76.000000  79.000000\n",
      "<class 'pandas.core.frame.DataFrame'>\n",
      "Index: 4 entries, 张飞 to 貂蝉\n",
      "Data columns (total 6 columns):\n",
      " #   Column  Non-Null Count  Dtype  \n",
      "---  ------  --------------  -----  \n",
      " 0   语文      4 non-null      int64  \n",
      " 1   数学      4 non-null      float64\n",
      " 2   英语      4 non-null      int64  \n",
      " 3   物理      4 non-null      int64  \n",
      " 4   生物      4 non-null      int64  \n",
      " 5   化学      4 non-null      int64  \n",
      "dtypes: float64(1), int64(5)\n",
      "memory usage: 224.0+ bytes\n",
      "None\n",
      "      语文    数学    英语    物理   生物    化学\n",
      "姓名                                   \n",
      "张飞   0.0   0.0   0.0   0.0  0.0   0.0\n",
      "关羽  -1.0  11.0   1.0  14.0 -8.0 -19.0\n",
      "赵云 -14.0  31.0 -32.0 -27.0  0.0 -10.0\n",
      "貂蝉 -34.0 -21.0 -13.0  24.0  6.0   1.0\n"
     ]
    }
   ],
   "execution_count": 13
  },
  {
   "metadata": {
    "ExecuteTime": {
     "end_time": "2024-09-02T07:20:46.334304Z",
     "start_time": "2024-09-02T07:20:46.327921Z"
    }
   },
   "cell_type": "code",
   "source": [
    "print(Score['语文'])\n",
    "print(Score.sub(Score['语文'],axis=0))"
   ],
   "id": "2a7cb98033773e90",
   "outputs": [
    {
     "name": "stdout",
     "output_type": "stream",
     "text": [
      "姓名\n",
      "张飞    93\n",
      "关羽    92\n",
      "赵云    79\n",
      "貂蝉    59\n",
      "Name: 语文, dtype: int64\n",
      "    语文    数学  英语  物理  生物  化学\n",
      "姓名                          \n",
      "张飞   0 -26.0 -13 -27 -23 -15\n",
      "关羽   0 -14.0 -11 -12 -30 -33\n",
      "赵云   0  19.0 -31 -40  -9 -11\n",
      "貂蝉   0 -13.0   8  31  17  20\n"
     ]
    }
   ],
   "execution_count": 14
  },
  {
   "metadata": {
    "ExecuteTime": {
     "end_time": "2024-09-02T07:20:46.345984Z",
     "start_time": "2024-09-02T07:20:46.337621Z"
    }
   },
   "cell_type": "code",
   "source": [
    "import pandas as pd\n",
    "import numpy as np\n",
    "\n",
    "frame = pd.DataFrame(np.arange(9).reshape(3,3), columns=['清华','北大','浙大'], index=['one', 'two', 'threee'])\n",
    "print(frame)\n",
    "series = frame['北大']\n",
    "print(series)\n",
    "series.index=['one', 'B', 'threee']\n",
    "print(series)\n",
    "s=frame.add(series, axis=0)\n",
    "print(s)"
   ],
   "id": "be421a5df55de8d1",
   "outputs": [
    {
     "name": "stdout",
     "output_type": "stream",
     "text": [
      "        清华  北大  浙大\n",
      "one      0   1   2\n",
      "two      3   4   5\n",
      "threee   6   7   8\n",
      "one       1\n",
      "two       4\n",
      "threee    7\n",
      "Name: 北大, dtype: int64\n",
      "one       1\n",
      "B         4\n",
      "threee    7\n",
      "Name: 北大, dtype: int64\n",
      "          清华    北大    浙大\n",
      "B        NaN   NaN   NaN\n",
      "one      1.0   2.0   3.0\n",
      "threee  13.0  14.0  15.0\n",
      "two      NaN   NaN   NaN\n"
     ]
    }
   ],
   "execution_count": 15
  },
  {
   "metadata": {},
   "cell_type": "markdown",
   "source": [
    "DataFrame 的运算核心思想主要就是索引对齐，在计算中，自动对齐不同的索引的数据，如果运算对象索引缺失就默认用 NaN 进行处理。\n",
    "\n"
   ],
   "id": "288c855ee92c94f3"
  },
  {
   "metadata": {},
   "cell_type": "code",
   "outputs": [],
   "execution_count": null,
   "source": "",
   "id": "60efd47a52c5c12b"
  }
 ],
 "metadata": {
  "kernelspec": {
   "display_name": "Python 3",
   "language": "python",
   "name": "python3"
  },
  "language_info": {
   "codemirror_mode": {
    "name": "ipython",
    "version": 2
   },
   "file_extension": ".py",
   "mimetype": "text/x-python",
   "name": "python",
   "nbconvert_exporter": "python",
   "pygments_lexer": "ipython2",
   "version": "2.7.6"
  }
 },
 "nbformat": 4,
 "nbformat_minor": 5
}
