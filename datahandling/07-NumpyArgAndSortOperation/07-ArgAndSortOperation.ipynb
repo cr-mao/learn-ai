{
 "cells": [
  {
   "cell_type": "markdown",
   "metadata": {},
   "source": [
    "##  ``Numpy`` 中arg运算\n",
    "\n",
    "找索引位置"
   ]
  },
  {
   "cell_type": "code",
   "metadata": {
    "ExecuteTime": {
     "end_time": "2024-08-23T06:13:16.825187Z",
     "start_time": "2024-08-23T06:13:16.734615Z"
    }
   },
   "source": [
    "import numpy as np"
   ],
   "outputs": [],
   "execution_count": 1
  },
  {
   "cell_type": "code",
   "metadata": {
    "collapsed": true,
    "ExecuteTime": {
     "end_time": "2024-08-23T06:13:28.706859Z",
     "start_time": "2024-08-23T06:13:28.668992Z"
    }
   },
   "source": [
    "x = np.random.normal(0, 1, 1000000)"
   ],
   "outputs": [],
   "execution_count": 27
  },
  {
   "cell_type": "markdown",
   "metadata": {},
   "source": [
    "### 索引\n",
    "\n",
    "argmin 最小位置索引，argmax最大位置索引"
   ]
  },
  {
   "cell_type": "code",
   "metadata": {
    "ExecuteTime": {
     "end_time": "2024-08-23T06:14:27.759719Z",
     "start_time": "2024-08-23T06:14:27.752759Z"
    }
   },
   "source": [
    "np.argmin(x)"
   ],
   "outputs": [
    {
     "data": {
      "text/plain": [
       "np.int64(854623)"
      ]
     },
     "execution_count": 30,
     "metadata": {},
     "output_type": "execute_result"
    }
   ],
   "execution_count": 30
  },
  {
   "cell_type": "code",
   "metadata": {
    "ExecuteTime": {
     "end_time": "2024-08-23T06:14:31.788069Z",
     "start_time": "2024-08-23T06:14:31.783047Z"
    }
   },
   "source": "x[854623]",
   "outputs": [
    {
     "data": {
      "text/plain": [
       "np.float64(-4.817738972078378)"
      ]
     },
     "execution_count": 31,
     "metadata": {},
     "output_type": "execute_result"
    }
   ],
   "execution_count": 31
  },
  {
   "cell_type": "code",
   "metadata": {
    "ExecuteTime": {
     "end_time": "2024-08-23T06:14:22.947032Z",
     "start_time": "2024-08-23T06:14:22.939889Z"
    }
   },
   "source": [
    "np.min(x)"
   ],
   "outputs": [
    {
     "data": {
      "text/plain": [
       "np.float64(-4.817738972078378)"
      ]
     },
     "execution_count": 29,
     "metadata": {},
     "output_type": "execute_result"
    }
   ],
   "execution_count": 29
  },
  {
   "cell_type": "code",
   "metadata": {
    "ExecuteTime": {
     "end_time": "2024-08-23T06:14:40.092974Z",
     "start_time": "2024-08-23T06:14:40.087768Z"
    }
   },
   "source": [
    "np.argmax(x)"
   ],
   "outputs": [
    {
     "data": {
      "text/plain": [
       "np.int64(331845)"
      ]
     },
     "execution_count": 32,
     "metadata": {},
     "output_type": "execute_result"
    }
   ],
   "execution_count": 32
  },
  {
   "cell_type": "code",
   "metadata": {
    "ExecuteTime": {
     "end_time": "2024-08-23T06:14:45.010958Z",
     "start_time": "2024-08-23T06:14:45.006379Z"
    }
   },
   "source": "x[331845]",
   "outputs": [
    {
     "data": {
      "text/plain": [
       "np.float64(4.560598900470751)"
      ]
     },
     "execution_count": 33,
     "metadata": {},
     "output_type": "execute_result"
    }
   ],
   "execution_count": 33
  },
  {
   "cell_type": "code",
   "metadata": {
    "ExecuteTime": {
     "end_time": "2024-08-23T06:14:50.172238Z",
     "start_time": "2024-08-23T06:14:50.166783Z"
    }
   },
   "source": [
    "np.max(x)"
   ],
   "outputs": [
    {
     "data": {
      "text/plain": [
       "np.float64(4.560598900470751)"
      ]
     },
     "execution_count": 34,
     "metadata": {},
     "output_type": "execute_result"
    }
   ],
   "execution_count": 34
  },
  {
   "cell_type": "markdown",
   "metadata": {},
   "source": [
    "### 排序和使用索引"
   ]
  },
  {
   "cell_type": "code",
   "metadata": {
    "ExecuteTime": {
     "end_time": "2024-08-23T06:13:16.926170Z",
     "start_time": "2024-08-23T06:13:16.922441Z"
    }
   },
   "source": [
    "x = np.arange(16)\n",
    "x"
   ],
   "outputs": [
    {
     "data": {
      "text/plain": [
       "array([ 0,  1,  2,  3,  4,  5,  6,  7,  8,  9, 10, 11, 12, 13, 14, 15])"
      ]
     },
     "execution_count": 9,
     "metadata": {},
     "output_type": "execute_result"
    }
   ],
   "execution_count": 9
  },
  {
   "cell_type": "code",
   "metadata": {
    "ExecuteTime": {
     "end_time": "2024-08-23T06:13:16.933090Z",
     "start_time": "2024-08-23T06:13:16.929402Z"
    }
   },
   "source": [
    "np.random.shuffle(x)\n",
    "x"
   ],
   "outputs": [
    {
     "data": {
      "text/plain": [
       "array([14,  5,  0,  2, 12, 13,  6, 10, 11,  3, 15,  4,  8,  9,  1,  7])"
      ]
     },
     "execution_count": 10,
     "metadata": {},
     "output_type": "execute_result"
    }
   ],
   "execution_count": 10
  },
  {
   "cell_type": "code",
   "metadata": {
    "ExecuteTime": {
     "end_time": "2024-08-23T06:13:16.937580Z",
     "start_time": "2024-08-23T06:13:16.934098Z"
    }
   },
   "source": [
    "np.sort(x)"
   ],
   "outputs": [
    {
     "data": {
      "text/plain": [
       "array([ 0,  1,  2,  3,  4,  5,  6,  7,  8,  9, 10, 11, 12, 13, 14, 15])"
      ]
     },
     "execution_count": 11,
     "metadata": {},
     "output_type": "execute_result"
    }
   ],
   "execution_count": 11
  },
  {
   "cell_type": "code",
   "metadata": {
    "ExecuteTime": {
     "end_time": "2024-08-23T06:13:16.944158Z",
     "start_time": "2024-08-23T06:13:16.939080Z"
    }
   },
   "source": [
    "x"
   ],
   "outputs": [
    {
     "data": {
      "text/plain": [
       "array([14,  5,  0,  2, 12, 13,  6, 10, 11,  3, 15,  4,  8,  9,  1,  7])"
      ]
     },
     "execution_count": 12,
     "metadata": {},
     "output_type": "execute_result"
    }
   ],
   "execution_count": 12
  },
  {
   "cell_type": "code",
   "metadata": {
    "collapsed": true,
    "ExecuteTime": {
     "end_time": "2024-08-23T06:13:16.949266Z",
     "start_time": "2024-08-23T06:13:16.945062Z"
    }
   },
   "source": [
    "x.sort()"
   ],
   "outputs": [],
   "execution_count": 13
  },
  {
   "cell_type": "code",
   "metadata": {
    "ExecuteTime": {
     "end_time": "2024-08-23T06:13:16.955081Z",
     "start_time": "2024-08-23T06:13:16.951014Z"
    }
   },
   "source": [
    "x"
   ],
   "outputs": [
    {
     "data": {
      "text/plain": [
       "array([ 0,  1,  2,  3,  4,  5,  6,  7,  8,  9, 10, 11, 12, 13, 14, 15])"
      ]
     },
     "execution_count": 14,
     "metadata": {},
     "output_type": "execute_result"
    }
   ],
   "execution_count": 14
  },
  {
   "cell_type": "code",
   "metadata": {
    "ExecuteTime": {
     "end_time": "2024-08-23T06:13:16.961911Z",
     "start_time": "2024-08-23T06:13:16.957021Z"
    }
   },
   "source": [
    "X = np.random.randint(10, size=(4,4))\n",
    "X"
   ],
   "outputs": [
    {
     "data": {
      "text/plain": [
       "array([[0, 3, 9, 7],\n",
       "       [2, 3, 6, 2],\n",
       "       [4, 3, 8, 4],\n",
       "       [4, 2, 7, 6]])"
      ]
     },
     "execution_count": 15,
     "metadata": {},
     "output_type": "execute_result"
    }
   ],
   "execution_count": 15
  },
  {
   "cell_type": "code",
   "metadata": {
    "ExecuteTime": {
     "end_time": "2024-08-23T06:13:16.967693Z",
     "start_time": "2024-08-23T06:13:16.963344Z"
    }
   },
   "source": [
    "np.sort(X, axis=0)"
   ],
   "outputs": [
    {
     "data": {
      "text/plain": [
       "array([[0, 2, 6, 2],\n",
       "       [2, 3, 7, 4],\n",
       "       [4, 3, 8, 6],\n",
       "       [4, 3, 9, 7]])"
      ]
     },
     "execution_count": 16,
     "metadata": {},
     "output_type": "execute_result"
    }
   ],
   "execution_count": 16
  },
  {
   "cell_type": "code",
   "metadata": {
    "ExecuteTime": {
     "end_time": "2024-08-23T06:13:16.972554Z",
     "start_time": "2024-08-23T06:13:16.968793Z"
    }
   },
   "source": [
    "np.sort(X, axis=1)"
   ],
   "outputs": [
    {
     "data": {
      "text/plain": [
       "array([[0, 3, 7, 9],\n",
       "       [2, 2, 3, 6],\n",
       "       [3, 4, 4, 8],\n",
       "       [2, 4, 6, 7]])"
      ]
     },
     "execution_count": 17,
     "metadata": {},
     "output_type": "execute_result"
    }
   ],
   "execution_count": 17
  },
  {
   "cell_type": "markdown",
   "metadata": {},
   "source": [
    "#### 使用索引"
   ]
  },
  {
   "cell_type": "code",
   "metadata": {
    "ExecuteTime": {
     "end_time": "2024-08-23T06:13:16.977521Z",
     "start_time": "2024-08-23T06:13:16.973478Z"
    }
   },
   "source": [
    "x"
   ],
   "outputs": [
    {
     "data": {
      "text/plain": [
       "array([ 0,  1,  2,  3,  4,  5,  6,  7,  8,  9, 10, 11, 12, 13, 14, 15])"
      ]
     },
     "execution_count": 18,
     "metadata": {},
     "output_type": "execute_result"
    }
   ],
   "execution_count": 18
  },
  {
   "cell_type": "code",
   "metadata": {
    "collapsed": true,
    "ExecuteTime": {
     "end_time": "2024-08-23T06:13:16.982178Z",
     "start_time": "2024-08-23T06:13:16.979439Z"
    }
   },
   "source": [
    "np.random.shuffle(x)"
   ],
   "outputs": [],
   "execution_count": 19
  },
  {
   "cell_type": "code",
   "metadata": {
    "ExecuteTime": {
     "end_time": "2024-08-23T06:13:16.988392Z",
     "start_time": "2024-08-23T06:13:16.983728Z"
    }
   },
   "source": [
    "x"
   ],
   "outputs": [
    {
     "data": {
      "text/plain": [
       "array([11,  0, 14, 10,  5,  7, 13,  6,  1,  3, 12, 15,  4,  8,  2,  9])"
      ]
     },
     "execution_count": 20,
     "metadata": {},
     "output_type": "execute_result"
    }
   ],
   "execution_count": 20
  },
  {
   "cell_type": "code",
   "metadata": {
    "ExecuteTime": {
     "end_time": "2024-08-23T06:13:16.993461Z",
     "start_time": "2024-08-23T06:13:16.989557Z"
    }
   },
   "source": [
    "np.argsort(x)"
   ],
   "outputs": [
    {
     "data": {
      "text/plain": [
       "array([ 1,  8, 14,  9, 12,  4,  7,  5, 13, 15,  3,  0, 10,  6,  2, 11])"
      ]
     },
     "execution_count": 21,
     "metadata": {},
     "output_type": "execute_result"
    }
   ],
   "execution_count": 21
  },
  {
   "metadata": {},
   "cell_type": "markdown",
   "source": "partition下面是代表 找出最小的３个元素放在前面 位置顺序不用管。 "
  },
  {
   "cell_type": "code",
   "metadata": {
    "ExecuteTime": {
     "end_time": "2024-08-23T06:13:16.997411Z",
     "start_time": "2024-08-23T06:13:16.994295Z"
    }
   },
   "source": [
    "np.partition(x, 3)"
   ],
   "outputs": [
    {
     "data": {
      "text/plain": [
       "array([ 0,  1,  2,  3,  6,  7,  4,  8,  5,  9, 12, 15, 13, 10, 14, 11])"
      ]
     },
     "execution_count": 22,
     "metadata": {},
     "output_type": "execute_result"
    }
   ],
   "execution_count": 22
  },
  {
   "cell_type": "code",
   "metadata": {
    "ExecuteTime": {
     "end_time": "2024-08-23T06:13:17.002776Z",
     "start_time": "2024-08-23T06:13:16.998636Z"
    }
   },
   "source": [
    "np.argpartition(x, 3)"
   ],
   "outputs": [
    {
     "data": {
      "text/plain": [
       "array([ 1,  8, 14,  9,  7,  5, 12, 13,  4, 15, 10, 11,  6,  3,  2,  0])"
      ]
     },
     "execution_count": 23,
     "metadata": {},
     "output_type": "execute_result"
    }
   ],
   "execution_count": 23
  },
  {
   "cell_type": "code",
   "metadata": {
    "ExecuteTime": {
     "end_time": "2024-08-23T06:13:17.006986Z",
     "start_time": "2024-08-23T06:13:17.003961Z"
    }
   },
   "source": [
    "X"
   ],
   "outputs": [
    {
     "data": {
      "text/plain": [
       "array([[0, 3, 9, 7],\n",
       "       [2, 3, 6, 2],\n",
       "       [4, 3, 8, 4],\n",
       "       [4, 2, 7, 6]])"
      ]
     },
     "execution_count": 24,
     "metadata": {},
     "output_type": "execute_result"
    }
   ],
   "execution_count": 24
  },
  {
   "metadata": {},
   "cell_type": "markdown",
   "source": "np.argsort(X, axis=1) 按行从小到大排， 索引位置就是 列索引号，第几列 "
  },
  {
   "cell_type": "code",
   "metadata": {
    "ExecuteTime": {
     "end_time": "2024-08-23T06:13:17.015587Z",
     "start_time": "2024-08-23T06:13:17.008074Z"
    }
   },
   "source": "np.argsort(X, axis=1)",
   "outputs": [
    {
     "data": {
      "text/plain": [
       "array([[0, 1, 3, 2],\n",
       "       [0, 3, 1, 2],\n",
       "       [1, 0, 3, 2],\n",
       "       [1, 0, 3, 2]])"
      ]
     },
     "execution_count": 25,
     "metadata": {},
     "output_type": "execute_result"
    }
   ],
   "execution_count": 25
  },
  {
   "cell_type": "code",
   "metadata": {
    "ExecuteTime": {
     "end_time": "2024-08-23T06:13:17.021230Z",
     "start_time": "2024-08-23T06:13:17.017061Z"
    }
   },
   "source": [
    "np.argpartition(X, 2, axis=1)"
   ],
   "outputs": [
    {
     "data": {
      "text/plain": [
       "array([[0, 1, 3, 2],\n",
       "       [0, 3, 1, 2],\n",
       "       [1, 0, 3, 2],\n",
       "       [1, 0, 3, 2]])"
      ]
     },
     "execution_count": 26,
     "metadata": {},
     "output_type": "execute_result"
    }
   ],
   "execution_count": 26
  }
 ],
 "metadata": {
  "kernelspec": {
   "display_name": "Python 3",
   "language": "python",
   "name": "python3"
  },
  "language_info": {
   "codemirror_mode": {
    "name": "ipython",
    "version": 3
   },
   "file_extension": ".py",
   "mimetype": "text/x-python",
   "name": "python",
   "nbconvert_exporter": "python",
   "pygments_lexer": "ipython3",
   "version": "3.6.1"
  }
 },
 "nbformat": 4,
 "nbformat_minor": 2
}
