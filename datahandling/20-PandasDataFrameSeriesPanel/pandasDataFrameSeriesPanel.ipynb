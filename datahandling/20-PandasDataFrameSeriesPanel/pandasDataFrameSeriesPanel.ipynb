{
 "cells": [
  {
   "metadata": {},
   "cell_type": "markdown",
   "source": "## 三种数据结构——Series、DataFrame 以及 Panel",
   "id": "fcf68b32e52c0c13"
  },
  {
   "metadata": {},
   "cell_type": "markdown",
   "source": "Series 是带标签的一维数组，能够存储多种类型的数据，但同一个 Series 只能存储一种类型的数据。与 Numpy 的一维数组相比，它能够自定义行索引，方便快速地获取所需元素。Series 由两部分组成，分别为 values 和 index。其中 values 是一个 ndarray 数组类型的一维数组，index 则为行索引。",
   "id": "a521c7033bb414cd"
  },
  {
   "metadata": {},
   "cell_type": "markdown",
   "source": "### series",
   "id": "1cef1671ff84ea8e"
  },
  {
   "metadata": {
    "ExecuteTime": {
     "end_time": "2024-08-23T09:27:47.729919Z",
     "start_time": "2024-08-23T09:27:47.372801Z"
    }
   },
   "cell_type": "code",
   "source": [
    "import pandas as pd\n",
    "price=pd.Series([5,4,2,6],index=(['包子','馅饼','油条','馄饨']))  \n",
    "print(price)"
   ],
   "id": "3245c6c110420cdd",
   "outputs": [
    {
     "name": "stdout",
     "output_type": "stream",
     "text": [
      "包子    5\n",
      "馅饼    4\n",
      "油条    2\n",
      "馄饨    6\n",
      "dtype: int64\n"
     ]
    }
   ],
   "execution_count": 1
  },
  {
   "metadata": {},
   "cell_type": "markdown",
   "source": "### dataframe",
   "id": "5b6e38906892e55d"
  },
  {
   "metadata": {},
   "cell_type": "markdown",
   "source": [
    "DataFrame 是 Pandas 的一个二维表格型数据结构。它拥有行、列两个轴向的索引，正是有了这些索引才使得 DataFrame 拥有了直观展示二维表格的特点\n",
    "\n",
    "- 同时 DataFrame 也称为异构数据表，所谓异构即各列存储的数据类型是不同的，可以是整型、浮点型、字符型等等。它由行索引 index、列索引 columns 和值 values 组成。\n",
    "- Series就是一张仅有一列的数据表，DataFrame就是由多个Series组合一起的数据表。"
   ],
   "id": "6331999165fc1055"
  },
  {
   "metadata": {
    "ExecuteTime": {
     "end_time": "2024-08-23T09:40:17.805218Z",
     "start_time": "2024-08-23T09:40:17.786146Z"
    }
   },
   "cell_type": "code",
   "source": [
    "gongzi=pd.DataFrame({'基础工资':[6000,4000,3000],\n",
    "'绩效':[500,500,0],\n",
    "'是否全勤':['是','是','否'],\n",
    "'请假天数':[0,0,5],\n",
    "'总工资':[6500,4500,3000]},\n",
    "index=['厨师','前台','服务员'])  \n",
    "print(gongzi)"
   ],
   "id": "36822e531f235b99",
   "outputs": [
    {
     "name": "stdout",
     "output_type": "stream",
     "text": [
      "     基础工资   绩效 是否全勤  请假天数   总工资\n",
      "厨师   6000  500    是     0  6500\n",
      "前台   4000  500    是     0  4500\n",
      "服务员  3000    0    否     5  3000\n"
     ]
    }
   ],
   "execution_count": 2
  },
  {
   "metadata": {},
   "cell_type": "markdown",
   "source": [
    "### Panel\n",
    "\n",
    "Panel 是 Pandas 中的 3D 数据容器，它是一个三维数据结构，使用 Panel 能够存储多个 DataFrame 数据对象。\n",
    "\n",
    "它有三个轴向，分别为 items（0 轴）、major_axis（1 轴）和 minor_axis（2 轴）。\n",
    "\n",
    "其中，items 对应一个 DataFrame 对象，major_axis 和 minor_axis 两个轴分别对应 DataFrame 的行索引和列索引。\n",
    "\n",
    "在实际应用中，该数据对象不常用，而主要应用 MultiIndex 对象创建多层索引的方式来表示多维数据。\n",
    "\n",
    "\n",
    "\n",
    "**MultiIndex** 是 Pandas 的一个多层索引对象，能够对数据进行直观、灵活的操作并且能够表示高维数据。不过，该对象在实际应用时还是要结合 Series、DataFrame 对象才能够使用。"
   ],
   "id": "f456436550173506"
  },
  {
   "metadata": {
    "ExecuteTime": {
     "end_time": "2024-08-23T09:48:35.003373Z",
     "start_time": "2024-08-23T09:48:34.989917Z"
    }
   },
   "cell_type": "code",
   "source": [
    "names=[\"张三\",\"李四\"]  \n",
    "exems=[\"期中\",\"期末\"]  \n",
    "columns = [\"语文\",\"数学\"]  \n",
    "index=pd.MultiIndex.from_product([names,exems])  \n",
    "dic={'语文':[60,90,100,99],'数学':[30,40,90,100]}  \n",
    "Score=pd.DataFrame(data=dic,index=index)  \n",
    "print(Score)"
   ],
   "id": "bbd5c0fd6aef7d77",
   "outputs": [
    {
     "name": "stdout",
     "output_type": "stream",
     "text": [
      "        语文   数学\n",
      "张三 期中   60   30\n",
      "   期末   90   40\n",
      "李四 期中  100   90\n",
      "   期末   99  100\n"
     ]
    }
   ],
   "execution_count": 3
  }
 ],
 "metadata": {
  "kernelspec": {
   "display_name": "Python 3",
   "language": "python",
   "name": "python3"
  },
  "language_info": {
   "codemirror_mode": {
    "name": "ipython",
    "version": 2
   },
   "file_extension": ".py",
   "mimetype": "text/x-python",
   "name": "python",
   "nbconvert_exporter": "python",
   "pygments_lexer": "ipython2",
   "version": "2.7.6"
  }
 },
 "nbformat": 4,
 "nbformat_minor": 5
}
