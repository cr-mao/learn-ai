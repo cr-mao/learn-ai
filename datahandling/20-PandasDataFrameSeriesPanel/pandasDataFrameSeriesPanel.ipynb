{
 "cells": [
  {
   "metadata": {},
   "cell_type": "markdown",
   "source": "## 三种数据结构——Series、DataFrame 以及 Panel",
   "id": "fcf68b32e52c0c13"
  },
  {
   "metadata": {},
   "cell_type": "markdown",
   "source": "Series 是带标签的一维数组，能够存储多种类型的数据，但同一个 Series 只能存储一种类型的数据。与 Numpy 的一维数组相比，它能够自定义行索引，方便快速地获取所需元素。Series 由两部分组成，分别为 values 和 index。其中 values 是一个 ndarray 数组类型的一维数组，index 则为行索引。",
   "id": "a521c7033bb414cd"
  },
  {
   "metadata": {},
   "cell_type": "markdown",
   "source": [
    "### series\n",
    "\n",
    "单列多行的结构"
   ],
   "id": "1cef1671ff84ea8e"
  },
  {
   "metadata": {
    "ExecuteTime": {
     "end_time": "2024-08-26T02:31:14.536375Z",
     "start_time": "2024-08-26T02:31:14.170094Z"
    }
   },
   "cell_type": "code",
   "source": [
    "import pandas as pd\n",
    "price=pd.Series([5,4,2,6],index=(['包子','馅饼','油条','馄饨']))  \n",
    "print(price)"
   ],
   "id": "3245c6c110420cdd",
   "outputs": [
    {
     "name": "stdout",
     "output_type": "stream",
     "text": [
      "包子    5\n",
      "馅饼    4\n",
      "油条    2\n",
      "馄饨    6\n",
      "dtype: int64\n"
     ]
    }
   ],
   "execution_count": 1
  },
  {
   "metadata": {},
   "cell_type": "markdown",
   "source": "### dataframe",
   "id": "5b6e38906892e55d"
  },
  {
   "metadata": {},
   "cell_type": "markdown",
   "source": [
    "DataFrame 是 Pandas 的一个二维表格型数据结构。它拥有行、列两个轴向的索引，正是有了这些索引才使得 DataFrame 拥有了直观展示二维表格的特点\n",
    "\n",
    "- 同时 DataFrame 也称为异构数据表，所谓异构即各列存储的数据类型是不同的，可以是整型、浮点型、字符型等等。它由行索引 index、列索引 columns 和值 values 组成。\n",
    "- Series就是一张仅有一列的数据表，DataFrame就是由多个Series组合一起的数据表。"
   ],
   "id": "6331999165fc1055"
  },
  {
   "metadata": {
    "ExecuteTime": {
     "end_time": "2024-08-26T02:31:14.544772Z",
     "start_time": "2024-08-26T02:31:14.538495Z"
    }
   },
   "cell_type": "code",
   "source": [
    "gongzi=pd.DataFrame({'基础工资':[6000,4000,3000],\n",
    "'绩效':[500,500,0],\n",
    "'是否全勤':['是','是','否'],\n",
    "'请假天数':[0,0,5],\n",
    "'总工资':[6500,4500,3000]},\n",
    "index=['厨师','前台','服务员'])  \n",
    "print(gongzi)"
   ],
   "id": "36822e531f235b99",
   "outputs": [
    {
     "name": "stdout",
     "output_type": "stream",
     "text": [
      "     基础工资   绩效 是否全勤  请假天数   总工资\n",
      "厨师   6000  500    是     0  6500\n",
      "前台   4000  500    是     0  4500\n",
      "服务员  3000    0    否     5  3000\n"
     ]
    }
   ],
   "execution_count": 2
  },
  {
   "metadata": {},
   "cell_type": "markdown",
   "source": [
    "### Panel\n",
    "\n",
    "Panel 是 Pandas 中的 3D 数据容器，它是一个三维数据结构，使用 Panel 能够存储多个 DataFrame 数据对象。\n",
    "\n",
    "它有三个轴向，分别为 items（0 轴）、major_axis（1 轴）和 minor_axis（2 轴）。\n",
    "\n",
    "其中，items 对应一个 DataFrame 对象，major_axis 和 minor_axis 两个轴分别对应 DataFrame 的行索引和列索引。\n",
    "\n",
    "在实际应用中，该数据对象不常用，而主要应用 MultiIndex 对象创建多层索引的方式来表示多维数据。\n",
    "\n",
    "\n",
    "\n",
    "**MultiIndex** 是 Pandas 的一个多层索引对象，能够对数据进行直观、灵活的操作并且能够表示高维数据。不过，该对象在实际应用时还是要结合 Series、DataFrame 对象才能够使用。"
   ],
   "id": "f456436550173506"
  },
  {
   "metadata": {
    "ExecuteTime": {
     "end_time": "2024-08-26T02:31:14.556940Z",
     "start_time": "2024-08-26T02:31:14.546285Z"
    }
   },
   "cell_type": "code",
   "source": [
    "names=[\"张三\",\"李四\"]  \n",
    "exems=[\"期中\",\"期末\"]  \n",
    "columns = [\"语文\",\"数学\"]  \n",
    "index=pd.MultiIndex.from_product([names,exems])  \n",
    "dic={'语文':[60,90,100,99],'数学':[30,40,90,100]}  \n",
    "Score=pd.DataFrame(data=dic,index=index)  \n",
    "print(Score)"
   ],
   "id": "bbd5c0fd6aef7d77",
   "outputs": [
    {
     "name": "stdout",
     "output_type": "stream",
     "text": [
      "        语文   数学\n",
      "张三 期中   60   30\n",
      "   期末   90   40\n",
      "李四 期中  100   90\n",
      "   期末   99  100\n"
     ]
    }
   ],
   "execution_count": 3
  },
  {
   "metadata": {},
   "cell_type": "markdown",
   "source": "### 可读性强",
   "id": "1a5ed693b5b3072d"
  },
  {
   "metadata": {
    "ExecuteTime": {
     "end_time": "2024-08-26T02:31:14.562885Z",
     "start_time": "2024-08-26T02:31:14.558289Z"
    }
   },
   "cell_type": "code",
   "source": [
    "import numpy as np \n",
    "Score=[[60,30],[90,40],[100,90]]  \n",
    "Score_numpy=np.array(Score)  \n",
    "Score_pandas=pd.DataFrame(Score,index=['钟馗','廉颇','妲己'],columns=['语文','数学'])  \n",
    "print(Score_numpy)  \n",
    "print(Score_pandas)"
   ],
   "id": "28e8b9c8de5b8d28",
   "outputs": [
    {
     "name": "stdout",
     "output_type": "stream",
     "text": [
      "[[ 60  30]\n",
      " [ 90  40]\n",
      " [100  90]]\n",
      "     语文  数学\n",
      "钟馗   60  30\n",
      "廉颇   90  40\n",
      "妲己  100  90\n"
     ]
    }
   ],
   "execution_count": 4
  },
  {
   "metadata": {
    "ExecuteTime": {
     "end_time": "2024-08-26T02:31:14.569507Z",
     "start_time": "2024-08-26T02:31:14.565211Z"
    }
   },
   "cell_type": "code",
   "source": [
    "import pandas as pd  \n",
    "xinxi=pd.DataFrame({'姓名':['张飞','貂蝉','赵云'],'性别':['男','女','男'],'工资':[2000,2300,2200]})  \n",
    "print(xinxi)"
   ],
   "id": "1e57b549be6d9985",
   "outputs": [
    {
     "name": "stdout",
     "output_type": "stream",
     "text": [
      "   姓名 性别    工资\n",
      "0  张飞  男  2000\n",
      "1  貂蝉  女  2300\n",
      "2  赵云  男  2200\n"
     ]
    }
   ],
   "execution_count": 5
  },
  {
   "metadata": {
    "ExecuteTime": {
     "end_time": "2024-08-26T02:31:14.573635Z",
     "start_time": "2024-08-26T02:31:14.570477Z"
    }
   },
   "cell_type": "code",
   "source": [
    "print(Score_pandas['语文'])  \n",
    "print(Score_pandas.loc['廉颇'])"
   ],
   "id": "3d99a84cc3cfc7e0",
   "outputs": [
    {
     "name": "stdout",
     "output_type": "stream",
     "text": [
      "钟馗     60\n",
      "廉颇     90\n",
      "妲己    100\n",
      "Name: 语文, dtype: int64\n",
      "语文    90\n",
      "数学    40\n",
      "Name: 廉颇, dtype: int64\n"
     ]
    }
   ],
   "execution_count": 6
  },
  {
   "metadata": {
    "ExecuteTime": {
     "end_time": "2024-08-26T02:40:31.259643Z",
     "start_time": "2024-08-26T02:40:31.250398Z"
    }
   },
   "cell_type": "code",
   "source": [
    "Stock=pd.read_csv('./股票.csv')  \n",
    "print(Stock)"
   ],
   "id": "9c59f7072b2a529b",
   "outputs": [
    {
     "name": "stdout",
     "output_type": "stream",
     "text": [
      "         date    open   close    high     low   volume\n",
      "0  2020-01-02  16.024  16.244  16.324  15.924  1530231\n",
      "1  2020-01-03  16.314  16.554  16.684  16.294  1116194\n",
      "2  2020-01-06  16.384  16.444  16.714  16.284   862083\n"
     ]
    }
   ],
   "execution_count": 9
  },
  {
   "metadata": {
    "ExecuteTime": {
     "end_time": "2024-08-26T02:41:29.778861Z",
     "start_time": "2024-08-26T02:41:29.755185Z"
    }
   },
   "cell_type": "code",
   "source": [
    "date_index=pd.to_datetime(Stock['date'])  \n",
    "Stock.index=date_index  \n",
    "print(Stock.loc['2020-01'])"
   ],
   "id": "aa6edc390106722c",
   "outputs": [
    {
     "name": "stdout",
     "output_type": "stream",
     "text": [
      "                  date    open   close    high     low   volume\n",
      "date                                                           \n",
      "2020-01-02  2020-01-02  16.024  16.244  16.324  15.924  1530231\n",
      "2020-01-03  2020-01-03  16.314  16.554  16.684  16.294  1116194\n",
      "2020-01-06  2020-01-06  16.384  16.444  16.714  16.284   862083\n"
     ]
    }
   ],
   "execution_count": 10
  },
  {
   "metadata": {},
   "cell_type": "markdown",
   "source": "### series 绘图",
   "id": "fdb1a2bebc9dc23a"
  },
  {
   "metadata": {
    "ExecuteTime": {
     "end_time": "2024-08-26T02:54:23.001183Z",
     "start_time": "2024-08-26T02:54:22.536113Z"
    }
   },
   "cell_type": "code",
   "source": [
    "import matplotlib.pyplot as plt  \n",
    "from pandas import DataFrame, Series  \n",
    "data=[90,96,98,80,95,100]  \n",
    "Score=pd.Series(data,index=range(6))  \n",
    "Score.plot()  \n",
    "plt.show()"
   ],
   "id": "fd52c5bb09164685",
   "outputs": [
    {
     "data": {
      "text/plain": [
       "<Figure size 640x480 with 1 Axes>"
      ],
      "image/png": "[encoded data removed]"
     },
     "metadata": {},
     "output_type": "display_data"
    }
   ],
   "execution_count": 11
  },
  {
   "metadata": {},
   "cell_type": "markdown",
   "source": [
    "Pandas 与 Numpy 最大的区别就在于：能够自定义行列标签，增加了数据的可读性，这也是其方便数据分析的因素之一。与 Numpy 相比，尽管它的运行效率较低，但它提供的各种聚类、分组、透视图等函数方法，能够帮助使用者快速进行数据分类。此外，Pandas 与 Numpy 还有一个区别就是它的数据结构能够存储多种数据类型的数据，而Numpy 只能存储一种数据类型的数据。由于在生活实验中，我们的数据往往是多样化的，数据类型也多是不同的，Pandas 的这个特性完美的解决了 Numpy 的这一问题，使得 Numpy 更适合进行数据分析。\n",
    "\n"
   ],
   "id": "e8bfb3a80423ce84"
  }
 ],
 "metadata": {
  "kernelspec": {
   "display_name": "Python 3",
   "language": "python",
   "name": "python3"
  },
  "language_info": {
   "codemirror_mode": {
    "name": "ipython",
    "version": 2
   },
   "file_extension": ".py",
   "mimetype": "text/x-python",
   "name": "python",
   "nbconvert_exporter": "python",
   "pygments_lexer": "ipython2",
   "version": "2.7.6"
  }
 },
 "nbformat": 4,
 "nbformat_minor": 5
}
