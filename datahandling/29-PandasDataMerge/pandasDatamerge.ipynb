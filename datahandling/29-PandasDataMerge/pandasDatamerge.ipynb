{
 "cells": [
  {
   "metadata": {},
   "cell_type": "markdown",
   "source": [
    "## concat\n",
    "\n",
    "Pandas 的 concat 方法用于将多个数据对象沿着一条指定的轴连接在一起，形成一个新的数据对象。\n",
    "\n",
    "方法：concat(objs, *, axis=0, join='outer', ignore_index=False,copy=None)\n",
    "\n",
    "其中：\n",
    "\n",
    "- axis 参数用来指定链接轴向，默认为 0，表示行方向。如果设置为 1，则表示列方向。\n",
    "- join 用来指定连接方式，有四种可选值：'outer'、'inner'、'left'、'right'。默认为'outer'，表示将所有行或列拼接在一起，inner 表示只拼接重叠部分的行或列，left、right 表示只拼接左侧或右侧的行或列。\n",
    "- ignore_index：指定是否忽略连接后的索引，默认为 False。如果设置为 True，则会自动生成新的索引。\n",
    "- copy：指定是否创建新的数据结构，默认为 True。如果设置为 False，则直接在原始数据结构进行连接。\n"
   ],
   "id": "db691025d19b4eca"
  },
  {
   "metadata": {
    "ExecuteTime": {
     "end_time": "2024-09-03T06:34:28.387464Z",
     "start_time": "2024-09-03T06:34:28.044302Z"
    }
   },
   "cell_type": "code",
   "source": [
    "import pandas as pd\n",
    "data1= pd.DataFrame(data=[['程昱',95,87],['周瑜',92,92],['诸葛亮',97,94],['荀彧',95,92],['陈宫',95,89]], columns=['姓名','物理','生物'])\n",
    "data2= pd.DataFrame(data=[['周瑜','火箭班','男'],['周瑜','火箭班','男'],['诸葛亮','火箭班','男'],['荀彧','火箭班','男'],['陈宫','火箭班','男']],columns=['姓名','班级','性别'])\n",
    "data=pd.concat([data1,data2],axis=1,ignore_index=False,join='outer')\n",
    "print(data)"
   ],
   "id": "c95f7ab45ce47a91",
   "outputs": [
    {
     "name": "stdout",
     "output_type": "stream",
     "text": [
      "    姓名  物理  生物   姓名   班级 性别\n",
      "0   程昱  95  87   周瑜  火箭班  男\n",
      "1   周瑜  92  92   周瑜  火箭班  男\n",
      "2  诸葛亮  97  94  诸葛亮  火箭班  男\n",
      "3   荀彧  95  92   荀彧  火箭班  男\n",
      "4   陈宫  95  89   陈宫  火箭班  男\n"
     ]
    }
   ],
   "execution_count": 1
  },
  {
   "metadata": {
    "ExecuteTime": {
     "end_time": "2024-09-03T06:34:38.003731Z",
     "start_time": "2024-09-03T06:34:37.996696Z"
    }
   },
   "cell_type": "code",
   "source": [
    "import pandas as pd\n",
    "data1= pd.DataFrame(data=[['程昱',95,87],['周瑜',92,92],['诸葛亮',97,94],['荀彧',95,92],['陈宫',95,89]], columns=['姓名','物理','生物'])\n",
    "data2= pd.DataFrame(data=[['刘备',91,88],['张飞',88,89],['赵云',90,90],['关羽',96,93],['马超',91,87]], columns=['姓名','物理','生物'])\n",
    "data=pd.concat([data1,data2],axis=0,ignore_index=False)\n",
    "print(data)"
   ],
   "id": "e48060811d72f43c",
   "outputs": [
    {
     "name": "stdout",
     "output_type": "stream",
     "text": [
      "    姓名  物理  生物\n",
      "0   程昱  95  87\n",
      "1   周瑜  92  92\n",
      "2  诸葛亮  97  94\n",
      "3   荀彧  95  92\n",
      "4   陈宫  95  89\n",
      "0   刘备  91  88\n",
      "1   张飞  88  89\n",
      "2   赵云  90  90\n",
      "3   关羽  96  93\n",
      "4   马超  91  87\n"
     ]
    }
   ],
   "execution_count": 2
  },
  {
   "metadata": {},
   "cell_type": "markdown",
   "source": "### Merge 函数\n",
   "id": "d965f891d85aa849"
  },
  {
   "metadata": {},
   "cell_type": "markdown",
   "source": [
    "与 concat 方法不同，merge 方法更为灵活，它是用于将两个或多个数据对象按照指定的列进行合并操作的方法，concat 函数主要是根据索引进行数据对象之间的合并。\n",
    "\n",
    "方法：pd.merge(left, right, how='inner', on=None,left_index=False, right_index=False, sort=True, suffixes=('_x', '_y'), copy=True)。\n",
    "\n",
    "这里这么多参数，乍一看可能比较心慌。没关系，我们挨着看看这些参数是什么，起什么作用，去一一认识了解他们。\n",
    "\n",
    "- Left, right 是要合并的两个数据对象。\n",
    "- on 指定用于连接的列名，必须是两个数据结构中都存在的列。如果未指定 on 参数，则默认使用左右数据结构中列名的交集进行连接。\n",
    "- left_index 为 True 时连接之后，选择使用左边的 index 或者 column。\n",
    "- right_index 为 True 时连接之后，选择使用右边的 index 或者 column。\n",
    "- suffixes：指定用于追加到重叠列名的字符串值元组，默认为('_x', '_y')。如果左右两个数据结构都有名为'data'的列，则结果中会出现'data_x'和'data_y'两个列。\n",
    "\n",
    "\n",
    "若设 d1 和 d2 为两个 DataFrame 对象，即两张数据表。那我们在使用 merge() 方法进行连接时，则可以使用以下两种写法：\n",
    "\n",
    "- d1.merge(d2)\n",
    "- pd.merge(d1,d2)"
   ],
   "id": "9470d1181cacf1cb"
  },
  {
   "metadata": {},
   "cell_type": "code",
   "outputs": [],
   "execution_count": null,
   "source": "",
   "id": "8a2f7a9c6c464a37"
  }
 ],
 "metadata": {
  "kernelspec": {
   "display_name": "Python 3",
   "language": "python",
   "name": "python3"
  },
  "language_info": {
   "codemirror_mode": {
    "name": "ipython",
    "version": 2
   },
   "file_extension": ".py",
   "mimetype": "text/x-python",
   "name": "python",
   "nbconvert_exporter": "python",
   "pygments_lexer": "ipython2",
   "version": "2.7.6"
  }
 },
 "nbformat": 4,
 "nbformat_minor": 5
}
