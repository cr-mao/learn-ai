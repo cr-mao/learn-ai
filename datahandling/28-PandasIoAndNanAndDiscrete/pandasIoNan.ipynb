{
 "cells": [
  {
   "metadata": {},
   "cell_type": "markdown",
   "source": "### CSV 文件的存储",
   "id": "6eb3125e73d6ea90"
  },
  {
   "metadata": {
    "ExecuteTime": {
     "end_time": "2024-09-03T06:19:36.690877Z",
     "start_time": "2024-09-03T06:19:36.687012Z"
    }
   },
   "cell_type": "code",
   "source": [
    "import csv  \n",
    "data = [      ['张飞', 35, '厨师','男'],  \n",
    "    ['赵云', 42, '经理','男'],  \n",
    "    ['貂蝉', 25, '老板','女']  \n",
    "]\n",
    "csv_file = open(\"data.csv\", \"w\")  \n",
    "writer = csv.writer(csv_file)  \n",
    "writer.writerow(['姓名','年龄','职位','性别'])  \n",
    "for row in data:  \n",
    "    writer.writerow(row)\n",
    "csv_file.close()"
   ],
   "id": "3933dbd718d58e1f",
   "outputs": [],
   "execution_count": 33
  },
  {
   "metadata": {
    "ExecuteTime": {
     "end_time": "2024-09-03T06:19:36.725467Z",
     "start_time": "2024-09-03T06:19:36.722253Z"
    }
   },
   "cell_type": "code",
   "source": [
    "import csv  \n",
    "data = [  \n",
    "    ['张飞', 35, '厨师','男'],  \n",
    "    ['赵云', 42, '经理','男'],  \n",
    "    ['貂蝉', 25, '老板','女']  \n",
    "]  \n",
    "with open('data.csv', 'w', newline='') as file:  \n",
    "    writer = csv.writer(file)  \n",
    "    writer.writerow(['姓名','年龄','职位','性别'])  \n",
    "    for row in data:  \n",
    "        writer.writerow( row)"
   ],
   "id": "a914060459ac3dd0",
   "outputs": [],
   "execution_count": 34
  },
  {
   "metadata": {
    "ExecuteTime": {
     "end_time": "2024-09-03T06:19:36.731194Z",
     "start_time": "2024-09-03T06:19:36.727138Z"
    }
   },
   "cell_type": "code",
   "source": [
    "import pandas as pd  \n",
    "data = [\n",
    "['张飞', 35, '厨师','男'],  \n",
    "    ['赵云', 42, '经理','男'],  \n",
    "    ['貂蝉', 25, '老板','女']  \n",
    "]  \n",
    "data=pd.DataFrame(data,columns=['姓名','年龄','职位','性别'])  \n",
    "data.to_csv('员工信息.csv')"
   ],
   "id": "4ca415a689d63642",
   "outputs": [],
   "execution_count": 35
  },
  {
   "metadata": {
    "ExecuteTime": {
     "end_time": "2024-09-03T06:19:36.734825Z",
     "start_time": "2024-09-03T06:19:36.732308Z"
    }
   },
   "cell_type": "code",
   "source": "### CSV 文件的读取",
   "id": "f787aadc0396a268",
   "outputs": [],
   "execution_count": 36
  },
  {
   "metadata": {
    "ExecuteTime": {
     "end_time": "2024-09-03T06:19:36.739998Z",
     "start_time": "2024-09-03T06:19:36.736724Z"
    }
   },
   "cell_type": "code",
   "source": [
    "import csv\n",
    "data=[]\n",
    "with open('员工信息.csv','r',encoding='utf-8') as csvfile:\n",
    "  reader=csv.reader(csvfile)\n",
    "  for row in reader:\n",
    "      data.append(row)\n",
    "print(data)"
   ],
   "id": "9b3c7c018025339b",
   "outputs": [
    {
     "name": "stdout",
     "output_type": "stream",
     "text": [
      "[['', '姓名', '年龄', '职位', '性别'], ['0', '张飞', '35', '厨师', '男'], ['1', '赵云', '42', '经理', '男'], ['2', '貂蝉', '25', '老板', '女']]\n"
     ]
    }
   ],
   "execution_count": 37
  },
  {
   "metadata": {
    "ExecuteTime": {
     "end_time": "2024-09-03T06:19:36.744909Z",
     "start_time": "2024-09-03T06:19:36.741329Z"
    }
   },
   "cell_type": "code",
   "source": [
    "with open('员工信息.csv', 'r',encoding='utf-8') as file:  \n",
    "    reader = csv.DictReader(file, fieldnames=['姓名', '年龄'])  \n",
    "    for row in reader:  \n",
    "        column1_data = row['姓名']  \n",
    "        column2_data = row['年龄']  \n",
    "        print(column1_data, column2_data)"
   ],
   "id": "585ed98a543ddc38",
   "outputs": [
    {
     "name": "stdout",
     "output_type": "stream",
     "text": [
      " 姓名\n",
      "0 张飞\n",
      "1 赵云\n",
      "2 貂蝉\n"
     ]
    }
   ],
   "execution_count": 38
  },
  {
   "metadata": {},
   "cell_type": "markdown",
   "source": "### excel文件的存储",
   "id": "ea95f04a26e1218f"
  },
  {
   "metadata": {
    "ExecuteTime": {
     "end_time": "2024-09-03T06:19:36.756061Z",
     "start_time": "2024-09-03T06:19:36.746350Z"
    }
   },
   "cell_type": "code",
   "source": [
    "data = [      ['张飞', 35, '厨师','男'],  \n",
    "    ['赵云', 42, '经理','男'],  \n",
    "    ['貂蝉', 25, '老板','女']  \n",
    "]  \n",
    "data=pd.DataFrame(data,columns=['姓名','年龄','职位','性别'])  \n",
    "data.to_excel('公司成员信息.xlsx')"
   ],
   "id": "2bfcb8faed0faa05",
   "outputs": [],
   "execution_count": 39
  },
  {
   "metadata": {
    "ExecuteTime": {
     "end_time": "2024-09-03T06:19:36.759906Z",
     "start_time": "2024-09-03T06:19:36.758095Z"
    }
   },
   "cell_type": "code",
   "source": "",
   "id": "9ef539162d23bacb",
   "outputs": [],
   "execution_count": 39
  },
  {
   "metadata": {
    "ExecuteTime": {
     "end_time": "2024-09-03T06:19:36.769485Z",
     "start_time": "2024-09-03T06:19:36.761010Z"
    }
   },
   "cell_type": "code",
   "source": [
    "import openpyxl  \n",
    "workbook = openpyxl.Workbook()  \n",
    "sheet = workbook.active  \n",
    "data = [      ['张飞', 35, '厨师','男'],  \n",
    "    ['赵云', 42, '经理','男'],  \n",
    "    ['貂蝉', 25, '老板','女']  \n",
    "]  \n",
    "for row in data:  \n",
    "    sheet.append(row)  \n",
    "workbook.save('信息.xlsx')"
   ],
   "id": "ad3c9acfdb015581",
   "outputs": [],
   "execution_count": 40
  },
  {
   "metadata": {},
   "cell_type": "markdown",
   "source": "### Excel 文件的读取",
   "id": "e97ae71058feca66"
  },
  {
   "metadata": {
    "ExecuteTime": {
     "end_time": "2024-09-03T06:19:36.783828Z",
     "start_time": "2024-09-03T06:19:36.772064Z"
    }
   },
   "cell_type": "code",
   "source": [
    "data=pd.read_excel('公司成员信息.xlsx')  \n",
    "print(data)"
   ],
   "id": "d3ca8fc63618bdb3",
   "outputs": [
    {
     "name": "stdout",
     "output_type": "stream",
     "text": [
      "   Unnamed: 0  姓名  年龄  职位 性别\n",
      "0           0  张飞  35  厨师  男\n",
      "1           1  赵云  42  经理  男\n",
      "2           2  貂蝉  25  老板  女\n"
     ]
    }
   ],
   "execution_count": 41
  },
  {
   "metadata": {},
   "cell_type": "markdown",
   "source": "### JSON 文件的存储\n",
   "id": "cd4794afe0993f71"
  },
  {
   "metadata": {
    "ExecuteTime": {
     "end_time": "2024-09-03T06:19:36.790204Z",
     "start_time": "2024-09-03T06:19:36.785614Z"
    }
   },
   "cell_type": "code",
   "source": [
    "import json\n",
    "data={\n",
    "\"code\": 200,\n",
    "\"curTime\": 1686404420073,\n",
    "\"data\": [\n",
    "\"RELWORD=Letting Go\\r\\nSNUM=342561\\r\\nRNUM=1000\\r\\nTYPE=0\",\n",
    "\"RELWORD=Letting Go汪苏泷\\r\\nSNUM=213\\r\\nRNUM=1000\\r\\nTYPE=0\",\n",
    "\"RELWORD=Letting Go  汪苏泷&吉克隽逸\\r\\nSNUM=18610\\r\\nRNUM=1000\\r\\nTYPE=0\"],\n",
    "\"msg\": \"success\",\n",
    "\"profileId\": \"site\",\n",
    "\"reqId\": \"a071fd30be06e0898076d581e19f9c4e\",\n",
    "\"tId\": \"\"\n",
    "}\n",
    "with open('data.json', 'w') as f:\n",
    "    json.dump(data, f)"
   ],
   "id": "e89e6faf846e862b",
   "outputs": [],
   "execution_count": 42
  },
  {
   "metadata": {},
   "cell_type": "markdown",
   "source": "### JSON 文件的读取\n",
   "id": "8ffc908b21812ae1"
  },
  {
   "metadata": {
    "ExecuteTime": {
     "end_time": "2024-09-03T06:19:36.795960Z",
     "start_time": "2024-09-03T06:19:36.791899Z"
    }
   },
   "cell_type": "code",
   "source": [
    "with open('data.json', 'r') as f:  \n",
    "    data = json.load(f)  \n",
    "print(data)"
   ],
   "id": "9d1b2ce17a8137ab",
   "outputs": [
    {
     "name": "stdout",
     "output_type": "stream",
     "text": [
      "{'code': 200, 'curTime': 1686404420073, 'data': ['RELWORD=Letting Go\\r\\nSNUM=342561\\r\\nRNUM=1000\\r\\nTYPE=0', 'RELWORD=Letting Go汪苏泷\\r\\nSNUM=213\\r\\nRNUM=1000\\r\\nTYPE=0', 'RELWORD=Letting Go  汪苏泷&吉克隽逸\\r\\nSNUM=18610\\r\\nRNUM=1000\\r\\nTYPE=0'], 'msg': 'success', 'profileId': 'site', 'reqId': 'a071fd30be06e0898076d581e19f9c4e', 'tId': ''}\n"
     ]
    }
   ],
   "execution_count": 43
  },
  {
   "metadata": {},
   "cell_type": "markdown",
   "source": [
    "## 缺失值\n",
    "\n",
    "isna() #是否是 NAN 空的\n",
    "\n",
    "pandas 中还有着与之相反的函数——notna()，同样我们看名字也能知道，它将不是 NaN 的值标上 False，其余以 True 代替。\n",
    "\n",
    "而在 pandas 中还有两个函数：isnull()、notnull()。其用法功能和上述两个函数一模一样，仅仅是为了适配 R 语言的调整。\n",
    "\n"
   ],
   "id": "d04c2cba5c304444"
  },
  {
   "metadata": {},
   "cell_type": "markdown",
   "source": [
    "方法：dataframe.any(axis, bool_only, skip_na, level, kwargs)\n",
    "\n",
    "参数\t\t说明\n",
    "axis\t0 1 'index' 'columns'\t被查找的轴，默认为 0。\n",
    "bool_only\tNone True False\t指定是否仅检查 Boolean 列。默认 None\n",
    "skip_na\tTrue False\t默认为 True。如果结果不应跳过空值，则设置为 False\n",
    "level\tNumber level name\t默认 None。指定要沿哪个级别（在分层多索引中）计数\n",
    "\n",
    "\n",
    "print(Score.isna().any()) #判断一列是否有缺失值\n",
    "\n",
    "可以看见 any 函数默认为统计列，如果该列中存在一个 True，整个列的值便为 True。通过这样的方法，我们就可以直接看出是哪几列有缺失值\n"
   ],
   "id": "385aae7c44cd3756"
  },
  {
   "metadata": {},
   "cell_type": "markdown",
   "source": [
    " sum，它是将一组数据进行求和，再利用该函数对布尔型数据求和时 False 等价于 0，True 等价于 1，若某一列或行的数据不为 0 则表示该列或行存在空缺值\n",
    " \n",
    "print(Score.isna().sum())\n"
   ],
   "id": "8b2989fba12d4321"
  },
  {
   "metadata": {},
   "cell_type": "markdown",
   "source": "缺失率 print(Score.isna().mean())\n",
   "id": "2407f85b469a93f6"
  },
  {
   "metadata": {},
   "cell_type": "markdown",
   "source": [
    "info方法,看整体。\n",
    "\n",
    "print(Score.info())\n"
   ],
   "id": "dd7204ceee6ff956"
  },
  {
   "metadata": {},
   "cell_type": "markdown",
   "source": "##  缺失值处理",
   "id": "dc6deab780185051"
  },
  {
   "metadata": {},
   "cell_type": "markdown",
   "source": [
    "### 删除空缺值\n",
    "\n",
    "方法：dropna（axis=，how=，inplace=）\n",
    "\n",
    "参数：\n",
    "- axis 指出按行还是按列删除，axis=0 为按行删除，axis=1 为按列。\n",
    "- how 为 any 即只要有一个空缺值就删除，为 all 即全部都是空缺值才删除。\n",
    "- Inplace 即是否在原来的数据对象上进行修改。\n"
   ],
   "id": "7c9c733609f0275a"
  },
  {
   "metadata": {},
   "cell_type": "markdown",
   "source": [
    "### 填充空缺值\n",
    "同样，为了能够对空缺值进行填充，Pandas 为我们提供了 fillna 方法，通过该方法我们能够将空缺值按照一定的法则进行填充，将空缺的数据补上。该方式适合那些前后数据有一定联系，如果删除会对整体数据有一定影响的情况。\n",
    "\n",
    "方法：fillna(value=None, method=None, axis=None, inplace=False, limit=None)\n",
    "\n",
    "参数：\n",
    "\n",
    "- value：要用来填充缺失值的值或字典。\n",
    "- method：用来填充缺失值的方法，可以是 ffill（向前填充）或 bfill（向后填充），默认为 None。\n",
    "- axis：对缺失值填充的轴，可以是 0（默认，按列填充）或 1（按行填充）。\n",
    "- inplace：是否在原数据帧中进行填充，默认为 False。\n",
    "- limit：限制向前或向后填充的最大数量。"
   ],
   "id": "b2eeefefeb8f2d"
  },
  {
   "metadata": {},
   "cell_type": "markdown",
   "source": "",
   "id": "4b1bcca47477f82c"
  },
  {
   "metadata": {},
   "cell_type": "markdown",
   "source": "那么，首先想到的自然是平均数、中位数等等，虽然它很简单，但是这在许多时候有不错的效果。一般来说：如对于连续型数据，通常使用平均值和中位数，对于离散型数据则一般使用众数更加合理。",
   "id": "9ff2d2ab80c26eb"
  },
  {
   "metadata": {},
   "cell_type": "markdown",
   "source": "print(Score.fillna(value={'数学':Score['数学'].mode()[0],'英语':Score['英语'].mode()[0],'物理':Score['物理'].mode()[0]}))\n",
   "id": "7b433a9308574e3f"
  },
  {
   "metadata": {},
   "cell_type": "markdown",
   "source": "print(Score.interpolate()) # 线性，通过斜率来填充缺失值。",
   "id": "bc42416c234a0e57"
  },
  {
   "metadata": {},
   "cell_type": "markdown",
   "source": [
    "### 数据离散化\n",
    "\n",
    "qcut\n",
    "\n",
    "Pandas 的 qcut 函数是数据进行均匀分配，每个区间的样本数相同。该种方式更适合将数据进行分级，比如奖学金的评定我们便可以利用该方法将学生按照成绩等分成几组从而判定奖学金等级。\n",
    "\n",
    "方法：qcut(x,q,labels)，其中 x 表示要进行离散化处理的数据，q 表示要将该组数据分成几组，labels 表示每个区间的标签，可以是一个布尔序列（True 表示该区间包含该数据点）或一个字符串序列。如果 labels 为 None，则 Pandas 会自动生成标签。"
   ],
   "id": "28efb2bf26e5b3a0"
  },
  {
   "metadata": {
    "ExecuteTime": {
     "end_time": "2024-09-03T06:19:36.814811Z",
     "start_time": "2024-09-03T06:19:36.808726Z"
    }
   },
   "cell_type": "code",
   "source": [
    "import pandas as pd\n",
    "data = [76, 89, 73, 96, 95, 84, 87]\n",
    "data = pd.Series(data, index=['张飞', '周瑜', '甘宁', '诸葛亮', '荀彧', '刘备', '张辽'])\n",
    "data = pd.qcut(data, q=3, labels=['三等奖学金', '二等奖学金', '一等奖学金'])\n",
    "print(data)"
   ],
   "id": "ff31ff2fc44df3c2",
   "outputs": [
    {
     "name": "stdout",
     "output_type": "stream",
     "text": [
      "张飞     三等奖学金\n",
      "周瑜     二等奖学金\n",
      "甘宁     三等奖学金\n",
      "诸葛亮    一等奖学金\n",
      "荀彧     一等奖学金\n",
      "刘备     三等奖学金\n",
      "张辽     二等奖学金\n",
      "dtype: category\n",
      "Categories (3, object): ['三等奖学金' < '二等奖学金' < '一等奖学金']\n"
     ]
    }
   ],
   "execution_count": 44
  },
  {
   "metadata": {},
   "cell_type": "markdown",
   "source": [
    "cut 方法\n",
    "\n",
    "Pandas 的 cut 函数更为灵活，它能够根据我们提供的分区边界，将数据进行离散化处理。该方法更适合定性分析，比如我们将低于 80 分的成绩定义为三等奖、80 分到 90 分之间为二等奖，90 分到 100 分定义为一等奖，这样我们就可以将一系列成绩用这三个奖项来表示。\n",
    "\n",
    "方法：pd.cut(x, bins, right, labels, retbins, )。其中 x 为分组的数据，bins 为分组的分割点。right：如果为 True，则区间的右端点会被包含在区间的范围内；如果为 False，则区间的左端点会被包含在区间的范围内。labels 表示每个区间的标签，可以是一个布尔序列（True 表示该区间包含该数据点）或一个字符串序列。如果 labels 为 None，则 Pandas 会自动生成标签。"
   ],
   "id": "6de1835d5ad5e9ab"
  },
  {
   "metadata": {
    "ExecuteTime": {
     "end_time": "2024-09-03T06:19:36.828580Z",
     "start_time": "2024-09-03T06:19:36.819845Z"
    }
   },
   "cell_type": "code",
   "source": [
    "import pandas as pd\n",
    "data = [76, 89, 73, 96, 95, 84, 87]\n",
    "data = pd.Series(data, index=['张飞', '周瑜', '甘宁', '诸葛亮', '荀彧', '刘备', '张辽'])\n",
    "data=pd.cut(data,bins=[0,80,90,100],labels=['三等奖学金', '二等奖学金', '一等奖学金'])\n",
    "print(data)"
   ],
   "id": "782b505a882598dc",
   "outputs": [
    {
     "name": "stdout",
     "output_type": "stream",
     "text": [
      "张飞     三等奖学金\n",
      "周瑜     二等奖学金\n",
      "甘宁     三等奖学金\n",
      "诸葛亮    一等奖学金\n",
      "荀彧     一等奖学金\n",
      "刘备     二等奖学金\n",
      "张辽     二等奖学金\n",
      "dtype: category\n",
      "Categories (3, object): ['三等奖学金' < '二等奖学金' < '一等奖学金']\n"
     ]
    }
   ],
   "execution_count": 45
  },
  {
   "metadata": {
    "ExecuteTime": {
     "end_time": "2024-09-03T06:19:36.842559Z",
     "start_time": "2024-09-03T06:19:36.837729Z"
    }
   },
   "cell_type": "code",
   "source": "data.value_counts()",
   "id": "4a390dfee48d7be1",
   "outputs": [
    {
     "data": {
      "text/plain": [
       "二等奖学金    3\n",
       "三等奖学金    2\n",
       "一等奖学金    2\n",
       "Name: count, dtype: int64"
      ]
     },
     "execution_count": 46,
     "metadata": {},
     "output_type": "execute_result"
    }
   ],
   "execution_count": 46
  },
  {
   "metadata": {},
   "cell_type": "markdown",
   "source": "在 pandas 中我们使用 get_dummies() 去将数据进行 one-hot 编码。one-hot 编码提供了解决办法，它用于将离散化后的数据表示为二进制向量。这种编码方式可以将每个离散化后的值表示为一个唯一的二进制向量，通常数值为 1 代表具有该属性，为 0 则相反。",
   "id": "2bb3f77f0776df81"
  },
  {
   "metadata": {
    "ExecuteTime": {
     "end_time": "2024-09-03T06:19:36.873108Z",
     "start_time": "2024-09-03T06:19:36.868399Z"
    }
   },
   "cell_type": "code",
   "source": [
    "data=pd.get_dummies(data)\n",
    "print(data)\n"
   ],
   "id": "6398ada7d714b111",
   "outputs": [
    {
     "name": "stdout",
     "output_type": "stream",
     "text": [
      "     三等奖学金  二等奖学金  一等奖学金\n",
      "张飞    True  False  False\n",
      "周瑜   False   True  False\n",
      "甘宁    True  False  False\n",
      "诸葛亮  False  False   True\n",
      "荀彧   False  False   True\n",
      "刘备   False   True  False\n",
      "张辽   False   True  False\n"
     ]
    }
   ],
   "execution_count": 47
  },
  {
   "metadata": {
    "ExecuteTime": {
     "end_time": "2024-09-03T06:19:36.881760Z",
     "start_time": "2024-09-03T06:19:36.878593Z"
    }
   },
   "cell_type": "code",
   "source": "print(data.loc[\"张飞\"].astype(int))",
   "id": "92e3c4313488d229",
   "outputs": [
    {
     "name": "stdout",
     "output_type": "stream",
     "text": [
      "三等奖学金    1\n",
      "二等奖学金    0\n",
      "一等奖学金    0\n",
      "Name: 张飞, dtype: int64\n"
     ]
    }
   ],
   "execution_count": 48
  },
  {
   "metadata": {
    "ExecuteTime": {
     "end_time": "2024-09-03T06:19:36.897847Z",
     "start_time": "2024-09-03T06:19:36.894901Z"
    }
   },
   "cell_type": "code",
   "source": "print(data.loc[\"张飞\"].astype(int).to_numpy())",
   "id": "8608d65d3d60c6b",
   "outputs": [
    {
     "name": "stdout",
     "output_type": "stream",
     "text": [
      "[1 0 0]\n"
     ]
    }
   ],
   "execution_count": 49
  },
  {
   "metadata": {
    "ExecuteTime": {
     "end_time": "2024-09-03T06:19:36.921255Z",
     "start_time": "2024-09-03T06:19:36.919046Z"
    }
   },
   "cell_type": "code",
   "source": "",
   "id": "a589302b4241871a",
   "outputs": [],
   "execution_count": 49
  }
 ],
 "metadata": {
  "kernelspec": {
   "display_name": "Python 3",
   "language": "python",
   "name": "python3"
  },
  "language_info": {
   "codemirror_mode": {
    "name": "ipython",
    "version": 2
   },
   "file_extension": ".py",
   "mimetype": "text/x-python",
   "name": "python",
   "nbconvert_exporter": "python",
   "pygments_lexer": "ipython2",
   "version": "2.7.6"
  }
 },
 "nbformat": 4,
 "nbformat_minor": 5
}
