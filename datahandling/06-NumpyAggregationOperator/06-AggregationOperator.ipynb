{
 "cells": [
  {
   "cell_type": "markdown",
   "metadata": {},
   "source": [
    "##  ``Numpy`` 中的聚合操作\n",
    "\n",
    "### numpy计算函数\n",
    "\n",
    "方法：add() 加法函数，subtract() 减法函数，multiply() 乘法函数，divide() 除法函数，mod() 取余函数。\n",
    "\n",
    "### 统计函数\n",
    "- Mean\t求平均值\n",
    "- median 求中位数\n",
    "- Sum\t求和\n",
    "- Max/min\t求最大值最小值\n",
    "- Std/var\t标准差/方差\n",
    "- Argmax/argmin\t求最大值最小值下标\n",
    "- prod 所有元素相乘\n",
    "\n"
   ]
  },
  {
   "metadata": {
    "ExecuteTime": {
     "end_time": "2024-08-23T01:37:16.500559Z",
     "start_time": "2024-08-23T01:37:16.450279Z"
    }
   },
   "cell_type": "code",
   "source": [
    "import numpy as np\n",
    "Score=np.array([[69 ,70] ,[80 ,92], [90, 63],[40, 20],[60, 50],[20, 96],[90, 33],[94 ,44],[90, 55],[99 ,30]])#学生前后两次的成绩表\n",
    "Score_F=np.array([69,80,90,40,60,20,90,94,90,99])#第一次成绩\n",
    "Score_S=np.array([70,92,63,20,50,96,33,44,55,30])#第二次成绩\n",
    "Score_chaju=np.subtract(Score_F,Score_S)\n",
    "print('查看两次成绩的差距',Score_chaju)\n",
    "print('查看两次成绩的差距，差距以正数显示',np.abs(Score_chaju))\n",
    "print('求两次成绩的和',np.add(Score_F,Score_S))\n",
    "# 用第一次成绩的 0.6 倍加第二次成绩的 0.4 倍作为最终成绩，混合使用加法、乘法函数。示例如下：\n",
    "print('第一次成绩的0.6加第二次成绩的0.4',np.add(np.multiply(Score_F,0.6),np.multiply(Score_S,0.4)))\n",
    "\n",
    "print('百分制转换成十分制',np.divide(Score,10))\n",
    "\n",
    "\n",
    "print('对浮动的数值进行开方，放缩：',np.sqrt(np.abs(Score_chaju)))\n",
    "\n",
    "print('对浮动值进行平方，放大',np.square(np.abs(Score_chaju)))  \n",
    "print('求浮动值的4次幂',np.power(np.abs(Score_chaju),4))\n"
   ],
   "outputs": [
    {
     "name": "stdout",
     "output_type": "stream",
     "text": [
      "查看两次成绩的差距 [ -1 -12  27  20  10 -76  57  50  35  69]\n",
      "查看两次成绩的差距，差距以正数显示 [ 1 12 27 20 10 76 57 50 35 69]\n",
      "求两次成绩的和 [139 172 153  60 110 116 123 138 145 129]\n",
      "第一次成绩的0.6加第二次成绩的0.4 [69.4 84.8 79.2 32.  56.  50.4 67.2 74.  76.  71.4]\n",
      "百分制转换成十分制 [[6.9 7. ]\n",
      " [8.  9.2]\n",
      " [9.  6.3]\n",
      " [4.  2. ]\n",
      " [6.  5. ]\n",
      " [2.  9.6]\n",
      " [9.  3.3]\n",
      " [9.4 4.4]\n",
      " [9.  5.5]\n",
      " [9.9 3. ]]\n",
      "对浮动的数值进行开方，放缩： [1.         3.46410162 5.19615242 4.47213595 3.16227766 8.71779789\n",
      " 7.54983444 7.07106781 5.91607978 8.30662386]\n",
      "对浮动值进行平方，放大 [   1  144  729  400  100 5776 3249 2500 1225 4761]\n",
      "求浮动值的4次幂 [       1    20736   531441   160000    10000 33362176 10556001  6250000\n",
      "  1500625 22667121]\n"
     ]
    }
   ],
   "execution_count": 1
  },
  {
   "cell_type": "code",
   "metadata": {
    "ExecuteTime": {
     "end_time": "2024-08-23T01:37:16.546212Z",
     "start_time": "2024-08-23T01:37:16.504916Z"
    }
   },
   "source": [
    "L = np.random.random(100)\n",
    "sum(L)"
   ],
   "outputs": [
    {
     "data": {
      "text/plain": [
       "np.float64(49.853623071844495)"
      ]
     },
     "execution_count": 2,
     "metadata": {},
     "output_type": "execute_result"
    }
   ],
   "execution_count": 2
  },
  {
   "cell_type": "code",
   "metadata": {
    "ExecuteTime": {
     "end_time": "2024-08-23T01:37:16.550991Z",
     "start_time": "2024-08-23T01:37:16.547628Z"
    }
   },
   "source": [
    "np.sum(L)"
   ],
   "outputs": [
    {
     "data": {
      "text/plain": [
       "np.float64(49.85362307184448)"
      ]
     },
     "execution_count": 3,
     "metadata": {},
     "output_type": "execute_result"
    }
   ],
   "execution_count": 3
  },
  {
   "cell_type": "code",
   "metadata": {
    "ExecuteTime": {
     "end_time": "2024-08-23T01:37:39.524036Z",
     "start_time": "2024-08-23T01:37:16.553601Z"
    }
   },
   "source": [
    "big_array = np.random.rand(1000000)\n",
    "%timeit sum(big_array)\n",
    "%timeit np.sum(big_array)"
   ],
   "outputs": [
    {
     "name": "stdout",
     "output_type": "stream",
     "text": [
      "81.9 ms ± 769 μs per loop (mean ± std. dev. of 7 runs, 10 loops each)\n",
      "200 μs ± 1.36 μs per loop (mean ± std. dev. of 7 runs, 10,000 loops each)\n"
     ]
    }
   ],
   "execution_count": 4
  },
  {
   "cell_type": "markdown",
   "metadata": {},
   "source": [
    "### min, max"
   ]
  },
  {
   "cell_type": "code",
   "metadata": {
    "ExecuteTime": {
     "end_time": "2024-08-23T01:37:39.529513Z",
     "start_time": "2024-08-23T01:37:39.525719Z"
    }
   },
   "source": [
    "np.min(big_array)"
   ],
   "outputs": [
    {
     "data": {
      "text/plain": [
       "np.float64(4.476459718461001e-07)"
      ]
     },
     "execution_count": 5,
     "metadata": {},
     "output_type": "execute_result"
    }
   ],
   "execution_count": 5
  },
  {
   "cell_type": "code",
   "metadata": {
    "ExecuteTime": {
     "end_time": "2024-08-23T01:37:39.533882Z",
     "start_time": "2024-08-23T01:37:39.530536Z"
    }
   },
   "source": [
    "np.max(big_array)"
   ],
   "outputs": [
    {
     "data": {
      "text/plain": [
       "np.float64(0.9999960011127178)"
      ]
     },
     "execution_count": 6,
     "metadata": {},
     "output_type": "execute_result"
    }
   ],
   "execution_count": 6
  },
  {
   "cell_type": "code",
   "metadata": {
    "ExecuteTime": {
     "end_time": "2024-08-23T01:37:39.538635Z",
     "start_time": "2024-08-23T01:37:39.535219Z"
    }
   },
   "source": [
    "big_array.min()"
   ],
   "outputs": [
    {
     "data": {
      "text/plain": [
       "np.float64(4.476459718461001e-07)"
      ]
     },
     "execution_count": 7,
     "metadata": {},
     "output_type": "execute_result"
    }
   ],
   "execution_count": 7
  },
  {
   "cell_type": "code",
   "metadata": {
    "ExecuteTime": {
     "end_time": "2024-08-23T01:37:39.542918Z",
     "start_time": "2024-08-23T01:37:39.539508Z"
    }
   },
   "source": [
    "big_array.max()"
   ],
   "outputs": [
    {
     "data": {
      "text/plain": [
       "np.float64(0.9999960011127178)"
      ]
     },
     "execution_count": 8,
     "metadata": {},
     "output_type": "execute_result"
    }
   ],
   "execution_count": 8
  },
  {
   "cell_type": "code",
   "metadata": {
    "ExecuteTime": {
     "end_time": "2024-08-23T01:37:39.548491Z",
     "start_time": "2024-08-23T01:37:39.544266Z"
    }
   },
   "source": [
    "big_array.sum()"
   ],
   "outputs": [
    {
     "data": {
      "text/plain": [
       "np.float64(500137.927918418)"
      ]
     },
     "execution_count": 9,
     "metadata": {},
     "output_type": "execute_result"
    }
   ],
   "execution_count": 9
  },
  {
   "cell_type": "markdown",
   "metadata": {},
   "source": [
    "### 多维度聚合"
   ]
  },
  {
   "cell_type": "code",
   "metadata": {
    "ExecuteTime": {
     "end_time": "2024-08-23T01:37:39.555294Z",
     "start_time": "2024-08-23T01:37:39.551589Z"
    }
   },
   "source": [
    "X = np.arange(16).reshape(4,-1)\n",
    "X"
   ],
   "outputs": [
    {
     "data": {
      "text/plain": [
       "array([[ 0,  1,  2,  3],\n",
       "       [ 4,  5,  6,  7],\n",
       "       [ 8,  9, 10, 11],\n",
       "       [12, 13, 14, 15]])"
      ]
     },
     "execution_count": 10,
     "metadata": {},
     "output_type": "execute_result"
    }
   ],
   "execution_count": 10
  },
  {
   "cell_type": "code",
   "metadata": {
    "ExecuteTime": {
     "end_time": "2024-08-23T01:37:39.559701Z",
     "start_time": "2024-08-23T01:37:39.556148Z"
    }
   },
   "source": [
    "np.sum(X)"
   ],
   "outputs": [
    {
     "data": {
      "text/plain": [
       "np.int64(120)"
      ]
     },
     "execution_count": 11,
     "metadata": {},
     "output_type": "execute_result"
    }
   ],
   "execution_count": 11
  },
  {
   "cell_type": "code",
   "metadata": {
    "ExecuteTime": {
     "end_time": "2024-08-23T01:37:39.564139Z",
     "start_time": "2024-08-23T01:37:39.560742Z"
    }
   },
   "source": [
    "np.sum(X, axis=0)"
   ],
   "outputs": [
    {
     "data": {
      "text/plain": [
       "array([24, 28, 32, 36])"
      ]
     },
     "execution_count": 12,
     "metadata": {},
     "output_type": "execute_result"
    }
   ],
   "execution_count": 12
  },
  {
   "cell_type": "code",
   "metadata": {
    "ExecuteTime": {
     "end_time": "2024-08-23T01:37:39.568378Z",
     "start_time": "2024-08-23T01:37:39.565465Z"
    }
   },
   "source": [
    "np.sum(X, axis=1)"
   ],
   "outputs": [
    {
     "data": {
      "text/plain": [
       "array([ 6, 22, 38, 54])"
      ]
     },
     "execution_count": 13,
     "metadata": {},
     "output_type": "execute_result"
    }
   ],
   "execution_count": 13
  },
  {
   "cell_type": "markdown",
   "metadata": {},
   "source": [
    "注意：axis描述的是将要被压缩的维度。"
   ]
  },
  {
   "cell_type": "markdown",
   "metadata": {},
   "source": [
    "### 其他聚合操作"
   ]
  },
  {
   "metadata": {},
   "cell_type": "markdown",
   "source": "prod所有元素相乘"
  },
  {
   "cell_type": "code",
   "metadata": {
    "ExecuteTime": {
     "end_time": "2024-08-23T01:37:39.572633Z",
     "start_time": "2024-08-23T01:37:39.569106Z"
    }
   },
   "source": "np.prod(X)",
   "outputs": [
    {
     "data": {
      "text/plain": [
       "np.int64(0)"
      ]
     },
     "execution_count": 14,
     "metadata": {},
     "output_type": "execute_result"
    }
   ],
   "execution_count": 14
  },
  {
   "cell_type": "code",
   "metadata": {
    "ExecuteTime": {
     "end_time": "2024-08-23T01:37:39.576288Z",
     "start_time": "2024-08-23T01:37:39.573513Z"
    }
   },
   "source": [
    "np.prod(X + 1)"
   ],
   "outputs": [
    {
     "data": {
      "text/plain": [
       "np.int64(20922789888000)"
      ]
     },
     "execution_count": 15,
     "metadata": {},
     "output_type": "execute_result"
    }
   ],
   "execution_count": 15
  },
  {
   "cell_type": "code",
   "metadata": {
    "ExecuteTime": {
     "end_time": "2024-08-23T01:37:39.583054Z",
     "start_time": "2024-08-23T01:37:39.578179Z"
    }
   },
   "source": [
    "np.mean(X)"
   ],
   "outputs": [
    {
     "data": {
      "text/plain": [
       "np.float64(7.5)"
      ]
     },
     "execution_count": 16,
     "metadata": {},
     "output_type": "execute_result"
    }
   ],
   "execution_count": 16
  },
  {
   "metadata": {},
   "cell_type": "markdown",
   "source": "median中位数， 如果是偶数个数则返回平均数"
  },
  {
   "cell_type": "code",
   "metadata": {
    "ExecuteTime": {
     "end_time": "2024-08-23T01:37:39.587941Z",
     "start_time": "2024-08-23T01:37:39.584273Z"
    }
   },
   "source": "np.median(X)",
   "outputs": [
    {
     "data": {
      "text/plain": [
       "np.float64(7.5)"
      ]
     },
     "execution_count": 17,
     "metadata": {},
     "output_type": "execute_result"
    }
   ],
   "execution_count": 17
  },
  {
   "cell_type": "code",
   "metadata": {
    "ExecuteTime": {
     "end_time": "2024-08-23T01:37:39.592516Z",
     "start_time": "2024-08-23T01:37:39.588939Z"
    }
   },
   "source": [
    "v = np.array([1, 1, 2, 2, 10])\n",
    "np.mean(v)"
   ],
   "outputs": [
    {
     "data": {
      "text/plain": [
       "np.float64(3.2)"
      ]
     },
     "execution_count": 18,
     "metadata": {},
     "output_type": "execute_result"
    }
   ],
   "execution_count": 18
  },
  {
   "cell_type": "code",
   "metadata": {
    "ExecuteTime": {
     "end_time": "2024-08-23T01:37:39.598613Z",
     "start_time": "2024-08-23T01:37:39.594384Z"
    }
   },
   "source": [
    "np.median(v)"
   ],
   "outputs": [
    {
     "data": {
      "text/plain": [
       "np.float64(2.0)"
      ]
     },
     "execution_count": 19,
     "metadata": {},
     "output_type": "execute_result"
    }
   ],
   "execution_count": 19
  },
  {
   "metadata": {},
   "cell_type": "markdown",
   "source": [
    "percentile ,百分位数\n",
    "\n",
    "np.percentile(a,q,axis)"
   ]
  },
  {
   "cell_type": "code",
   "metadata": {
    "ExecuteTime": {
     "end_time": "2024-08-23T01:37:39.616921Z",
     "start_time": "2024-08-23T01:37:39.599813Z"
    }
   },
   "source": [
    "np.percentile(big_array, q=50)"
   ],
   "outputs": [
    {
     "data": {
      "text/plain": [
       "np.float64(0.5002359216542247)"
      ]
     },
     "execution_count": 20,
     "metadata": {},
     "output_type": "execute_result"
    }
   ],
   "execution_count": 20
  },
  {
   "cell_type": "code",
   "metadata": {
    "ExecuteTime": {
     "end_time": "2024-08-23T01:37:39.649026Z",
     "start_time": "2024-08-23T01:37:39.618536Z"
    }
   },
   "source": [
    "np.median(big_array)"
   ],
   "outputs": [
    {
     "data": {
      "text/plain": [
       "np.float64(0.5002359216542247)"
      ]
     },
     "execution_count": 21,
     "metadata": {},
     "output_type": "execute_result"
    }
   ],
   "execution_count": 21
  },
  {
   "cell_type": "code",
   "metadata": {
    "ExecuteTime": {
     "end_time": "2024-08-23T01:37:39.658240Z",
     "start_time": "2024-08-23T01:37:39.650479Z"
    }
   },
   "source": [
    "np.percentile(big_array, q=100)"
   ],
   "outputs": [
    {
     "data": {
      "text/plain": [
       "np.float64(0.9999960011127178)"
      ]
     },
     "execution_count": 22,
     "metadata": {},
     "output_type": "execute_result"
    }
   ],
   "execution_count": 22
  },
  {
   "cell_type": "code",
   "metadata": {
    "ExecuteTime": {
     "end_time": "2024-08-23T01:37:39.662804Z",
     "start_time": "2024-08-23T01:37:39.659448Z"
    }
   },
   "source": [
    "np.max(big_array)"
   ],
   "outputs": [
    {
     "data": {
      "text/plain": [
       "np.float64(0.9999960011127178)"
      ]
     },
     "execution_count": 23,
     "metadata": {},
     "output_type": "execute_result"
    }
   ],
   "execution_count": 23
  },
  {
   "cell_type": "code",
   "metadata": {
    "ExecuteTime": {
     "end_time": "2024-08-23T01:37:39.709318Z",
     "start_time": "2024-08-23T01:37:39.663795Z"
    }
   },
   "source": [
    "for percent in [0, 25, 50, 75, 100]:\n",
    "    print(np.percentile(big_array, q=percent))"
   ],
   "outputs": [
    {
     "name": "stdout",
     "output_type": "stream",
     "text": [
      "4.476459718461001e-07\n",
      "0.2498524833073445\n",
      "0.5002359216542247\n",
      "0.7504363996854757\n",
      "0.9999960011127178\n"
     ]
    }
   ],
   "execution_count": 24
  },
  {
   "cell_type": "code",
   "metadata": {
    "ExecuteTime": {
     "end_time": "2024-08-23T01:37:39.721045Z",
     "start_time": "2024-08-23T01:37:39.714220Z"
    }
   },
   "source": [
    "np.var(big_array)"
   ],
   "outputs": [
    {
     "data": {
      "text/plain": [
       "np.float64(0.08343264706522127)"
      ]
     },
     "execution_count": 25,
     "metadata": {},
     "output_type": "execute_result"
    }
   ],
   "execution_count": 25
  },
  {
   "cell_type": "code",
   "metadata": {
    "ExecuteTime": {
     "end_time": "2024-08-23T01:37:39.732253Z",
     "start_time": "2024-08-23T01:37:39.722876Z"
    }
   },
   "source": [
    "np.std(big_array)"
   ],
   "outputs": [
    {
     "data": {
      "text/plain": [
       "np.float64(0.2888470998040681)"
      ]
     },
     "execution_count": 26,
     "metadata": {},
     "output_type": "execute_result"
    }
   ],
   "execution_count": 26
  },
  {
   "cell_type": "code",
   "metadata": {
    "collapsed": true,
    "ExecuteTime": {
     "end_time": "2024-08-23T01:37:39.765355Z",
     "start_time": "2024-08-23T01:37:39.733174Z"
    }
   },
   "source": [
    "x = np.random.normal(0, 1, 1000000)"
   ],
   "outputs": [],
   "execution_count": 27
  },
  {
   "cell_type": "code",
   "metadata": {
    "ExecuteTime": {
     "end_time": "2024-08-23T01:37:39.775220Z",
     "start_time": "2024-08-23T01:37:39.771418Z"
    }
   },
   "source": [
    "np.mean(x)"
   ],
   "outputs": [
    {
     "data": {
      "text/plain": [
       "np.float64(-0.0005579253820011571)"
      ]
     },
     "execution_count": 28,
     "metadata": {},
     "output_type": "execute_result"
    }
   ],
   "execution_count": 28
  },
  {
   "cell_type": "code",
   "metadata": {
    "ExecuteTime": {
     "end_time": "2024-08-23T01:37:39.780732Z",
     "start_time": "2024-08-23T01:37:39.776290Z"
    }
   },
   "source": "np.std(x)",
   "outputs": [
    {
     "data": {
      "text/plain": [
       "np.float64(1.0010114502850682)"
      ]
     },
     "execution_count": 29,
     "metadata": {},
     "output_type": "execute_result"
    }
   ],
   "execution_count": 29
  }
 ],
 "metadata": {
  "kernelspec": {
   "display_name": "Python 3",
   "language": "python",
   "name": "python3"
  },
  "language_info": {
   "codemirror_mode": {
    "name": "ipython",
    "version": 3
   },
   "file_extension": ".py",
   "mimetype": "text/x-python",
   "name": "python",
   "nbconvert_exporter": "python",
   "pygments_lexer": "ipython3",
   "version": "3.6.1"
  }
 },
 "nbformat": 4,
 "nbformat_minor": 2
}
