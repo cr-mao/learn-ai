{
 "cells": [
  {
   "cell_type": "markdown",
   "metadata": {},
   "source": [
    "## ``numpy.array`` 合并和分割\n",
    "\n",
    "\n",
    "### concatenate 方法\n",
    "- concatenate 方法较为灵活，它既能够实现数组的水平合并，也能够实现数组的垂直合并，主要通过设置参数 axis 合并轴向来完成。\n",
    "\n",
    "- 方法：concatenate(arrays,axis,dtype)。\n",
    "- 其中，arrays 为待合并的数组序列；\n",
    "- axis 为合并轴向，设置为 0 时为垂直合并，设置为 1 时为水平合并，默认设置为 0；\n",
    "- dtype 为合并后数组的数据类型。\n",
    "\n",
    "\n",
    "### hstack 方法\n",
    "- hstack 方法能够对数组进行水平合并。\n",
    "- 方法：numpy.hstack(arrays)，其中 arrays 为要合并的数组序列。\n",
    "\n",
    "### column_stack 方法\n",
    "方法：column_stack(tup)，其中 tup 为要合并的数组序列。\n",
    "\n",
    "感觉效果和hstack一致\n",
    "\n",
    "\n",
    "### vstack 方法\n",
    "- 能够对数组进行垂直合并，观察该方法我们发现其与 hstack 只有一个字符的差别，hstack 的 h 代表水平，vstack 中的 v 代表垂直，所以 vstack 用于实现数组的垂直合并。\n",
    "- 方法：numpy.vstack(arrays)，其中 arrays 为要合并的数组序列。\n",
    "\n",
    "\n",
    "### row_stack 方法\n",
    "- row_stack 与 column_stack 是对应的，row 是行的意思，column 是列的意思，所以 row_stack 是按行合并，column_stack 是行列合并。\n",
    "- 方法：row_stack(tup)，其中 tup 用于指出待垂直合并的数组序列。"
   ]
  },
  {
   "cell_type": "code",
   "metadata": {
    "collapsed": true,
    "ExecuteTime": {
     "end_time": "2024-08-22T15:23:58.119311Z",
     "start_time": "2024-08-22T15:23:58.054117Z"
    }
   },
   "source": [
    "import numpy as np"
   ],
   "outputs": [],
   "execution_count": 1
  },
  {
   "cell_type": "markdown",
   "metadata": {},
   "source": [
    "### ``numpy.array`` 的合并"
   ]
  },
  {
   "metadata": {
    "ExecuteTime": {
     "end_time": "2024-08-22T15:23:58.125709Z",
     "start_time": "2024-08-22T15:23:58.121341Z"
    }
   },
   "cell_type": "code",
   "source": [
    "Stock1=np.array([[14.322,14.552],[14.472,14.532],[14.592,15.022],[14.852,14.802]])  \n",
    "Stock2=np.array([[14.652,14.192],[14.832,14.422],[15.022,14.592],[15.152,14.722]])  \n",
    "# axis=1 水平合并\n",
    "Stock=np.concatenate((Stock1,Stock2),axis=1)  \n",
    "print(Stock)"
   ],
   "outputs": [
    {
     "name": "stdout",
     "output_type": "stream",
     "text": [
      "[[14.322 14.552 14.652 14.192]\n",
      " [14.472 14.532 14.832 14.422]\n",
      " [14.592 15.022 15.022 14.592]\n",
      " [14.852 14.802 15.152 14.722]]\n"
     ]
    }
   ],
   "execution_count": 2
  },
  {
   "cell_type": "code",
   "metadata": {
    "collapsed": true,
    "ExecuteTime": {
     "end_time": "2024-08-22T15:23:58.129385Z",
     "start_time": "2024-08-22T15:23:58.126843Z"
    }
   },
   "source": [
    "x = np.array([1, 2, 3])\n",
    "y = np.array([3, 2, 1])"
   ],
   "outputs": [],
   "execution_count": 3
  },
  {
   "cell_type": "code",
   "metadata": {
    "ExecuteTime": {
     "end_time": "2024-08-22T15:23:58.135075Z",
     "start_time": "2024-08-22T15:23:58.130471Z"
    }
   },
   "source": [
    "np.concatenate([x, y])"
   ],
   "outputs": [
    {
     "data": {
      "text/plain": [
       "array([1, 2, 3, 3, 2, 1])"
      ]
     },
     "execution_count": 4,
     "metadata": {},
     "output_type": "execute_result"
    }
   ],
   "execution_count": 4
  },
  {
   "cell_type": "code",
   "metadata": {
    "ExecuteTime": {
     "end_time": "2024-08-22T15:23:58.140586Z",
     "start_time": "2024-08-22T15:23:58.137151Z"
    }
   },
   "source": [
    "z = np.array([666, 666, 666])\n",
    "np.concatenate([x, y, z])"
   ],
   "outputs": [
    {
     "data": {
      "text/plain": [
       "array([  1,   2,   3,   3,   2,   1, 666, 666, 666])"
      ]
     },
     "execution_count": 5,
     "metadata": {},
     "output_type": "execute_result"
    }
   ],
   "execution_count": 5
  },
  {
   "cell_type": "code",
   "metadata": {
    "ExecuteTime": {
     "end_time": "2024-08-22T15:23:58.145079Z",
     "start_time": "2024-08-22T15:23:58.141542Z"
    }
   },
   "source": [
    "A = np.array([[1, 2, 3],\n",
    "              [4, 5, 6]])\n",
    "np.concatenate([A, A])"
   ],
   "outputs": [
    {
     "data": {
      "text/plain": [
       "array([[1, 2, 3],\n",
       "       [4, 5, 6],\n",
       "       [1, 2, 3],\n",
       "       [4, 5, 6]])"
      ]
     },
     "execution_count": 6,
     "metadata": {},
     "output_type": "execute_result"
    }
   ],
   "execution_count": 6
  },
  {
   "cell_type": "code",
   "metadata": {
    "ExecuteTime": {
     "end_time": "2024-08-22T15:23:58.149149Z",
     "start_time": "2024-08-22T15:23:58.146164Z"
    }
   },
   "source": [
    "np.concatenate([A, A], axis=1)"
   ],
   "outputs": [
    {
     "data": {
      "text/plain": [
       "array([[1, 2, 3, 1, 2, 3],\n",
       "       [4, 5, 6, 4, 5, 6]])"
      ]
     },
     "execution_count": 7,
     "metadata": {},
     "output_type": "execute_result"
    }
   ],
   "execution_count": 7
  },
  {
   "cell_type": "code",
   "metadata": {
    "ExecuteTime": {
     "end_time": "2024-08-22T15:23:58.315930Z",
     "start_time": "2024-08-22T15:23:58.150220Z"
    }
   },
   "source": [
    "np.concatenate([A, z])"
   ],
   "outputs": [
    {
     "ename": "ValueError",
     "evalue": "all the input arrays must have same number of dimensions, but the array at index 0 has 2 dimension(s) and the array at index 1 has 1 dimension(s)",
     "output_type": "error",
     "traceback": [
      "\u001B[0;31m---------------------------------------------------------------------------\u001B[0m",
      "\u001B[0;31mValueError\u001B[0m                                Traceback (most recent call last)",
      "Cell \u001B[0;32mIn[8], line 1\u001B[0m\n\u001B[0;32m----> 1\u001B[0m \u001B[43mnp\u001B[49m\u001B[38;5;241;43m.\u001B[39;49m\u001B[43mconcatenate\u001B[49m\u001B[43m(\u001B[49m\u001B[43m[\u001B[49m\u001B[43mA\u001B[49m\u001B[43m,\u001B[49m\u001B[43m \u001B[49m\u001B[43mz\u001B[49m\u001B[43m]\u001B[49m\u001B[43m)\u001B[49m\n",
      "\u001B[0;31mValueError\u001B[0m: all the input arrays must have same number of dimensions, but the array at index 0 has 2 dimension(s) and the array at index 1 has 1 dimension(s)"
     ]
    }
   ],
   "execution_count": 8
  },
  {
   "cell_type": "code",
   "metadata": {
    "ExecuteTime": {
     "end_time": "2024-08-22T15:26:15.075764Z",
     "start_time": "2024-08-22T15:26:15.070555Z"
    }
   },
   "source": [
    "np.concatenate([A, z.reshape(1, -1)])"
   ],
   "outputs": [
    {
     "data": {
      "text/plain": [
       "array([[  1,   2,   3],\n",
       "       [  4,   5,   6],\n",
       "       [666, 666, 666]])"
      ]
     },
     "execution_count": 9,
     "metadata": {},
     "output_type": "execute_result"
    }
   ],
   "execution_count": 9
  },
  {
   "metadata": {},
   "cell_type": "markdown",
   "source": [
    "vstack 方法能够对数组进行垂直合并，观察该方法我们发现其与 hstack 只有一个字符的差别，hstack 的 h 代表水平，vstack 中的 v 代表垂直，所以 vstack 用于实现数组的垂直合并。\n",
    "\n",
    "方法：numpy.vstack(arrays)，其中 arrays 为要合并的数组序列。"
   ]
  },
  {
   "cell_type": "code",
   "metadata": {
    "ExecuteTime": {
     "end_time": "2024-08-22T15:26:15.137576Z",
     "start_time": "2024-08-22T15:26:15.133888Z"
    }
   },
   "source": "np.vstack([A, z])",
   "outputs": [
    {
     "data": {
      "text/plain": [
       "array([[  1,   2,   3],\n",
       "       [  4,   5,   6],\n",
       "       [666, 666, 666]])"
      ]
     },
     "execution_count": 10,
     "metadata": {},
     "output_type": "execute_result"
    }
   ],
   "execution_count": 10
  },
  {
   "cell_type": "code",
   "metadata": {
    "collapsed": true,
    "ExecuteTime": {
     "end_time": "2024-08-22T15:26:15.140745Z",
     "start_time": "2024-08-22T15:26:15.138673Z"
    }
   },
   "source": [
    "B = np.full((2,2), 100)"
   ],
   "outputs": [],
   "execution_count": 11
  },
  {
   "cell_type": "code",
   "metadata": {
    "ExecuteTime": {
     "end_time": "2024-08-22T15:26:15.145624Z",
     "start_time": "2024-08-22T15:26:15.142142Z"
    }
   },
   "source": [
    "np.hstack([A, B])"
   ],
   "outputs": [
    {
     "data": {
      "text/plain": [
       "array([[  1,   2,   3, 100, 100],\n",
       "       [  4,   5,   6, 100, 100]])"
      ]
     },
     "execution_count": 12,
     "metadata": {},
     "output_type": "execute_result"
    }
   ],
   "execution_count": 12
  },
  {
   "cell_type": "code",
   "metadata": {
    "ExecuteTime": {
     "end_time": "2024-08-22T15:26:15.221176Z",
     "start_time": "2024-08-22T15:26:15.164Z"
    }
   },
   "source": [
    "np.hstack([A, z])"
   ],
   "outputs": [
    {
     "ename": "ValueError",
     "evalue": "all the input arrays must have same number of dimensions, but the array at index 0 has 2 dimension(s) and the array at index 1 has 1 dimension(s)",
     "output_type": "error",
     "traceback": [
      "\u001B[0;31m---------------------------------------------------------------------------\u001B[0m",
      "\u001B[0;31mValueError\u001B[0m                                Traceback (most recent call last)",
      "Cell \u001B[0;32mIn[13], line 1\u001B[0m\n\u001B[0;32m----> 1\u001B[0m \u001B[43mnp\u001B[49m\u001B[38;5;241;43m.\u001B[39;49m\u001B[43mhstack\u001B[49m\u001B[43m(\u001B[49m\u001B[43m[\u001B[49m\u001B[43mA\u001B[49m\u001B[43m,\u001B[49m\u001B[43m \u001B[49m\u001B[43mz\u001B[49m\u001B[43m]\u001B[49m\u001B[43m)\u001B[49m\n",
      "File \u001B[0;32m/opt/anaconda3/envs/myenv3.10/lib/python3.10/site-packages/numpy/_core/shape_base.py:358\u001B[0m, in \u001B[0;36mhstack\u001B[0;34m(tup, dtype, casting)\u001B[0m\n\u001B[1;32m    356\u001B[0m     \u001B[38;5;28;01mreturn\u001B[39;00m _nx\u001B[38;5;241m.\u001B[39mconcatenate(arrs, \u001B[38;5;241m0\u001B[39m, dtype\u001B[38;5;241m=\u001B[39mdtype, casting\u001B[38;5;241m=\u001B[39mcasting)\n\u001B[1;32m    357\u001B[0m \u001B[38;5;28;01melse\u001B[39;00m:\n\u001B[0;32m--> 358\u001B[0m     \u001B[38;5;28;01mreturn\u001B[39;00m \u001B[43m_nx\u001B[49m\u001B[38;5;241;43m.\u001B[39;49m\u001B[43mconcatenate\u001B[49m\u001B[43m(\u001B[49m\u001B[43marrs\u001B[49m\u001B[43m,\u001B[49m\u001B[43m \u001B[49m\u001B[38;5;241;43m1\u001B[39;49m\u001B[43m,\u001B[49m\u001B[43m \u001B[49m\u001B[43mdtype\u001B[49m\u001B[38;5;241;43m=\u001B[39;49m\u001B[43mdtype\u001B[49m\u001B[43m,\u001B[49m\u001B[43m \u001B[49m\u001B[43mcasting\u001B[49m\u001B[38;5;241;43m=\u001B[39;49m\u001B[43mcasting\u001B[49m\u001B[43m)\u001B[49m\n",
      "\u001B[0;31mValueError\u001B[0m: all the input arrays must have same number of dimensions, but the array at index 0 has 2 dimension(s) and the array at index 1 has 1 dimension(s)"
     ]
    }
   ],
   "execution_count": 13
  },
  {
   "cell_type": "markdown",
   "metadata": {},
   "source": [
    "### ``numpy.array`` 的分割\n",
    "\n",
    "#### 方法：split(array, indices_or_sections, axis)。\n",
    "其中，array 为要分割的数组，indices_or_sections 可以为分割的索引值或分割数，如果是一个索引值，则将数组按照该索引值分割成两个部分；如果是一个分割数，则将数组按照等分数分割成多个部分。axis 用于指出沿着哪个轴分割数组。axis=0，按行分割。axis=1，按列分割。"
   ]
  },
  {
   "cell_type": "code",
   "metadata": {
    "ExecuteTime": {
     "end_time": "2024-08-22T15:26:23.446163Z",
     "start_time": "2024-08-22T15:26:23.442668Z"
    }
   },
   "source": [
    "x = np.arange(10)\n",
    "x    "
   ],
   "outputs": [
    {
     "data": {
      "text/plain": [
       "array([0, 1, 2, 3, 4, 5, 6, 7, 8, 9])"
      ]
     },
     "execution_count": 31,
     "metadata": {},
     "output_type": "execute_result"
    }
   ],
   "execution_count": 31
  },
  {
   "cell_type": "code",
   "metadata": {
    "collapsed": true,
    "ExecuteTime": {
     "end_time": "2024-08-22T15:26:23.468003Z",
     "start_time": "2024-08-22T15:26:23.465631Z"
    }
   },
   "source": [
    "x1, x2, x3 = np.split(x, [3, 7])"
   ],
   "outputs": [],
   "execution_count": 32
  },
  {
   "cell_type": "code",
   "metadata": {
    "ExecuteTime": {
     "end_time": "2024-08-22T15:26:23.499322Z",
     "start_time": "2024-08-22T15:26:23.495834Z"
    }
   },
   "source": [
    "x1"
   ],
   "outputs": [
    {
     "data": {
      "text/plain": [
       "array([0, 1, 2])"
      ]
     },
     "execution_count": 33,
     "metadata": {},
     "output_type": "execute_result"
    }
   ],
   "execution_count": 33
  },
  {
   "cell_type": "code",
   "metadata": {
    "ExecuteTime": {
     "end_time": "2024-08-22T15:26:23.517632Z",
     "start_time": "2024-08-22T15:26:23.514826Z"
    }
   },
   "source": [
    "x2"
   ],
   "outputs": [
    {
     "data": {
      "text/plain": [
       "array([3, 4, 5, 6])"
      ]
     },
     "execution_count": 34,
     "metadata": {},
     "output_type": "execute_result"
    }
   ],
   "execution_count": 34
  },
  {
   "cell_type": "code",
   "metadata": {
    "ExecuteTime": {
     "end_time": "2024-08-22T15:26:23.523109Z",
     "start_time": "2024-08-22T15:26:23.520049Z"
    }
   },
   "source": [
    "x3"
   ],
   "outputs": [
    {
     "data": {
      "text/plain": [
       "array([7, 8, 9])"
      ]
     },
     "execution_count": 35,
     "metadata": {},
     "output_type": "execute_result"
    }
   ],
   "execution_count": 35
  },
  {
   "cell_type": "code",
   "metadata": {
    "collapsed": true,
    "ExecuteTime": {
     "end_time": "2024-08-22T15:26:23.532480Z",
     "start_time": "2024-08-22T15:26:23.530280Z"
    }
   },
   "source": [
    "x1, x2 = np.split(x, [5])"
   ],
   "outputs": [],
   "execution_count": 36
  },
  {
   "cell_type": "code",
   "metadata": {
    "ExecuteTime": {
     "end_time": "2024-08-22T15:26:23.541400Z",
     "start_time": "2024-08-22T15:26:23.538570Z"
    }
   },
   "source": [
    "x1"
   ],
   "outputs": [
    {
     "data": {
      "text/plain": [
       "array([0, 1, 2, 3, 4])"
      ]
     },
     "execution_count": 37,
     "metadata": {},
     "output_type": "execute_result"
    }
   ],
   "execution_count": 37
  },
  {
   "cell_type": "code",
   "metadata": {
    "ExecuteTime": {
     "end_time": "2024-08-22T15:26:23.554794Z",
     "start_time": "2024-08-22T15:26:23.551787Z"
    }
   },
   "source": [
    "x2"
   ],
   "outputs": [
    {
     "data": {
      "text/plain": [
       "array([5, 6, 7, 8, 9])"
      ]
     },
     "execution_count": 38,
     "metadata": {},
     "output_type": "execute_result"
    }
   ],
   "execution_count": 38
  },
  {
   "cell_type": "code",
   "metadata": {
    "ExecuteTime": {
     "end_time": "2024-08-22T15:26:23.563818Z",
     "start_time": "2024-08-22T15:26:23.560289Z"
    }
   },
   "source": [
    "A = np.arange(16).reshape((4, 4))\n",
    "A"
   ],
   "outputs": [
    {
     "data": {
      "text/plain": [
       "array([[ 0,  1,  2,  3],\n",
       "       [ 4,  5,  6,  7],\n",
       "       [ 8,  9, 10, 11],\n",
       "       [12, 13, 14, 15]])"
      ]
     },
     "execution_count": 39,
     "metadata": {},
     "output_type": "execute_result"
    }
   ],
   "execution_count": 39
  },
  {
   "cell_type": "code",
   "metadata": {
    "collapsed": true,
    "ExecuteTime": {
     "end_time": "2024-08-22T15:26:23.581586Z",
     "start_time": "2024-08-22T15:26:23.579282Z"
    }
   },
   "source": [
    "A1, A2 = np.split(A, [2])"
   ],
   "outputs": [],
   "execution_count": 40
  },
  {
   "cell_type": "code",
   "metadata": {
    "ExecuteTime": {
     "end_time": "2024-08-22T15:26:23.602621Z",
     "start_time": "2024-08-22T15:26:23.599347Z"
    }
   },
   "source": [
    "A1"
   ],
   "outputs": [
    {
     "data": {
      "text/plain": [
       "array([[0, 1, 2, 3],\n",
       "       [4, 5, 6, 7]])"
      ]
     },
     "execution_count": 41,
     "metadata": {},
     "output_type": "execute_result"
    }
   ],
   "execution_count": 41
  },
  {
   "cell_type": "code",
   "metadata": {
    "ExecuteTime": {
     "end_time": "2024-08-22T15:26:23.626109Z",
     "start_time": "2024-08-22T15:26:23.622960Z"
    }
   },
   "source": [
    "A2"
   ],
   "outputs": [
    {
     "data": {
      "text/plain": [
       "array([[ 8,  9, 10, 11],\n",
       "       [12, 13, 14, 15]])"
      ]
     },
     "execution_count": 42,
     "metadata": {},
     "output_type": "execute_result"
    }
   ],
   "execution_count": 42
  },
  {
   "cell_type": "code",
   "metadata": {
    "collapsed": true,
    "ExecuteTime": {
     "end_time": "2024-08-22T15:26:23.634814Z",
     "start_time": "2024-08-22T15:26:23.632342Z"
    }
   },
   "source": [
    "A1, A2 = np.split(A, [2], axis=1)"
   ],
   "outputs": [],
   "execution_count": 43
  },
  {
   "cell_type": "code",
   "metadata": {
    "ExecuteTime": {
     "end_time": "2024-08-22T15:26:23.641471Z",
     "start_time": "2024-08-22T15:26:23.638092Z"
    }
   },
   "source": [
    "A1"
   ],
   "outputs": [
    {
     "data": {
      "text/plain": [
       "array([[ 0,  1],\n",
       "       [ 4,  5],\n",
       "       [ 8,  9],\n",
       "       [12, 13]])"
      ]
     },
     "execution_count": 44,
     "metadata": {},
     "output_type": "execute_result"
    }
   ],
   "execution_count": 44
  },
  {
   "cell_type": "code",
   "metadata": {
    "ExecuteTime": {
     "end_time": "2024-08-22T15:26:23.651597Z",
     "start_time": "2024-08-22T15:26:23.648046Z"
    }
   },
   "source": [
    "A2"
   ],
   "outputs": [
    {
     "data": {
      "text/plain": [
       "array([[ 2,  3],\n",
       "       [ 6,  7],\n",
       "       [10, 11],\n",
       "       [14, 15]])"
      ]
     },
     "execution_count": 45,
     "metadata": {},
     "output_type": "execute_result"
    }
   ],
   "execution_count": 45
  },
  {
   "cell_type": "code",
   "metadata": {
    "collapsed": true,
    "ExecuteTime": {
     "end_time": "2024-08-22T15:26:23.664706Z",
     "start_time": "2024-08-22T15:26:23.660248Z"
    }
   },
   "source": [
    "upper, lower = np.vsplit(A, [2])"
   ],
   "outputs": [],
   "execution_count": 46
  },
  {
   "cell_type": "code",
   "metadata": {
    "ExecuteTime": {
     "end_time": "2024-08-22T15:26:23.676250Z",
     "start_time": "2024-08-22T15:26:23.672891Z"
    }
   },
   "source": [
    "upper"
   ],
   "outputs": [
    {
     "data": {
      "text/plain": [
       "array([[0, 1, 2, 3],\n",
       "       [4, 5, 6, 7]])"
      ]
     },
     "execution_count": 47,
     "metadata": {},
     "output_type": "execute_result"
    }
   ],
   "execution_count": 47
  },
  {
   "cell_type": "code",
   "metadata": {
    "ExecuteTime": {
     "end_time": "2024-08-22T15:26:23.685366Z",
     "start_time": "2024-08-22T15:26:23.682415Z"
    }
   },
   "source": [
    "lower"
   ],
   "outputs": [
    {
     "data": {
      "text/plain": [
       "array([[ 8,  9, 10, 11],\n",
       "       [12, 13, 14, 15]])"
      ]
     },
     "execution_count": 48,
     "metadata": {},
     "output_type": "execute_result"
    }
   ],
   "execution_count": 48
  },
  {
   "cell_type": "code",
   "metadata": {
    "collapsed": true,
    "ExecuteTime": {
     "end_time": "2024-08-22T15:26:23.702455Z",
     "start_time": "2024-08-22T15:26:23.699890Z"
    }
   },
   "source": [
    "left, right = np.hsplit(A, [2])"
   ],
   "outputs": [],
   "execution_count": 49
  },
  {
   "cell_type": "code",
   "metadata": {
    "ExecuteTime": {
     "end_time": "2024-08-22T15:26:23.713547Z",
     "start_time": "2024-08-22T15:26:23.710547Z"
    }
   },
   "source": [
    "left"
   ],
   "outputs": [
    {
     "data": {
      "text/plain": [
       "array([[ 0,  1],\n",
       "       [ 4,  5],\n",
       "       [ 8,  9],\n",
       "       [12, 13]])"
      ]
     },
     "execution_count": 50,
     "metadata": {},
     "output_type": "execute_result"
    }
   ],
   "execution_count": 50
  },
  {
   "cell_type": "code",
   "metadata": {
    "ExecuteTime": {
     "end_time": "2024-08-22T15:26:23.718174Z",
     "start_time": "2024-08-22T15:26:23.715603Z"
    }
   },
   "source": [
    "right"
   ],
   "outputs": [
    {
     "data": {
      "text/plain": [
       "array([[ 2,  3],\n",
       "       [ 6,  7],\n",
       "       [10, 11],\n",
       "       [14, 15]])"
      ]
     },
     "execution_count": 51,
     "metadata": {},
     "output_type": "execute_result"
    }
   ],
   "execution_count": 51
  },
  {
   "cell_type": "code",
   "metadata": {
    "ExecuteTime": {
     "end_time": "2024-08-22T15:26:23.727731Z",
     "start_time": "2024-08-22T15:26:23.724097Z"
    }
   },
   "source": [
    "data = np.arange(16).reshape((4, 4))\n",
    "data"
   ],
   "outputs": [
    {
     "data": {
      "text/plain": [
       "array([[ 0,  1,  2,  3],\n",
       "       [ 4,  5,  6,  7],\n",
       "       [ 8,  9, 10, 11],\n",
       "       [12, 13, 14, 15]])"
      ]
     },
     "execution_count": 52,
     "metadata": {},
     "output_type": "execute_result"
    }
   ],
   "execution_count": 52
  },
  {
   "cell_type": "code",
   "metadata": {
    "collapsed": true,
    "ExecuteTime": {
     "end_time": "2024-08-22T15:26:23.737876Z",
     "start_time": "2024-08-22T15:26:23.735427Z"
    }
   },
   "source": [
    "X, y = np.hsplit(data, [-1])"
   ],
   "outputs": [],
   "execution_count": 53
  },
  {
   "cell_type": "code",
   "metadata": {
    "ExecuteTime": {
     "end_time": "2024-08-22T15:26:23.750375Z",
     "start_time": "2024-08-22T15:26:23.747507Z"
    }
   },
   "source": [
    "X"
   ],
   "outputs": [
    {
     "data": {
      "text/plain": [
       "array([[ 0,  1,  2],\n",
       "       [ 4,  5,  6],\n",
       "       [ 8,  9, 10],\n",
       "       [12, 13, 14]])"
      ]
     },
     "execution_count": 54,
     "metadata": {},
     "output_type": "execute_result"
    }
   ],
   "execution_count": 54
  },
  {
   "cell_type": "code",
   "metadata": {
    "ExecuteTime": {
     "end_time": "2024-08-22T15:26:23.762021Z",
     "start_time": "2024-08-22T15:26:23.757729Z"
    }
   },
   "source": [
    "y"
   ],
   "outputs": [
    {
     "data": {
      "text/plain": [
       "array([[ 3],\n",
       "       [ 7],\n",
       "       [11],\n",
       "       [15]])"
      ]
     },
     "execution_count": 55,
     "metadata": {},
     "output_type": "execute_result"
    }
   ],
   "execution_count": 55
  },
  {
   "cell_type": "code",
   "metadata": {
    "ExecuteTime": {
     "end_time": "2024-08-22T15:26:23.786124Z",
     "start_time": "2024-08-22T15:26:23.776940Z"
    }
   },
   "source": [
    "y[:, 0]"
   ],
   "outputs": [
    {
     "data": {
      "text/plain": [
       "array([ 3,  7, 11, 15])"
      ]
     },
     "execution_count": 56,
     "metadata": {},
     "output_type": "execute_result"
    }
   ],
   "execution_count": 56
  }
 ],
 "metadata": {
  "kernelspec": {
   "display_name": "Python 3",
   "language": "python",
   "name": "python3"
  },
  "language_info": {
   "codemirror_mode": {
    "name": "ipython",
    "version": 3
   },
   "file_extension": ".py",
   "mimetype": "text/x-python",
   "name": "python",
   "nbconvert_exporter": "python",
   "pygments_lexer": "ipython3",
   "version": "3.6.1"
  }
 },
 "nbformat": 4,
 "nbformat_minor": 2
}
