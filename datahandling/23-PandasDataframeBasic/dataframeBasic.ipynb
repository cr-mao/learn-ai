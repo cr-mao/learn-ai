{
 "cells": [
  {
   "metadata": {},
   "cell_type": "markdown",
   "source": [
    "## dataframe创建、基本属性与索引切片\n",
    "二维表\n",
    "\n",
    "较高维数据结构是其较低维数据结构的容器：DataFrame 是 Series 的容器，Panel 是 DataFrame 的容器。\n",
    "\n"
   ],
   "id": "bb980b7bf8061166"
  },
  {
   "metadata": {},
   "cell_type": "markdown",
   "source": [
    "### DataFrame 的创建\n",
    "\n",
    "构造方法：pandas.DataFrame(data, index, columns, dtype, copy)。\n",
    "\n",
    "\n",
    "参数介绍：\n",
    "\n",
    "- data 即需要利用 DataFrame 存储的数据。\n",
    "- Index 即想要设置的 DataFrame 的行索引名称，默认为从 0 开始的数字。\n",
    "- columns 即想要设置的 DataFrame 的列索引名，默认为从 0 开始的数字。\n",
    "- dtype 即 DataFrame 的数据类型，默认为与传入数据的数据类型相同。\n",
    "- copy 即是否创建副本，默认为 false。\n",
    "\n",
    "\n",
    "DataFrame 的数据传入类型有三种形式，分别为列表、字典、字典加列表。\n",
    "\n",
    "\n"
   ],
   "id": "9bf3b7ab34320ba0"
  },
  {
   "metadata": {},
   "cell_type": "markdown",
   "source": "### 用列表创建 DataFrame\n",
   "id": "2738bf470753cb71"
  },
  {
   "metadata": {
    "ExecuteTime": {
     "end_time": "2024-08-28T08:16:13.217275Z",
     "start_time": "2024-08-28T08:16:13.212222Z"
    }
   },
   "cell_type": "code",
   "source": [
    "import pandas as pd  \n",
    "data=[[10,90.0,'男'],[10,91.5,'女'],[11,98.5,'男']]\n",
    "index=['张三','李四','王五']\n",
    "columns=['年龄','成绩','性别']  \n",
    "student_basic=pd.DataFrame(data,index=index,columns=columns)  \n",
    "print(student_basic)"
   ],
   "id": "2cf666fe7b33fc21",
   "outputs": [
    {
     "name": "stdout",
     "output_type": "stream",
     "text": [
      "    年龄    成绩 性别\n",
      "张三  10  90.0  男\n",
      "李四  10  91.5  女\n",
      "王五  11  98.5  男\n"
     ]
    }
   ],
   "execution_count": 28
  },
  {
   "metadata": {},
   "cell_type": "markdown",
   "source": [
    "### 利用字典创建 DataFrame\n",
    "\n"
   ],
   "id": "e03dbb442f7c290b"
  },
  {
   "metadata": {
    "ExecuteTime": {
     "end_time": "2024-08-28T08:16:13.226852Z",
     "start_time": "2024-08-28T08:16:13.219695Z"
    }
   },
   "cell_type": "code",
   "source": [
    "dict=[{'年龄':10,'成绩':90.0,'性别':'男'},\n",
    "{'年龄':10,'成绩':91.5,'性别':'女'},\n",
    "{'年龄':11,'成绩':98.5,'性别':'男'}]\n",
    "index=['张三','李四','王五']  \n",
    "student_basic=pd.DataFrame(data=dict,index=index)  \n",
    "print(student_basic)"
   ],
   "id": "ec3cf49808cf1aa4",
   "outputs": [
    {
     "name": "stdout",
     "output_type": "stream",
     "text": [
      "    年龄    成绩 性别\n",
      "张三  10  90.0  男\n",
      "李四  10  91.5  女\n",
      "王五  11  98.5  男\n"
     ]
    }
   ],
   "execution_count": 29
  },
  {
   "metadata": {},
   "cell_type": "markdown",
   "source": "### 利用“字典加列表”创建 DataFrame\n",
   "id": "2176fbc07f7b3d56"
  },
  {
   "metadata": {
    "ExecuteTime": {
     "end_time": "2024-08-28T08:16:13.235406Z",
     "start_time": "2024-08-28T08:16:13.230578Z"
    }
   },
   "cell_type": "code",
   "source": [
    "Data={'年龄':[10,10,11],\n",
    "'成绩':[90.0,91.5,98.5],\n",
    "'性别':['男','女','男']}  \n",
    "student_basic=pd.DataFrame(data=Data,index=['张三','李四','王五'])  \n",
    "print(student_basic)"
   ],
   "id": "34e237749504d380",
   "outputs": [
    {
     "name": "stdout",
     "output_type": "stream",
     "text": [
      "    年龄    成绩 性别\n",
      "张三  10  90.0  男\n",
      "李四  10  91.5  女\n",
      "王五  11  98.5  男\n"
     ]
    }
   ],
   "execution_count": 30
  },
  {
   "metadata": {},
   "cell_type": "markdown",
   "source": "## DataFrame 的属性\n",
   "id": "79bb13d8dc309359"
  },
  {
   "metadata": {
    "ExecuteTime": {
     "end_time": "2024-08-28T08:16:13.243665Z",
     "start_time": "2024-08-28T08:16:13.236463Z"
    }
   },
   "cell_type": "code",
   "source": [
    "import pandas as pd\n",
    "data=[[6000 ,500, '是' ,0 ,6500],\n",
    "[4000 ,500 ,'是', 0 ,4500],\n",
    "[3000, 0 ,'否' ,5 ,3000]]\n",
    "Money=pd.DataFrame(data=data,\n",
    "columns=['基础工资', '绩效', '是否全勤', '请假天数', '总工资'],\n",
    "index=['厨师', '前台', '服务员'])\n",
    "print(Money)\n",
    "\n"
   ],
   "id": "a5b5e40d0cddc572",
   "outputs": [
    {
     "name": "stdout",
     "output_type": "stream",
     "text": [
      "     基础工资   绩效 是否全勤  请假天数   总工资\n",
      "厨师   6000  500    是     0  6500\n",
      "前台   4000  500    是     0  4500\n",
      "服务员  3000    0    否     5  3000\n"
     ]
    }
   ],
   "execution_count": 31
  },
  {
   "metadata": {
    "ExecuteTime": {
     "end_time": "2024-08-28T08:16:13.253254Z",
     "start_time": "2024-08-28T08:16:13.249946Z"
    }
   },
   "cell_type": "code",
   "source": "print(Money.shape)\n",
   "id": "ed137637696348e",
   "outputs": [
    {
     "name": "stdout",
     "output_type": "stream",
     "text": [
      "(3, 5)\n"
     ]
    }
   ],
   "execution_count": 32
  },
  {
   "metadata": {},
   "cell_type": "markdown",
   "source": " 查看行索引",
   "id": "fc47b3146e67f4ff"
  },
  {
   "metadata": {
    "ExecuteTime": {
     "end_time": "2024-08-28T08:16:13.279628Z",
     "start_time": "2024-08-28T08:16:13.254654Z"
    }
   },
   "cell_type": "code",
   "source": "print(Money.index)\n",
   "id": "6b91dd8bc66fe8fb",
   "outputs": [
    {
     "name": "stdout",
     "output_type": "stream",
     "text": [
      "Index(['厨师', '前台', '服务员'], dtype='object')\n"
     ]
    }
   ],
   "execution_count": 33
  },
  {
   "metadata": {},
   "cell_type": "markdown",
   "source": "Columns：DataFrame 对象的列索引",
   "id": "91ecb67bbe90ecde"
  },
  {
   "metadata": {
    "ExecuteTime": {
     "end_time": "2024-08-28T08:16:13.287363Z",
     "start_time": "2024-08-28T08:16:13.282372Z"
    }
   },
   "cell_type": "code",
   "source": "print(Money.columns)",
   "id": "e3efb85d157b5029",
   "outputs": [
    {
     "name": "stdout",
     "output_type": "stream",
     "text": [
      "Index(['基础工资', '绩效', '是否全勤', '请假天数', '总工资'], dtype='object')\n"
     ]
    }
   ],
   "execution_count": 34
  },
  {
   "metadata": {},
   "cell_type": "markdown",
   "source": "Dtypes：DataFrame 对象各列数据的数据类型",
   "id": "5b97e95f319323bd"
  },
  {
   "metadata": {
    "ExecuteTime": {
     "end_time": "2024-08-28T08:16:13.313907Z",
     "start_time": "2024-08-28T08:16:13.310315Z"
    }
   },
   "cell_type": "code",
   "source": "print(Money.dtypes)\n",
   "id": "a5e973d199806e30",
   "outputs": [
    {
     "name": "stdout",
     "output_type": "stream",
     "text": [
      "基础工资     int64\n",
      "绩效       int64\n",
      "是否全勤    object\n",
      "请假天数     int64\n",
      "总工资      int64\n",
      "dtype: object\n"
     ]
    }
   ],
   "execution_count": 35
  },
  {
   "metadata": {},
   "cell_type": "markdown",
   "source": [
    "#### Values：查看 DataFrame 的数据部分并以数组的形式返回\n",
    "\n",
    "通过该方法我们可以快速获取一个数组数据，在训练模型时我们就能够利用该方法快速获取输入数据。"
   ],
   "id": "9bb53fadf0ab9f0d"
  },
  {
   "metadata": {
    "ExecuteTime": {
     "end_time": "2024-08-28T08:16:13.321693Z",
     "start_time": "2024-08-28T08:16:13.316640Z"
    }
   },
   "cell_type": "code",
   "source": "print(Money.values)",
   "id": "645db0bd6cfa820",
   "outputs": [
    {
     "name": "stdout",
     "output_type": "stream",
     "text": [
      "[[6000 500 '是' 0 6500]\n",
      " [4000 500 '是' 0 4500]\n",
      " [3000 0 '否' 5 3000]]\n"
     ]
    }
   ],
   "execution_count": 36
  },
  {
   "metadata": {},
   "cell_type": "markdown",
   "source": [
    "# DataFrame 的索引和切片\n",
    "\n",
    "DataFrame 不仅具有数据索引，还具有标签索引。"
   ],
   "id": "6708cea2ccdf5981"
  },
  {
   "metadata": {},
   "cell_type": "markdown",
   "source": [
    "### DataFrame 的索引设置\n",
    "\n",
    "索引的设置大概有三种方法：\n",
    "\n",
    "一种是创建 DataFrame 时设置；\n",
    "\n",
    "第二种是修改索引，即对原来的索引进行修改；\n",
    "\n",
    "第三种就是将 DataFrame 的某一列或者行作为索引。"
   ],
   "id": "f70a702aff1ef1a0"
  },
  {
   "metadata": {},
   "cell_type": "markdown",
   "source": "#### 1. 创建 DataFrame 时设置",
   "id": "63b6b5e445fbc643"
  },
  {
   "metadata": {
    "ExecuteTime": {
     "end_time": "2024-08-28T08:16:13.328997Z",
     "start_time": "2024-08-28T08:16:13.323285Z"
    }
   },
   "cell_type": "code",
   "source": [
    "data=[[6000 ,500, '是' ,0 ,6500],  \n",
    " [4000 ,500 ,'是', 0 ,4500],  \n",
    " [3000, 0 ,'否' ,5 ,3000]]  \n",
    "Money=pd.DataFrame(data=data,\n",
    "columns=['基础工资', '绩效', '是否全勤', '请假天数', '总工资'],\n",
    "index=['厨师', '前台', '服务员'])  \n",
    "print(Money)"
   ],
   "id": "8b4430b46b1775a4",
   "outputs": [
    {
     "name": "stdout",
     "output_type": "stream",
     "text": [
      "     基础工资   绩效 是否全勤  请假天数   总工资\n",
      "厨师   6000  500    是     0  6500\n",
      "前台   4000  500    是     0  4500\n",
      "服务员  3000    0    否     5  3000\n"
     ]
    }
   ],
   "execution_count": 37
  },
  {
   "metadata": {},
   "cell_type": "markdown",
   "source": "#### 第二种，修改索引",
   "id": "7dc89b2b940d5504"
  },
  {
   "metadata": {
    "ExecuteTime": {
     "end_time": "2024-08-28T08:22:47.484235Z",
     "start_time": "2024-08-28T08:22:47.475323Z"
    }
   },
   "cell_type": "code",
   "source": [
    "data=[[6000 ,500, '是' ,0 ,6500],  \n",
    " [4000 ,500 ,'是', 0 ,4500],  \n",
    " [3000, 0 ,'否' ,5 ,3000]]  \n",
    "Money=pd.DataFrame(data=data)  \n",
    "print(Money)  \n",
    "Money.index=['厨师', '前台', '服务员']  \n",
    "Money.columns=['基础工资', '绩效', '是否全勤', '请假天数', '总工资']  \n",
    "print(Money)"
   ],
   "id": "da3ad54285fd966e",
   "outputs": [
    {
     "name": "stdout",
     "output_type": "stream",
     "text": [
      "      0    1  2  3     4\n",
      "0  6000  500  是  0  6500\n",
      "1  4000  500  是  0  4500\n",
      "2  3000    0  否  5  3000\n",
      "     基础工资   绩效 是否全勤  请假天数   总工资\n",
      "厨师   6000  500    是     0  6500\n",
      "前台   4000  500    是     0  4500\n",
      "服务员  3000    0    否     5  3000\n"
     ]
    }
   ],
   "execution_count": 38
  },
  {
   "metadata": {},
   "cell_type": "markdown",
   "source": [
    "### 第三种，把某列值设为索引\n",
    "\n",
    "方法：set_index(keys, drop=True)\n",
    "\n",
    "参数：\n",
    "\n",
    "keys：列索引名称或者列索引名称的列表 ；\n",
    "drop：默认为 True，当设置为新的索引，删除原来的列。\n",
    "\n",
    "\n"
   ],
   "id": "db771c2555ae2f04"
  },
  {
   "metadata": {
    "ExecuteTime": {
     "end_time": "2024-08-28T08:24:02.522635Z",
     "start_time": "2024-08-28T08:24:02.511595Z"
    }
   },
   "cell_type": "code",
   "source": [
    "data=[['厨师',6000 ,500, '是' ,0 ,6500],  \n",
    " ['前台',4000 ,500 ,'是', 0 ,4500],  \n",
    " ['服务员',3000, 0 ,'否' ,5 ,3000]]  \n",
    "Money=pd.DataFrame(data=data,columns=['职位','基础工资', '绩效', '是否全勤', '请假天数', '总工资'])  \n",
    "print(Money)  \n",
    "Money=Money.set_index(keys='职位',drop=True)  \n",
    "print(Money)"
   ],
   "id": "11b8f51b9e7e8b86",
   "outputs": [
    {
     "name": "stdout",
     "output_type": "stream",
     "text": [
      "    职位  基础工资   绩效 是否全勤  请假天数   总工资\n",
      "0   厨师  6000  500    是     0  6500\n",
      "1   前台  4000  500    是     0  4500\n",
      "2  服务员  3000    0    否     5  3000\n",
      "     基础工资   绩效 是否全勤  请假天数   总工资\n",
      "职位                             \n",
      "厨师   6000  500    是     0  6500\n",
      "前台   4000  500    是     0  4500\n",
      "服务员  3000    0    否     5  3000\n"
     ]
    }
   ],
   "execution_count": 39
  },
  {
   "metadata": {},
   "cell_type": "markdown",
   "source": [
    "## DataFrame 的索引\n",
    "\n",
    "通过索引获取元素大概分为三种情况，分别为获取某一列元素值、获取某一行元素值、获取指定元素值。下面我们就分别来看看这三种方法\n",
    "\n"
   ],
   "id": "d03dc6904cee7943"
  },
  {
   "metadata": {},
   "cell_type": "markdown",
   "source": "\n",
   "id": "3bb2f15514ebd55a"
  },
  {
   "metadata": {},
   "cell_type": "markdown",
   "source": [
    "### 对列进行索引\n",
    "\n",
    "\n",
    "形式为：DataFrame[‘列名’] 或 DataFrame[[‘列名1’,’列名2’,...]]。\n",
    "\n",
    "\n"
   ],
   "id": "b1ba426ee4170af4"
  },
  {
   "metadata": {
    "ExecuteTime": {
     "end_time": "2024-08-28T08:26:35.450322Z",
     "start_time": "2024-08-28T08:26:35.443390Z"
    }
   },
   "cell_type": "code",
   "source": [
    "print(Money['基础工资'])  \n",
    "print(Money[['基础工资','绩效']])"
   ],
   "id": "a3ff97423d4dbf57",
   "outputs": [
    {
     "name": "stdout",
     "output_type": "stream",
     "text": [
      "职位\n",
      "厨师     6000\n",
      "前台     4000\n",
      "服务员    3000\n",
      "Name: 基础工资, dtype: int64\n",
      "     基础工资   绩效\n",
      "职位            \n",
      "厨师   6000  500\n",
      "前台   4000  500\n",
      "服务员  3000    0\n"
     ]
    }
   ],
   "execution_count": 40
  },
  {
   "metadata": {},
   "cell_type": "markdown",
   "source": [
    "\n",
    "### 对行进行索引\n",
    "\n",
    "借助 loc[] 和 iloc[] 两个方法。其中，loc[] 是按照 index 进行索引，而 iloc[] 则是按照整数序号进行索引\n",
    "\n",
    "使用 Loc[ ] 索引指定行\n",
    "\n",
    "形式：DataFrame.loc[index] 或者 DataFrame.loc[[index1,index2,...]]。\n",
    "\n",
    "\n",
    "loc 函数更适合 index 为具体名称的表格进行索引\n",
    "\n",
    "iloc 函数则更适合没有自己设置 index 的表格"
   ],
   "id": "3580c3f786ad7bc0"
  },
  {
   "metadata": {
    "ExecuteTime": {
     "end_time": "2024-08-28T08:27:13.128961Z",
     "start_time": "2024-08-28T08:27:12.378901Z"
    }
   },
   "cell_type": "code",
   "source": "print(Money['厨师'])\n",
   "id": "42f681af15d027d3",
   "outputs": [
    {
     "ename": "KeyError",
     "evalue": "'厨师'",
     "output_type": "error",
     "traceback": [
      "\u001B[0;31m---------------------------------------------------------------------------\u001B[0m",
      "\u001B[0;31mKeyError\u001B[0m                                  Traceback (most recent call last)",
      "File \u001B[0;32m/opt/anaconda3/envs/myenv3.10/lib/python3.10/site-packages/pandas/core/indexes/base.py:3805\u001B[0m, in \u001B[0;36mIndex.get_loc\u001B[0;34m(self, key)\u001B[0m\n\u001B[1;32m   3804\u001B[0m \u001B[38;5;28;01mtry\u001B[39;00m:\n\u001B[0;32m-> 3805\u001B[0m     \u001B[38;5;28;01mreturn\u001B[39;00m \u001B[38;5;28;43mself\u001B[39;49m\u001B[38;5;241;43m.\u001B[39;49m\u001B[43m_engine\u001B[49m\u001B[38;5;241;43m.\u001B[39;49m\u001B[43mget_loc\u001B[49m\u001B[43m(\u001B[49m\u001B[43mcasted_key\u001B[49m\u001B[43m)\u001B[49m\n\u001B[1;32m   3806\u001B[0m \u001B[38;5;28;01mexcept\u001B[39;00m \u001B[38;5;167;01mKeyError\u001B[39;00m \u001B[38;5;28;01mas\u001B[39;00m err:\n",
      "File \u001B[0;32mindex.pyx:167\u001B[0m, in \u001B[0;36mpandas._libs.index.IndexEngine.get_loc\u001B[0;34m()\u001B[0m\n",
      "File \u001B[0;32mindex.pyx:196\u001B[0m, in \u001B[0;36mpandas._libs.index.IndexEngine.get_loc\u001B[0;34m()\u001B[0m\n",
      "File \u001B[0;32mpandas/_libs/hashtable_class_helper.pxi:7081\u001B[0m, in \u001B[0;36mpandas._libs.hashtable.PyObjectHashTable.get_item\u001B[0;34m()\u001B[0m\n",
      "File \u001B[0;32mpandas/_libs/hashtable_class_helper.pxi:7089\u001B[0m, in \u001B[0;36mpandas._libs.hashtable.PyObjectHashTable.get_item\u001B[0;34m()\u001B[0m\n",
      "\u001B[0;31mKeyError\u001B[0m: '厨师'",
      "\nThe above exception was the direct cause of the following exception:\n",
      "\u001B[0;31mKeyError\u001B[0m                                  Traceback (most recent call last)",
      "Cell \u001B[0;32mIn[41], line 1\u001B[0m\n\u001B[0;32m----> 1\u001B[0m \u001B[38;5;28mprint\u001B[39m(\u001B[43mMoney\u001B[49m\u001B[43m[\u001B[49m\u001B[38;5;124;43m'\u001B[39;49m\u001B[38;5;124;43m厨师\u001B[39;49m\u001B[38;5;124;43m'\u001B[39;49m\u001B[43m]\u001B[49m)\n",
      "File \u001B[0;32m/opt/anaconda3/envs/myenv3.10/lib/python3.10/site-packages/pandas/core/frame.py:4102\u001B[0m, in \u001B[0;36mDataFrame.__getitem__\u001B[0;34m(self, key)\u001B[0m\n\u001B[1;32m   4100\u001B[0m \u001B[38;5;28;01mif\u001B[39;00m \u001B[38;5;28mself\u001B[39m\u001B[38;5;241m.\u001B[39mcolumns\u001B[38;5;241m.\u001B[39mnlevels \u001B[38;5;241m>\u001B[39m \u001B[38;5;241m1\u001B[39m:\n\u001B[1;32m   4101\u001B[0m     \u001B[38;5;28;01mreturn\u001B[39;00m \u001B[38;5;28mself\u001B[39m\u001B[38;5;241m.\u001B[39m_getitem_multilevel(key)\n\u001B[0;32m-> 4102\u001B[0m indexer \u001B[38;5;241m=\u001B[39m \u001B[38;5;28;43mself\u001B[39;49m\u001B[38;5;241;43m.\u001B[39;49m\u001B[43mcolumns\u001B[49m\u001B[38;5;241;43m.\u001B[39;49m\u001B[43mget_loc\u001B[49m\u001B[43m(\u001B[49m\u001B[43mkey\u001B[49m\u001B[43m)\u001B[49m\n\u001B[1;32m   4103\u001B[0m \u001B[38;5;28;01mif\u001B[39;00m is_integer(indexer):\n\u001B[1;32m   4104\u001B[0m     indexer \u001B[38;5;241m=\u001B[39m [indexer]\n",
      "File \u001B[0;32m/opt/anaconda3/envs/myenv3.10/lib/python3.10/site-packages/pandas/core/indexes/base.py:3812\u001B[0m, in \u001B[0;36mIndex.get_loc\u001B[0;34m(self, key)\u001B[0m\n\u001B[1;32m   3807\u001B[0m     \u001B[38;5;28;01mif\u001B[39;00m \u001B[38;5;28misinstance\u001B[39m(casted_key, \u001B[38;5;28mslice\u001B[39m) \u001B[38;5;129;01mor\u001B[39;00m (\n\u001B[1;32m   3808\u001B[0m         \u001B[38;5;28misinstance\u001B[39m(casted_key, abc\u001B[38;5;241m.\u001B[39mIterable)\n\u001B[1;32m   3809\u001B[0m         \u001B[38;5;129;01mand\u001B[39;00m \u001B[38;5;28many\u001B[39m(\u001B[38;5;28misinstance\u001B[39m(x, \u001B[38;5;28mslice\u001B[39m) \u001B[38;5;28;01mfor\u001B[39;00m x \u001B[38;5;129;01min\u001B[39;00m casted_key)\n\u001B[1;32m   3810\u001B[0m     ):\n\u001B[1;32m   3811\u001B[0m         \u001B[38;5;28;01mraise\u001B[39;00m InvalidIndexError(key)\n\u001B[0;32m-> 3812\u001B[0m     \u001B[38;5;28;01mraise\u001B[39;00m \u001B[38;5;167;01mKeyError\u001B[39;00m(key) \u001B[38;5;28;01mfrom\u001B[39;00m \u001B[38;5;21;01merr\u001B[39;00m\n\u001B[1;32m   3813\u001B[0m \u001B[38;5;28;01mexcept\u001B[39;00m \u001B[38;5;167;01mTypeError\u001B[39;00m:\n\u001B[1;32m   3814\u001B[0m     \u001B[38;5;66;03m# If we have a listlike key, _check_indexing_error will raise\u001B[39;00m\n\u001B[1;32m   3815\u001B[0m     \u001B[38;5;66;03m#  InvalidIndexError. Otherwise we fall through and re-raise\u001B[39;00m\n\u001B[1;32m   3816\u001B[0m     \u001B[38;5;66;03m#  the TypeError.\u001B[39;00m\n\u001B[1;32m   3817\u001B[0m     \u001B[38;5;28mself\u001B[39m\u001B[38;5;241m.\u001B[39m_check_indexing_error(key)\n",
      "\u001B[0;31mKeyError\u001B[0m: '厨师'"
     ]
    }
   ],
   "execution_count": 41
  },
  {
   "metadata": {
    "ExecuteTime": {
     "end_time": "2024-08-28T08:28:41.057253Z",
     "start_time": "2024-08-28T08:28:41.049547Z"
    }
   },
   "cell_type": "code",
   "source": [
    "print(Money.loc['厨师'])\n",
    "# 返回对象是一个 Series 类型的对象，DataFrame 的 columns 列索引被设置为了该 Series 对象的 index。\n"
   ],
   "id": "88775e8496f4ac2",
   "outputs": [
    {
     "name": "stdout",
     "output_type": "stream",
     "text": [
      "基础工资    6000\n",
      "绩效       500\n",
      "是否全勤       是\n",
      "请假天数       0\n",
      "总工资     6500\n",
      "Name: 厨师, dtype: object\n"
     ]
    }
   ],
   "execution_count": 42
  },
  {
   "metadata": {
    "ExecuteTime": {
     "end_time": "2024-08-28T08:29:07.971167Z",
     "start_time": "2024-08-28T08:29:07.965576Z"
    }
   },
   "cell_type": "code",
   "source": "print(Money.loc[['厨师']])",
   "id": "d032666f93c1e0fc",
   "outputs": [
    {
     "name": "stdout",
     "output_type": "stream",
     "text": [
      "    基础工资   绩效 是否全勤  请假天数   总工资\n",
      "职位                            \n",
      "厨师  6000  500    是     0  6500\n"
     ]
    }
   ],
   "execution_count": 43
  },
  {
   "metadata": {},
   "cell_type": "markdown",
   "source": [
    "使用 iloc[ ] 索引指定行\n",
    "\n",
    "那么通过 iloc[] 方法是否能够对指定行进行索引呢？下面我们就来一起看看 iloc[] 方法的应用。\n",
    "\n",
    "iloc[] 这个方法，其实更像是对数组进行的操作，它只关心元素的位置而不涉及索引的名称。\n",
    "\n",
    "形式：DataFrame.iloc[row] 或者 DataFrame.iloc[row1,row2,...]。\n",
    "\n"
   ],
   "id": "2f9db93bf6f91e87"
  },
  {
   "metadata": {
    "ExecuteTime": {
     "end_time": "2024-08-28T08:31:29.454404Z",
     "start_time": "2024-08-28T08:31:29.450023Z"
    }
   },
   "cell_type": "code",
   "source": [
    "print(Money.iloc[0])\n",
    "# 输出结果和利用 Loc[] 方法得到的结果相同。我们只需要会指定具体要索引的行序号即可，注意行号默认是从 0 开始的。"
   ],
   "id": "47ca117618cbcfcc",
   "outputs": [
    {
     "name": "stdout",
     "output_type": "stream",
     "text": [
      "基础工资    6000\n",
      "绩效       500\n",
      "是否全勤       是\n",
      "请假天数       0\n",
      "总工资     6500\n",
      "Name: 厨师, dtype: object\n"
     ]
    }
   ],
   "execution_count": 44
  },
  {
   "metadata": {},
   "cell_type": "markdown",
   "source": [
    "### 对特定元素索引\n",
    "\n",
    "获取特定元素大概分为两种方法，分别为直接访问和借助 iloc、loc 函数访问，也可以说先列后行和先行后列两种方法\n",
    "\n",
    "\n",
    "直接索引（先列后行）的方法，其实是分两步完成的，先对列进行索引得到 Series 对象，再对该对象进行索引，切记该方法一定不能将行列索引写在一个中括号内；利用函数的方法，其实逻辑上和我们前面学习的如何访问二维数组的逻辑是一样的，利用 loc 方法更为直观，而 iloc 方法还需要知道元素的具体位置，相对而言也比较抽象。这三个方法中，我最推荐的就是 loc 方法。它的逻辑和我们前面学习的一样，都是先行后列，通过 index 和 columns 进行索引更为直观。"
   ],
   "id": "ae0ec1c7aa0bc68a"
  },
  {
   "metadata": {},
   "cell_type": "markdown",
   "source": "##### DataFrame[columns][index]",
   "id": "f4a282edcba9e46"
  },
  {
   "metadata": {
    "ExecuteTime": {
     "end_time": "2024-08-28T09:24:51.375468Z",
     "start_time": "2024-08-28T09:24:51.367236Z"
    }
   },
   "cell_type": "code",
   "source": [
    "# 先列后行\n",
    "print(Money['基础工资']['厨师'])\n"
   ],
   "id": "5fb20c9ac55d94ff",
   "outputs": [
    {
     "name": "stdout",
     "output_type": "stream",
     "text": [
      "6000\n"
     ]
    }
   ],
   "execution_count": 45
  },
  {
   "metadata": {},
   "cell_type": "markdown",
   "source": "##### 形式：DataFrame.iloc[row,col]，其中 row 为元素所在行，col 为元素所在列。\n",
   "id": "2bcc4552a6d128d9"
  },
  {
   "metadata": {
    "ExecuteTime": {
     "end_time": "2024-08-28T09:25:19.790633Z",
     "start_time": "2024-08-28T09:25:19.787549Z"
    }
   },
   "cell_type": "code",
   "source": [
    "# 形式：DataFrame.iloc[row,col]，其中 row 为元素所在行，col 为元素所在列。\n",
    "\n",
    "print(Money.iloc[0,0])"
   ],
   "id": "a24cec37a0418df0",
   "outputs": [
    {
     "name": "stdout",
     "output_type": "stream",
     "text": [
      "6000\n"
     ]
    }
   ],
   "execution_count": 46
  },
  {
   "metadata": {},
   "cell_type": "markdown",
   "source": [
    "### DataFrame 的切片\n",
    "\n",
    "\n",
    "该切片也是一个 DataFrame 类型的数据。可以发现，我们利用这种方式进行索引，逻辑上是比较混乱的。它只能允许行切片而不能进行列切片。\n",
    "\n"
   ],
   "id": "4a7fdac6001e56f2"
  },
  {
   "metadata": {
    "ExecuteTime": {
     "end_time": "2024-08-28T09:40:08.853436Z",
     "start_time": "2024-08-28T09:40:08.834228Z"
    }
   },
   "cell_type": "code",
   "source": "print(Money['厨师':'前台']) # ２行",
   "id": "7a9cb26690a7594a",
   "outputs": [
    {
     "name": "stdout",
     "output_type": "stream",
     "text": [
      "    基础工资   绩效 是否全勤  请假天数   总工资\n",
      "职位                            \n",
      "厨师  6000  500    是     0  6500\n",
      "前台  4000  500    是     0  4500\n"
     ]
    }
   ],
   "execution_count": 47
  },
  {
   "metadata": {
    "ExecuteTime": {
     "end_time": "2024-08-28T09:41:08.378902Z",
     "start_time": "2024-08-28T09:41:08.374208Z"
    }
   },
   "cell_type": "code",
   "source": "print(Money.loc[:,'基础工资':'绩效']) #所有行，加２列",
   "id": "7c081328ab77448f",
   "outputs": [
    {
     "name": "stdout",
     "output_type": "stream",
     "text": [
      "     基础工资   绩效\n",
      "职位            \n",
      "厨师   6000  500\n",
      "前台   4000  500\n",
      "服务员  3000    0\n"
     ]
    }
   ],
   "execution_count": 48
  },
  {
   "metadata": {
    "ExecuteTime": {
     "end_time": "2024-08-28T09:41:48.881833Z",
     "start_time": "2024-08-28T09:41:48.876651Z"
    }
   },
   "cell_type": "code",
   "source": "print(Money.loc['厨师':'前台','是否全勤':'请假天数'])\n",
   "id": "1174e9a664358f16",
   "outputs": [
    {
     "name": "stdout",
     "output_type": "stream",
     "text": [
      "   是否全勤  请假天数\n",
      "职位           \n",
      "厨师    是     0\n",
      "前台    是     0\n"
     ]
    }
   ],
   "execution_count": 49
  },
  {
   "metadata": {
    "ExecuteTime": {
     "end_time": "2024-08-28T09:41:57.118768Z",
     "start_time": "2024-08-28T09:41:57.112807Z"
    }
   },
   "cell_type": "code",
   "source": "print(Money.loc['厨师':'前台'])\n",
   "id": "b445d1736d88823d",
   "outputs": [
    {
     "name": "stdout",
     "output_type": "stream",
     "text": [
      "    基础工资   绩效 是否全勤  请假天数   总工资\n",
      "职位                            \n",
      "厨师  6000  500    是     0  6500\n",
      "前台  4000  500    是     0  4500\n"
     ]
    }
   ],
   "execution_count": 50
  },
  {
   "metadata": {
    "ExecuteTime": {
     "end_time": "2024-08-28T09:42:06.851826Z",
     "start_time": "2024-08-28T09:42:06.847041Z"
    }
   },
   "cell_type": "code",
   "source": "print(Money.iloc[:,0:2])\n",
   "id": "7a8c57bec9f4434c",
   "outputs": [
    {
     "name": "stdout",
     "output_type": "stream",
     "text": [
      "     基础工资   绩效\n",
      "职位            \n",
      "厨师   6000  500\n",
      "前台   4000  500\n",
      "服务员  3000    0\n"
     ]
    }
   ],
   "execution_count": 51
  },
  {
   "metadata": {
    "ExecuteTime": {
     "end_time": "2024-08-28T09:42:21.621047Z",
     "start_time": "2024-08-28T09:42:21.615191Z"
    }
   },
   "cell_type": "code",
   "source": "print(Money.iloc[0:2])\n",
   "id": "43e01ea54370aef9",
   "outputs": [
    {
     "name": "stdout",
     "output_type": "stream",
     "text": [
      "    基础工资   绩效 是否全勤  请假天数   总工资\n",
      "职位                            \n",
      "厨师  6000  500    是     0  6500\n",
      "前台  4000  500    是     0  4500\n"
     ]
    }
   ],
   "execution_count": 52
  },
  {
   "metadata": {},
   "cell_type": "code",
   "outputs": [],
   "execution_count": null,
   "source": "",
   "id": "accb4b87a361376c"
  }
 ],
 "metadata": {
  "kernelspec": {
   "display_name": "Python 3",
   "language": "python",
   "name": "python3"
  },
  "language_info": {
   "codemirror_mode": {
    "name": "ipython",
    "version": 2
   },
   "file_extension": ".py",
   "mimetype": "text/x-python",
   "name": "python",
   "nbconvert_exporter": "python",
   "pygments_lexer": "ipython2",
   "version": "2.7.6"
  }
 },
 "nbformat": 4,
 "nbformat_minor": 5
}
