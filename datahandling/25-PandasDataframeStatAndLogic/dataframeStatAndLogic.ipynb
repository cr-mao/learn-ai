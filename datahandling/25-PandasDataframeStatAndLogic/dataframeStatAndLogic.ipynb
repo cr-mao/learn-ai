{
 "cells": [
  {
   "metadata": {},
   "cell_type": "markdown",
   "source": "# DataFrame 的统计运算和 DataFrame 的逻辑运算",
   "id": "4e4c4883eb5ff523"
  },
  {
   "metadata": {},
   "cell_type": "markdown",
   "source": "## 统计运算",
   "id": "3efc9e6e27ccdf4e"
  },
  {
   "metadata": {},
   "cell_type": "markdown",
   "source": [
    "### mean()——求均值\n",
    "\n",
    "方法：mean(axis)，axis 表示轴向，axis=0 表示按列进行统计，axis=1 表示按行进行统计。"
   ],
   "id": "dab0241d16c5c4cc"
  },
  {
   "metadata": {
    "ExecuteTime": {
     "end_time": "2024-08-29T06:59:27.496350Z",
     "start_time": "2024-08-29T06:59:27.136947Z"
    }
   },
   "cell_type": "code",
   "source": [
    "import pandas as pd\n",
    "Score=pd.read_csv(\"../data/score.csv\")\n",
    "Score.set_index(['姓名'],inplace=True)\n",
    "print(Score.mean(axis=0))"
   ],
   "id": "6c5e258f48aa45fd",
   "outputs": [
    {
     "name": "stdout",
     "output_type": "stream",
     "text": [
      "语文    80.75\n",
      "数学    72.25\n",
      "英语    69.00\n",
      "物理    68.75\n",
      "生物    69.50\n",
      "化学    71.00\n",
      "dtype: float64\n"
     ]
    }
   ],
   "execution_count": 1
  },
  {
   "metadata": {},
   "cell_type": "markdown",
   "source": [
    "### Max()——求最大值\n",
    "\n",
    "方法：max(axis)，axis 表示轴向，axis=0 表示按列进行统计，axis=1 表示按行进行统计。\n",
    "\n"
   ],
   "id": "3e88749b743dc492"
  },
  {
   "metadata": {
    "ExecuteTime": {
     "end_time": "2024-08-29T06:59:27.502413Z",
     "start_time": "2024-08-29T06:59:27.498287Z"
    }
   },
   "cell_type": "code",
   "source": "print(Score.max(axis=0))\n",
   "id": "f26b026ce552488e",
   "outputs": [
    {
     "name": "stdout",
     "output_type": "stream",
     "text": [
      "语文    93.0\n",
      "数学    98.0\n",
      "英语    81.0\n",
      "物理    90.0\n",
      "生物    76.0\n",
      "化学    79.0\n",
      "dtype: float64\n"
     ]
    }
   ],
   "execution_count": 2
  },
  {
   "metadata": {},
   "cell_type": "markdown",
   "source": "###  Min()——查看最小值\n",
   "id": "fd03736ebcb159cf"
  },
  {
   "metadata": {
    "ExecuteTime": {
     "end_time": "2024-08-29T06:59:27.507292Z",
     "start_time": "2024-08-29T06:59:27.503740Z"
    }
   },
   "cell_type": "code",
   "source": "print(Score.min(axis=0))\n",
   "id": "1ad797f5db73f4ef",
   "outputs": [
    {
     "name": "stdout",
     "output_type": "stream",
     "text": [
      "语文    59.0\n",
      "数学    46.0\n",
      "英语    48.0\n",
      "物理    39.0\n",
      "生物    62.0\n",
      "化学    59.0\n",
      "dtype: float64\n"
     ]
    }
   ],
   "execution_count": 3
  },
  {
   "metadata": {},
   "cell_type": "markdown",
   "source": [
    "### Var()——求方差、Std()——求标准差\n",
    "\n"
   ],
   "id": "944409becf1b785c"
  },
  {
   "metadata": {
    "ExecuteTime": {
     "end_time": "2024-08-29T06:59:27.512798Z",
     "start_time": "2024-08-29T06:59:27.508549Z"
    }
   },
   "cell_type": "code",
   "source": [
    "print(Score.var(axis=0))  \n",
    "print(Score.std(axis=0))"
   ],
   "id": "315fb3c080d6cec7",
   "outputs": [
    {
     "name": "stdout",
     "output_type": "stream",
     "text": [
      "语文    250.916667\n",
      "数学    470.916667\n",
      "英语    236.666667\n",
      "物理    490.250000\n",
      "生物     33.000000\n",
      "化学     88.666667\n",
      "dtype: float64\n",
      "语文    15.840349\n",
      "数学    21.700614\n",
      "英语    15.383974\n",
      "物理    22.141590\n",
      "生物     5.744563\n",
      "化学     9.416298\n",
      "dtype: float64\n"
     ]
    }
   ],
   "execution_count": 4
  },
  {
   "metadata": {},
   "cell_type": "markdown",
   "source": [
    "### Cov 方法——求两组数据之间的协方差\n",
    "\n",
    "协方差是用来描述两个变量之间的线性相关性的统计量，它度量了两个变量同时变化的程度。如果协方差越大，说明两个变量同时变化的程度越大，反之则说明两个变量同时变化的程度越小。\n",
    "\n"
   ],
   "id": "e0c14f75c51d59b2"
  },
  {
   "metadata": {
    "ExecuteTime": {
     "end_time": "2024-08-29T06:59:27.518664Z",
     "start_time": "2024-08-29T06:59:27.515041Z"
    }
   },
   "cell_type": "code",
   "source": "print(Score['数学'].cov(Score['物理']))\n",
   "id": "c64ca702e9b8a481",
   "outputs": [
    {
     "name": "stdout",
     "output_type": "stream",
     "text": [
      "-414.91666666666663\n"
     ]
    }
   ],
   "execution_count": 5
  },
  {
   "metadata": {},
   "cell_type": "markdown",
   "source": "### nunique()——统计有多少不同的值\n",
   "id": "299c6db0b114108d"
  },
  {
   "metadata": {
    "ExecuteTime": {
     "end_time": "2024-08-29T06:59:27.522621Z",
     "start_time": "2024-08-29T06:59:27.519995Z"
    }
   },
   "cell_type": "code",
   "source": "print(Score['数学'].nunique())\n",
   "id": "3f596af192a66ed7",
   "outputs": [
    {
     "name": "stdout",
     "output_type": "stream",
     "text": [
      "4\n"
     ]
    }
   ],
   "execution_count": 6
  },
  {
   "metadata": {},
   "cell_type": "markdown",
   "source": [
    "### value_counts()——对每种值进行计数\n",
    "\n",
    "value_counts(values,sort=True,ascending=False,normalize=False,bins=None,dropna=True)\n",
    "\n",
    "- sort=True：是否要进行排序，默认进行排序。\n",
    "- ascending=False：默认降序排列。\n",
    "- normalize=False：是否要对计算结果进行标准化并显示标准化后的结果，默认是 False。\n",
    "- bins=None：可以自定义分组区间，默认是否。\n",
    "- dropna=True：是否删除缺失值 nan，默认删除。\n",
    "\n"
   ],
   "id": "33b69be092a7072c"
  },
  {
   "metadata": {
    "ExecuteTime": {
     "end_time": "2024-08-29T06:59:27.527410Z",
     "start_time": "2024-08-29T06:59:27.523684Z"
    }
   },
   "cell_type": "code",
   "source": "print(Score['数学'].value_counts())\n",
   "id": "a2224dd7fb9a085c",
   "outputs": [
    {
     "name": "stdout",
     "output_type": "stream",
     "text": [
      "数学\n",
      "67.0    1\n",
      "78.0    1\n",
      "98.0    1\n",
      "46.0    1\n",
      "Name: count, dtype: int64\n"
     ]
    }
   ],
   "execution_count": 7
  },
  {
   "metadata": {},
   "cell_type": "markdown",
   "source": "### describe()——整体统计描述\n",
   "id": "945b8c69bef53dde"
  },
  {
   "metadata": {
    "ExecuteTime": {
     "end_time": "2024-08-29T06:59:27.540883Z",
     "start_time": "2024-08-29T06:59:27.528532Z"
    }
   },
   "cell_type": "code",
   "source": "print(Score.describe())\n",
   "id": "c67237ac425a4a4f",
   "outputs": [
    {
     "name": "stdout",
     "output_type": "stream",
     "text": [
      "              语文         数学         英语        物理         生物         化学\n",
      "count   4.000000   4.000000   4.000000   4.00000   4.000000   4.000000\n",
      "mean   80.750000  72.250000  69.000000  68.75000  69.500000  71.000000\n",
      "std    15.840349  21.700614  15.383974  22.14159   5.744563   9.416298\n",
      "min    59.000000  46.000000  48.000000  39.00000  62.000000  59.000000\n",
      "25%    74.000000  61.750000  62.250000  59.25000  68.000000  65.750000\n",
      "50%    85.500000  72.500000  73.500000  73.00000  70.000000  73.000000\n",
      "75%    92.250000  83.000000  80.250000  82.50000  71.500000  78.250000\n",
      "max    93.000000  98.000000  81.000000  90.00000  76.000000  79.000000\n"
     ]
    }
   ],
   "execution_count": 8
  },
  {
   "metadata": {},
   "cell_type": "markdown",
   "source": [
    "```text\n",
    "df.count()          #非空元素计算\n",
    "df.min()            #最小值\n",
    "df.max()            #最大值\n",
    "df.idxmin()         #最小值的位置\n",
    "df.idxmax()         #最大值的位置\n",
    "df.sum()            #求和\n",
    "df.mean()           #均值\n",
    "df.median()         #中位数\n",
    "df.mode()           #众数\n",
    "df.var()            #方差\n",
    "df.std()            #标准差\n",
    "df.mad()            #平均绝对偏差\n",
    "df.describe()       #一次性输出多个描述性统计指标\n",
    "df.abs()            #求绝对值\n",
    "df.prod             #元素乘积\n",
    "df.cumsum           #累计和\n",
    "```\n"
   ],
   "id": "670871e41d00bd57"
  },
  {
   "metadata": {},
   "cell_type": "markdown",
   "source": [
    "## DataFrame 的逻辑运算\n",
    "\n",
    "DataFrame 支持的逻辑运算符有：<、>、==、!==、<=、>=、|、&、~。"
   ],
   "id": "40df9cee66b792e"
  },
  {
   "metadata": {},
   "cell_type": "markdown",
   "source": [
    "```text\n",
    "逻辑运算符\t含义与作用\n",
    "< \t小于\n",
    "> \t大于\n",
    "==\t判断是否相等\n",
    "!==\t判断是否不相等\n",
    "<=\t小于等于\n",
    ">=\t大于等于\n",
    "|\t或运算\n",
    "&\t与运算\n",
    "~\t非运算\n",
    "```"
   ],
   "id": "9775802e721d9219"
  },
  {
   "metadata": {
    "ExecuteTime": {
     "end_time": "2024-08-29T06:59:27.548279Z",
     "start_time": "2024-08-29T06:59:27.542176Z"
    }
   },
   "cell_type": "code",
   "source": [
    "print((Score[\"数学\"]<=50) & (Score[\"物理\"]<=50))\n",
    "Score_shuwu = Score[(Score[\"数学\"]<=50) & (Score[\"物理\"]<=50)]\n",
    "print(Score_shuwu)"
   ],
   "id": "13f1e3a3d2865d72",
   "outputs": [
    {
     "name": "stdout",
     "output_type": "stream",
     "text": [
      "姓名\n",
      "张飞    False\n",
      "关羽    False\n",
      "赵云    False\n",
      "貂蝉    False\n",
      "dtype: bool\n",
      "Empty DataFrame\n",
      "Columns: [语文, 数学, 英语, 物理, 生物, 化学]\n",
      "Index: []\n"
     ]
    }
   ],
   "execution_count": 9
  },
  {
   "metadata": {},
   "cell_type": "markdown",
   "source": [
    "### 逻辑运算函数\n",
    "\n",
    "DataFrame 主要提供了三个逻辑函数，分别为 query()、isin() 和 between() 这三个方法。"
   ],
   "id": "d22b01d20c0ca2af"
  },
  {
   "metadata": {
    "ExecuteTime": {
     "end_time": "2024-08-29T06:59:27.555601Z",
     "start_time": "2024-08-29T06:59:27.549949Z"
    }
   },
   "cell_type": "code",
   "source": [
    "# 要找出数学低于 50 分并且物理低于 50 分的同学\n",
    "Score_shuwu = Score.query(\"数学<=50 & 物理<=50\")\n",
    "print(Score_shuwu)"
   ],
   "id": "ca7af1770995c171",
   "outputs": [
    {
     "name": "stdout",
     "output_type": "stream",
     "text": [
      "Empty DataFrame\n",
      "Columns: [语文, 数学, 英语, 物理, 生物, 化学]\n",
      "Index: []\n"
     ]
    }
   ],
   "execution_count": 10
  },
  {
   "metadata": {},
   "cell_type": "markdown",
   "source": "### isin() 函数",
   "id": "b9f84275f4908906"
  },
  {
   "metadata": {},
   "cell_type": "markdown",
   "source": "isin() 函数，可以帮助我们判断 DataFrame 中是否含有某个值或某些值。",
   "id": "65e37f71d457131b"
  },
  {
   "metadata": {
    "ExecuteTime": {
     "end_time": "2024-08-29T06:59:27.563288Z",
     "start_time": "2024-08-29T06:59:27.557183Z"
    }
   },
   "cell_type": "code",
   "source": [
    "Score_100 = Score.isin([100])\n",
    "print(Score_100)"
   ],
   "id": "3f5a65c73094cd87",
   "outputs": [
    {
     "name": "stdout",
     "output_type": "stream",
     "text": [
      "       语文     数学     英语     物理     生物     化学\n",
      "姓名                                          \n",
      "张飞  False  False  False  False  False  False\n",
      "关羽  False  False  False  False  False  False\n",
      "赵云  False  False  False  False  False  False\n",
      "貂蝉  False  False  False  False  False  False\n"
     ]
    }
   ],
   "execution_count": 11
  },
  {
   "metadata": {
    "ExecuteTime": {
     "end_time": "2024-08-29T07:05:41.907076Z",
     "start_time": "2024-08-29T07:05:41.895700Z"
    }
   },
   "cell_type": "code",
   "source": [
    "Score_math = Score[\"数学\"].isin([98,80])\n",
    "print(Score_math)\n",
    "print(Score[Score_math])\n",
    "# 行索引\n",
    "Score.loc[Score_math,:]"
   ],
   "id": "76fcdcb5798b9084",
   "outputs": [
    {
     "name": "stdout",
     "output_type": "stream",
     "text": [
      "姓名\n",
      "张飞    False\n",
      "关羽    False\n",
      "赵云     True\n",
      "貂蝉    False\n",
      "Name: 数学, dtype: bool\n",
      "    语文    数学  英语  物理  生物  化学\n",
      "姓名                          \n",
      "赵云  79  98.0  48  39  70  68\n"
     ]
    },
    {
     "data": {
      "text/plain": [
       "    语文    数学  英语  物理  生物  化学\n",
       "姓名                          \n",
       "赵云  79  98.0  48  39  70  68"
      ],
      "text/html": [
       "<div>\n",
       "<style scoped>\n",
       "    .dataframe tbody tr th:only-of-type {\n",
       "        vertical-align: middle;\n",
       "    }\n",
       "\n",
       "    .dataframe tbody tr th {\n",
       "        vertical-align: top;\n",
       "    }\n",
       "\n",
       "    .dataframe thead th {\n",
       "        text-align: right;\n",
       "    }\n",
       "</style>\n",
       "<table border=\"1\" class=\"dataframe\">\n",
       "  <thead>\n",
       "    <tr style=\"text-align: right;\">\n",
       "      <th></th>\n",
       "      <th>语文</th>\n",
       "      <th>数学</th>\n",
       "      <th>英语</th>\n",
       "      <th>物理</th>\n",
       "      <th>生物</th>\n",
       "      <th>化学</th>\n",
       "    </tr>\n",
       "    <tr>\n",
       "      <th>姓名</th>\n",
       "      <th></th>\n",
       "      <th></th>\n",
       "      <th></th>\n",
       "      <th></th>\n",
       "      <th></th>\n",
       "      <th></th>\n",
       "    </tr>\n",
       "  </thead>\n",
       "  <tbody>\n",
       "    <tr>\n",
       "      <th>赵云</th>\n",
       "      <td>79</td>\n",
       "      <td>98.0</td>\n",
       "      <td>48</td>\n",
       "      <td>39</td>\n",
       "      <td>70</td>\n",
       "      <td>68</td>\n",
       "    </tr>\n",
       "  </tbody>\n",
       "</table>\n",
       "</div>"
      ]
     },
     "execution_count": 22,
     "metadata": {},
     "output_type": "execute_result"
    }
   ],
   "execution_count": 22
  },
  {
   "metadata": {},
   "cell_type": "markdown",
   "source": [
    "### between() 函数\n",
    "\n",
    "between: 左闭右闭区间。"
   ],
   "id": "4c1c9f1c67e6bbd9"
  },
  {
   "metadata": {
    "ExecuteTime": {
     "end_time": "2024-08-29T07:02:31.026325Z",
     "start_time": "2024-08-29T07:02:31.021805Z"
    }
   },
   "cell_type": "code",
   "source": [
    "Score_shuwu = Score[Score[\"数学\"].between(0,50)&Score[\"物理\"].between(0,50)]\n",
    "print(Score_shuwu)"
   ],
   "id": "4cf6a8edac472f7a",
   "outputs": [
    {
     "name": "stdout",
     "output_type": "stream",
     "text": [
      "Empty DataFrame\n",
      "Columns: [语文, 数学, 英语, 物理, 生物, 化学]\n",
      "Index: []\n"
     ]
    }
   ],
   "execution_count": 20
  },
  {
   "metadata": {},
   "cell_type": "code",
   "outputs": [],
   "execution_count": null,
   "source": "",
   "id": "f63335aa71b6dd01"
  }
 ],
 "metadata": {
  "kernelspec": {
   "display_name": "Python 3",
   "language": "python",
   "name": "python3"
  },
  "language_info": {
   "codemirror_mode": {
    "name": "ipython",
    "version": 2
   },
   "file_extension": ".py",
   "mimetype": "text/x-python",
   "name": "python",
   "nbconvert_exporter": "python",
   "pygments_lexer": "ipython2",
   "version": "2.7.6"
  }
 },
 "nbformat": 4,
 "nbformat_minor": 5
}
